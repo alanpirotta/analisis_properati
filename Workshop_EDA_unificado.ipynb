{
 "cells": [
  {
   "cell_type": "markdown",
   "id": "9d873f9e",
   "metadata": {},
   "source": [
    "# Trabajo práctica n°1\n",
    "Se realizará un EDA sobre el csv de properati, para preparar los datos para realizar luego un modelo de predicción de precios.\n",
    "El Dataset se encuentra en: https://drive.google.com/file/d/0BzVrTKc02N8qNUdDSExBQlFTNlU/view?resourcekey=0-4m-28Uq6kWRDBrt2NXFbNQ"
   ]
  },
  {
   "cell_type": "markdown",
   "id": "738e65c2",
   "metadata": {},
   "source": [
    "---\n",
    "---\n",
    "## Importación de librerías"
   ]
  },
  {
   "cell_type": "code",
   "execution_count": 1,
   "id": "fc8a3cbd",
   "metadata": {
    "execution": {
     "iopub.execute_input": "2022-05-12T05:07:01.230625Z",
     "iopub.status.idle": "2022-05-12T05:07:02.932985Z",
     "shell.execute_reply": "2022-05-12T05:07:02.931983Z",
     "shell.execute_reply.started": "2022-05-12T05:07:01.230625Z"
    }
   },
   "outputs": [],
   "source": [
    "import numpy as np\n",
    "import pandas as pd\n",
    "import matplotlib.pyplot as plt\n",
    "import seaborn as sns\n",
    "import re"
   ]
  },
  {
   "cell_type": "markdown",
   "id": "b59d18ac",
   "metadata": {},
   "source": [
    "---\n",
    "---\n",
    "## Carga de datos y primer análisis"
   ]
  },
  {
   "cell_type": "code",
   "execution_count": 2,
   "id": "5d1c3949",
   "metadata": {
    "execution": {
     "iopub.execute_input": "2022-05-12T05:07:02.934988Z",
     "iopub.status.busy": "2022-05-12T05:07:02.934988Z",
     "iopub.status.idle": "2022-05-12T05:07:04.793357Z",
     "shell.execute_reply": "2022-05-12T05:07:04.792359Z",
     "shell.execute_reply.started": "2022-05-12T05:07:02.934988Z"
    }
   },
   "outputs": [],
   "source": [
    "# Agregar el archivo en la carpeta Data. Ya agregué en el .gitignore que no suba al repositorio nada de la carpeta esa.\n",
    "location = 'Data/properati.csv'\n",
    "data = pd.read_csv(location, index_col=0)"
   ]
  },
  {
   "cell_type": "code",
   "execution_count": 3,
   "id": "d71d3ebe",
   "metadata": {
    "execution": {
     "iopub.execute_input": "2022-05-12T05:07:04.794339Z",
     "iopub.status.busy": "2022-05-12T05:07:04.794339Z",
     "iopub.status.idle": "2022-05-12T05:07:04.840340Z",
     "shell.execute_reply": "2022-05-12T05:07:04.839357Z",
     "shell.execute_reply.started": "2022-05-12T05:07:04.794339Z"
    }
   },
   "outputs": [
    {
     "data": {
      "text/html": [
       "<div>\n",
       "<style scoped>\n",
       "    .dataframe tbody tr th:only-of-type {\n",
       "        vertical-align: middle;\n",
       "    }\n",
       "\n",
       "    .dataframe tbody tr th {\n",
       "        vertical-align: top;\n",
       "    }\n",
       "\n",
       "    .dataframe thead th {\n",
       "        text-align: right;\n",
       "    }\n",
       "</style>\n",
       "<table border=\"1\" class=\"dataframe\">\n",
       "  <thead>\n",
       "    <tr style=\"text-align: right;\">\n",
       "      <th></th>\n",
       "      <th>operation</th>\n",
       "      <th>property_type</th>\n",
       "      <th>place_name</th>\n",
       "      <th>place_with_parent_names</th>\n",
       "      <th>country_name</th>\n",
       "      <th>state_name</th>\n",
       "      <th>geonames_id</th>\n",
       "      <th>lat-lon</th>\n",
       "      <th>lat</th>\n",
       "      <th>lon</th>\n",
       "      <th>...</th>\n",
       "      <th>surface_covered_in_m2</th>\n",
       "      <th>price_usd_per_m2</th>\n",
       "      <th>price_per_m2</th>\n",
       "      <th>floor</th>\n",
       "      <th>rooms</th>\n",
       "      <th>expenses</th>\n",
       "      <th>properati_url</th>\n",
       "      <th>description</th>\n",
       "      <th>title</th>\n",
       "      <th>image_thumbnail</th>\n",
       "    </tr>\n",
       "  </thead>\n",
       "  <tbody>\n",
       "    <tr>\n",
       "      <th>0</th>\n",
       "      <td>sell</td>\n",
       "      <td>PH</td>\n",
       "      <td>Mataderos</td>\n",
       "      <td>|Argentina|Capital Federal|Mataderos|</td>\n",
       "      <td>Argentina</td>\n",
       "      <td>Capital Federal</td>\n",
       "      <td>3430787.0</td>\n",
       "      <td>-34.6618237,-58.5088387</td>\n",
       "      <td>-34.661824</td>\n",
       "      <td>-58.508839</td>\n",
       "      <td>...</td>\n",
       "      <td>40.0</td>\n",
       "      <td>1127.272727</td>\n",
       "      <td>1550.000000</td>\n",
       "      <td>NaN</td>\n",
       "      <td>NaN</td>\n",
       "      <td>NaN</td>\n",
       "      <td>http://www.properati.com.ar/15bo8_venta_ph_mat...</td>\n",
       "      <td>2 AMBIENTES TIPO CASA PLANTA BAJA POR PASILLO,...</td>\n",
       "      <td>2 AMB TIPO CASA SIN EXPENSAS EN PB</td>\n",
       "      <td>https://thumbs4.properati.com/8/BluUYiHJLhgIIK...</td>\n",
       "    </tr>\n",
       "    <tr>\n",
       "      <th>1</th>\n",
       "      <td>sell</td>\n",
       "      <td>apartment</td>\n",
       "      <td>La Plata</td>\n",
       "      <td>|Argentina|Bs.As. G.B.A. Zona Sur|La Plata|</td>\n",
       "      <td>Argentina</td>\n",
       "      <td>Bs.As. G.B.A. Zona Sur</td>\n",
       "      <td>3432039.0</td>\n",
       "      <td>-34.9038831,-57.9643295</td>\n",
       "      <td>-34.903883</td>\n",
       "      <td>-57.964330</td>\n",
       "      <td>...</td>\n",
       "      <td>NaN</td>\n",
       "      <td>NaN</td>\n",
       "      <td>NaN</td>\n",
       "      <td>NaN</td>\n",
       "      <td>NaN</td>\n",
       "      <td>NaN</td>\n",
       "      <td>http://www.properati.com.ar/15bob_venta_depart...</td>\n",
       "      <td>Venta de departamento en décimo piso al frente...</td>\n",
       "      <td>VENTA Depto 2 dorm. a estrenar 7 e/ 36 y 37   ...</td>\n",
       "      <td>https://thumbs4.properati.com/7/ikpVBu2ztHA7jv...</td>\n",
       "    </tr>\n",
       "    <tr>\n",
       "      <th>2</th>\n",
       "      <td>sell</td>\n",
       "      <td>apartment</td>\n",
       "      <td>Mataderos</td>\n",
       "      <td>|Argentina|Capital Federal|Mataderos|</td>\n",
       "      <td>Argentina</td>\n",
       "      <td>Capital Federal</td>\n",
       "      <td>3430787.0</td>\n",
       "      <td>-34.6522615,-58.5229825</td>\n",
       "      <td>-34.652262</td>\n",
       "      <td>-58.522982</td>\n",
       "      <td>...</td>\n",
       "      <td>55.0</td>\n",
       "      <td>1309.090909</td>\n",
       "      <td>1309.090909</td>\n",
       "      <td>NaN</td>\n",
       "      <td>NaN</td>\n",
       "      <td>NaN</td>\n",
       "      <td>http://www.properati.com.ar/15bod_venta_depart...</td>\n",
       "      <td>2 AMBIENTES 3ER PISO LATERAL LIVING COMEDOR AM...</td>\n",
       "      <td>2 AMB 3ER PISO CON ASCENSOR APTO CREDITO</td>\n",
       "      <td>https://thumbs4.properati.com/5/SXKr34F_IwG3W_...</td>\n",
       "    </tr>\n",
       "    <tr>\n",
       "      <th>3</th>\n",
       "      <td>sell</td>\n",
       "      <td>PH</td>\n",
       "      <td>Liniers</td>\n",
       "      <td>|Argentina|Capital Federal|Liniers|</td>\n",
       "      <td>Argentina</td>\n",
       "      <td>Capital Federal</td>\n",
       "      <td>3431333.0</td>\n",
       "      <td>-34.6477969,-58.5164244</td>\n",
       "      <td>-34.647797</td>\n",
       "      <td>-58.516424</td>\n",
       "      <td>...</td>\n",
       "      <td>NaN</td>\n",
       "      <td>NaN</td>\n",
       "      <td>NaN</td>\n",
       "      <td>NaN</td>\n",
       "      <td>NaN</td>\n",
       "      <td>NaN</td>\n",
       "      <td>http://www.properati.com.ar/15boh_venta_ph_lin...</td>\n",
       "      <td>PH 3 ambientes con patio. Hay 3 deptos en lote...</td>\n",
       "      <td>PH 3 amb. cfte. reciclado</td>\n",
       "      <td>https://thumbs4.properati.com/3/DgIfX-85Mog5SP...</td>\n",
       "    </tr>\n",
       "    <tr>\n",
       "      <th>4</th>\n",
       "      <td>sell</td>\n",
       "      <td>apartment</td>\n",
       "      <td>Centro</td>\n",
       "      <td>|Argentina|Buenos Aires Costa Atlántica|Mar de...</td>\n",
       "      <td>Argentina</td>\n",
       "      <td>Buenos Aires Costa Atlántica</td>\n",
       "      <td>3435548.0</td>\n",
       "      <td>-38.0026256,-57.5494468</td>\n",
       "      <td>-38.002626</td>\n",
       "      <td>-57.549447</td>\n",
       "      <td>...</td>\n",
       "      <td>35.0</td>\n",
       "      <td>1828.571429</td>\n",
       "      <td>1828.571429</td>\n",
       "      <td>NaN</td>\n",
       "      <td>NaN</td>\n",
       "      <td>NaN</td>\n",
       "      <td>http://www.properati.com.ar/15bok_venta_depart...</td>\n",
       "      <td>DEPARTAMENTO CON FANTÁSTICA ILUMINACIÓN NATURA...</td>\n",
       "      <td>DEPTO 2 AMB AL CONTRAFRENTE ZONA CENTRO/PLAZA ...</td>\n",
       "      <td>https://thumbs4.properati.com/5/xrRqlNcSI_vs-f...</td>\n",
       "    </tr>\n",
       "  </tbody>\n",
       "</table>\n",
       "<p>5 rows × 25 columns</p>\n",
       "</div>"
      ],
      "text/plain": [
       "  operation property_type place_name  \\\n",
       "0      sell            PH  Mataderos   \n",
       "1      sell     apartment   La Plata   \n",
       "2      sell     apartment  Mataderos   \n",
       "3      sell            PH    Liniers   \n",
       "4      sell     apartment     Centro   \n",
       "\n",
       "                             place_with_parent_names country_name  \\\n",
       "0              |Argentina|Capital Federal|Mataderos|    Argentina   \n",
       "1        |Argentina|Bs.As. G.B.A. Zona Sur|La Plata|    Argentina   \n",
       "2              |Argentina|Capital Federal|Mataderos|    Argentina   \n",
       "3                |Argentina|Capital Federal|Liniers|    Argentina   \n",
       "4  |Argentina|Buenos Aires Costa Atlántica|Mar de...    Argentina   \n",
       "\n",
       "                     state_name  geonames_id                  lat-lon  \\\n",
       "0               Capital Federal    3430787.0  -34.6618237,-58.5088387   \n",
       "1        Bs.As. G.B.A. Zona Sur    3432039.0  -34.9038831,-57.9643295   \n",
       "2               Capital Federal    3430787.0  -34.6522615,-58.5229825   \n",
       "3               Capital Federal    3431333.0  -34.6477969,-58.5164244   \n",
       "4  Buenos Aires Costa Atlántica    3435548.0  -38.0026256,-57.5494468   \n",
       "\n",
       "         lat        lon  ...  surface_covered_in_m2 price_usd_per_m2  \\\n",
       "0 -34.661824 -58.508839  ...                   40.0      1127.272727   \n",
       "1 -34.903883 -57.964330  ...                    NaN              NaN   \n",
       "2 -34.652262 -58.522982  ...                   55.0      1309.090909   \n",
       "3 -34.647797 -58.516424  ...                    NaN              NaN   \n",
       "4 -38.002626 -57.549447  ...                   35.0      1828.571429   \n",
       "\n",
       "   price_per_m2  floor  rooms  expenses  \\\n",
       "0   1550.000000    NaN    NaN       NaN   \n",
       "1           NaN    NaN    NaN       NaN   \n",
       "2   1309.090909    NaN    NaN       NaN   \n",
       "3           NaN    NaN    NaN       NaN   \n",
       "4   1828.571429    NaN    NaN       NaN   \n",
       "\n",
       "                                       properati_url  \\\n",
       "0  http://www.properati.com.ar/15bo8_venta_ph_mat...   \n",
       "1  http://www.properati.com.ar/15bob_venta_depart...   \n",
       "2  http://www.properati.com.ar/15bod_venta_depart...   \n",
       "3  http://www.properati.com.ar/15boh_venta_ph_lin...   \n",
       "4  http://www.properati.com.ar/15bok_venta_depart...   \n",
       "\n",
       "                                         description  \\\n",
       "0  2 AMBIENTES TIPO CASA PLANTA BAJA POR PASILLO,...   \n",
       "1  Venta de departamento en décimo piso al frente...   \n",
       "2  2 AMBIENTES 3ER PISO LATERAL LIVING COMEDOR AM...   \n",
       "3  PH 3 ambientes con patio. Hay 3 deptos en lote...   \n",
       "4  DEPARTAMENTO CON FANTÁSTICA ILUMINACIÓN NATURA...   \n",
       "\n",
       "                                               title  \\\n",
       "0                 2 AMB TIPO CASA SIN EXPENSAS EN PB   \n",
       "1  VENTA Depto 2 dorm. a estrenar 7 e/ 36 y 37   ...   \n",
       "2           2 AMB 3ER PISO CON ASCENSOR APTO CREDITO   \n",
       "3                       PH 3 amb. cfte. reciclado      \n",
       "4  DEPTO 2 AMB AL CONTRAFRENTE ZONA CENTRO/PLAZA ...   \n",
       "\n",
       "                                     image_thumbnail  \n",
       "0  https://thumbs4.properati.com/8/BluUYiHJLhgIIK...  \n",
       "1  https://thumbs4.properati.com/7/ikpVBu2ztHA7jv...  \n",
       "2  https://thumbs4.properati.com/5/SXKr34F_IwG3W_...  \n",
       "3  https://thumbs4.properati.com/3/DgIfX-85Mog5SP...  \n",
       "4  https://thumbs4.properati.com/5/xrRqlNcSI_vs-f...  \n",
       "\n",
       "[5 rows x 25 columns]"
      ]
     },
     "execution_count": 3,
     "metadata": {},
     "output_type": "execute_result"
    }
   ],
   "source": [
    "data.head()"
   ]
  },
  {
   "cell_type": "markdown",
   "id": "3a699abd",
   "metadata": {},
   "source": [
    "---\n",
    "### Análisis general de columnas"
   ]
  },
  {
   "cell_type": "code",
   "execution_count": 4,
   "id": "6950e7c2",
   "metadata": {
    "execution": {
     "iopub.execute_input": "2022-05-12T05:07:04.841339Z",
     "iopub.status.busy": "2022-05-12T05:07:04.841339Z",
     "iopub.status.idle": "2022-05-12T05:07:04.996968Z",
     "shell.execute_reply": "2022-05-12T05:07:04.995992Z",
     "shell.execute_reply.started": "2022-05-12T05:07:04.841339Z"
    }
   },
   "outputs": [
    {
     "data": {
      "text/html": [
       "<div>\n",
       "<style scoped>\n",
       "    .dataframe tbody tr th:only-of-type {\n",
       "        vertical-align: middle;\n",
       "    }\n",
       "\n",
       "    .dataframe tbody tr th {\n",
       "        vertical-align: top;\n",
       "    }\n",
       "\n",
       "    .dataframe thead th {\n",
       "        text-align: right;\n",
       "    }\n",
       "</style>\n",
       "<table border=\"1\" class=\"dataframe\">\n",
       "  <thead>\n",
       "    <tr style=\"text-align: right;\">\n",
       "      <th></th>\n",
       "      <th>geonames_id</th>\n",
       "      <th>lat</th>\n",
       "      <th>lon</th>\n",
       "      <th>price</th>\n",
       "      <th>price_aprox_local_currency</th>\n",
       "      <th>price_aprox_usd</th>\n",
       "      <th>surface_total_in_m2</th>\n",
       "      <th>surface_covered_in_m2</th>\n",
       "      <th>price_usd_per_m2</th>\n",
       "      <th>price_per_m2</th>\n",
       "      <th>floor</th>\n",
       "      <th>rooms</th>\n",
       "      <th>expenses</th>\n",
       "    </tr>\n",
       "  </thead>\n",
       "  <tbody>\n",
       "    <tr>\n",
       "      <th>count</th>\n",
       "      <td>1.025030e+05</td>\n",
       "      <td>69670.000000</td>\n",
       "      <td>69670.000000</td>\n",
       "      <td>1.008100e+05</td>\n",
       "      <td>1.008100e+05</td>\n",
       "      <td>1.008100e+05</td>\n",
       "      <td>81892.000000</td>\n",
       "      <td>101313.000000</td>\n",
       "      <td>68617.000000</td>\n",
       "      <td>8.765800e+04</td>\n",
       "      <td>7899.000000</td>\n",
       "      <td>47390.000000</td>\n",
       "      <td>1.426200e+04</td>\n",
       "    </tr>\n",
       "    <tr>\n",
       "      <th>mean</th>\n",
       "      <td>3.574442e+06</td>\n",
       "      <td>-34.626210</td>\n",
       "      <td>-59.266290</td>\n",
       "      <td>4.685259e+05</td>\n",
       "      <td>4.229397e+06</td>\n",
       "      <td>2.397006e+05</td>\n",
       "      <td>233.795328</td>\n",
       "      <td>133.050181</td>\n",
       "      <td>2160.086916</td>\n",
       "      <td>6.912216e+03</td>\n",
       "      <td>17.452336</td>\n",
       "      <td>3.080840</td>\n",
       "      <td>5.009234e+03</td>\n",
       "    </tr>\n",
       "    <tr>\n",
       "      <th>std</th>\n",
       "      <td>3.541306e+05</td>\n",
       "      <td>1.980936</td>\n",
       "      <td>2.299922</td>\n",
       "      <td>2.260101e+06</td>\n",
       "      <td>6.904714e+06</td>\n",
       "      <td>3.913239e+05</td>\n",
       "      <td>1782.222147</td>\n",
       "      <td>724.351479</td>\n",
       "      <td>2759.288621</td>\n",
       "      <td>2.837864e+04</td>\n",
       "      <td>120.243621</td>\n",
       "      <td>1.860773</td>\n",
       "      <td>1.204403e+05</td>\n",
       "    </tr>\n",
       "    <tr>\n",
       "      <th>min</th>\n",
       "      <td>3.427208e+06</td>\n",
       "      <td>-54.823985</td>\n",
       "      <td>-75.678931</td>\n",
       "      <td>0.000000e+00</td>\n",
       "      <td>0.000000e+00</td>\n",
       "      <td>0.000000e+00</td>\n",
       "      <td>0.000000</td>\n",
       "      <td>0.000000</td>\n",
       "      <td>0.600000</td>\n",
       "      <td>1.510204e+00</td>\n",
       "      <td>1.000000</td>\n",
       "      <td>1.000000</td>\n",
       "      <td>1.000000e+00</td>\n",
       "    </tr>\n",
       "    <tr>\n",
       "      <th>25%</th>\n",
       "      <td>3.430234e+06</td>\n",
       "      <td>-34.669065</td>\n",
       "      <td>-58.727040</td>\n",
       "      <td>1.100000e+05</td>\n",
       "      <td>1.583309e+06</td>\n",
       "      <td>8.973388e+04</td>\n",
       "      <td>50.000000</td>\n",
       "      <td>45.000000</td>\n",
       "      <td>1218.181818</td>\n",
       "      <td>1.550000e+03</td>\n",
       "      <td>1.000000</td>\n",
       "      <td>2.000000</td>\n",
       "      <td>1.000000e+03</td>\n",
       "    </tr>\n",
       "    <tr>\n",
       "      <th>50%</th>\n",
       "      <td>3.433910e+06</td>\n",
       "      <td>-34.597985</td>\n",
       "      <td>-58.480128</td>\n",
       "      <td>1.850000e+05</td>\n",
       "      <td>2.558452e+06</td>\n",
       "      <td>1.450000e+05</td>\n",
       "      <td>84.000000</td>\n",
       "      <td>75.000000</td>\n",
       "      <td>1800.000000</td>\n",
       "      <td>2.213115e+03</td>\n",
       "      <td>3.000000</td>\n",
       "      <td>3.000000</td>\n",
       "      <td>2.000000e+03</td>\n",
       "    </tr>\n",
       "    <tr>\n",
       "      <th>75%</th>\n",
       "      <td>3.836668e+06</td>\n",
       "      <td>-34.441299</td>\n",
       "      <td>-58.395908</td>\n",
       "      <td>4.200000e+05</td>\n",
       "      <td>4.675792e+06</td>\n",
       "      <td>2.650000e+05</td>\n",
       "      <td>200.000000</td>\n",
       "      <td>150.000000</td>\n",
       "      <td>2486.411765</td>\n",
       "      <td>3.355549e+03</td>\n",
       "      <td>6.000000</td>\n",
       "      <td>4.000000</td>\n",
       "      <td>4.000000e+03</td>\n",
       "    </tr>\n",
       "    <tr>\n",
       "      <th>max</th>\n",
       "      <td>6.948895e+06</td>\n",
       "      <td>4.545843</td>\n",
       "      <td>-53.733330</td>\n",
       "      <td>6.500000e+08</td>\n",
       "      <td>8.212711e+08</td>\n",
       "      <td>4.654544e+07</td>\n",
       "      <td>200000.000000</td>\n",
       "      <td>187000.000000</td>\n",
       "      <td>206333.333333</td>\n",
       "      <td>4.000000e+06</td>\n",
       "      <td>3150.000000</td>\n",
       "      <td>32.000000</td>\n",
       "      <td>1.000150e+07</td>\n",
       "    </tr>\n",
       "  </tbody>\n",
       "</table>\n",
       "</div>"
      ],
      "text/plain": [
       "        geonames_id           lat           lon         price  \\\n",
       "count  1.025030e+05  69670.000000  69670.000000  1.008100e+05   \n",
       "mean   3.574442e+06    -34.626210    -59.266290  4.685259e+05   \n",
       "std    3.541306e+05      1.980936      2.299922  2.260101e+06   \n",
       "min    3.427208e+06    -54.823985    -75.678931  0.000000e+00   \n",
       "25%    3.430234e+06    -34.669065    -58.727040  1.100000e+05   \n",
       "50%    3.433910e+06    -34.597985    -58.480128  1.850000e+05   \n",
       "75%    3.836668e+06    -34.441299    -58.395908  4.200000e+05   \n",
       "max    6.948895e+06      4.545843    -53.733330  6.500000e+08   \n",
       "\n",
       "       price_aprox_local_currency  price_aprox_usd  surface_total_in_m2  \\\n",
       "count                1.008100e+05     1.008100e+05         81892.000000   \n",
       "mean                 4.229397e+06     2.397006e+05           233.795328   \n",
       "std                  6.904714e+06     3.913239e+05          1782.222147   \n",
       "min                  0.000000e+00     0.000000e+00             0.000000   \n",
       "25%                  1.583309e+06     8.973388e+04            50.000000   \n",
       "50%                  2.558452e+06     1.450000e+05            84.000000   \n",
       "75%                  4.675792e+06     2.650000e+05           200.000000   \n",
       "max                  8.212711e+08     4.654544e+07        200000.000000   \n",
       "\n",
       "       surface_covered_in_m2  price_usd_per_m2  price_per_m2        floor  \\\n",
       "count          101313.000000      68617.000000  8.765800e+04  7899.000000   \n",
       "mean              133.050181       2160.086916  6.912216e+03    17.452336   \n",
       "std               724.351479       2759.288621  2.837864e+04   120.243621   \n",
       "min                 0.000000          0.600000  1.510204e+00     1.000000   \n",
       "25%                45.000000       1218.181818  1.550000e+03     1.000000   \n",
       "50%                75.000000       1800.000000  2.213115e+03     3.000000   \n",
       "75%               150.000000       2486.411765  3.355549e+03     6.000000   \n",
       "max            187000.000000     206333.333333  4.000000e+06  3150.000000   \n",
       "\n",
       "              rooms      expenses  \n",
       "count  47390.000000  1.426200e+04  \n",
       "mean       3.080840  5.009234e+03  \n",
       "std        1.860773  1.204403e+05  \n",
       "min        1.000000  1.000000e+00  \n",
       "25%        2.000000  1.000000e+03  \n",
       "50%        3.000000  2.000000e+03  \n",
       "75%        4.000000  4.000000e+03  \n",
       "max       32.000000  1.000150e+07  "
      ]
     },
     "execution_count": 4,
     "metadata": {},
     "output_type": "execute_result"
    }
   ],
   "source": [
    "data.describe()"
   ]
  },
  {
   "cell_type": "markdown",
   "id": "279017d4",
   "metadata": {},
   "source": [
    "---\n",
    "#### Datos nulos:"
   ]
  },
  {
   "cell_type": "code",
   "execution_count": 5,
   "id": "70e6f9b7",
   "metadata": {
    "execution": {
     "iopub.execute_input": "2022-05-12T05:07:04.999971Z",
     "iopub.status.busy": "2022-05-12T05:07:04.999971Z",
     "iopub.status.idle": "2022-05-12T05:07:05.184322Z",
     "shell.execute_reply": "2022-05-12T05:07:05.183304Z",
     "shell.execute_reply.started": "2022-05-12T05:07:04.999971Z"
    }
   },
   "outputs": [
    {
     "name": "stdout",
     "output_type": "stream",
     "text": [
      "<class 'pandas.core.frame.DataFrame'>\n",
      "Int64Index: 121220 entries, 0 to 121219\n",
      "Data columns (total 25 columns):\n",
      " #   Column                      Non-Null Count   Dtype  \n",
      "---  ------                      --------------   -----  \n",
      " 0   operation                   121220 non-null  object \n",
      " 1   property_type               121220 non-null  object \n",
      " 2   place_name                  121197 non-null  object \n",
      " 3   place_with_parent_names     121220 non-null  object \n",
      " 4   country_name                121220 non-null  object \n",
      " 5   state_name                  121220 non-null  object \n",
      " 6   geonames_id                 102503 non-null  float64\n",
      " 7   lat-lon                     69670 non-null   object \n",
      " 8   lat                         69670 non-null   float64\n",
      " 9   lon                         69670 non-null   float64\n",
      " 10  price                       100810 non-null  float64\n",
      " 11  currency                    100809 non-null  object \n",
      " 12  price_aprox_local_currency  100810 non-null  float64\n",
      " 13  price_aprox_usd             100810 non-null  float64\n",
      " 14  surface_total_in_m2         81892 non-null   float64\n",
      " 15  surface_covered_in_m2       101313 non-null  float64\n",
      " 16  price_usd_per_m2            68617 non-null   float64\n",
      " 17  price_per_m2                87658 non-null   float64\n",
      " 18  floor                       7899 non-null    float64\n",
      " 19  rooms                       47390 non-null   float64\n",
      " 20  expenses                    14262 non-null   float64\n",
      " 21  properati_url               121220 non-null  object \n",
      " 22  description                 121218 non-null  object \n",
      " 23  title                       121220 non-null  object \n",
      " 24  image_thumbnail             118108 non-null  object \n",
      "dtypes: float64(13), object(12)\n",
      "memory usage: 24.0+ MB\n",
      "None\n",
      "\n",
      "Porcentaje de datos no nulos:\n",
      "\n",
      " operation                     100.000000\n",
      "property_type                 100.000000\n",
      "place_name                     99.981026\n",
      "place_with_parent_names       100.000000\n",
      "country_name                  100.000000\n",
      "state_name                    100.000000\n",
      "geonames_id                    84.559479\n",
      "lat-lon                        57.474014\n",
      "lat                            57.474014\n",
      "lon                            57.474014\n",
      "price                          83.162844\n",
      "currency                       83.162019\n",
      "price_aprox_local_currency     83.162844\n",
      "price_aprox_usd                83.162844\n",
      "surface_total_in_m2            67.556509\n",
      "surface_covered_in_m2          83.577792\n",
      "price_usd_per_m2               56.605346\n",
      "price_per_m2                   72.313150\n",
      "floor                           6.516251\n",
      "rooms                          39.094209\n",
      "expenses                       11.765385\n",
      "properati_url                 100.000000\n",
      "description                    99.998350\n",
      "title                         100.000000\n",
      "image_thumbnail                97.432767\n",
      "dtype: float64\n"
     ]
    }
   ],
   "source": [
    "no_nulos = data.notnull().sum()\n",
    "no_nulos_porcentual = no_nulos/(data.shape[0])*100\n",
    "print(data.info())\n",
    "print('\\nPorcentaje de datos no nulos:\\n\\n', no_nulos_porcentual)"
   ]
  },
  {
   "cell_type": "markdown",
   "id": "ed97cd2c",
   "metadata": {},
   "source": [
    "---\n",
    "#### Chequeo de filas duplicadas\n",
    "Sólo chequee que sean duplicadas completas, no por ejemplo un análisis más profundo para ver si se repite la misma casa"
   ]
  },
  {
   "cell_type": "code",
   "execution_count": 6,
   "id": "bfaa73bb",
   "metadata": {
    "execution": {
     "iopub.execute_input": "2022-05-12T05:07:05.186336Z",
     "iopub.status.busy": "2022-05-12T05:07:05.185317Z",
     "iopub.status.idle": "2022-05-12T05:07:05.719167Z",
     "shell.execute_reply": "2022-05-12T05:07:05.718198Z",
     "shell.execute_reply.started": "2022-05-12T05:07:05.186336Z"
    }
   },
   "outputs": [
    {
     "data": {
      "text/plain": [
       "0"
      ]
     },
     "execution_count": 6,
     "metadata": {},
     "output_type": "execute_result"
    }
   ],
   "source": [
    "data.duplicated().sum()"
   ]
  },
  {
   "cell_type": "markdown",
   "id": "3b15cfc7",
   "metadata": {},
   "source": [
    "---\n",
    "#### Valores de columnas categóricas:\n",
    "Las columnas `description`, `title`, `image_thumbnail` y `properati_url` tienen valores muy variados por lo que no las analizamos de esta manera"
   ]
  },
  {
   "cell_type": "code",
   "execution_count": 7,
   "id": "3e4196c1",
   "metadata": {
    "execution": {
     "iopub.execute_input": "2022-05-12T05:07:05.720148Z",
     "iopub.status.busy": "2022-05-12T05:07:05.720148Z",
     "iopub.status.idle": "2022-05-12T05:07:05.751154Z",
     "shell.execute_reply": "2022-05-12T05:07:05.750148Z",
     "shell.execute_reply.started": "2022-05-12T05:07:05.720148Z"
    }
   },
   "outputs": [
    {
     "data": {
      "text/plain": [
       "sell    121220\n",
       "Name: operation, dtype: int64"
      ]
     },
     "execution_count": 7,
     "metadata": {},
     "output_type": "execute_result"
    }
   ],
   "source": [
    "data['operation'].value_counts()"
   ]
  },
  {
   "cell_type": "code",
   "execution_count": 8,
   "id": "fc5c88ca",
   "metadata": {
    "execution": {
     "iopub.execute_input": "2022-05-12T05:07:05.753149Z",
     "iopub.status.busy": "2022-05-12T05:07:05.752150Z",
     "iopub.status.idle": "2022-05-12T05:07:05.783147Z",
     "shell.execute_reply": "2022-05-12T05:07:05.782157Z",
     "shell.execute_reply.started": "2022-05-12T05:07:05.753149Z"
    }
   },
   "outputs": [
    {
     "data": {
      "text/plain": [
       "apartment    71065\n",
       "house        40268\n",
       "PH            5751\n",
       "store         4136\n",
       "Name: property_type, dtype: int64"
      ]
     },
     "execution_count": 8,
     "metadata": {},
     "output_type": "execute_result"
    }
   ],
   "source": [
    "data['property_type'].value_counts()"
   ]
  },
  {
   "cell_type": "code",
   "execution_count": 9,
   "id": "68984512",
   "metadata": {
    "execution": {
     "iopub.execute_input": "2022-05-12T05:07:05.784148Z",
     "iopub.status.busy": "2022-05-12T05:07:05.784148Z",
     "iopub.status.idle": "2022-05-12T05:07:05.815165Z",
     "shell.execute_reply": "2022-05-12T05:07:05.814165Z",
     "shell.execute_reply.started": "2022-05-12T05:07:05.784148Z"
    }
   },
   "outputs": [
    {
     "data": {
      "text/plain": [
       "Argentina    121220\n",
       "Name: country_name, dtype: int64"
      ]
     },
     "execution_count": 9,
     "metadata": {},
     "output_type": "execute_result"
    }
   ],
   "source": [
    "data['country_name'].value_counts()"
   ]
  },
  {
   "cell_type": "code",
   "execution_count": 10,
   "id": "a29035c6",
   "metadata": {
    "execution": {
     "iopub.execute_input": "2022-05-12T05:07:05.816164Z",
     "iopub.status.busy": "2022-05-12T05:07:05.816164Z",
     "iopub.status.idle": "2022-05-12T05:07:05.847028Z",
     "shell.execute_reply": "2022-05-12T05:07:05.846042Z",
     "shell.execute_reply.started": "2022-05-12T05:07:05.816164Z"
    }
   },
   "outputs": [
    {
     "data": {
      "text/plain": [
       "Capital Federal                 32316\n",
       "Bs.As. G.B.A. Zona Norte        25560\n",
       "Bs.As. G.B.A. Zona Sur          13952\n",
       "Córdoba                         12069\n",
       "Santa Fe                        10172\n",
       "Buenos Aires Costa Atlántica    10006\n",
       "Bs.As. G.B.A. Zona Oeste         9322\n",
       "Buenos Aires Interior            2291\n",
       "Río Negro                         808\n",
       "Neuquén                           733\n",
       "Mendoza                           681\n",
       "Tucumán                           674\n",
       "Corrientes                        583\n",
       "Misiones                          464\n",
       "Entre Ríos                        369\n",
       "Salta                             278\n",
       "Chubut                            259\n",
       "San Luis                          252\n",
       "La Pampa                          157\n",
       "Formosa                            65\n",
       "Chaco                              57\n",
       "San Juan                           40\n",
       "Tierra Del Fuego                   31\n",
       "Catamarca                          27\n",
       "Jujuy                              26\n",
       "Santa Cruz                         20\n",
       "La Rioja                            4\n",
       "Santiago Del Estero                 4\n",
       "Name: state_name, dtype: int64"
      ]
     },
     "execution_count": 10,
     "metadata": {},
     "output_type": "execute_result"
    }
   ],
   "source": [
    "data['state_name'].value_counts()"
   ]
  },
  {
   "cell_type": "code",
   "execution_count": 11,
   "id": "dcb323cc",
   "metadata": {
    "execution": {
     "iopub.execute_input": "2022-05-12T05:07:05.848026Z",
     "iopub.status.busy": "2022-05-12T05:07:05.848026Z",
     "iopub.status.idle": "2022-05-12T05:07:05.895045Z",
     "shell.execute_reply": "2022-05-12T05:07:05.894031Z",
     "shell.execute_reply.started": "2022-05-12T05:07:05.848026Z"
    }
   },
   "outputs": [
    {
     "name": "stdout",
     "output_type": "stream",
     "text": [
      "Cantidad de place_name diferentes:  1061\n"
     ]
    },
    {
     "data": {
      "text/plain": [
       "Córdoba                9254\n",
       "Rosario                8504\n",
       "Mar del Plata          6534\n",
       "Tigre                  3324\n",
       "Nordelta               3315\n",
       "                       ... \n",
       "Villa Ventana             1\n",
       "Bosques                   1\n",
       "Villa Larca               1\n",
       "Capilla del Rosario       1\n",
       "Pampa del Infierno        1\n",
       "Name: place_name, Length: 1060, dtype: int64"
      ]
     },
     "execution_count": 11,
     "metadata": {},
     "output_type": "execute_result"
    }
   ],
   "source": [
    "print('Cantidad de place_name diferentes: ', len(data.place_name.unique()))\n",
    "data['place_name'].value_counts()"
   ]
  },
  {
   "cell_type": "code",
   "execution_count": 12,
   "id": "19e7a951",
   "metadata": {
    "execution": {
     "iopub.execute_input": "2022-05-12T05:07:05.896030Z",
     "iopub.status.busy": "2022-05-12T05:07:05.896030Z",
     "iopub.status.idle": "2022-05-12T05:07:05.927025Z",
     "shell.execute_reply": "2022-05-12T05:07:05.926043Z",
     "shell.execute_reply.started": "2022-05-12T05:07:05.896030Z"
    }
   },
   "outputs": [
    {
     "data": {
      "text/plain": [
       "USD    87587\n",
       "ARS    13219\n",
       "PEN        2\n",
       "UYU        1\n",
       "Name: currency, dtype: int64"
      ]
     },
     "execution_count": 12,
     "metadata": {},
     "output_type": "execute_result"
    }
   ],
   "source": [
    "data['currency'].value_counts()"
   ]
  },
  {
   "cell_type": "markdown",
   "id": "46a44c11",
   "metadata": {},
   "source": [
    "---\n",
    "#### Correlación entre columnas"
   ]
  },
  {
   "cell_type": "code",
   "execution_count": 13,
   "id": "d113e045",
   "metadata": {
    "execution": {
     "iopub.execute_input": "2022-05-12T05:07:05.928030Z",
     "iopub.status.busy": "2022-05-12T05:07:05.928030Z",
     "iopub.status.idle": "2022-05-12T05:07:07.237876Z",
     "shell.execute_reply": "2022-05-12T05:07:07.236866Z",
     "shell.execute_reply.started": "2022-05-12T05:07:05.928030Z"
    }
   },
   "outputs": [
    {
     "data": {
      "image/png": "[encoded data removed]",
      "text/plain": [
       "<Figure size 648x576 with 1 Axes>"
      ]
     },
     "metadata": {
      "needs_background": "light"
     },
     "output_type": "display_data"
    }
   ],
   "source": [
    "plt.figure(figsize=(9,8))\n",
    "corr = data.corr()\n",
    "mask = np.zeros_like(corr)\n",
    "mask[np.triu_indices_from(mask)] = True\n",
    "sns.heatmap(corr, mask=mask, annot=True, fmt=\".2f\", cbar=False)\n",
    "plt.show()"
   ]
  },
  {
   "cell_type": "markdown",
   "id": "9494940e",
   "metadata": {},
   "source": [
    "---\n",
    "### Primeras conclusiones:\n",
    "- Sólo se incluyen ventas.\n",
    "- geonames_id tiene alguna correspondencia con el place_name\n",
    "- floor, no sabemos a que corresponde, puede ser cantidad de pisos, o en que piso se ubica\n",
    "- Hay tres de currencies que no tienen sentido\n",
    "- Hay 4 tipos de propiedades\n",
    "- Hay propiedades de toda Argentina, pero sólo de Argentina\n",
    "- La columna place_name incluye barrios pero también, al menos, ciudades enteras en algunos casos\n",
    "- Existen muchos datos faltantes en el dataset\n",
    "- La columna de price_local_currency probablemente es una conversión directa de price_aprox_usd o viceversa"
   ]
  },
  {
   "cell_type": "markdown",
   "id": "b221c286",
   "metadata": {},
   "source": [
    "---\n",
    "---\n",
    "## Tratamiento de columnas"
   ]
  },
  {
   "cell_type": "markdown",
   "id": "875abb5d",
   "metadata": {},
   "source": [
    "### Regex\n",
    "Utilizamos Regex en la columna `description` para rastrear valores faltantes y generar nuevas features"
   ]
  },
  {
   "cell_type": "code",
   "execution_count": 14,
   "id": "8deb681d",
   "metadata": {
    "execution": {
     "iopub.execute_input": "2022-05-12T05:07:07.241871Z",
     "iopub.status.busy": "2022-05-12T05:07:07.241871Z",
     "iopub.status.idle": "2022-05-12T05:07:16.120623Z",
     "shell.execute_reply": "2022-05-12T05:07:16.118628Z",
     "shell.execute_reply.started": "2022-05-12T05:07:07.241871Z"
    }
   },
   "outputs": [],
   "source": [
    "# Buscamos datos directos de superficie, cantidad de ambientes, si son duplex, tienen balcón, patio o planta alta\n",
    "patron_duplex = '(?P<m2>\\d\\d\\d+\\s\\s*m2|M2)|(?P<ambiente>\\d+\\sambiente|\\d+\\sAMBIENTE)|(?P<balcon>balcon|BALCON)|(?P<planta_alta>planta\\salta|PLANTA\\sALTA)|(?P<patio>patio|PATIO)|(?P<duplex>duplex|DUPLEX)'\n",
    "patron_duplex_regex = re.compile(patron_duplex)\n",
    "data_duplex_match = data.description.apply(lambda x : patron_duplex_regex.search(str(x)))\n",
    "\n",
    "data_m2 = data_duplex_match.apply(lambda x: x if x is None else x.group('m2'))\n",
    "\n",
    "data_ambientes = data_duplex_match.apply(lambda x: x if x is None else x.group('ambiente'))\n",
    "\n",
    "# Extraigo los datos. Actualmente no los usamos posteriormente, pero son datos útiles a profundizar\n",
    "data_balcon = data_duplex_match.apply(lambda x: x if x is None else x.group('balcon'))\n",
    "data_patio = data_duplex_match.apply(lambda x: x if x is None else x.group('patio'))\n",
    "data_duplex = data_duplex_match.apply(lambda x: x if x is None else x.group('duplex'))\n",
    "data_planta_alta = data_duplex_match.apply(lambda x: x if x is None else x.group('planta_alta'))\n",
    "\n",
    "#Creación de data frame con regex\n",
    "data_regex_df = pd.DataFrame({'data_m2':data_m2,'data_ambientes': data_ambientes, 'data_balcon': data_balcon,'data_patio': data_patio, 'data_duplex': data_duplex, 'data_planta_alta': data_planta_alta})\n",
    "data_regex = pd.concat([data_regex_df, data.property_type,data.rooms, data.surface_covered_in_m2, data.surface_total_in_m2], axis=1)\n",
    "\n"
   ]
  },
  {
   "cell_type": "markdown",
   "id": "dd0252cf",
   "metadata": {},
   "source": [
    "Limpiamos los datos obtenidos, dejando sólo el valor"
   ]
  },
  {
   "cell_type": "code",
   "execution_count": 15,
   "id": "c77d746f",
   "metadata": {
    "execution": {
     "iopub.execute_input": "2022-05-12T05:07:16.124628Z",
     "iopub.status.busy": "2022-05-12T05:07:16.123632Z",
     "iopub.status.idle": "2022-05-12T05:07:16.369640Z",
     "shell.execute_reply": "2022-05-12T05:07:16.368669Z",
     "shell.execute_reply.started": "2022-05-12T05:07:16.124628Z"
    },
    "scrolled": true
   },
   "outputs": [],
   "source": [
    "#metros cuadrados\n",
    "m2_ = '(?P<num>\\d+)'\n",
    "m2_regex = re.compile(m2_)\n",
    "data_m2_re = data_m2.apply(lambda x: x if x is None else m2_regex.search(x))\n",
    "data_m2_re_num = data_m2_re.apply(lambda x: x if x is None else x.group('num'))\n",
    " \n",
    "#ambientes\n",
    "amb_ = '(?P<amb>\\d+)'\n",
    "amb_regex = re.compile(amb_)\n",
    "data_amb_re = data_ambientes.apply(lambda x: x if x is None else amb_regex.search(x))\n",
    "data_amb_re_num = data_amb_re.apply(lambda x: 0 if x is None else x.group('amb'))\n",
    "\n",
    "data_m2_re_mach = data_m2_re.apply(lambda x: 0 if x is None else x.group('num'))\n",
    "pd.to_numeric(data_m2_re_mach)\n",
    "pd.to_numeric(data_amb_re_num)\n",
    "data_m2_re_mach.astype(int)\n",
    "data_regex['data_m2'] = data_m2_re_mach\n",
    "data_regex['data_ambientes'] = data_amb_re_num\n"
   ]
  },
  {
   "cell_type": "code",
   "execution_count": 16,
   "id": "6d73fccc",
   "metadata": {
    "execution": {
     "iopub.execute_input": "2022-05-12T05:07:16.370640Z",
     "iopub.status.busy": "2022-05-12T05:07:16.370640Z",
     "iopub.status.idle": "2022-05-12T05:07:16.385628Z",
     "shell.execute_reply": "2022-05-12T05:07:16.384625Z",
     "shell.execute_reply.started": "2022-05-12T05:07:16.370640Z"
    }
   },
   "outputs": [],
   "source": [
    "#Máscaras sup nulos\n",
    "mask_sup_cov_ = pd.isnull(data.surface_covered_in_m2)\n",
    "mask_sup_tot = pd.isnull(data.surface_total_in_m2)\n",
    "mask_m2 = pd.notnull(data_regex.data_m2) > 0"
   ]
  },
  {
   "cell_type": "code",
   "execution_count": 17,
   "id": "26cf5e3d",
   "metadata": {
    "execution": {
     "iopub.execute_input": "2022-05-12T05:07:16.387626Z",
     "iopub.status.busy": "2022-05-12T05:07:16.387626Z",
     "iopub.status.idle": "2022-05-12T05:07:18.218624Z",
     "shell.execute_reply": "2022-05-12T05:07:18.217622Z",
     "shell.execute_reply.started": "2022-05-12T05:07:16.387626Z"
    }
   },
   "outputs": [],
   "source": [
    "# Función que completa datos faltantes de superficie con datos extraídos de la descripción.\n",
    "def compl_m2_re (row):\n",
    "    if row['surface_covered_in_m2'] > 0:\n",
    "        result = row['surface_covered_in_m2']\n",
    "    else:\n",
    "        result = row['data_m2']\n",
    "    return result\n",
    "\n",
    "data_regex['surface_covered_in_m2_2'] = data_regex.apply(compl_m2_re, axis = 1)\n"
   ]
  },
  {
   "cell_type": "markdown",
   "id": "58fb67cc",
   "metadata": {},
   "source": [
    "### Creación de columnas relevantes\n",
    "Se detectan las descripciones que incluyen la palabra cuotas en la descripción. Esto indica que el precio indicado es parte de un plan de cuotas, y no el completo. \n"
   ]
  },
  {
   "cell_type": "code",
   "execution_count": 18,
   "id": "0cdc7e9c",
   "metadata": {
    "execution": {
     "iopub.execute_input": "2022-05-12T05:07:18.219625Z",
     "iopub.status.busy": "2022-05-12T05:07:18.219625Z",
     "iopub.status.idle": "2022-05-12T05:07:18.552621Z",
     "shell.execute_reply": "2022-05-12T05:07:18.551637Z",
     "shell.execute_reply.started": "2022-05-12T05:07:18.219625Z"
    }
   },
   "outputs": [
    {
     "name": "stdout",
     "output_type": "stream",
     "text": [
      "Cantidad de registros que incluyen la palabra \"cuotas\":  7198\n"
     ]
    }
   ],
   "source": [
    "# regex de detección de cuotas en la descripción, para generar nuevo Feature\n",
    "\n",
    "pattern_cuota = '.*cuota.*'\n",
    "re_cuota = re.compile(pattern_cuota)\n",
    "match_cuota = data['description'].apply(lambda x: np.NaN if x is np.NaN else re_cuota.match(x))\\\n",
    "                                 .isna()\n",
    "\n",
    "data.loc[:,'cuotas'] = match_cuota\n",
    "print('Cantidad de registros que incluyen la palabra \"cuotas\": ',len(match_cuota) - match_cuota.sum())"
   ]
  },
  {
   "cell_type": "code",
   "execution_count": 19,
   "id": "71e9d8cf",
   "metadata": {
    "execution": {
     "iopub.execute_input": "2022-05-12T05:07:18.553621Z",
     "iopub.status.busy": "2022-05-12T05:07:18.553621Z",
     "iopub.status.idle": "2022-05-12T05:07:18.567620Z",
     "shell.execute_reply": "2022-05-12T05:07:18.566637Z",
     "shell.execute_reply.started": "2022-05-12T05:07:18.553621Z"
    }
   },
   "outputs": [
    {
     "data": {
      "text/plain": [
       "0         2\n",
       "1         0\n",
       "2         2\n",
       "3         3\n",
       "4         0\n",
       "         ..\n",
       "121215    0\n",
       "121216    0\n",
       "121217    0\n",
       "121218    0\n",
       "121219    0\n",
       "Name: data_ambientes, Length: 121220, dtype: object"
      ]
     },
     "execution_count": 19,
     "metadata": {},
     "output_type": "execute_result"
    }
   ],
   "source": [
    "data_regex['data_ambientes']"
   ]
  },
  {
   "cell_type": "code",
   "execution_count": 20,
   "id": "06b66e59",
   "metadata": {
    "execution": {
     "iopub.execute_input": "2022-05-12T05:07:18.568620Z",
     "iopub.status.busy": "2022-05-12T05:07:18.568620Z",
     "iopub.status.idle": "2022-05-12T05:07:18.599624Z",
     "shell.execute_reply": "2022-05-12T05:07:18.598636Z",
     "shell.execute_reply.started": "2022-05-12T05:07:18.568620Z"
    }
   },
   "outputs": [
    {
     "name": "stdout",
     "output_type": "stream",
     "text": [
      "Cantidad de registros de cada número de ambientes\n",
      " 0              92121\n",
      "2               9828\n",
      "3               9440\n",
      "4               5314\n",
      "1               2237\n",
      "5               1540\n",
      "6                436\n",
      "7                180\n",
      "8                 23\n",
      "9                 16\n",
      "9502              12\n",
      "11                10\n",
      "10                 7\n",
      "006                3\n",
      "18                 3\n",
      "23                 3\n",
      "0002               3\n",
      "14                 3\n",
      "42004              3\n",
      "1200               2\n",
      "24                 2\n",
      "12                 2\n",
      "183                1\n",
      "22                 1\n",
      "562                1\n",
      "0001               1\n",
      "42028              1\n",
      "853                1\n",
      "42015              1\n",
      "42054              1\n",
      "28612              1\n",
      "2017               1\n",
      "281                1\n",
      "42021              1\n",
      "20173              1\n",
      "25                 1\n",
      "22330489662        1\n",
      "2004               1\n",
      "42049              1\n",
      "442                1\n",
      "412                1\n",
      "42024              1\n",
      "20192              1\n",
      "192                1\n",
      "42026              1\n",
      "153                1\n",
      "622                1\n",
      "253                1\n",
      "822                1\n",
      "173                1\n",
      "151                1\n",
      "102                1\n",
      "872                1\n",
      "162                1\n",
      "Name: ambientes, dtype: int64\n"
     ]
    }
   ],
   "source": [
    "# También creamos la columna de ambientes sacada del primer Regex de esta sección. Si dice 0 ambientes es que no se tiene el dato\n",
    "data['ambientes'] = data_regex['data_ambientes']\n",
    "print('Cantidad de registros de cada número de ambientes\\n', data['ambientes'].value_counts())\n",
    "#Hay varios valores que obviamente son erróneos, luego se hará un chequeo de los mismos, mejorando el regex o reimputando outilers"
   ]
  },
  {
   "cell_type": "markdown",
   "id": "f163ca18",
   "metadata": {},
   "source": [
    "---\n",
    "### Análisis de Outliers"
   ]
  },
  {
   "cell_type": "code",
   "execution_count": 21,
   "id": "d18618a4",
   "metadata": {
    "execution": {
     "iopub.execute_input": "2022-05-12T05:07:18.600621Z",
     "iopub.status.busy": "2022-05-12T05:07:18.600621Z",
     "iopub.status.idle": "2022-05-12T05:07:18.853619Z",
     "shell.execute_reply": "2022-05-12T05:07:18.852621Z",
     "shell.execute_reply.started": "2022-05-12T05:07:18.600621Z"
    }
   },
   "outputs": [
    {
     "name": "stderr",
     "output_type": "stream",
     "text": [
      "C:\\Users\\alanp\\AppData\\Local\\Temp/ipykernel_17052/112239971.py:13: UserWarning: Boolean Series key will be reindexed to match DataFrame index.\n",
      "  mask_place_name_relevantes_ph_100 =  mask_place_name_ph[mask_mas_de_100]\n",
      "C:\\Users\\alanp\\AppData\\Local\\Temp/ipykernel_17052/112239971.py:14: UserWarning: Boolean Series key will be reindexed to match DataFrame index.\n",
      "  mask_place_name_apartment_100 =  mask_place_name_apartment[mask_mas_de_100]\n",
      "C:\\Users\\alanp\\AppData\\Local\\Temp/ipykernel_17052/112239971.py:15: UserWarning: Boolean Series key will be reindexed to match DataFrame index.\n",
      "  mask_place_name_relevantes_apartment_700 = mask_place_name_apartment[grouped_place_name['operation'] > 700]\n",
      "C:\\Users\\alanp\\AppData\\Local\\Temp/ipykernel_17052/112239971.py:16: UserWarning: Boolean Series key will be reindexed to match DataFrame index.\n",
      "  mask_place_name_house_100 = mask_place_name_house[mask_mas_de_100]\n",
      "C:\\Users\\alanp\\AppData\\Local\\Temp/ipykernel_17052/112239971.py:17: UserWarning: Boolean Series key will be reindexed to match DataFrame index.\n",
      "  mask_place_name_relevantes_house_400 = mask_place_name_house[grouped_place_name['operation'] > 400]\n",
      "C:\\Users\\alanp\\AppData\\Local\\Temp/ipykernel_17052/112239971.py:18: UserWarning: Boolean Series key will be reindexed to match DataFrame index.\n",
      "  mask_place_name_relevantes_store_100 = mask_place_name_store[mask_mas_de_100]\n"
     ]
    },
    {
     "name": "stdout",
     "output_type": "stream",
     "text": [
      "Cantidad de places ph con más de 100 registros: 10\n",
      "Cantidad de places apartment con más de 100 registros: 102\n",
      "Cantidad de places apartment con más de 700 registros: 21\n",
      "Cantidad de places house con más de 100 registros: 78\n",
      "Cantidad de places house con más de 400 registros: 18\n",
      "Cantidad de places stores con más de 100 registros: 6\n"
     ]
    }
   ],
   "source": [
    "# Extraemos los lugares con más de 100 registros para cada tipo de propiedad\n",
    "grouped_place_name = data.groupby(['property_type','place_name'])['operation']\\\n",
    "                         .count()\\\n",
    "                         .sort_values(ascending=False)\\\n",
    "                         .reset_index()\n",
    "mask_mas_de_100 = grouped_place_name['operation'] > 100\n",
    "\n",
    "mask_place_name_ph = grouped_place_name[(grouped_place_name['property_type'] == 'PH')]\n",
    "mask_place_name_apartment = grouped_place_name[(grouped_place_name['property_type'] == 'apartment')]\n",
    "mask_place_name_house = grouped_place_name[(grouped_place_name['property_type'] == 'house')]\n",
    "mask_place_name_store = grouped_place_name[(grouped_place_name['property_type'] == 'store')]\n",
    "\n",
    "mask_place_name_relevantes_ph_100 =  mask_place_name_ph[mask_mas_de_100]\n",
    "mask_place_name_apartment_100 =  mask_place_name_apartment[mask_mas_de_100]\n",
    "mask_place_name_relevantes_apartment_700 = mask_place_name_apartment[grouped_place_name['operation'] > 700]\n",
    "mask_place_name_house_100 = mask_place_name_house[mask_mas_de_100]\n",
    "mask_place_name_relevantes_house_400 = mask_place_name_house[grouped_place_name['operation'] > 400]\n",
    "mask_place_name_relevantes_store_100 = mask_place_name_store[mask_mas_de_100]\n",
    "\n",
    "place_name_relevantes_ph_100 = data[(data['place_name'].isin(mask_place_name_relevantes_ph_100['place_name'])) & (data['property_type'] == 'PH')]\n",
    "place_name_relevantes_apartment_100 = data[(data['place_name'].isin(mask_place_name_apartment_100['place_name'])) & (data['property_type'] == 'apartment')]\n",
    "place_name_relevantes_apartment_700 = data[(data['place_name'].isin(mask_place_name_relevantes_apartment_700['place_name'])) & (data['property_type'] == 'apartment')]\n",
    "place_name_relevantes_house_100 = data[(data['place_name'].isin(mask_place_name_house_100['place_name'])) & (data['property_type'] == 'house')]\n",
    "place_name_relevantes_house_400 = data[(data['place_name'].isin(mask_place_name_relevantes_house_400['place_name'])) & (data['property_type'] == 'house')]\n",
    "place_name_relevantes_store_100 = data[(data['place_name'].isin(mask_place_name_relevantes_store_100['place_name'])) & (data['property_type'] == 'store')]\n",
    "\n",
    "\n",
    "print(f\"Cantidad de places ph con más de 100 registros: {len(place_name_relevantes_ph_100['place_name'].unique())}\")\n",
    "print(f\"Cantidad de places apartment con más de 100 registros: {len(place_name_relevantes_apartment_100['place_name'].unique())}\")\n",
    "print(f\"Cantidad de places apartment con más de 700 registros: {len(place_name_relevantes_apartment_700['place_name'].unique())}\")\n",
    "print(f\"Cantidad de places house con más de 100 registros: {len(place_name_relevantes_house_100['place_name'].unique())}\")\n",
    "print(f\"Cantidad de places house con más de 400 registros: {len(place_name_relevantes_house_400['place_name'].unique())}\")\n",
    "print(f\"Cantidad de places stores con más de 100 registros: {len(place_name_relevantes_store_100['place_name'].unique())}\")"
   ]
  },
  {
   "cell_type": "code",
   "execution_count": 22,
   "id": "52d75960",
   "metadata": {
    "execution": {
     "iopub.execute_input": "2022-05-12T05:07:18.854622Z",
     "iopub.status.busy": "2022-05-12T05:07:18.854622Z",
     "iopub.status.idle": "2022-05-12T05:07:21.142223Z",
     "shell.execute_reply": "2022-05-12T05:07:21.141221Z",
     "shell.execute_reply.started": "2022-05-12T05:07:18.854622Z"
    }
   },
   "outputs": [
    {
     "data": {
      "image/png": "[encoded data removed]",
      "text/plain": [
       "<Figure size 1800x1440 with 4 Axes>"
      ]
     },
     "metadata": {
      "needs_background": "light"
     },
     "output_type": "display_data"
    }
   ],
   "source": [
    "# visualización de boxplot de los precios en dólares de los lugares con más datos, separados por tipo de propiedad\n",
    "property_types = list(data['property_type'].unique())\n",
    "place_name_boxplot_list = [place_name_relevantes_ph_100,place_name_relevantes_apartment_700,place_name_relevantes_house_400,place_name_relevantes_store_100]\n",
    "\n",
    "\n",
    "fig, axs = plt.subplots(4,1,figsize=(25,20))\n",
    "for i, property_type in enumerate(property_types):\n",
    "    bp_precio_usd = sns.boxplot(y='price_aprox_usd',x='place_name', data= place_name_boxplot_list[i], ax=axs[i])\n",
    "\n",
    "    bp_precio_usd.set_title(f'Precio en dólares de {property_type} en lugares con más registros')\n",
    "plt.show()"
   ]
  },
  {
   "cell_type": "markdown",
   "id": "4ce8f7c1",
   "metadata": {},
   "source": [
    "#### Análisis:\n",
    "- Hay muchos lugares con más de 100 registros de casas y departamentos.\n",
    "- Se observan algunos outliers para analizar, puede deberse a que son erróneos, o que son propiedades fuera de lo común."
   ]
  },
  {
   "cell_type": "code",
   "execution_count": 23,
   "id": "e087b3a6",
   "metadata": {
    "execution": {
     "iopub.execute_input": "2022-05-12T05:07:21.143222Z",
     "iopub.status.busy": "2022-05-12T05:07:21.143222Z",
     "iopub.status.idle": "2022-05-12T05:07:21.237219Z",
     "shell.execute_reply": "2022-05-12T05:07:21.236235Z",
     "shell.execute_reply.started": "2022-05-12T05:07:21.143222Z"
    }
   },
   "outputs": [
    {
     "name": "stdout",
     "output_type": "stream",
     "text": [
      "PH \n",
      "Q1: $ 75000.0 \n",
      "Q3: $ 150000.0 \n",
      "RIQ: $ 75000.0\n",
      "\n",
      "Mínimo para considerar Outlier: $ -37500.0 \n",
      "Máximo para considerar Outlier: $ 262500.0\n",
      "\n",
      "Outliers superiores:\n"
     ]
    },
    {
     "data": {
      "text/plain": [
       "False    1717\n",
       "True       83\n",
       "Name: price_aprox_usd, dtype: int64"
      ]
     },
     "metadata": {},
     "output_type": "display_data"
    },
    {
     "name": "stdout",
     "output_type": "stream",
     "text": [
      "\n",
      "Outliers inferiores:\n"
     ]
    },
    {
     "data": {
      "text/plain": [
       "False    1800\n",
       "Name: price_aprox_usd, dtype: int64"
      ]
     },
     "metadata": {},
     "output_type": "display_data"
    },
    {
     "name": "stdout",
     "output_type": "stream",
     "text": [
      "\n",
      "Mínimo valor en dataset de outlier:  265000.0\n",
      "\n",
      "\n",
      "\n",
      "apartment \n",
      "Q1: $ 81321.33 \n",
      "Q3: $ 198000.0 \n",
      "RIQ: $ 116678.67\n",
      "\n",
      "Mínimo para considerar Outlier: $ -93696.675 \n",
      "Máximo para considerar Outlier: $ 373018.005\n",
      "\n",
      "Outliers superiores:\n"
     ]
    },
    {
     "data": {
      "text/plain": [
       "False    59709\n",
       "True      5190\n",
       "Name: price_aprox_usd, dtype: int64"
      ]
     },
     "metadata": {},
     "output_type": "display_data"
    },
    {
     "name": "stdout",
     "output_type": "stream",
     "text": [
      "\n",
      "Outliers inferiores:\n"
     ]
    },
    {
     "data": {
      "text/plain": [
       "False    64899\n",
       "Name: price_aprox_usd, dtype: int64"
      ]
     },
     "metadata": {},
     "output_type": "display_data"
    },
    {
     "name": "stdout",
     "output_type": "stream",
     "text": [
      "\n",
      "Mínimo valor en dataset de outlier:  373034.46\n",
      "\n",
      "\n",
      "\n",
      "house \n",
      "Q1: $ 149000.0 \n",
      "Q3: $ 390000.0 \n",
      "RIQ: $ 241000.0\n",
      "\n",
      "Mínimo para considerar Outlier: $ -212500.0 \n",
      "Máximo para considerar Outlier: $ 751500.0\n",
      "\n",
      "Outliers superiores:\n"
     ]
    },
    {
     "data": {
      "text/plain": [
       "False    26399\n",
       "True      1657\n",
       "Name: price_aprox_usd, dtype: int64"
      ]
     },
     "metadata": {},
     "output_type": "display_data"
    },
    {
     "name": "stdout",
     "output_type": "stream",
     "text": [
      "\n",
      "Outliers inferiores:\n"
     ]
    },
    {
     "data": {
      "text/plain": [
       "False    28056\n",
       "Name: price_aprox_usd, dtype: int64"
      ]
     },
     "metadata": {},
     "output_type": "display_data"
    },
    {
     "name": "stdout",
     "output_type": "stream",
     "text": [
      "\n",
      "Mínimo valor en dataset de outlier:  760000.0\n",
      "\n",
      "\n",
      "\n",
      "store \n",
      "Q1: $ 71506.68 \n",
      "Q3: $ 349500.0 \n",
      "RIQ: $ 277993.32\n",
      "\n",
      "Mínimo para considerar Outlier: $ -345483.3 \n",
      "Máximo para considerar Outlier: $ 766489.98\n",
      "\n",
      "Outliers superiores:\n"
     ]
    },
    {
     "data": {
      "text/plain": [
       "False    985\n",
       "True      64\n",
       "Name: price_aprox_usd, dtype: int64"
      ]
     },
     "metadata": {},
     "output_type": "display_data"
    },
    {
     "name": "stdout",
     "output_type": "stream",
     "text": [
      "\n",
      "Outliers inferiores:\n"
     ]
    },
    {
     "data": {
      "text/plain": [
       "False    1049\n",
       "Name: price_aprox_usd, dtype: int64"
      ]
     },
     "metadata": {},
     "output_type": "display_data"
    },
    {
     "name": "stdout",
     "output_type": "stream",
     "text": [
      "\n",
      "Mínimo valor en dataset de outlier:  780000.0\n",
      "\n",
      "\n",
      "\n"
     ]
    }
   ],
   "source": [
    "# Calculo manual de outliers.\n",
    "# Falta agregar como mínimo el criterio de place_name, supongo que un loop para cada entrada unica de place_name y una máscara extra\n",
    "place_name_relevantes_100_list = [place_name_relevantes_ph_100,place_name_relevantes_apartment_100, place_name_relevantes_house_100, place_name_relevantes_store_100] \n",
    "outliers_precio_usd = []\n",
    "for i, place in enumerate(place_name_relevantes_100_list):\n",
    "\n",
    "    Q1_precio_usd = place['price_aprox_usd'].quantile(0.25)\n",
    "    Q3_precio_usd = place['price_aprox_usd'].quantile(0.75)\n",
    "    RIQ_precio_usd = Q3_precio_usd - Q1_precio_usd\n",
    "    print(property_types[i], '\\nQ1: $', Q1_precio_usd,'\\nQ3: $', Q3_precio_usd,'\\nRIQ: $', RIQ_precio_usd)\n",
    "    outlier_precio_min = Q1_precio_usd-1.5*RIQ_precio_usd\n",
    "    outlier_precio_max = Q3_precio_usd+1.5*RIQ_precio_usd\n",
    "    print('\\nMínimo para considerar Outlier: $',outlier_precio_min, '\\nMáximo para considerar Outlier: $', outlier_precio_max)\n",
    "\n",
    "    mask_outlier_sup_usd = place['price_aprox_usd'] > (outlier_precio_max)\n",
    "    print('\\nOutliers superiores:')\n",
    "    display(mask_outlier_sup_usd.value_counts())\n",
    "    mask_outlier_inf_usd = place['price_aprox_usd'] < (outlier_precio_min)\n",
    "    print('\\nOutliers inferiores:')\n",
    "    display(mask_outlier_inf_usd.value_counts())\n",
    "    \n",
    "    outliers_df = place[(mask_outlier_sup_usd) | (mask_outlier_inf_usd)]\n",
    "    print('\\nMínimo valor en dataset de outlier: ', outliers_df['price_aprox_usd'].min())\n",
    "    outliers_precio_usd.append(outliers_df)\n",
    "    print('\\n\\n')\n",
    "    \n",
    "# queda outliers_precio_usd como una lista con los cuatro dataframes con los índices de outliers. Se deben eliminar estos registros del dataset original. \n",
    "# Esto se puede convertir en una función (el parámetro sería el string de la columna), y que retorne la lista de DFs. \n",
    "# Esto serviría para poder eliminar según las demás columnas que consideremos."
   ]
  },
  {
   "cell_type": "markdown",
   "id": "5d7fefab",
   "metadata": {},
   "source": [
    "#### Conclusiones:\n",
    "- Con el cálculo de outliers se pueden eliminar los registros de los puntos que consideremos outliers, según el criterio que usan los boxplot.\n",
    "- Se debe hacer un análisis más profundo para definir si son considerados outliers, o son datos relevantes. "
   ]
  },
  {
   "cell_type": "markdown",
   "id": "3c942dd8",
   "metadata": {
    "execution": {
     "iopub.execute_input": "2022-04-28T02:56:00.138013Z",
     "iopub.status.busy": "2022-04-28T02:56:00.138013Z",
     "iopub.status.idle": "2022-04-28T02:56:00.155014Z",
     "shell.execute_reply": "2022-04-28T02:56:00.154014Z",
     "shell.execute_reply.started": "2022-04-28T02:56:00.138013Z"
    }
   },
   "source": [
    "---\n",
    "### Análisis de las features de precios\n",
    "#### Chequeo de tipos de currency"
   ]
  },
  {
   "cell_type": "code",
   "execution_count": 24,
   "id": "680ba564",
   "metadata": {
    "execution": {
     "iopub.execute_input": "2022-05-12T05:07:21.238218Z",
     "iopub.status.busy": "2022-05-12T05:07:21.238218Z",
     "iopub.status.idle": "2022-05-12T05:07:21.268219Z",
     "shell.execute_reply": "2022-05-12T05:07:21.267223Z",
     "shell.execute_reply.started": "2022-05-12T05:07:21.238218Z"
    }
   },
   "outputs": [
    {
     "data": {
      "text/plain": [
       "USD    87587\n",
       "ARS    13219\n",
       "PEN        2\n",
       "UYU        1\n",
       "Name: currency, dtype: int64"
      ]
     },
     "execution_count": 24,
     "metadata": {},
     "output_type": "execute_result"
    }
   ],
   "source": [
    "data['currency'].value_counts()"
   ]
  },
  {
   "cell_type": "markdown",
   "id": "412f0b68",
   "metadata": {},
   "source": [
    "#### Análisis:  \n",
    "- Casi todas las operaciones son en pesos o dólares. \n",
    "- Se observan 3 operaciones en otras monedas. PEN = soles peruanos y UYU = Pesos uruguayos.  \n",
    "- Chequeamos estos tres datos únicos para ver su válidez y si pueden convertirse correctamente a dólares"
   ]
  },
  {
   "cell_type": "code",
   "execution_count": 25,
   "id": "2c74049c",
   "metadata": {
    "execution": {
     "iopub.execute_input": "2022-05-12T05:07:21.269220Z",
     "iopub.status.busy": "2022-05-12T05:07:21.269220Z",
     "iopub.status.idle": "2022-05-12T05:07:21.314219Z",
     "shell.execute_reply": "2022-05-12T05:07:21.313219Z",
     "shell.execute_reply.started": "2022-05-12T05:07:21.269220Z"
    }
   },
   "outputs": [
    {
     "data": {
      "text/html": [
       "<div>\n",
       "<style scoped>\n",
       "    .dataframe tbody tr th:only-of-type {\n",
       "        vertical-align: middle;\n",
       "    }\n",
       "\n",
       "    .dataframe tbody tr th {\n",
       "        vertical-align: top;\n",
       "    }\n",
       "\n",
       "    .dataframe thead th {\n",
       "        text-align: right;\n",
       "    }\n",
       "</style>\n",
       "<table border=\"1\" class=\"dataframe\">\n",
       "  <thead>\n",
       "    <tr style=\"text-align: right;\">\n",
       "      <th></th>\n",
       "      <th>place_with_parent_names</th>\n",
       "      <th>geonames_id</th>\n",
       "      <th>price</th>\n",
       "      <th>currency</th>\n",
       "      <th>price_aprox_local_currency</th>\n",
       "      <th>price_aprox_usd</th>\n",
       "      <th>surface_total_in_m2</th>\n",
       "      <th>surface_covered_in_m2</th>\n",
       "      <th>price_usd_per_m2</th>\n",
       "      <th>price_per_m2</th>\n",
       "    </tr>\n",
       "  </thead>\n",
       "  <tbody>\n",
       "    <tr>\n",
       "      <th>50387</th>\n",
       "      <td>|Argentina|Capital Federal|</td>\n",
       "      <td>3433955.0</td>\n",
       "      <td>380000.0</td>\n",
       "      <td>PEN</td>\n",
       "      <td>2.066865e+06</td>\n",
       "      <td>117139.33</td>\n",
       "      <td>NaN</td>\n",
       "      <td>NaN</td>\n",
       "      <td>NaN</td>\n",
       "      <td>NaN</td>\n",
       "    </tr>\n",
       "    <tr>\n",
       "      <th>50388</th>\n",
       "      <td>|Argentina|Capital Federal|</td>\n",
       "      <td>3433955.0</td>\n",
       "      <td>950000.0</td>\n",
       "      <td>PEN</td>\n",
       "      <td>5.167162e+06</td>\n",
       "      <td>292848.33</td>\n",
       "      <td>NaN</td>\n",
       "      <td>NaN</td>\n",
       "      <td>NaN</td>\n",
       "      <td>NaN</td>\n",
       "    </tr>\n",
       "    <tr>\n",
       "      <th>107390</th>\n",
       "      <td>|Argentina|Mendoza|San Roque|</td>\n",
       "      <td>3836586.0</td>\n",
       "      <td>650000000.0</td>\n",
       "      <td>UYU</td>\n",
       "      <td>4.054773e+08</td>\n",
       "      <td>22980378.29</td>\n",
       "      <td>NaN</td>\n",
       "      <td>NaN</td>\n",
       "      <td>NaN</td>\n",
       "      <td>NaN</td>\n",
       "    </tr>\n",
       "  </tbody>\n",
       "</table>\n",
       "</div>"
      ],
      "text/plain": [
       "              place_with_parent_names  geonames_id        price currency  \\\n",
       "50387     |Argentina|Capital Federal|    3433955.0     380000.0      PEN   \n",
       "50388     |Argentina|Capital Federal|    3433955.0     950000.0      PEN   \n",
       "107390  |Argentina|Mendoza|San Roque|    3836586.0  650000000.0      UYU   \n",
       "\n",
       "        price_aprox_local_currency  price_aprox_usd  surface_total_in_m2  \\\n",
       "50387                 2.066865e+06        117139.33                  NaN   \n",
       "50388                 5.167162e+06        292848.33                  NaN   \n",
       "107390                4.054773e+08      22980378.29                  NaN   \n",
       "\n",
       "        surface_covered_in_m2  price_usd_per_m2  price_per_m2  \n",
       "50387                     NaN               NaN           NaN  \n",
       "50388                     NaN               NaN           NaN  \n",
       "107390                    NaN               NaN           NaN  "
      ]
     },
     "execution_count": 25,
     "metadata": {},
     "output_type": "execute_result"
    }
   ],
   "source": [
    "data[(data['currency'] == 'PEN') | (data['currency'] == 'UYU')][['place_with_parent_names','geonames_id','price','currency','price_aprox_local_currency',\\\n",
    "                                                                 'price_aprox_usd','surface_total_in_m2','surface_covered_in_m2','price_usd_per_m2','price_per_m2']]"
   ]
  },
  {
   "cell_type": "code",
   "execution_count": 26,
   "id": "431b43b3",
   "metadata": {
    "execution": {
     "iopub.execute_input": "2022-05-12T05:07:21.315237Z",
     "iopub.status.busy": "2022-05-12T05:07:21.315237Z",
     "iopub.status.idle": "2022-05-12T05:07:21.329226Z",
     "shell.execute_reply": "2022-05-12T05:07:21.328223Z",
     "shell.execute_reply.started": "2022-05-12T05:07:21.315237Z"
    }
   },
   "outputs": [
    {
     "name": "stdout",
     "output_type": "stream",
     "text": [
      "Descripción de id 50387:\n",
      "  Ref.: 55:PREVENTA ::: OPORTUNIDAD ::: Dúplex a entregarse en 20 meses de 47m2, pequeño patio. Con todos los artefactos.- Departamento de 1 dormitorios con patio, cochera y parrilla ENTREGA: $380.000 + 24 cuotas de $24.000 ( ) Departamento de 1 dormitorio con patio, sin cochera ENTREGA: $350.000 + 24 cuotas de $22.000 (  ) (  ) Cuotas ajustadas al Indice de la Construcción.-  \n",
      "\n",
      "Descripción de id 50388:\n",
      "  Ref.: 56Duplex en venta de 1 dormitorio con aproximadamente 50m2 c/u Hay 3 departamentos en venta, todos con cocina, termotanque y calefactores. \n",
      "\n",
      "Descripción de id 107390:\n",
      "  Casa con Calefacción central, Mendoza, San Roque, por $ 650.000.000\n"
     ]
    }
   ],
   "source": [
    "# Veo las descripciones de estos tres datos para ver si me aportan información\n",
    "print('Descripción de id 50387:\\n ', data.loc[50387,'description'])\n",
    "print('')\n",
    "print('Descripción de id 50388:\\n ', data.loc[50388,'description'])\n",
    "print('')\n",
    "print('Descripción de id 107390:\\n ', data.loc[107390,'description'])"
   ]
  },
  {
   "cell_type": "markdown",
   "id": "226321d2",
   "metadata": {},
   "source": [
    "#### Conclusiones:  \n",
    "- En los dos con soles peruanos se podría imputar el área, y la conversión a dólares es la misma (apox 3.24PER = 1USD en vez de 3.84PER = 1USD que dice google).\n",
    "- Index 50387 y 50388, usar las otras dos columnas para cambiar el valor de la columna 'precio'. Considerar que 50387 es un plan con cuotas!\n",
    "- **Index 107390, descartar la fila**, no hay datos para confirmar y el valor es extremadamente alto."
   ]
  },
  {
   "cell_type": "markdown",
   "id": "c7886133",
   "metadata": {},
   "source": [
    "---\n",
    "#### Análisis de valores faltantes de precios\n",
    "\n",
    "Chequeamos si los valores faltantes son los mismos en todas las features, o se mezclan "
   ]
  },
  {
   "cell_type": "code",
   "execution_count": 27,
   "id": "48f93b57",
   "metadata": {
    "execution": {
     "iopub.execute_input": "2022-05-12T05:07:21.331226Z",
     "iopub.status.busy": "2022-05-12T05:07:21.330222Z",
     "iopub.status.idle": "2022-05-12T05:07:21.360236Z",
     "shell.execute_reply": "2022-05-12T05:07:21.360236Z",
     "shell.execute_reply.started": "2022-05-12T05:07:21.331226Z"
    }
   },
   "outputs": [
    {
     "name": "stdout",
     "output_type": "stream",
     "text": [
      "Cantidad de valores faltantes en columna price:  20410\n",
      "Valores faltantes currency en dataset de precios faltantes 20410\n",
      "Valores faltantes price_aprox_local_currency en dataset de precios faltantes 20410\n",
      "Valores faltantes price_aprox_usd en dataset de precios faltantes 20410\n",
      "Valores faltantes price_usd_per_m2 en dataset de precios faltantes 20410\n",
      "Valores faltantes price_per_m2 en dataset de precios faltantes 20410\n"
     ]
    }
   ],
   "source": [
    "price_na = data[data['price'].isna()][['place_with_parent_names','geonames_id','price','currency','price_aprox_local_currency',\\\n",
    "                                        'price_aprox_usd','surface_total_in_m2','surface_covered_in_m2','price_usd_per_m2','price_per_m2']]\n",
    "print('Cantidad de valores faltantes en columna price: ', data['price'].isna().sum())\n",
    "print('Valores faltantes currency en dataset de precios faltantes', price_na['currency'].isna().sum())\n",
    "print('Valores faltantes price_aprox_local_currency en dataset de precios faltantes', price_na['price_aprox_local_currency'].isna().sum())\n",
    "print('Valores faltantes price_aprox_usd en dataset de precios faltantes', price_na['price_aprox_usd'].isna().sum())\n",
    "print('Valores faltantes price_usd_per_m2 en dataset de precios faltantes', price_na['price_usd_per_m2'].isna().sum())\n",
    "print('Valores faltantes price_per_m2 en dataset de precios faltantes', price_na['price_per_m2'].isna().sum())"
   ]
  },
  {
   "cell_type": "code",
   "execution_count": 28,
   "id": "2373304b",
   "metadata": {
    "execution": {
     "iopub.execute_input": "2022-05-12T05:07:21.362221Z",
     "iopub.status.busy": "2022-05-12T05:07:21.361236Z",
     "iopub.status.idle": "2022-05-12T05:07:21.377234Z",
     "shell.execute_reply": "2022-05-12T05:07:21.376219Z",
     "shell.execute_reply.started": "2022-05-12T05:07:21.362221Z"
    }
   },
   "outputs": [
    {
     "name": "stdout",
     "output_type": "stream",
     "text": [
      "NaN de sup. total y precios sobre NaN de sup. total 7384 / 39328\n",
      "NaN de sup. cubierta y precios sobre NaN de sup. cubierta 6757 / 19907\n"
     ]
    }
   ],
   "source": [
    "# Compruebo si son los mismos faltantes de superficies\n",
    "print('NaN de sup. total y precios sobre NaN de sup. total', price_na['surface_total_in_m2'].isna().sum(),'/',data['surface_total_in_m2'].isna().sum())\n",
    "print('NaN de sup. cubierta y precios sobre NaN de sup. cubierta', price_na['surface_covered_in_m2'].isna().sum(),'/',data['surface_covered_in_m2'].isna().sum())"
   ]
  },
  {
   "cell_type": "markdown",
   "id": "8af967ac",
   "metadata": {},
   "source": [
    "#### Conclusiones:\n",
    "- Los datos faltantes la columna 'price' son los mismos en todas las demás columnas relacionadas al precio.\n",
    "- 20410 registros no hay forma de sacarlos directo de las columnas (fuera de description)\n",
    "- Hay bastantes registros NaN de precio/m2 que tienen dato de columna precio. Si tienen superficie también, se pueden calcular rápido"
   ]
  },
  {
   "cell_type": "markdown",
   "id": "ffc061ac",
   "metadata": {},
   "source": [
    "---\n",
    "#### Distribución de datos en columnas de precio"
   ]
  },
  {
   "cell_type": "code",
   "execution_count": 29,
   "id": "aff15d7f",
   "metadata": {
    "execution": {
     "iopub.execute_input": "2022-05-12T05:07:21.378236Z",
     "iopub.status.busy": "2022-05-12T05:07:21.378236Z",
     "iopub.status.idle": "2022-05-12T05:07:21.425218Z",
     "shell.execute_reply": "2022-05-12T05:07:21.424217Z",
     "shell.execute_reply.started": "2022-05-12T05:07:21.378236Z"
    }
   },
   "outputs": [],
   "source": [
    "# En estos dataset no estaría incluyendo los NaN, imputar antes de separar\n",
    "data_precios = data[['place_name','state_name','price','currency','price_aprox_local_currency','price_aprox_usd']]\n",
    "precios_ars = data_precios[data['currency'] == 'ARS']\n",
    "precios_usd = data_precios[data['currency'] == 'USD']"
   ]
  },
  {
   "cell_type": "code",
   "execution_count": 30,
   "id": "bb4dbd03",
   "metadata": {
    "execution": {
     "iopub.execute_input": "2022-05-12T05:07:21.427220Z",
     "iopub.status.busy": "2022-05-12T05:07:21.426219Z",
     "iopub.status.idle": "2022-05-12T05:07:21.441225Z",
     "shell.execute_reply": "2022-05-12T05:07:21.439224Z",
     "shell.execute_reply.started": "2022-05-12T05:07:21.427220Z"
    }
   },
   "outputs": [],
   "source": [
    "# Función útil para mostrar Dataframes uno al lado del otro\n",
    "from IPython.display import display, HTML\n",
    "\n",
    "def display_side_by_side(dfs:list, captions:list, tablespacing=5):\n",
    "    \"\"\"Display tables side by side to save vertical space\n",
    "    Input:\n",
    "        dfs: list of pandas.DataFrame\n",
    "        captions: list of table captions\n",
    "    \"\"\"\n",
    "    output = \"\"\n",
    "    for (caption, df) in zip(captions, dfs):\n",
    "        output += df.style.set_table_attributes(\"style='display:inline'\").set_caption(caption)._repr_html_()\n",
    "        output += tablespacing * \"\\xa0\" # Esto es un espacio en Latin1 (no-break space in a program/&nbsp)\n",
    "    display(HTML(output))"
   ]
  },
  {
   "cell_type": "code",
   "execution_count": 31,
   "id": "89260499",
   "metadata": {
    "execution": {
     "iopub.execute_input": "2022-05-12T05:07:21.443221Z",
     "iopub.status.busy": "2022-05-12T05:07:21.442221Z",
     "iopub.status.idle": "2022-05-12T05:07:21.566236Z",
     "shell.execute_reply": "2022-05-12T05:07:21.565240Z",
     "shell.execute_reply.started": "2022-05-12T05:07:21.443221Z"
    }
   },
   "outputs": [
    {
     "data": {
      "text/html": [
       "<style  type=\"text/css\" >\n",
       "</style><table id=\"T_6761cdb5_d1b1_11ec_82f4_a4c4948ec9ce\" style='display:inline'><caption>Pesos Argentinos</caption><thead>    <tr>        <th class=\"blank level0\" ></th>        <th class=\"col_heading level0 col0\" >price</th>        <th class=\"col_heading level0 col1\" >price_aprox_local_currency</th>        <th class=\"col_heading level0 col2\" >price_aprox_usd</th>    </tr></thead><tbody>\n",
       "                <tr>\n",
       "                        <th id=\"T_6761cdb5_d1b1_11ec_82f4_a4c4948ec9celevel0_row0\" class=\"row_heading level0 row0\" >count</th>\n",
       "                        <td id=\"T_6761cdb5_d1b1_11ec_82f4_a4c4948ec9cerow0_col0\" class=\"data row0 col0\" >13219.000000</td>\n",
       "                        <td id=\"T_6761cdb5_d1b1_11ec_82f4_a4c4948ec9cerow0_col1\" class=\"data row0 col1\" >13219.000000</td>\n",
       "                        <td id=\"T_6761cdb5_d1b1_11ec_82f4_a4c4948ec9cerow0_col2\" class=\"data row0 col2\" >13219.000000</td>\n",
       "            </tr>\n",
       "            <tr>\n",
       "                        <th id=\"T_6761cdb5_d1b1_11ec_82f4_a4c4948ec9celevel0_row1\" class=\"row_heading level0 row1\" >mean</th>\n",
       "                        <td id=\"T_6761cdb5_d1b1_11ec_82f4_a4c4948ec9cerow1_col0\" class=\"data row1 col0\" >1798580.327181</td>\n",
       "                        <td id=\"T_6761cdb5_d1b1_11ec_82f4_a4c4948ec9cerow1_col1\" class=\"data row1 col1\" >1782589.159340</td>\n",
       "                        <td id=\"T_6761cdb5_d1b1_11ec_82f4_a4c4948ec9cerow1_col2\" class=\"data row1 col2\" >101028.035041</td>\n",
       "            </tr>\n",
       "            <tr>\n",
       "                        <th id=\"T_6761cdb5_d1b1_11ec_82f4_a4c4948ec9celevel0_row2\" class=\"row_heading level0 row2\" >std</th>\n",
       "                        <td id=\"T_6761cdb5_d1b1_11ec_82f4_a4c4948ec9cerow2_col0\" class=\"data row2 col0\" >1972031.140989</td>\n",
       "                        <td id=\"T_6761cdb5_d1b1_11ec_82f4_a4c4948ec9cerow2_col1\" class=\"data row2 col1\" >1975418.573247</td>\n",
       "                        <td id=\"T_6761cdb5_d1b1_11ec_82f4_a4c4948ec9cerow2_col2\" class=\"data row2 col2\" >111956.619525</td>\n",
       "            </tr>\n",
       "            <tr>\n",
       "                        <th id=\"T_6761cdb5_d1b1_11ec_82f4_a4c4948ec9celevel0_row3\" class=\"row_heading level0 row3\" >min</th>\n",
       "                        <td id=\"T_6761cdb5_d1b1_11ec_82f4_a4c4948ec9cerow3_col0\" class=\"data row3 col0\" >80000.000000</td>\n",
       "                        <td id=\"T_6761cdb5_d1b1_11ec_82f4_a4c4948ec9cerow3_col1\" class=\"data row3 col1\" >82340.170000</td>\n",
       "                        <td id=\"T_6761cdb5_d1b1_11ec_82f4_a4c4948ec9cerow3_col2\" class=\"data row3 col2\" >4666.620000</td>\n",
       "            </tr>\n",
       "            <tr>\n",
       "                        <th id=\"T_6761cdb5_d1b1_11ec_82f4_a4c4948ec9celevel0_row4\" class=\"row_heading level0 row4\" >25%</th>\n",
       "                        <td id=\"T_6761cdb5_d1b1_11ec_82f4_a4c4948ec9cerow4_col0\" class=\"data row4 col0\" >1047270.000000</td>\n",
       "                        <td id=\"T_6761cdb5_d1b1_11ec_82f4_a4c4948ec9cerow4_col1\" class=\"data row4 col1\" >1036840.045000</td>\n",
       "                        <td id=\"T_6761cdb5_d1b1_11ec_82f4_a4c4948ec9cerow4_col2\" class=\"data row4 col2\" >58762.790000</td>\n",
       "            </tr>\n",
       "            <tr>\n",
       "                        <th id=\"T_6761cdb5_d1b1_11ec_82f4_a4c4948ec9celevel0_row5\" class=\"row_heading level0 row5\" >50%</th>\n",
       "                        <td id=\"T_6761cdb5_d1b1_11ec_82f4_a4c4948ec9cerow5_col0\" class=\"data row5 col0\" >1419000.000000</td>\n",
       "                        <td id=\"T_6761cdb5_d1b1_11ec_82f4_a4c4948ec9cerow5_col1\" class=\"data row5 col1\" >1405187.150000</td>\n",
       "                        <td id=\"T_6761cdb5_d1b1_11ec_82f4_a4c4948ec9cerow5_col2\" class=\"data row5 col2\" >79638.820000</td>\n",
       "            </tr>\n",
       "            <tr>\n",
       "                        <th id=\"T_6761cdb5_d1b1_11ec_82f4_a4c4948ec9celevel0_row6\" class=\"row_heading level0 row6\" >75%</th>\n",
       "                        <td id=\"T_6761cdb5_d1b1_11ec_82f4_a4c4948ec9cerow6_col0\" class=\"data row6 col0\" >1983201.000000</td>\n",
       "                        <td id=\"T_6761cdb5_d1b1_11ec_82f4_a4c4948ec9cerow6_col1\" class=\"data row6 col1\" >1966007.705000</td>\n",
       "                        <td id=\"T_6761cdb5_d1b1_11ec_82f4_a4c4948ec9cerow6_col2\" class=\"data row6 col2\" >111423.260000</td>\n",
       "            </tr>\n",
       "            <tr>\n",
       "                        <th id=\"T_6761cdb5_d1b1_11ec_82f4_a4c4948ec9celevel0_row7\" class=\"row_heading level0 row7\" >max</th>\n",
       "                        <td id=\"T_6761cdb5_d1b1_11ec_82f4_a4c4948ec9cerow7_col0\" class=\"data row7 col0\" >99999999.000000</td>\n",
       "                        <td id=\"T_6761cdb5_d1b1_11ec_82f4_a4c4948ec9cerow7_col1\" class=\"data row7 col1\" >98956842.470000</td>\n",
       "                        <td id=\"T_6761cdb5_d1b1_11ec_82f4_a4c4948ec9cerow7_col2\" class=\"data row7 col2\" >5608367.620000</td>\n",
       "            </tr>\n",
       "    </tbody></table>     <style  type=\"text/css\" >\n",
       "</style><table id=\"T_676242df_d1b1_11ec_af94_a4c4948ec9ce\" style='display:inline'><caption>Dólares</caption><thead>    <tr>        <th class=\"blank level0\" ></th>        <th class=\"col_heading level0 col0\" >price</th>        <th class=\"col_heading level0 col1\" >price_aprox_local_currency</th>        <th class=\"col_heading level0 col2\" >price_aprox_usd</th>    </tr></thead><tbody>\n",
       "                <tr>\n",
       "                        <th id=\"T_676242df_d1b1_11ec_af94_a4c4948ec9celevel0_row0\" class=\"row_heading level0 row0\" >count</th>\n",
       "                        <td id=\"T_676242df_d1b1_11ec_af94_a4c4948ec9cerow0_col0\" class=\"data row0 col0\" >87587.000000</td>\n",
       "                        <td id=\"T_676242df_d1b1_11ec_af94_a4c4948ec9cerow0_col1\" class=\"data row0 col1\" >87587.000000</td>\n",
       "                        <td id=\"T_676242df_d1b1_11ec_af94_a4c4948ec9cerow0_col2\" class=\"data row0 col2\" >87587.000000</td>\n",
       "            </tr>\n",
       "            <tr>\n",
       "                        <th id=\"T_676242df_d1b1_11ec_af94_a4c4948ec9celevel0_row1\" class=\"row_heading level0 row1\" >mean</th>\n",
       "                        <td id=\"T_676242df_d1b1_11ec_af94_a4c4948ec9cerow1_col0\" class=\"data row1 col0\" >260373.516606</td>\n",
       "                        <td id=\"T_676242df_d1b1_11ec_af94_a4c4948ec9cerow1_col1\" class=\"data row1 col1\" >4594160.513504</td>\n",
       "                        <td id=\"T_676242df_d1b1_11ec_af94_a4c4948ec9cerow1_col2\" class=\"data row1 col2\" >260373.516606</td>\n",
       "            </tr>\n",
       "            <tr>\n",
       "                        <th id=\"T_676242df_d1b1_11ec_af94_a4c4948ec9celevel0_row2\" class=\"row_heading level0 row2\" >std</th>\n",
       "                        <td id=\"T_676242df_d1b1_11ec_af94_a4c4948ec9cerow2_col0\" class=\"data row2 col0\" >406357.984827</td>\n",
       "                        <td id=\"T_676242df_d1b1_11ec_af94_a4c4948ec9cerow2_col1\" class=\"data row2 col1\" >7169983.463291</td>\n",
       "                        <td id=\"T_676242df_d1b1_11ec_af94_a4c4948ec9cerow2_col2\" class=\"data row2 col2\" >406357.984827</td>\n",
       "            </tr>\n",
       "            <tr>\n",
       "                        <th id=\"T_676242df_d1b1_11ec_af94_a4c4948ec9celevel0_row3\" class=\"row_heading level0 row3\" >min</th>\n",
       "                        <td id=\"T_676242df_d1b1_11ec_af94_a4c4948ec9cerow3_col0\" class=\"data row3 col0\" >5000.000000</td>\n",
       "                        <td id=\"T_676242df_d1b1_11ec_af94_a4c4948ec9cerow3_col1\" class=\"data row3 col1\" >88222.500000</td>\n",
       "                        <td id=\"T_676242df_d1b1_11ec_af94_a4c4948ec9cerow3_col2\" class=\"data row3 col2\" >5000.000000</td>\n",
       "            </tr>\n",
       "            <tr>\n",
       "                        <th id=\"T_676242df_d1b1_11ec_af94_a4c4948ec9celevel0_row4\" class=\"row_heading level0 row4\" >25%</th>\n",
       "                        <td id=\"T_676242df_d1b1_11ec_af94_a4c4948ec9cerow4_col0\" class=\"data row4 col0\" >100000.000000</td>\n",
       "                        <td id=\"T_676242df_d1b1_11ec_af94_a4c4948ec9cerow4_col1\" class=\"data row4 col1\" >1764450.000000</td>\n",
       "                        <td id=\"T_676242df_d1b1_11ec_af94_a4c4948ec9cerow4_col2\" class=\"data row4 col2\" >100000.000000</td>\n",
       "            </tr>\n",
       "            <tr>\n",
       "                        <th id=\"T_676242df_d1b1_11ec_af94_a4c4948ec9celevel0_row5\" class=\"row_heading level0 row5\" >50%</th>\n",
       "                        <td id=\"T_676242df_d1b1_11ec_af94_a4c4948ec9cerow5_col0\" class=\"data row5 col0\" >160000.000000</td>\n",
       "                        <td id=\"T_676242df_d1b1_11ec_af94_a4c4948ec9cerow5_col1\" class=\"data row5 col1\" >2823120.000000</td>\n",
       "                        <td id=\"T_676242df_d1b1_11ec_af94_a4c4948ec9cerow5_col2\" class=\"data row5 col2\" >160000.000000</td>\n",
       "            </tr>\n",
       "            <tr>\n",
       "                        <th id=\"T_676242df_d1b1_11ec_af94_a4c4948ec9celevel0_row6\" class=\"row_heading level0 row6\" >75%</th>\n",
       "                        <td id=\"T_676242df_d1b1_11ec_af94_a4c4948ec9cerow6_col0\" class=\"data row6 col0\" >290000.000000</td>\n",
       "                        <td id=\"T_676242df_d1b1_11ec_af94_a4c4948ec9cerow6_col1\" class=\"data row6 col1\" >5116905.000000</td>\n",
       "                        <td id=\"T_676242df_d1b1_11ec_af94_a4c4948ec9cerow6_col2\" class=\"data row6 col2\" >290000.000000</td>\n",
       "            </tr>\n",
       "            <tr>\n",
       "                        <th id=\"T_676242df_d1b1_11ec_af94_a4c4948ec9celevel0_row7\" class=\"row_heading level0 row7\" >max</th>\n",
       "                        <td id=\"T_676242df_d1b1_11ec_af94_a4c4948ec9cerow7_col0\" class=\"data row7 col0\" >46545445.000000</td>\n",
       "                        <td id=\"T_676242df_d1b1_11ec_af94_a4c4948ec9cerow7_col1\" class=\"data row7 col1\" >821271104.300000</td>\n",
       "                        <td id=\"T_676242df_d1b1_11ec_af94_a4c4948ec9cerow7_col2\" class=\"data row7 col2\" >46545445.000000</td>\n",
       "            </tr>\n",
       "    </tbody></table>     "
      ],
      "text/plain": [
       "<IPython.core.display.HTML object>"
      ]
     },
     "metadata": {},
     "output_type": "display_data"
    }
   ],
   "source": [
    "display_side_by_side([precios_ars.describe(),precios_usd.describe()],['Pesos Argentinos','Dólares'])"
   ]
  },
  {
   "cell_type": "code",
   "execution_count": 32,
   "id": "f1024ecb",
   "metadata": {
    "execution": {
     "iopub.execute_input": "2022-05-12T05:07:21.567220Z",
     "iopub.status.busy": "2022-05-12T05:07:21.567220Z",
     "iopub.status.idle": "2022-05-12T05:07:21.581220Z",
     "shell.execute_reply": "2022-05-12T05:07:21.580219Z",
     "shell.execute_reply.started": "2022-05-12T05:07:21.567220Z"
    }
   },
   "outputs": [
    {
     "data": {
      "text/plain": [
       "0.0"
      ]
     },
     "execution_count": 32,
     "metadata": {},
     "output_type": "execute_result"
    }
   ],
   "source": [
    "# Compruebo si todos los valores de operaciones en dolares son los mismos en ambas columnas\n",
    "precios_usd[precios_usd['price'] != precios_usd['price_aprox_usd']]['price'].sum()"
   ]
  },
  {
   "cell_type": "markdown",
   "id": "43ebcf95",
   "metadata": {},
   "source": [
    "#### Análisis:  \n",
    "- Ambos dataset:\n",
    "    - Tienen algunos valores demasiado altos comparados al resto, hacer análisis específicos de los mismos\n",
    "    - Rehacer los histogramas eliminando los valores extremos, para poder observar bien la distribución, o hacer uno por cada place_name\n",
    "    - El valor del mínimo no es el mismo que el del dataset original. hipótesis: el dato faltante extra de 'currency'\n",
    "    - En el gráfico de correlación general se observa que las dos features de precios aproximados están muy correlacionadas, hacer la columna de precio de conversión y ver en qué valores se meneja.\n",
    "- Pesos argentinos:\n",
    "    - Las features de 'price' y 'price_aprox_local_currency' no son iguales, buscar patrón de por qué pasa esto. Hipotesis: Se convierte a dólares y luego a pesos.\n",
    "    - El máximo precio resalta, será un valor máximo permitido de la app en vez de un valor real?.\n",
    "\n",
    "- Dólares:\n",
    "    - Mismos valores en columna de 'price' y 'price_aprox_usd', apoyan hipótesis de que se convierte la operación de pesos a dólares."
   ]
  },
  {
   "cell_type": "code",
   "execution_count": 33,
   "id": "7fde1b3f",
   "metadata": {
    "execution": {
     "iopub.execute_input": "2022-05-12T05:07:21.582221Z",
     "iopub.status.busy": "2022-05-12T05:07:21.582221Z",
     "iopub.status.idle": "2022-05-12T05:07:21.612218Z",
     "shell.execute_reply": "2022-05-12T05:07:21.611236Z",
     "shell.execute_reply.started": "2022-05-12T05:07:21.582221Z"
    }
   },
   "outputs": [
    {
     "data": {
      "text/html": [
       "<div>\n",
       "<style scoped>\n",
       "    .dataframe tbody tr th:only-of-type {\n",
       "        vertical-align: middle;\n",
       "    }\n",
       "\n",
       "    .dataframe tbody tr th {\n",
       "        vertical-align: top;\n",
       "    }\n",
       "\n",
       "    .dataframe thead th {\n",
       "        text-align: right;\n",
       "    }\n",
       "</style>\n",
       "<table border=\"1\" class=\"dataframe\">\n",
       "  <thead>\n",
       "    <tr style=\"text-align: right;\">\n",
       "      <th></th>\n",
       "      <th>price</th>\n",
       "      <th>currency</th>\n",
       "      <th>price_aprox_local_currency</th>\n",
       "      <th>price_aprox_usd</th>\n",
       "      <th>surface_total_in_m2</th>\n",
       "      <th>surface_covered_in_m2</th>\n",
       "      <th>price_usd_per_m2</th>\n",
       "      <th>price_per_m2</th>\n",
       "      <th>description</th>\n",
       "      <th>title</th>\n",
       "    </tr>\n",
       "  </thead>\n",
       "  <tbody>\n",
       "    <tr>\n",
       "      <th>9761</th>\n",
       "      <td>0.0</td>\n",
       "      <td>NaN</td>\n",
       "      <td>0.0</td>\n",
       "      <td>0.0</td>\n",
       "      <td>NaN</td>\n",
       "      <td>NaN</td>\n",
       "      <td>NaN</td>\n",
       "      <td>NaN</td>\n",
       "      <td>Casa en Venta de 2 dorm. en Armenia</td>\n",
       "      <td>SE VENDE CASA EN EL BARRIO EL LIMONAR</td>\n",
       "    </tr>\n",
       "  </tbody>\n",
       "</table>\n",
       "</div>"
      ],
      "text/plain": [
       "      price currency  price_aprox_local_currency  price_aprox_usd  \\\n",
       "9761    0.0      NaN                         0.0              0.0   \n",
       "\n",
       "      surface_total_in_m2  surface_covered_in_m2  price_usd_per_m2  \\\n",
       "9761                  NaN                    NaN               NaN   \n",
       "\n",
       "      price_per_m2                          description  \\\n",
       "9761           NaN  Casa en Venta de 2 dorm. en Armenia   \n",
       "\n",
       "                                      title  \n",
       "9761  SE VENDE CASA EN EL BARRIO EL LIMONAR  "
      ]
     },
     "execution_count": 33,
     "metadata": {},
     "output_type": "execute_result"
    }
   ],
   "source": [
    "# Compruebo el dato faltante extra de currency con respecto a las columnas de precios\n",
    "data[(~data['price'].isna())&(data['currency'].isna())][['price','currency','price_aprox_local_currency',\\\n",
    "                                                                 'price_aprox_usd','surface_total_in_m2','surface_covered_in_m2','price_usd_per_m2','price_per_m2','description','title']]"
   ]
  },
  {
   "cell_type": "markdown",
   "id": "17ecbcdf",
   "metadata": {},
   "source": [
    "#### Conclusión:\n",
    "- El index 9761 se debería eliminar, ya que tiene valores erróneos (ceros) y ningún dato desde donde sacarlo."
   ]
  },
  {
   "cell_type": "markdown",
   "id": "bfba2d40",
   "metadata": {},
   "source": [
    "---\n",
    "### Imputación de Columnas de superficie\n",
    "\n",
    "Una vez completados los datos faltantes de superficie con datos que se pueden extraer de la descripción de venta, se decide imputar el resto de los datos faltantes de acuerdo a mediana de datos actuales."
   ]
  },
  {
   "cell_type": "code",
   "execution_count": 34,
   "id": "87e9eb83",
   "metadata": {
    "execution": {
     "iopub.execute_input": "2022-05-12T05:07:21.613224Z",
     "iopub.status.busy": "2022-05-12T05:07:21.613224Z",
     "iopub.status.idle": "2022-05-12T05:07:21.642218Z",
     "shell.execute_reply": "2022-05-12T05:07:21.641235Z",
     "shell.execute_reply.started": "2022-05-12T05:07:21.613224Z"
    }
   },
   "outputs": [],
   "source": [
    "#Convierte los valores asignados de la columna superficie en valores númericos.\n",
    "data_regex['surface_covered_in_m2_2'] = data_regex.surface_covered_in_m2_2.astype(int)\n",
    "data_regex['data_ambientes'] = data_regex.data_ambientes.astype('int64')"
   ]
  },
  {
   "cell_type": "code",
   "execution_count": 35,
   "id": "d384db19",
   "metadata": {
    "execution": {
     "iopub.execute_input": "2022-05-12T05:07:21.644222Z",
     "iopub.status.busy": "2022-05-12T05:07:21.643220Z",
     "iopub.status.idle": "2022-05-12T05:07:21.705224Z",
     "shell.execute_reply": "2022-05-12T05:07:21.704219Z",
     "shell.execute_reply.started": "2022-05-12T05:07:21.644222Z"
    }
   },
   "outputs": [
    {
     "data": {
      "text/html": [
       "<div>\n",
       "<style scoped>\n",
       "    .dataframe tbody tr th:only-of-type {\n",
       "        vertical-align: middle;\n",
       "    }\n",
       "\n",
       "    .dataframe tbody tr th {\n",
       "        vertical-align: top;\n",
       "    }\n",
       "\n",
       "    .dataframe thead th {\n",
       "        text-align: right;\n",
       "    }\n",
       "</style>\n",
       "<table border=\"1\" class=\"dataframe\">\n",
       "  <thead>\n",
       "    <tr style=\"text-align: right;\">\n",
       "      <th></th>\n",
       "      <th>data_ambientes</th>\n",
       "      <th>rooms</th>\n",
       "      <th>surface_covered_in_m2</th>\n",
       "      <th>surface_total_in_m2</th>\n",
       "      <th>surface_covered_in_m2_2</th>\n",
       "    </tr>\n",
       "    <tr>\n",
       "      <th>property_type</th>\n",
       "      <th></th>\n",
       "      <th></th>\n",
       "      <th></th>\n",
       "      <th></th>\n",
       "      <th></th>\n",
       "    </tr>\n",
       "  </thead>\n",
       "  <tbody>\n",
       "    <tr>\n",
       "      <th>PH</th>\n",
       "      <td>0</td>\n",
       "      <td>3.0</td>\n",
       "      <td>73.0</td>\n",
       "      <td>90.0</td>\n",
       "      <td>65</td>\n",
       "    </tr>\n",
       "    <tr>\n",
       "      <th>apartment</th>\n",
       "      <td>0</td>\n",
       "      <td>2.0</td>\n",
       "      <td>52.0</td>\n",
       "      <td>59.0</td>\n",
       "      <td>47</td>\n",
       "    </tr>\n",
       "    <tr>\n",
       "      <th>house</th>\n",
       "      <td>0</td>\n",
       "      <td>4.0</td>\n",
       "      <td>180.0</td>\n",
       "      <td>278.0</td>\n",
       "      <td>160</td>\n",
       "    </tr>\n",
       "    <tr>\n",
       "      <th>store</th>\n",
       "      <td>0</td>\n",
       "      <td>1.0</td>\n",
       "      <td>120.0</td>\n",
       "      <td>154.0</td>\n",
       "      <td>70</td>\n",
       "    </tr>\n",
       "  </tbody>\n",
       "</table>\n",
       "</div>"
      ],
      "text/plain": [
       "               data_ambientes  rooms  surface_covered_in_m2  \\\n",
       "property_type                                                 \n",
       "PH                          0    3.0                   73.0   \n",
       "apartment                   0    2.0                   52.0   \n",
       "house                       0    4.0                  180.0   \n",
       "store                       0    1.0                  120.0   \n",
       "\n",
       "               surface_total_in_m2  surface_covered_in_m2_2  \n",
       "property_type                                                \n",
       "PH                            90.0                       65  \n",
       "apartment                     59.0                       47  \n",
       "house                        278.0                      160  \n",
       "store                        154.0                       70  "
      ]
     },
     "execution_count": 35,
     "metadata": {},
     "output_type": "execute_result"
    }
   ],
   "source": [
    "data_regex.groupby('property_type').median()"
   ]
  },
  {
   "cell_type": "code",
   "execution_count": 36,
   "id": "98e79da9",
   "metadata": {
    "execution": {
     "iopub.execute_input": "2022-05-12T05:07:21.706224Z",
     "iopub.status.busy": "2022-05-12T05:07:21.706224Z",
     "iopub.status.idle": "2022-05-12T05:07:21.769223Z",
     "shell.execute_reply": "2022-05-12T05:07:21.768218Z",
     "shell.execute_reply.started": "2022-05-12T05:07:21.706224Z"
    }
   },
   "outputs": [],
   "source": [
    "#Máscaras de ambientes\n",
    "mask_1_amb = data_regex['data_ambientes'] == 1\n",
    "mask_2_amb = data_regex['data_ambientes'] == 2\n",
    "mask_3_amb = data_regex['data_ambientes'] == 3\n",
    "mask_4_amb = data_regex['data_ambientes'] == 4\n",
    "mask_5_amb = data_regex['data_ambientes'] == 5\n",
    "mask_6_amb = data_regex['data_ambientes'] == 6\n",
    "\n",
    "#apartment \n",
    "apart_mask = data_regex['property_type'] == 'apartment'\n",
    "\n",
    "#PH \n",
    "PH_mask = data_regex['property_type'] == 'PH'\n",
    "\n",
    "#house \n",
    "house_mask = data_regex['property_type'] == 'house'\n",
    "\n",
    "#store \n",
    "store_mask = data_regex['property_type'] == 'store'"
   ]
  },
  {
   "cell_type": "code",
   "execution_count": 37,
   "id": "68cddae3",
   "metadata": {
    "execution": {
     "iopub.execute_input": "2022-05-12T05:07:21.771225Z",
     "iopub.status.busy": "2022-05-12T05:07:21.770222Z",
     "iopub.status.idle": "2022-05-12T05:07:21.785222Z",
     "shell.execute_reply": "2022-05-12T05:07:21.784221Z",
     "shell.execute_reply.started": "2022-05-12T05:07:21.770222Z"
    }
   },
   "outputs": [],
   "source": [
    "#Medianas por cantidad de ambientes en apartamentos\n",
    "mediana_1_amb_apar = data_regex.surface_covered_in_m2[mask_1_amb & apart_mask].median()\n",
    "mediana_2_amb_apar = data_regex.surface_covered_in_m2[mask_2_amb & apart_mask].median()\n",
    "mediana_3_amb_apar = data_regex.surface_covered_in_m2[mask_3_amb & apart_mask].median()\n",
    "mediana_4_amb_apar = data_regex.surface_covered_in_m2[mask_4_amb & apart_mask].median()\n",
    "mediana_5_amb_apar = data_regex.surface_covered_in_m2[mask_5_amb & apart_mask].median()\n"
   ]
  },
  {
   "cell_type": "code",
   "execution_count": 38,
   "id": "fcedba4f",
   "metadata": {
    "execution": {
     "iopub.execute_input": "2022-05-12T05:07:21.787228Z",
     "iopub.status.busy": "2022-05-12T05:07:21.787228Z",
     "iopub.status.idle": "2022-05-12T05:07:21.801222Z",
     "shell.execute_reply": "2022-05-12T05:07:21.800221Z",
     "shell.execute_reply.started": "2022-05-12T05:07:21.787228Z"
    }
   },
   "outputs": [],
   "source": [
    "#Medianas por cantidad de ambientes en PH\n",
    "mediana_1_amb_PH = data_regex.surface_covered_in_m2[mask_1_amb & PH_mask].median()\n",
    "mediana_2_amb_PH = data_regex.surface_covered_in_m2[mask_2_amb & PH_mask].median()\n",
    "mediana_3_amb_PH = data_regex.surface_covered_in_m2[mask_3_amb & PH_mask].median()\n",
    "mediana_4_amb_PH = data_regex.surface_covered_in_m2[mask_4_amb & PH_mask].median()\n",
    "mediana_5_amb_PH = data_regex.surface_covered_in_m2[mask_5_amb & PH_mask].median()\n",
    "mediana_6_amb_PH = data_regex.surface_covered_in_m2[mask_6_amb & PH_mask].median()\n"
   ]
  },
  {
   "cell_type": "code",
   "execution_count": 39,
   "id": "3d0b757c",
   "metadata": {
    "execution": {
     "iopub.execute_input": "2022-05-12T05:07:21.802222Z",
     "iopub.status.busy": "2022-05-12T05:07:21.802222Z",
     "iopub.status.idle": "2022-05-12T05:07:21.831217Z",
     "shell.execute_reply": "2022-05-12T05:07:21.831217Z",
     "shell.execute_reply.started": "2022-05-12T05:07:21.802222Z"
    }
   },
   "outputs": [],
   "source": [
    "#Medianas por cantidad de ambientes en House\n",
    "mediana_1_amb_house = data_regex.surface_covered_in_m2[mask_1_amb & house_mask].median()\n",
    "mediana_2_amb_house = data_regex.surface_covered_in_m2[mask_2_amb & house_mask].median()\n",
    "mediana_3_amb_house = data_regex.surface_covered_in_m2[mask_3_amb & house_mask].median()\n",
    "mediana_4_amb_house = data_regex.surface_covered_in_m2[mask_4_amb & house_mask].median()\n",
    "mediana_5_amb_house = data_regex.surface_covered_in_m2[mask_5_amb & house_mask].median()\n",
    "mediana_6_amb_house = data_regex.surface_covered_in_m2[mask_6_amb & house_mask].median()"
   ]
  },
  {
   "cell_type": "code",
   "execution_count": 40,
   "id": "179ee739",
   "metadata": {
    "execution": {
     "iopub.execute_input": "2022-05-12T05:07:21.833220Z",
     "iopub.status.busy": "2022-05-12T05:07:21.833220Z",
     "iopub.status.idle": "2022-05-12T05:07:21.862222Z",
     "shell.execute_reply": "2022-05-12T05:07:21.861221Z",
     "shell.execute_reply.started": "2022-05-12T05:07:21.833220Z"
    }
   },
   "outputs": [],
   "source": [
    "#Medianas por cantidad de ambientes en Store\n",
    "mediana_1_amb_store = data_regex.surface_covered_in_m2[mask_1_amb & store_mask].median()\n",
    "mediana_2_amb_store = data_regex.surface_covered_in_m2[mask_2_amb & store_mask].median()\n",
    "mediana_3_amb_store = data_regex.surface_covered_in_m2[mask_3_amb & store_mask].median()\n",
    "mediana_4_amb_store = data_regex.surface_covered_in_m2[mask_4_amb & store_mask].median()\n",
    "mediana_5_amb_store = data_regex.surface_covered_in_m2[mask_5_amb & store_mask].median()\n",
    "mediana_6_amb_store = data_regex.surface_covered_in_m2[mask_6_amb & store_mask].median()\n"
   ]
  },
  {
   "cell_type": "markdown",
   "id": "a272d4a9",
   "metadata": {},
   "source": [
    "Se crean funciones para imputar los datos faltantes de superficie respecto a la cantidad de ambientes y de las características del inmueble"
   ]
  },
  {
   "cell_type": "code",
   "execution_count": 41,
   "id": "cece29c0",
   "metadata": {
    "execution": {
     "iopub.execute_input": "2022-05-12T05:07:21.869223Z",
     "iopub.status.busy": "2022-05-12T05:07:21.869223Z",
     "iopub.status.idle": "2022-05-12T05:07:24.374830Z",
     "shell.execute_reply": "2022-05-12T05:07:24.373858Z",
     "shell.execute_reply.started": "2022-05-12T05:07:21.869223Z"
    }
   },
   "outputs": [],
   "source": [
    "#Imputa el valor faltante de apartment con la mediana de la superficie en función de la cantidad de ambientes\n",
    "def compl_amb (row):\n",
    "    if row['surface_covered_in_m2_2'] > 0:\n",
    "        result = row['surface_covered_in_m2']\n",
    "    else:\n",
    "        if (row['property_type'] == 'apartment') & (row['data_ambientes'] == 1):\n",
    "            result = mediana_1_amb_apar\n",
    "        elif (row['property_type'] == 'apartment') & (row['data_ambientes'] == 2):\n",
    "            result = mediana_2_amb_apar\n",
    "        elif (row['property_type'] == 'apartment') & (row['data_ambientes'] == 3):\n",
    "            result = mediana_3_amb_apar\n",
    "        elif (row['property_type'] == 'apartment') & (row['data_ambientes'] == 4):\n",
    "            result = mediana_4_amb_apar\n",
    "        elif (row['property_type'] == 'apartment') & (row['data_ambientes'] == 5):\n",
    "            result = mediana_5_amb_apar\n",
    "        else:\n",
    "            result = row['surface_covered_in_m2']\n",
    "    return result\n",
    "\n",
    "data_regex['surface_covered_in_m2_3'] = data_regex.apply(compl_amb, axis = 1)\n"
   ]
  },
  {
   "cell_type": "code",
   "execution_count": 42,
   "id": "f248750c",
   "metadata": {
    "execution": {
     "iopub.execute_input": "2022-05-12T05:07:24.375810Z",
     "iopub.status.busy": "2022-05-12T05:07:24.375810Z",
     "iopub.status.idle": "2022-05-12T05:07:26.968870Z",
     "shell.execute_reply": "2022-05-12T05:07:26.967889Z",
     "shell.execute_reply.started": "2022-05-12T05:07:24.375810Z"
    }
   },
   "outputs": [],
   "source": [
    "#Imputa el valor faltante de PH con la mediana de la superficie en función de la cantidad de ambientes\n",
    "def compl_amb_PH (row):\n",
    "    if row['surface_covered_in_m2_2'] > 0:\n",
    "        result = row['surface_covered_in_m2']\n",
    "    else:\n",
    "        if (row['property_type'] == 'PH') & (row['data_ambientes'] == 1):\n",
    "            result = mediana_1_amb_PH\n",
    "        elif (row['property_type'] == 'PH') & (row['data_ambientes'] == 2):\n",
    "            result = mediana_2_amb_PH\n",
    "        elif (row['property_type'] == 'PH') & (row['data_ambientes'] == 3):\n",
    "            result = mediana_3_amb_PH\n",
    "        elif (row['property_type'] == 'PH') & (row['data_ambientes'] == 4):\n",
    "            result = mediana_4_amb_PH\n",
    "        elif (row['property_type'] == 'PH') & (row['data_ambientes'] == 5):\n",
    "            result = mediana_5_amb_PH\n",
    "        elif (row['property_type'] == 'PH') & (row['data_ambientes'] == 6):\n",
    "            result = mediana_6_amb_PH\n",
    "        else:\n",
    "            result = row['surface_covered_in_m2']\n",
    "    return result\n",
    "\n",
    "data_regex['surface_covered_in_m2_3'] = data_regex.apply(compl_amb_PH, axis = 1)\n"
   ]
  },
  {
   "cell_type": "code",
   "execution_count": 43,
   "id": "37f043bb",
   "metadata": {
    "execution": {
     "iopub.execute_input": "2022-05-12T05:07:26.969852Z",
     "iopub.status.busy": "2022-05-12T05:07:26.969852Z",
     "iopub.status.idle": "2022-05-12T05:07:29.624060Z",
     "shell.execute_reply": "2022-05-12T05:07:29.623125Z",
     "shell.execute_reply.started": "2022-05-12T05:07:26.969852Z"
    }
   },
   "outputs": [],
   "source": [
    "#Imputa el valor faltante de house con la mediana de la superficie en función de la cantidad de ambientes\n",
    "def compl_amb_house (row):\n",
    "    if row['surface_covered_in_m2_2'] > 0:\n",
    "        result = row['surface_covered_in_m2']\n",
    "    else:\n",
    "        if (row['property_type'] == 'house') & (row['data_ambientes'] == 1):\n",
    "            result = mediana_1_amb_house\n",
    "        elif (row['property_type'] == 'house') & (row['data_ambientes'] == 2):\n",
    "            result = mediana_2_amb_house\n",
    "        elif (row['property_type'] == 'house') & (row['data_ambientes'] == 3):\n",
    "            result = mediana_3_amb_house\n",
    "        elif (row['property_type'] == 'house') & (row['data_ambientes'] == 4):\n",
    "            result = mediana_4_amb_house\n",
    "        elif (row['property_type'] == 'house') & (row['data_ambientes'] == 5):\n",
    "            result = mediana_5_amb_house\n",
    "        elif (row['property_type'] == 'house') & (row['data_ambientes'] == 6):\n",
    "            result = mediana_6_amb_house\n",
    "        else:\n",
    "            result = row['surface_covered_in_m2']\n",
    "    return result\n",
    "\n",
    "data_regex['surface_covered_in_m2_3'] = data_regex.apply(compl_amb_house, axis = 1)"
   ]
  },
  {
   "cell_type": "code",
   "execution_count": 44,
   "id": "209b8d10",
   "metadata": {
    "execution": {
     "iopub.execute_input": "2022-05-12T05:07:29.625061Z",
     "iopub.status.busy": "2022-05-12T05:07:29.625061Z",
     "iopub.status.idle": "2022-05-12T05:07:32.349187Z",
     "shell.execute_reply": "2022-05-12T05:07:32.348255Z",
     "shell.execute_reply.started": "2022-05-12T05:07:29.625061Z"
    }
   },
   "outputs": [],
   "source": [
    "#Imputa el valor faltante de store con la mediana de la superficie en función de la cantidad de ambientes\n",
    "def compl_amb_store (row):\n",
    "    if row['surface_covered_in_m2_2'] > 0:\n",
    "        result = row['surface_covered_in_m2']\n",
    "    else:\n",
    "        if (row['property_type'] == 'store') & (row['data_ambientes'] == 1):\n",
    "            result = mediana_1_amb_store\n",
    "        elif (row['property_type'] == 'store') & (row['data_ambientes'] == 2):\n",
    "            result = mediana_2_amb_store\n",
    "        elif (row['property_type'] == 'store') & (row['data_ambientes'] == 3):\n",
    "            result = mediana_3_amb_store\n",
    "        elif (row['property_type'] == 'store') & (row['data_ambientes'] == 4):\n",
    "            result = mediana_4_amb_store\n",
    "        elif (row['property_type'] == 'store') & (row['data_ambientes'] == 5):\n",
    "            result = mediana_5_amb_store\n",
    "        elif (row['property_type'] == 'store') & (row['data_ambientes'] == 6):\n",
    "            result = mediana_6_amb_store\n",
    "        else:\n",
    "            result = row['surface_covered_in_m2']\n",
    "    return result\n",
    "\n",
    "data_regex['surface_covered_in_m2_3'] = data_regex.apply(compl_amb_house, axis = 1)\n"
   ]
  },
  {
   "cell_type": "code",
   "execution_count": 45,
   "id": "5552dfc1",
   "metadata": {
    "execution": {
     "iopub.execute_input": "2022-05-12T05:07:32.350190Z",
     "iopub.status.busy": "2022-05-12T05:07:32.350190Z",
     "iopub.status.idle": "2022-05-12T05:07:32.365189Z",
     "shell.execute_reply": "2022-05-12T05:07:32.364202Z",
     "shell.execute_reply.started": "2022-05-12T05:07:32.350190Z"
    }
   },
   "outputs": [],
   "source": [
    "#Calculos de medianas\n",
    "apart_mediana = data_regex.surface_covered_in_m2[apart_mask].median()\n",
    "PH_mediana = data_regex.surface_covered_in_m2[PH_mask].median()\n",
    "house_mediana = data_regex.surface_covered_in_m2[house_mask].median()\n",
    "store_mediana = data_regex.surface_covered_in_m2[store_mask].median()"
   ]
  },
  {
   "cell_type": "markdown",
   "id": "73a868c0",
   "metadata": {},
   "source": [
    "Imputar datos faltantes en función de la cantidad de rooms que posee el inmueble. La imputación se realiza con la mediana de los datos que conocemos."
   ]
  },
  {
   "cell_type": "code",
   "execution_count": 46,
   "id": "de2b6f67",
   "metadata": {
    "execution": {
     "iopub.execute_input": "2022-05-12T05:07:32.366186Z",
     "iopub.status.busy": "2022-05-12T05:07:32.366186Z",
     "iopub.status.idle": "2022-05-12T05:07:32.445186Z",
     "shell.execute_reply": "2022-05-12T05:07:32.444202Z",
     "shell.execute_reply.started": "2022-05-12T05:07:32.366186Z"
    },
    "scrolled": true
   },
   "outputs": [],
   "source": [
    "#Cálculo de medianas de superficie por cantidad de rooms\n",
    "median_sup_cov_dor_apart = data[['rooms', 'surface_covered_in_m2']][(data.surface_covered_in_m2.notnull()) & apart_mask & (data.rooms.notnull())].groupby('rooms').median()\n",
    "median_sup_cov_dor_apart1 = data[['rooms', 'surface_covered_in_m2']][(data.surface_covered_in_m2.notnull()) & apart_mask & (data.rooms == 1)].groupby('rooms').median()\n",
    "\n",
    "median_sup_cov_dor_house = data[['rooms', 'surface_covered_in_m2']][(data.surface_covered_in_m2.notnull()) & house_mask & (data.rooms.notnull())].groupby('rooms').median()\n",
    "median_sup_cov_dor_house1 = data[['rooms', 'surface_covered_in_m2']][(data.surface_covered_in_m2.notnull()) & house_mask & (data.rooms == 1)].groupby('rooms').median()\n",
    "\n",
    "\n",
    "median_sup_cov_dor_PH = data[['rooms', 'surface_covered_in_m2']][(data.surface_covered_in_m2.notnull()) & PH_mask & (data.rooms.notnull())].groupby('rooms').median()\n",
    "median_sup_cov_dor_PH1 = data[['rooms', 'surface_covered_in_m2']][(data.surface_covered_in_m2.notnull()) & PH_mask & (data.rooms == 1)].groupby('rooms').median()\n",
    "\n",
    "\n",
    "median_sup_cov_dor_store = data[['rooms', 'surface_covered_in_m2']][(data.surface_covered_in_m2.notnull()) & store_mask & (data.rooms.notnull())].groupby('rooms').median()\n",
    "median_sup_cov_dor_store1 = data[['rooms', 'surface_covered_in_m2']][(data.surface_covered_in_m2.notnull()) & store_mask & (data.rooms == 1)].groupby('rooms').median()\n"
   ]
  },
  {
   "cell_type": "code",
   "execution_count": 47,
   "id": "496224b3",
   "metadata": {
    "execution": {
     "iopub.execute_input": "2022-05-12T05:07:32.447187Z",
     "iopub.status.busy": "2022-05-12T05:07:32.447187Z",
     "iopub.status.idle": "2022-05-12T05:07:32.461190Z",
     "shell.execute_reply": "2022-05-12T05:07:32.460197Z",
     "shell.execute_reply.started": "2022-05-12T05:07:32.447187Z"
    }
   },
   "outputs": [],
   "source": [
    "#Cálculo de superficie por rooms\n",
    "median_sup_cov_dor_apart['sup_x_room'] = median_sup_cov_dor_apart['surface_covered_in_m2']/median_sup_cov_dor_apart.index\n",
    "median_sup_cov_dor_house['sup_x_room'] = median_sup_cov_dor_house['surface_covered_in_m2']/median_sup_cov_dor_house.index\n",
    "median_sup_cov_dor_PH['sup_x_room'] = median_sup_cov_dor_PH['surface_covered_in_m2']/median_sup_cov_dor_PH.index\n",
    "median_sup_cov_dor_store['sup_x_room'] = median_sup_cov_dor_store['surface_covered_in_m2']/median_sup_cov_dor_store.index\n"
   ]
  },
  {
   "cell_type": "code",
   "execution_count": 48,
   "id": "73b70596",
   "metadata": {
    "execution": {
     "iopub.execute_input": "2022-05-12T05:07:32.462201Z",
     "iopub.status.busy": "2022-05-12T05:07:32.462201Z",
     "iopub.status.idle": "2022-05-12T05:07:36.278922Z",
     "shell.execute_reply": "2022-05-12T05:07:36.277931Z",
     "shell.execute_reply.started": "2022-05-12T05:07:32.462201Z"
    }
   },
   "outputs": [],
   "source": [
    "#Imputa el valor faltante de cada inmueble con la mediana en función de la cantidad de rooms\n",
    "def room_faltantes (row):\n",
    "    if (row['property_type'] == 'apartment'):\n",
    "        if row['surface_covered_in_m2_2'] > 0:\n",
    "            result = row['surface_covered_in_m2_2']\n",
    "        else:\n",
    "            if (row['rooms'] == 1):\n",
    "                result = 35\n",
    "            elif row['rooms'] > 1:\n",
    "                result = median_sup_cov_dor_apart.sup_x_room.median()*row['rooms']\n",
    "            else:\n",
    "                result = row['surface_covered_in_m2_2']\n",
    "    elif (row['property_type'] == 'PH'):\n",
    "        if row['surface_covered_in_m2_2'] > 0:\n",
    "            result = row['surface_covered_in_m2_2']\n",
    "        else:\n",
    "            if (row['rooms'] == 1):\n",
    "                result = 37\n",
    "            elif row['rooms'] > 1:\n",
    "                result = median_sup_cov_dor_PH.sup_x_room.median()*row['rooms']\n",
    "            else:\n",
    "                result = row['surface_covered_in_m2_2']\n",
    "    elif (row['property_type'] == 'house'):\n",
    "        if row['surface_covered_in_m2_2'] > 0:\n",
    "            result = row['surface_covered_in_m2_2']\n",
    "        else:\n",
    "            if (row['rooms'] == 1):\n",
    "                result = 65\n",
    "            elif row['rooms'] > 1:\n",
    "                result = median_sup_cov_dor_house.sup_x_room.median()*row['rooms']\n",
    "            else:\n",
    "                result = row['surface_covered_in_m2_2']\n",
    "    elif (row['property_type'] == 'store'):\n",
    "        if row['surface_covered_in_m2_2'] > 0:\n",
    "            result = row['surface_covered_in_m2_2']\n",
    "        else:\n",
    "            if (row['rooms'] == 1):\n",
    "                result = 65\n",
    "            elif row['rooms'] > 1:\n",
    "                result = median_sup_cov_dor_store.sup_x_room.median()*row['rooms']\n",
    "            else:\n",
    "                result = row['surface_covered_in_m2_2']\n",
    "    return result\n",
    "\n",
    "data_regex['surface_covered_in_m2_3'] = data_regex.apply(room_faltantes, axis = 1)"
   ]
  },
  {
   "cell_type": "code",
   "execution_count": 49,
   "id": "90231f8c",
   "metadata": {
    "execution": {
     "iopub.execute_input": "2022-05-12T05:07:36.279919Z",
     "iopub.status.busy": "2022-05-12T05:07:36.279919Z",
     "iopub.status.idle": "2022-05-12T05:07:38.141937Z",
     "shell.execute_reply": "2022-05-12T05:07:38.141937Z",
     "shell.execute_reply.started": "2022-05-12T05:07:36.279919Z"
    }
   },
   "outputs": [
    {
     "data": {
      "text/plain": [
       "0"
      ]
     },
     "execution_count": 49,
     "metadata": {},
     "output_type": "execute_result"
    }
   ],
   "source": [
    "#Imputa el valor faltante de cada inmueble con la mediana en función del tipo de inmueble\n",
    "def compl_faltantes (row):\n",
    "    if row['surface_covered_in_m2_3'] > 8:\n",
    "        result = row['surface_covered_in_m2_3']\n",
    "    else:\n",
    "        if (row['property_type'] == 'apartment'):\n",
    "            result = apart_mediana\n",
    "        elif (row['property_type'] == 'PH'):\n",
    "            result = PH_mediana\n",
    "        elif (row['property_type'] == 'house'):\n",
    "            result = house_mediana\n",
    "        else:\n",
    "            result = store_mediana\n",
    "    return result\n",
    "\n",
    "# Cargo la columna imputada sobre el dataset original\n",
    "data['surface_covered_in_m2'] = data_regex.apply(compl_faltantes, axis = 1)\n",
    "data['surface_covered_in_m2'].isnull().sum()"
   ]
  },
  {
   "cell_type": "code",
   "execution_count": 50,
   "id": "be32eee8",
   "metadata": {
    "execution": {
     "iopub.execute_input": "2022-05-12T05:07:38.143923Z",
     "iopub.status.busy": "2022-05-12T05:07:38.143923Z",
     "iopub.status.idle": "2022-05-12T05:07:38.174934Z",
     "shell.execute_reply": "2022-05-12T05:07:38.173924Z",
     "shell.execute_reply.started": "2022-05-12T05:07:38.143923Z"
    }
   },
   "outputs": [
    {
     "data": {
      "text/plain": [
       "7"
      ]
     },
     "execution_count": 50,
     "metadata": {},
     "output_type": "execute_result"
    }
   ],
   "source": [
    "mask_PH_ol = (data['property_type']=='PH') & (data['surface_covered_in_m2']>1000)\n",
    "data.surface_covered_in_m2[mask_PH_ol].count()"
   ]
  },
  {
   "cell_type": "code",
   "execution_count": 51,
   "id": "6bfa0c5a",
   "metadata": {
    "execution": {
     "iopub.execute_input": "2022-05-12T05:07:38.175917Z",
     "iopub.status.busy": "2022-05-12T05:07:38.175917Z",
     "iopub.status.idle": "2022-05-12T05:07:38.204922Z",
     "shell.execute_reply": "2022-05-12T05:07:38.203923Z",
     "shell.execute_reply.started": "2022-05-12T05:07:38.175917Z"
    }
   },
   "outputs": [
    {
     "data": {
      "text/plain": [
       "67"
      ]
     },
     "execution_count": 51,
     "metadata": {},
     "output_type": "execute_result"
    }
   ],
   "source": [
    "mask_apart_ol = (data['property_type']=='apartment') & (data['surface_covered_in_m2']>1000)\n",
    "data.surface_covered_in_m2[mask_apart_ol].count()"
   ]
  },
  {
   "cell_type": "code",
   "execution_count": 52,
   "id": "35333606",
   "metadata": {
    "execution": {
     "iopub.execute_input": "2022-05-12T05:07:38.206920Z",
     "iopub.status.busy": "2022-05-12T05:07:38.205922Z",
     "iopub.status.idle": "2022-05-12T05:07:38.236917Z",
     "shell.execute_reply": "2022-05-12T05:07:38.235933Z",
     "shell.execute_reply.started": "2022-05-12T05:07:38.206920Z"
    }
   },
   "outputs": [
    {
     "data": {
      "text/plain": [
       "198"
      ]
     },
     "execution_count": 52,
     "metadata": {},
     "output_type": "execute_result"
    }
   ],
   "source": [
    "mask_house_ol = (data['property_type']=='house') & (data['surface_covered_in_m2']>1000)\n",
    "data.surface_covered_in_m2[mask_house_ol].count()"
   ]
  },
  {
   "cell_type": "code",
   "execution_count": 53,
   "id": "5d63ef32",
   "metadata": {
    "execution": {
     "iopub.execute_input": "2022-05-12T05:07:38.237921Z",
     "iopub.status.busy": "2022-05-12T05:07:38.237921Z",
     "iopub.status.idle": "2022-05-12T05:07:38.267924Z",
     "shell.execute_reply": "2022-05-12T05:07:38.266924Z",
     "shell.execute_reply.started": "2022-05-12T05:07:38.237921Z"
    }
   },
   "outputs": [
    {
     "data": {
      "text/plain": [
       "228"
      ]
     },
     "execution_count": 53,
     "metadata": {},
     "output_type": "execute_result"
    }
   ],
   "source": [
    "mask_store_ol = (data['property_type']=='store') & (data['surface_covered_in_m2']>1000)\n",
    "data.surface_covered_in_m2[mask_store_ol].count()"
   ]
  },
  {
   "cell_type": "code",
   "execution_count": 54,
   "id": "7b4936d0",
   "metadata": {
    "execution": {
     "iopub.execute_input": "2022-05-12T05:07:38.270918Z",
     "iopub.status.busy": "2022-05-12T05:07:38.269936Z",
     "iopub.status.idle": "2022-05-12T05:07:38.297924Z",
     "shell.execute_reply": "2022-05-12T05:07:38.296919Z",
     "shell.execute_reply.started": "2022-05-12T05:07:38.270918Z"
    }
   },
   "outputs": [
    {
     "data": {
      "text/plain": [
       "52.0"
      ]
     },
     "execution_count": 54,
     "metadata": {},
     "output_type": "execute_result"
    }
   ],
   "source": [
    "data.surface_covered_in_m2[(data['property_type']=='apartment')].median()"
   ]
  },
  {
   "cell_type": "markdown",
   "id": "bc92c6fc",
   "metadata": {},
   "source": [
    "---\n",
    "---\n",
    "## Análisis gráfico final"
   ]
  },
  {
   "cell_type": "code",
   "execution_count": 55,
   "id": "601b7968",
   "metadata": {
    "execution": {
     "iopub.execute_input": "2022-05-12T05:07:38.298916Z",
     "iopub.status.busy": "2022-05-12T05:07:38.298916Z",
     "iopub.status.idle": "2022-05-12T05:07:38.594921Z",
     "shell.execute_reply": "2022-05-12T05:07:38.593922Z",
     "shell.execute_reply.started": "2022-05-12T05:07:38.298916Z"
    }
   },
   "outputs": [
    {
     "data": {
      "text/plain": [
       "(0.0, 1000.0)"
      ]
     },
     "execution_count": 55,
     "metadata": {},
     "output_type": "execute_result"
    },
    {
     "data": {
      "image/png": "[encoded data removed]",
      "text/plain": [
       "<Figure size 720x504 with 1 Axes>"
      ]
     },
     "metadata": {
      "needs_background": "light"
     },
     "output_type": "display_data"
    }
   ],
   "source": [
    "fig, axs = plt.subplots(figsize=(10,7))\n",
    "\n",
    "sns.boxplot(data=data, y='surface_covered_in_m2', x='property_type',\n",
    "               palette=[\"lightblue\"])\n",
    "plt.ylim(0,1000)"
   ]
  },
  {
   "cell_type": "code",
   "execution_count": 56,
   "id": "376a003a",
   "metadata": {
    "execution": {
     "iopub.execute_input": "2022-05-12T05:07:38.595918Z",
     "iopub.status.busy": "2022-05-12T05:07:38.595918Z",
     "iopub.status.idle": "2022-05-12T05:16:07.730752Z",
     "shell.execute_reply": "2022-05-12T05:16:07.729770Z",
     "shell.execute_reply.started": "2022-05-12T05:07:38.595918Z"
    }
   },
   "outputs": [
    {
     "data": {
      "text/plain": [
       "(0.0, 700.0)"
      ]
     },
     "execution_count": 56,
     "metadata": {},
     "output_type": "execute_result"
    },
    {
     "data": {
      "image/png": "[encoded data removed]",
      "text/plain": [
       "<Figure size 720x504 with 1 Axes>"
      ]
     },
     "metadata": {
      "needs_background": "light"
     },
     "output_type": "display_data"
    }
   ],
   "source": [
    "fig, axs = plt.subplots(figsize=(10,7))\n",
    "sns.histplot(data= data,x='surface_covered_in_m2', hue='property_type', bins=50000, color='k')\n",
    "plt.xlim(0,700)"
   ]
  },
  {
   "cell_type": "code",
   "execution_count": 58,
   "id": "e2471078",
   "metadata": {
    "execution": {
     "iopub.execute_input": "2022-05-12T05:16:43.138445Z",
     "iopub.status.busy": "2022-05-12T05:16:43.138445Z",
     "iopub.status.idle": "2022-05-12T05:16:43.149443Z",
     "shell.execute_reply": "2022-05-12T05:16:43.148442Z",
     "shell.execute_reply.started": "2022-05-12T05:16:43.138445Z"
    }
   },
   "outputs": [],
   "source": [
    "price_x_sup = data.price/data.surface_covered_in_m2\n",
    "data['price_x_sup'] = price_x_sup"
   ]
  },
  {
   "cell_type": "code",
   "execution_count": 59,
   "id": "a28a8300",
   "metadata": {
    "execution": {
     "iopub.execute_input": "2022-05-12T05:16:43.465545Z",
     "iopub.status.busy": "2022-05-12T05:16:43.465545Z",
     "iopub.status.idle": "2022-05-12T05:17:38.518565Z",
     "shell.execute_reply": "2022-05-12T05:17:38.517564Z",
     "shell.execute_reply.started": "2022-05-12T05:16:43.465545Z"
    }
   },
   "outputs": [
    {
     "data": {
      "text/plain": [
       "(0.0, 8000.0)"
      ]
     },
     "execution_count": 59,
     "metadata": {},
     "output_type": "execute_result"
    },
    {
     "data": {
      "image/png": "[encoded data removed]",
      "text/plain": [
       "<Figure size 432x288 with 1 Axes>"
      ]
     },
     "metadata": {
      "needs_background": "light"
     },
     "output_type": "display_data"
    }
   ],
   "source": [
    "sns.histplot(data= data,x='price_usd_per_m2', hue='property_type', bins=5000, color='k')\n",
    "plt.xlim(0,8000)"
   ]
  },
  {
   "cell_type": "code",
   "execution_count": null,
   "id": "1d699e9a",
   "metadata": {
    "execution": {
     "iopub.execute_input": "2022-05-12T05:17:38.521566Z",
     "iopub.status.busy": "2022-05-12T05:17:38.520565Z"
    }
   },
   "outputs": [
    {
     "data": {
      "text/plain": [
       "(0.0, 8000.0)"
      ]
     },
     "execution_count": 60,
     "metadata": {},
     "output_type": "execute_result"
    }
   ],
   "source": [
    "sns.histplot(data= data,x='price_x_sup', hue='property_type', bins=50000, color='k')\n",
    "plt.xlim(0,8000)"
   ]
  },
  {
   "cell_type": "code",
   "execution_count": null,
   "id": "5e71f1b3",
   "metadata": {},
   "outputs": [],
   "source": [
    "sns.histplot(data= data,x='price_per_m2', hue='property_type', bins=50000, color='k')\n",
    "plt.xlim(0,8000)"
   ]
  },
  {
   "cell_type": "code",
   "execution_count": null,
   "id": "87df681e",
   "metadata": {},
   "outputs": [],
   "source": []
  },
  {
   "cell_type": "code",
   "execution_count": null,
   "id": "8975e792",
   "metadata": {},
   "outputs": [],
   "source": []
  },
  {
   "cell_type": "code",
   "execution_count": null,
   "id": "090bfe32",
   "metadata": {},
   "outputs": [],
   "source": []
  },
  {
   "cell_type": "code",
   "execution_count": null,
   "id": "c7df957f",
   "metadata": {},
   "outputs": [],
   "source": []
  }
 ],
 "metadata": {
  "kernelspec": {
   "display_name": "Python 3 (ipykernel)",
   "language": "python",
   "name": "python3"
  },
  "language_info": {
   "codemirror_mode": {
    "name": "ipython",
    "version": 3
   },
   "file_extension": ".py",
   "mimetype": "text/x-python",
   "name": "python",
   "nbconvert_exporter": "python",
   "pygments_lexer": "ipython3",
   "version": "3.8.12"
  }
 },
 "nbformat": 4,
 "nbformat_minor": 5
}
