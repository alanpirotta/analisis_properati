{
 "cells": [
  {
   "cell_type": "code",
   "execution_count": 24,
   "id": "f73f87aa",
   "metadata": {
    "execution": {
     "iopub.execute_input": "2022-06-07T00:08:21.536348Z",
     "iopub.status.busy": "2022-06-07T00:08:21.535362Z",
     "iopub.status.idle": "2022-06-07T00:08:21.542346Z",
     "shell.execute_reply": "2022-06-07T00:08:21.541348Z",
     "shell.execute_reply.started": "2022-06-07T00:08:21.536348Z"
    }
   },
   "outputs": [],
   "source": [
    "import numpy as np\n",
    "import pandas as pd\n",
    "import matplotlib.pyplot as plt\n",
    "import seaborn as sns\n",
    "import re"
   ]
  },
  {
   "cell_type": "code",
   "execution_count": 25,
   "id": "289ef4fb",
   "metadata": {
    "execution": {
     "iopub.execute_input": "2022-06-07T00:08:21.551344Z",
     "iopub.status.busy": "2022-06-07T00:08:21.550349Z",
     "iopub.status.idle": "2022-06-07T00:08:23.948346Z",
     "shell.execute_reply": "2022-06-07T00:08:23.948346Z",
     "shell.execute_reply.started": "2022-06-07T00:08:21.551344Z"
    }
   },
   "outputs": [],
   "source": [
    "location= 'Data/properatti.csv'\n",
    "\n",
    "df = pd.read_csv(location, index_col=0)"
   ]
  },
  {
   "cell_type": "code",
   "execution_count": 26,
   "id": "462bfc21",
   "metadata": {
    "execution": {
     "iopub.execute_input": "2022-06-07T00:08:23.951345Z",
     "iopub.status.busy": "2022-06-07T00:08:23.950349Z",
     "iopub.status.idle": "2022-06-07T00:08:24.048349Z",
     "shell.execute_reply": "2022-06-07T00:08:24.047348Z",
     "shell.execute_reply.started": "2022-06-07T00:08:23.951345Z"
    }
   },
   "outputs": [
    {
     "name": "stdout",
     "output_type": "stream",
     "text": [
      "<class 'pandas.core.frame.DataFrame'>\n",
      "Int64Index: 30952 entries, 0 to 121219\n",
      "Data columns (total 25 columns):\n",
      " #   Column                      Non-Null Count  Dtype  \n",
      "---  ------                      --------------  -----  \n",
      " 0   operation                   30952 non-null  object \n",
      " 1   property_type               30952 non-null  object \n",
      " 2   place_name                  30952 non-null  object \n",
      " 3   place_with_parent_names     30952 non-null  object \n",
      " 4   country_name                30952 non-null  object \n",
      " 5   state_name                  30952 non-null  object \n",
      " 6   geonames_id                 29737 non-null  float64\n",
      " 7   lat-lon                     22631 non-null  object \n",
      " 8   lat                         22631 non-null  float64\n",
      " 9   lon                         22631 non-null  float64\n",
      " 10  price                       27828 non-null  float64\n",
      " 11  currency                    27828 non-null  object \n",
      " 12  price_aprox_local_currency  27828 non-null  float64\n",
      " 13  price_aprox_usd             27828 non-null  float64\n",
      " 14  surface_total_in_m2         25372 non-null  float64\n",
      " 15  surface_covered_in_m2       28800 non-null  float64\n",
      " 16  price_usd_per_m2            22519 non-null  float64\n",
      " 17  price_per_m2                26276 non-null  float64\n",
      " 18  floor                       3001 non-null   float64\n",
      " 19  rooms                       15283 non-null  float64\n",
      " 20  expenses                    6390 non-null   float64\n",
      " 21  properati_url               30952 non-null  object \n",
      " 22  description                 30952 non-null  object \n",
      " 23  title                       30952 non-null  object \n",
      " 24  image_thumbnail             30477 non-null  object \n",
      "dtypes: float64(13), object(12)\n",
      "memory usage: 6.1+ MB\n"
     ]
    },
    {
     "data": {
      "text/plain": [
       "None"
      ]
     },
     "metadata": {},
     "output_type": "display_data"
    }
   ],
   "source": [
    "# Filtro sólo CABA y elmino los stores del tipo de propiedad\n",
    "df2 = df[(df['property_type'].isin(['apartment','house','PH'])) & (df['state_name'] == 'Capital Federal')]\n",
    "\n",
    "# Chequeo NaN\n",
    "display(df2.info())\n",
    "\n",
    "# Saco las columnas operatcion y estado, ya que son columnas con un solo valor y sin NA\n",
    "df2 = df2.drop(['lat-lon','rooms','floor','expenses','operation', 'state_name', 'lat','lon','place_with_parent_names', 'country_name', 'geonames_id','price','currency'], axis=1)"
   ]
  },
  {
   "cell_type": "code",
   "execution_count": 27,
   "id": "c29dc4fe",
   "metadata": {
    "execution": {
     "iopub.execute_input": "2022-06-07T00:08:24.049351Z",
     "iopub.status.busy": "2022-06-07T00:08:24.049351Z",
     "iopub.status.idle": "2022-06-07T00:08:24.065346Z",
     "shell.execute_reply": "2022-06-07T00:08:24.064349Z",
     "shell.execute_reply.started": "2022-06-07T00:08:24.049351Z"
    }
   },
   "outputs": [
    {
     "data": {
      "text/plain": [
       "Belgrano           2925\n",
       "Palermo            2773\n",
       "Caballito          2235\n",
       "Villa Urquiza      1605\n",
       "Recoleta           1453\n",
       "                   ... \n",
       "Villa Real           36\n",
       "Palermo Viejo        36\n",
       "Villa Soldati        13\n",
       "Villa Riachuelo       6\n",
       "Catalinas             3\n",
       "Name: place_name, Length: 62, dtype: int64"
      ]
     },
     "execution_count": 27,
     "metadata": {},
     "output_type": "execute_result"
    }
   ],
   "source": [
    "df2['place_name'].value_counts()"
   ]
  },
  {
   "cell_type": "code",
   "execution_count": 28,
   "id": "ab7dc55c",
   "metadata": {
    "execution": {
     "iopub.execute_input": "2022-06-07T00:08:24.067349Z",
     "iopub.status.busy": "2022-06-07T00:08:24.067349Z",
     "iopub.status.idle": "2022-06-07T00:08:24.075345Z",
     "shell.execute_reply": "2022-06-07T00:08:24.074349Z",
     "shell.execute_reply.started": "2022-06-07T00:08:24.067349Z"
    }
   },
   "outputs": [
    {
     "data": {
      "text/plain": [
       "Index(['property_type', 'place_name', 'price_aprox_local_currency',\n",
       "       'price_aprox_usd', 'surface_total_in_m2', 'surface_covered_in_m2',\n",
       "       'price_usd_per_m2', 'price_per_m2', 'properati_url', 'description',\n",
       "       'title', 'image_thumbnail'],\n",
       "      dtype='object')"
      ]
     },
     "execution_count": 28,
     "metadata": {},
     "output_type": "execute_result"
    }
   ],
   "source": [
    "df2.columns"
   ]
  },
  {
   "cell_type": "markdown",
   "id": "ac1501d1",
   "metadata": {},
   "source": [
    "## Features de \"amenities\""
   ]
  },
  {
   "cell_type": "code",
   "execution_count": 29,
   "id": "3ffce302",
   "metadata": {
    "execution": {
     "iopub.execute_input": "2022-06-07T00:08:24.077345Z",
     "iopub.status.busy": "2022-06-07T00:08:24.076347Z",
     "iopub.status.idle": "2022-06-07T00:08:24.103348Z",
     "shell.execute_reply": "2022-06-07T00:08:24.102343Z",
     "shell.execute_reply.started": "2022-06-07T00:08:24.077345Z"
    }
   },
   "outputs": [],
   "source": [
    "def clasificarAmenities(dataset):\n",
    "    ##esta funcion modifica el dataset de manera que agrega las columnas de amenities\n",
    "    #inicializo columnas\n",
    "    dataset['tiene_jardin'] = np.NaN\n",
    "    dataset['tiene_cochera'] = np.NaN\n",
    "    dataset['tiene_pileta'] = np.NaN\n",
    "    dataset['tiene_parrilla'] = np.NaN\n",
    "    \n",
    "    ##regex\n",
    "    #Expresiones regulares a utilizar\n",
    "    re_jardin = re.compile(\"(jardin|garden|green|parque|parquizado|pasto)+|\\s(sum)+\", flags=re.IGNORECASE)\n",
    "    re_cochera = re.compile(\"(garage|cochera)+|\\s(sum)+\", flags=re.IGNORECASE)\n",
    "    re_pileta = re.compile(\"(pileta|piscina|pile)+|\\s(sum)+\", flags=re.IGNORECASE)\n",
    "    re_parrilla = re.compile(\"(parrilla|bbq|barbaque|asado|asador)+|\\s(sum)+\", flags=re.IGNORECASE)\n",
    "    \n",
    "    #\n",
    "    for i in dataset.description.index:\n",
    "        \n",
    "        dataset.tiene_jardin[i] = 0\n",
    "        dataset.tiene_cochera[i] = 0\n",
    "        dataset.tiene_pileta[i] = 0\n",
    "        dataset.tiene_parrilla[i] = 0\n",
    "        \n",
    "        if dataset['description'][i] is not None:\n",
    "            \n",
    "            reg_search = re_jardin.search(str(dataset['description'][i]))\n",
    "            if reg_search:\n",
    "                dataset.tiene_jardin[i] = 1\n",
    "                \n",
    "            reg_search = re_cochera.search(str(dataset['description'][i]))\n",
    "            if reg_search:\n",
    "                dataset.tiene_cochera[i] = 1\n",
    "                \n",
    "            reg_search = re_pileta.search(str(dataset['description'][i]))\n",
    "            if reg_search:\n",
    "                dataset.tiene_pileta[i] = 1\n",
    "                \n",
    "            reg_search = re_parrilla.search(str(dataset['description'][i]))\n",
    "            if reg_search:\n",
    "                dataset.tiene_parrilla[i] = 1\n",
    "                \n",
    "                \n",
    "        if dataset['title'][i] is not None:\n",
    "            \n",
    "            reg_search = re_jardin.search(str(dataset['title'][i]))\n",
    "            if reg_search:\n",
    "                dataset.tiene_jardin[i] = 1\n",
    "                \n",
    "            reg_search = re_cochera.search(str(dataset['title'][i]))\n",
    "            if reg_search:\n",
    "                dataset.tiene_cochera[i] = 1\n",
    "                \n",
    "            reg_search = re_pileta.search(str(dataset['title'][i]))\n",
    "            if reg_search:\n",
    "                dataset.tiene_pileta[i] = 1\n",
    "                \n",
    "            reg_search = re_parrilla.search(str(dataset['title'][i]))\n",
    "            if reg_search:\n",
    "                dataset.tiene_parrilla[i] = 1                \n",
    "                \n",
    "                              \n",
    "        if dataset['properati_url'][i] is not None:\n",
    "            \n",
    "            reg_search = re_jardin.search(str(dataset['properati_url'][i]))\n",
    "            if reg_search:\n",
    "                dataset.tiene_jardin[i] = 1\n",
    "                \n",
    "            reg_search = re_cochera.search(str(dataset['properati_url'][i]))\n",
    "            if reg_search:\n",
    "                dataset.tiene_cochera[i] = 1\n",
    "                \n",
    "            reg_search = re_pileta.search(str(dataset['properati_url'][i]))\n",
    "            if reg_search:\n",
    "                dataset.tiene_pileta[i] = 1\n",
    "                \n",
    "            reg_search = re_parrilla.search(str(dataset['properati_url'][i]))\n",
    "            if reg_search:\n",
    "                dataset.tiene_parrilla[i] = 1                \n",
    "                  \n",
    "    return dataset            "
   ]
  },
  {
   "cell_type": "code",
   "execution_count": 30,
   "id": "897e1e6b",
   "metadata": {
    "execution": {
     "iopub.execute_input": "2022-06-07T00:08:24.106353Z",
     "iopub.status.busy": "2022-06-07T00:08:24.105349Z",
     "iopub.status.idle": "2022-06-07T00:09:16.519368Z",
     "shell.execute_reply": "2022-06-07T00:09:16.518372Z",
     "shell.execute_reply.started": "2022-06-07T00:08:24.106353Z"
    }
   },
   "outputs": [
    {
     "name": "stderr",
     "output_type": "stream",
     "text": [
      "C:\\Users\\alanp\\AppData\\Local\\Temp/ipykernel_20792/3445030929.py:19: SettingWithCopyWarning: \n",
      "A value is trying to be set on a copy of a slice from a DataFrame\n",
      "\n",
      "See the caveats in the documentation: https://pandas.pydata.org/pandas-docs/stable/user_guide/indexing.html#returning-a-view-versus-a-copy\n",
      "  dataset.tiene_jardin[i] = 0\n",
      "C:\\Users\\alanp\\AppData\\Local\\Temp/ipykernel_20792/3445030929.py:20: SettingWithCopyWarning: \n",
      "A value is trying to be set on a copy of a slice from a DataFrame\n",
      "\n",
      "See the caveats in the documentation: https://pandas.pydata.org/pandas-docs/stable/user_guide/indexing.html#returning-a-view-versus-a-copy\n",
      "  dataset.tiene_cochera[i] = 0\n",
      "C:\\Users\\alanp\\AppData\\Local\\Temp/ipykernel_20792/3445030929.py:21: SettingWithCopyWarning: \n",
      "A value is trying to be set on a copy of a slice from a DataFrame\n",
      "\n",
      "See the caveats in the documentation: https://pandas.pydata.org/pandas-docs/stable/user_guide/indexing.html#returning-a-view-versus-a-copy\n",
      "  dataset.tiene_pileta[i] = 0\n",
      "C:\\Users\\alanp\\AppData\\Local\\Temp/ipykernel_20792/3445030929.py:22: SettingWithCopyWarning: \n",
      "A value is trying to be set on a copy of a slice from a DataFrame\n",
      "\n",
      "See the caveats in the documentation: https://pandas.pydata.org/pandas-docs/stable/user_guide/indexing.html#returning-a-view-versus-a-copy\n",
      "  dataset.tiene_parrilla[i] = 0\n",
      "C:\\Users\\alanp\\AppData\\Local\\Temp/ipykernel_20792/3445030929.py:36: SettingWithCopyWarning: \n",
      "A value is trying to be set on a copy of a slice from a DataFrame\n",
      "\n",
      "See the caveats in the documentation: https://pandas.pydata.org/pandas-docs/stable/user_guide/indexing.html#returning-a-view-versus-a-copy\n",
      "  dataset.tiene_pileta[i] = 1\n",
      "C:\\Users\\alanp\\AppData\\Local\\Temp/ipykernel_20792/3445030929.py:74: SettingWithCopyWarning: \n",
      "A value is trying to be set on a copy of a slice from a DataFrame\n",
      "\n",
      "See the caveats in the documentation: https://pandas.pydata.org/pandas-docs/stable/user_guide/indexing.html#returning-a-view-versus-a-copy\n",
      "  dataset.tiene_pileta[i] = 1\n",
      "C:\\Users\\alanp\\AppData\\Local\\Temp/ipykernel_20792/3445030929.py:28: SettingWithCopyWarning: \n",
      "A value is trying to be set on a copy of a slice from a DataFrame\n",
      "\n",
      "See the caveats in the documentation: https://pandas.pydata.org/pandas-docs/stable/user_guide/indexing.html#returning-a-view-versus-a-copy\n",
      "  dataset.tiene_jardin[i] = 1\n",
      "C:\\Users\\alanp\\AppData\\Local\\Temp/ipykernel_20792/3445030929.py:40: SettingWithCopyWarning: \n",
      "A value is trying to be set on a copy of a slice from a DataFrame\n",
      "\n",
      "See the caveats in the documentation: https://pandas.pydata.org/pandas-docs/stable/user_guide/indexing.html#returning-a-view-versus-a-copy\n",
      "  dataset.tiene_parrilla[i] = 1\n",
      "C:\\Users\\alanp\\AppData\\Local\\Temp/ipykernel_20792/3445030929.py:78: SettingWithCopyWarning: \n",
      "A value is trying to be set on a copy of a slice from a DataFrame\n",
      "\n",
      "See the caveats in the documentation: https://pandas.pydata.org/pandas-docs/stable/user_guide/indexing.html#returning-a-view-versus-a-copy\n",
      "  dataset.tiene_parrilla[i] = 1\n",
      "C:\\Users\\alanp\\AppData\\Local\\Temp/ipykernel_20792/3445030929.py:32: SettingWithCopyWarning: \n",
      "A value is trying to be set on a copy of a slice from a DataFrame\n",
      "\n",
      "See the caveats in the documentation: https://pandas.pydata.org/pandas-docs/stable/user_guide/indexing.html#returning-a-view-versus-a-copy\n",
      "  dataset.tiene_cochera[i] = 1\n",
      "C:\\Users\\alanp\\AppData\\Local\\Temp/ipykernel_20792/3445030929.py:51: SettingWithCopyWarning: \n",
      "A value is trying to be set on a copy of a slice from a DataFrame\n",
      "\n",
      "See the caveats in the documentation: https://pandas.pydata.org/pandas-docs/stable/user_guide/indexing.html#returning-a-view-versus-a-copy\n",
      "  dataset.tiene_cochera[i] = 1\n",
      "C:\\Users\\alanp\\AppData\\Local\\Temp/ipykernel_20792/3445030929.py:55: SettingWithCopyWarning: \n",
      "A value is trying to be set on a copy of a slice from a DataFrame\n",
      "\n",
      "See the caveats in the documentation: https://pandas.pydata.org/pandas-docs/stable/user_guide/indexing.html#returning-a-view-versus-a-copy\n",
      "  dataset.tiene_pileta[i] = 1\n",
      "C:\\Users\\alanp\\AppData\\Local\\Temp/ipykernel_20792/3445030929.py:70: SettingWithCopyWarning: \n",
      "A value is trying to be set on a copy of a slice from a DataFrame\n",
      "\n",
      "See the caveats in the documentation: https://pandas.pydata.org/pandas-docs/stable/user_guide/indexing.html#returning-a-view-versus-a-copy\n",
      "  dataset.tiene_cochera[i] = 1\n",
      "C:\\Users\\alanp\\AppData\\Local\\Temp/ipykernel_20792/3445030929.py:66: SettingWithCopyWarning: \n",
      "A value is trying to be set on a copy of a slice from a DataFrame\n",
      "\n",
      "See the caveats in the documentation: https://pandas.pydata.org/pandas-docs/stable/user_guide/indexing.html#returning-a-view-versus-a-copy\n",
      "  dataset.tiene_jardin[i] = 1\n",
      "C:\\Users\\alanp\\AppData\\Local\\Temp/ipykernel_20792/3445030929.py:47: SettingWithCopyWarning: \n",
      "A value is trying to be set on a copy of a slice from a DataFrame\n",
      "\n",
      "See the caveats in the documentation: https://pandas.pydata.org/pandas-docs/stable/user_guide/indexing.html#returning-a-view-versus-a-copy\n",
      "  dataset.tiene_jardin[i] = 1\n",
      "C:\\Users\\alanp\\AppData\\Local\\Temp/ipykernel_20792/3445030929.py:59: SettingWithCopyWarning: \n",
      "A value is trying to be set on a copy of a slice from a DataFrame\n",
      "\n",
      "See the caveats in the documentation: https://pandas.pydata.org/pandas-docs/stable/user_guide/indexing.html#returning-a-view-versus-a-copy\n",
      "  dataset.tiene_parrilla[i] = 1\n"
     ]
    },
    {
     "data": {
      "text/html": [
       "<div>\n",
       "<style scoped>\n",
       "    .dataframe tbody tr th:only-of-type {\n",
       "        vertical-align: middle;\n",
       "    }\n",
       "\n",
       "    .dataframe tbody tr th {\n",
       "        vertical-align: top;\n",
       "    }\n",
       "\n",
       "    .dataframe thead th {\n",
       "        text-align: right;\n",
       "    }\n",
       "</style>\n",
       "<table border=\"1\" class=\"dataframe\">\n",
       "  <thead>\n",
       "    <tr style=\"text-align: right;\">\n",
       "      <th></th>\n",
       "      <th>property_type</th>\n",
       "      <th>place_name</th>\n",
       "      <th>price_aprox_local_currency</th>\n",
       "      <th>price_aprox_usd</th>\n",
       "      <th>surface_total_in_m2</th>\n",
       "      <th>surface_covered_in_m2</th>\n",
       "      <th>price_usd_per_m2</th>\n",
       "      <th>price_per_m2</th>\n",
       "      <th>properati_url</th>\n",
       "      <th>description</th>\n",
       "      <th>title</th>\n",
       "      <th>image_thumbnail</th>\n",
       "      <th>tiene_jardin</th>\n",
       "      <th>tiene_cochera</th>\n",
       "      <th>tiene_pileta</th>\n",
       "      <th>tiene_parrilla</th>\n",
       "    </tr>\n",
       "  </thead>\n",
       "  <tbody>\n",
       "    <tr>\n",
       "      <th>0</th>\n",
       "      <td>PH</td>\n",
       "      <td>Mataderos</td>\n",
       "      <td>1093959.00</td>\n",
       "      <td>62000.0</td>\n",
       "      <td>55.0</td>\n",
       "      <td>40.0</td>\n",
       "      <td>1127.272727</td>\n",
       "      <td>1550.000000</td>\n",
       "      <td>http://www.properati.com.ar/15bo8_venta_ph_mat...</td>\n",
       "      <td>2 AMBIENTES TIPO CASA PLANTA BAJA POR PASILLO,...</td>\n",
       "      <td>2 AMB TIPO CASA SIN EXPENSAS EN PB</td>\n",
       "      <td>https://thumbs4.properati.com/8/BluUYiHJLhgIIK...</td>\n",
       "      <td>0.0</td>\n",
       "      <td>0.0</td>\n",
       "      <td>0.0</td>\n",
       "      <td>0.0</td>\n",
       "    </tr>\n",
       "    <tr>\n",
       "      <th>2</th>\n",
       "      <td>apartment</td>\n",
       "      <td>Mataderos</td>\n",
       "      <td>1270404.00</td>\n",
       "      <td>72000.0</td>\n",
       "      <td>55.0</td>\n",
       "      <td>55.0</td>\n",
       "      <td>1309.090909</td>\n",
       "      <td>1309.090909</td>\n",
       "      <td>http://www.properati.com.ar/15bod_venta_depart...</td>\n",
       "      <td>2 AMBIENTES 3ER PISO LATERAL LIVING COMEDOR AM...</td>\n",
       "      <td>2 AMB 3ER PISO CON ASCENSOR APTO CREDITO</td>\n",
       "      <td>https://thumbs4.properati.com/5/SXKr34F_IwG3W_...</td>\n",
       "      <td>0.0</td>\n",
       "      <td>0.0</td>\n",
       "      <td>0.0</td>\n",
       "      <td>0.0</td>\n",
       "    </tr>\n",
       "    <tr>\n",
       "      <th>3</th>\n",
       "      <td>PH</td>\n",
       "      <td>Liniers</td>\n",
       "      <td>1676227.50</td>\n",
       "      <td>95000.0</td>\n",
       "      <td>NaN</td>\n",
       "      <td>NaN</td>\n",
       "      <td>NaN</td>\n",
       "      <td>NaN</td>\n",
       "      <td>http://www.properati.com.ar/15boh_venta_ph_lin...</td>\n",
       "      <td>PH 3 ambientes con patio. Hay 3 deptos en lote...</td>\n",
       "      <td>PH 3 amb. cfte. reciclado</td>\n",
       "      <td>https://thumbs4.properati.com/3/DgIfX-85Mog5SP...</td>\n",
       "      <td>0.0</td>\n",
       "      <td>0.0</td>\n",
       "      <td>0.0</td>\n",
       "      <td>0.0</td>\n",
       "    </tr>\n",
       "    <tr>\n",
       "      <th>7</th>\n",
       "      <td>apartment</td>\n",
       "      <td>Belgrano</td>\n",
       "      <td>2434941.00</td>\n",
       "      <td>138000.0</td>\n",
       "      <td>45.0</td>\n",
       "      <td>40.0</td>\n",
       "      <td>3066.666667</td>\n",
       "      <td>3450.000000</td>\n",
       "      <td>http://www.properati.com.ar/15bot_venta_depart...</td>\n",
       "      <td>EXCELENTE MONOAMBIENTE A ESTRENAR AMPLIO SUPER...</td>\n",
       "      <td>JOSE HERNANDEZ 1400 MONOAMBIENTE  ESTRENAR CAT...</td>\n",
       "      <td>https://thumbs4.properati.com/1/IHxARynlr8sPEW...</td>\n",
       "      <td>0.0</td>\n",
       "      <td>0.0</td>\n",
       "      <td>1.0</td>\n",
       "      <td>0.0</td>\n",
       "    </tr>\n",
       "    <tr>\n",
       "      <th>8</th>\n",
       "      <td>apartment</td>\n",
       "      <td>Belgrano</td>\n",
       "      <td>3440677.50</td>\n",
       "      <td>195000.0</td>\n",
       "      <td>65.0</td>\n",
       "      <td>60.0</td>\n",
       "      <td>3000.000000</td>\n",
       "      <td>3250.000000</td>\n",
       "      <td>http://www.properati.com.ar/15bou_venta_depart...</td>\n",
       "      <td>EXCELENTE DOS AMBIENTES  ESTRENAR AMPLIO SUPER...</td>\n",
       "      <td>JOSE HERNANDEZ   1400 DOS AMBIENTES ESTRENAR ,...</td>\n",
       "      <td>https://thumbs4.properati.com/2/J3zOjgaFHrkvnv...</td>\n",
       "      <td>0.0</td>\n",
       "      <td>0.0</td>\n",
       "      <td>1.0</td>\n",
       "      <td>0.0</td>\n",
       "    </tr>\n",
       "    <tr>\n",
       "      <th>...</th>\n",
       "      <td>...</td>\n",
       "      <td>...</td>\n",
       "      <td>...</td>\n",
       "      <td>...</td>\n",
       "      <td>...</td>\n",
       "      <td>...</td>\n",
       "      <td>...</td>\n",
       "      <td>...</td>\n",
       "      <td>...</td>\n",
       "      <td>...</td>\n",
       "      <td>...</td>\n",
       "      <td>...</td>\n",
       "      <td>...</td>\n",
       "      <td>...</td>\n",
       "      <td>...</td>\n",
       "      <td>...</td>\n",
       "    </tr>\n",
       "    <tr>\n",
       "      <th>121160</th>\n",
       "      <td>apartment</td>\n",
       "      <td>Belgrano</td>\n",
       "      <td>7234245.00</td>\n",
       "      <td>410000.0</td>\n",
       "      <td>157.0</td>\n",
       "      <td>NaN</td>\n",
       "      <td>2611.464968</td>\n",
       "      <td>NaN</td>\n",
       "      <td>http://www.properati.com.ar/1cj5v_venta_depart...</td>\n",
       "      <td>Edificio en esquina de muy buena categoría de ...</td>\n",
       "      <td>Av .Luis Maria Campos 1400- Belgrano-Capital F...</td>\n",
       "      <td>https://thumbs4.properati.com/0/zeLNBuyylOJL7z...</td>\n",
       "      <td>1.0</td>\n",
       "      <td>0.0</td>\n",
       "      <td>0.0</td>\n",
       "      <td>0.0</td>\n",
       "    </tr>\n",
       "    <tr>\n",
       "      <th>121209</th>\n",
       "      <td>apartment</td>\n",
       "      <td>Belgrano</td>\n",
       "      <td>7234245.00</td>\n",
       "      <td>410000.0</td>\n",
       "      <td>157.0</td>\n",
       "      <td>NaN</td>\n",
       "      <td>2611.464968</td>\n",
       "      <td>NaN</td>\n",
       "      <td>http://www.properati.com.ar/1cj7c_venta_depart...</td>\n",
       "      <td>Edificio en esquina de muy buena categoría de ...</td>\n",
       "      <td>Av .Luis Maria Campos 1400- Belgrano-Capital F...</td>\n",
       "      <td>https://thumbs4.properati.com/0/zeLNBuyylOJL7z...</td>\n",
       "      <td>1.0</td>\n",
       "      <td>0.0</td>\n",
       "      <td>0.0</td>\n",
       "      <td>0.0</td>\n",
       "    </tr>\n",
       "    <tr>\n",
       "      <th>121215</th>\n",
       "      <td>apartment</td>\n",
       "      <td>Belgrano</td>\n",
       "      <td>15350715.00</td>\n",
       "      <td>870000.0</td>\n",
       "      <td>113.0</td>\n",
       "      <td>93.0</td>\n",
       "      <td>7699.115044</td>\n",
       "      <td>9354.838710</td>\n",
       "      <td>http://www.properati.com.ar/1cja2_venta_depart...</td>\n",
       "      <td>TORRE FORUM ALCORTA - MÁXIMA CATEGORÍA.Impecab...</td>\n",
       "      <td>Torre Forum Alcorta- Impecable 3 ambientes</td>\n",
       "      <td>https://thumbs4.properati.com/1/bjms0KnaAnlNoQ...</td>\n",
       "      <td>0.0</td>\n",
       "      <td>1.0</td>\n",
       "      <td>1.0</td>\n",
       "      <td>1.0</td>\n",
       "    </tr>\n",
       "    <tr>\n",
       "      <th>121217</th>\n",
       "      <td>apartment</td>\n",
       "      <td>Villa Urquiza</td>\n",
       "      <td>2320251.75</td>\n",
       "      <td>131500.0</td>\n",
       "      <td>46.0</td>\n",
       "      <td>39.0</td>\n",
       "      <td>2858.695652</td>\n",
       "      <td>3371.794872</td>\n",
       "      <td>http://www.properati.com.ar/1cja7_venta_depart...</td>\n",
       "      <td>VENTA DEPARTAMENTO AMBIENTE DIVISIBLE A ESTREN...</td>\n",
       "      <td>VENTA DEPARTAMENTO AMBIENTE DIVISIBLE A ESTREN...</td>\n",
       "      <td>https://thumbs4.properati.com/9/YAe_-2gRVykADP...</td>\n",
       "      <td>0.0</td>\n",
       "      <td>1.0</td>\n",
       "      <td>0.0</td>\n",
       "      <td>1.0</td>\n",
       "    </tr>\n",
       "    <tr>\n",
       "      <th>121219</th>\n",
       "      <td>apartment</td>\n",
       "      <td>Capital Federal</td>\n",
       "      <td>2276140.50</td>\n",
       "      <td>129000.0</td>\n",
       "      <td>77.0</td>\n",
       "      <td>77.0</td>\n",
       "      <td>1675.324675</td>\n",
       "      <td>1675.324675</td>\n",
       "      <td>http://www.properati.com.ar/1cjaa_venta_depart...</td>\n",
       "      <td>Departamento de 77 m2 apto profesional. Edific...</td>\n",
       "      <td>Departamento apto profesional en el Centro</td>\n",
       "      <td>https://thumbs4.properati.com/8/mNEsnQWqB7joBF...</td>\n",
       "      <td>0.0</td>\n",
       "      <td>0.0</td>\n",
       "      <td>0.0</td>\n",
       "      <td>0.0</td>\n",
       "    </tr>\n",
       "  </tbody>\n",
       "</table>\n",
       "<p>30952 rows × 16 columns</p>\n",
       "</div>"
      ],
      "text/plain": [
       "       property_type       place_name  price_aprox_local_currency  \\\n",
       "0                 PH        Mataderos                  1093959.00   \n",
       "2          apartment        Mataderos                  1270404.00   \n",
       "3                 PH          Liniers                  1676227.50   \n",
       "7          apartment         Belgrano                  2434941.00   \n",
       "8          apartment         Belgrano                  3440677.50   \n",
       "...              ...              ...                         ...   \n",
       "121160     apartment         Belgrano                  7234245.00   \n",
       "121209     apartment         Belgrano                  7234245.00   \n",
       "121215     apartment         Belgrano                 15350715.00   \n",
       "121217     apartment    Villa Urquiza                  2320251.75   \n",
       "121219     apartment  Capital Federal                  2276140.50   \n",
       "\n",
       "        price_aprox_usd  surface_total_in_m2  surface_covered_in_m2  \\\n",
       "0               62000.0                 55.0                   40.0   \n",
       "2               72000.0                 55.0                   55.0   \n",
       "3               95000.0                  NaN                    NaN   \n",
       "7              138000.0                 45.0                   40.0   \n",
       "8              195000.0                 65.0                   60.0   \n",
       "...                 ...                  ...                    ...   \n",
       "121160         410000.0                157.0                    NaN   \n",
       "121209         410000.0                157.0                    NaN   \n",
       "121215         870000.0                113.0                   93.0   \n",
       "121217         131500.0                 46.0                   39.0   \n",
       "121219         129000.0                 77.0                   77.0   \n",
       "\n",
       "        price_usd_per_m2  price_per_m2  \\\n",
       "0            1127.272727   1550.000000   \n",
       "2            1309.090909   1309.090909   \n",
       "3                    NaN           NaN   \n",
       "7            3066.666667   3450.000000   \n",
       "8            3000.000000   3250.000000   \n",
       "...                  ...           ...   \n",
       "121160       2611.464968           NaN   \n",
       "121209       2611.464968           NaN   \n",
       "121215       7699.115044   9354.838710   \n",
       "121217       2858.695652   3371.794872   \n",
       "121219       1675.324675   1675.324675   \n",
       "\n",
       "                                            properati_url  \\\n",
       "0       http://www.properati.com.ar/15bo8_venta_ph_mat...   \n",
       "2       http://www.properati.com.ar/15bod_venta_depart...   \n",
       "3       http://www.properati.com.ar/15boh_venta_ph_lin...   \n",
       "7       http://www.properati.com.ar/15bot_venta_depart...   \n",
       "8       http://www.properati.com.ar/15bou_venta_depart...   \n",
       "...                                                   ...   \n",
       "121160  http://www.properati.com.ar/1cj5v_venta_depart...   \n",
       "121209  http://www.properati.com.ar/1cj7c_venta_depart...   \n",
       "121215  http://www.properati.com.ar/1cja2_venta_depart...   \n",
       "121217  http://www.properati.com.ar/1cja7_venta_depart...   \n",
       "121219  http://www.properati.com.ar/1cjaa_venta_depart...   \n",
       "\n",
       "                                              description  \\\n",
       "0       2 AMBIENTES TIPO CASA PLANTA BAJA POR PASILLO,...   \n",
       "2       2 AMBIENTES 3ER PISO LATERAL LIVING COMEDOR AM...   \n",
       "3       PH 3 ambientes con patio. Hay 3 deptos en lote...   \n",
       "7       EXCELENTE MONOAMBIENTE A ESTRENAR AMPLIO SUPER...   \n",
       "8       EXCELENTE DOS AMBIENTES  ESTRENAR AMPLIO SUPER...   \n",
       "...                                                   ...   \n",
       "121160  Edificio en esquina de muy buena categoría de ...   \n",
       "121209  Edificio en esquina de muy buena categoría de ...   \n",
       "121215  TORRE FORUM ALCORTA - MÁXIMA CATEGORÍA.Impecab...   \n",
       "121217  VENTA DEPARTAMENTO AMBIENTE DIVISIBLE A ESTREN...   \n",
       "121219  Departamento de 77 m2 apto profesional. Edific...   \n",
       "\n",
       "                                                    title  \\\n",
       "0                      2 AMB TIPO CASA SIN EXPENSAS EN PB   \n",
       "2                2 AMB 3ER PISO CON ASCENSOR APTO CREDITO   \n",
       "3                            PH 3 amb. cfte. reciclado      \n",
       "7       JOSE HERNANDEZ 1400 MONOAMBIENTE  ESTRENAR CAT...   \n",
       "8       JOSE HERNANDEZ   1400 DOS AMBIENTES ESTRENAR ,...   \n",
       "...                                                   ...   \n",
       "121160  Av .Luis Maria Campos 1400- Belgrano-Capital F...   \n",
       "121209  Av .Luis Maria Campos 1400- Belgrano-Capital F...   \n",
       "121215         Torre Forum Alcorta- Impecable 3 ambientes   \n",
       "121217  VENTA DEPARTAMENTO AMBIENTE DIVISIBLE A ESTREN...   \n",
       "121219         Departamento apto profesional en el Centro   \n",
       "\n",
       "                                          image_thumbnail  tiene_jardin  \\\n",
       "0       https://thumbs4.properati.com/8/BluUYiHJLhgIIK...           0.0   \n",
       "2       https://thumbs4.properati.com/5/SXKr34F_IwG3W_...           0.0   \n",
       "3       https://thumbs4.properati.com/3/DgIfX-85Mog5SP...           0.0   \n",
       "7       https://thumbs4.properati.com/1/IHxARynlr8sPEW...           0.0   \n",
       "8       https://thumbs4.properati.com/2/J3zOjgaFHrkvnv...           0.0   \n",
       "...                                                   ...           ...   \n",
       "121160  https://thumbs4.properati.com/0/zeLNBuyylOJL7z...           1.0   \n",
       "121209  https://thumbs4.properati.com/0/zeLNBuyylOJL7z...           1.0   \n",
       "121215  https://thumbs4.properati.com/1/bjms0KnaAnlNoQ...           0.0   \n",
       "121217  https://thumbs4.properati.com/9/YAe_-2gRVykADP...           0.0   \n",
       "121219  https://thumbs4.properati.com/8/mNEsnQWqB7joBF...           0.0   \n",
       "\n",
       "        tiene_cochera  tiene_pileta  tiene_parrilla  \n",
       "0                 0.0           0.0             0.0  \n",
       "2                 0.0           0.0             0.0  \n",
       "3                 0.0           0.0             0.0  \n",
       "7                 0.0           1.0             0.0  \n",
       "8                 0.0           1.0             0.0  \n",
       "...               ...           ...             ...  \n",
       "121160            0.0           0.0             0.0  \n",
       "121209            0.0           0.0             0.0  \n",
       "121215            1.0           1.0             1.0  \n",
       "121217            1.0           0.0             1.0  \n",
       "121219            0.0           0.0             0.0  \n",
       "\n",
       "[30952 rows x 16 columns]"
      ]
     },
     "execution_count": 30,
     "metadata": {},
     "output_type": "execute_result"
    }
   ],
   "source": [
    "clasificarAmenities(df2)"
   ]
  },
  {
   "cell_type": "markdown",
   "id": "729f23d6",
   "metadata": {},
   "source": [
    "## Columnas a agregar/eliminar\n",
    "\n",
    "- Amenities: Booleano. Pileta, garage/cochera, parrilla, sum, garden/jardin\n",
    "- Cuota: Booleano. Ver si sigue aplicando para planes, y si eliminamos o no.\n",
    "- superficie: unificar los regex de los dos grupos\n",
    "- Sup total y cubierta: Tomas buscará en los trabajos del resto. Julio había imputado esto, traer el código al nuevo dataset. Revisar le tema de las que tiene valores diferentes.\n",
    "- image_thumbnail: Ver si los duplicados que se encontraron son relevantes en el nuevo dataset, y ulego eliminarla\n",
    "- Floor: Aplicar el regex y ver con cuantos datos nos quedamos.\n",
    "- rooms y ambientes: Ver los regex que se armaron, como aplican al nuevo dataset\n",
    "- expensas por ahora se elimina\n",
    "- Description y title: Se saca todos los datos y se elimina"
   ]
  },
  {
   "cell_type": "markdown",
   "id": "33bc8504",
   "metadata": {},
   "source": [
    "## Agregado de columnas \"ambiuentes\", \"cuota\"e imputación de superficie"
   ]
  },
  {
   "cell_type": "code",
   "execution_count": 31,
   "id": "1af9c953",
   "metadata": {
    "execution": {
     "iopub.execute_input": "2022-06-07T00:09:16.521368Z",
     "iopub.status.busy": "2022-06-07T00:09:16.521368Z",
     "iopub.status.idle": "2022-06-07T00:09:16.539371Z",
     "shell.execute_reply": "2022-06-07T00:09:16.538390Z",
     "shell.execute_reply.started": "2022-06-07T00:09:16.521368Z"
    }
   },
   "outputs": [],
   "source": [
    "def superficie(df2):\n",
    "\n",
    "    #regex para encontrar las diferentes características\n",
    "\n",
    "    patron = '(?P<m2>\\d\\d\\d+\\s\\s*m2|\\d\\d\\d+\\s\\s*M2|\\d\\d\\d+\\s\\s*metro|\\d\\d\\d+\\s\\s*METRO)|(?P<ambiente>\\d+\\sambiente|\\d+\\sAMBIENTE|\\d+\\sAMB|\\d+\\samb|\\d+\\sAMBS|\\d+\\sambs)|(?P<balcon>balcon|BALCON)|(?P<planta_alta>planta\\salta|PLANTA\\sALTA)|(?P<patio>patio|PATIO)|(?P<duplex>duplex|DUPLEX)|(?P<cuota>cuota|CUOTA)|(?P<amenities>parrilla|bbq|barbaque|asado|asador|cochera|pileta|piscina|pile|patio|terraza|solarium|pile|jardin|garden|green|parque|parquizado|pasto)+|\\s(sum)+'\n",
    "    patron_regex = re.compile(patron)\n",
    "    patron_match = df2.description.apply(lambda x : patron_regex.search(str(x)))\n",
    "\n",
    "    # Extrae los metros cuadrados de la descripción, luego extrae el número (sin unidad) y posteriormente elimina aquellos menores que 3 para que no tome por error el número 2 de la unidad de medida\n",
    "    # Genera una serie m2\n",
    "\n",
    "    m2 = patron_match.apply(lambda x: x if x is None else x.group('m2'))\n",
    "    patron_num = '\\d+'\n",
    "    patron_num_regex = re.compile(patron_num)\n",
    "    m2 = m2.apply(lambda x: x if x is None else patron_num_regex.findall(x))\n",
    "    # Extrae solo el valor de la superficie, evitando considerar el 2 de \"m2\"\n",
    "    m2 = m2.apply(lambda x: x if x is None else x[0])\n",
    "    m2 = pd.to_numeric(m2)\n",
    "    m2 = m2.apply(lambda x: x if x is None else (None if x<3 else x))\n",
    "\n",
    "    # Extrae la cantidad de ambientes, de la descripción, luego extrae el número (sin unidad) y posteriormente elimina aquellos menores que 3 para que no tome por error el número 2 de la unidad de medida\n",
    "    # Genera una serie ambientes\n",
    "\n",
    "    ambientes = patron_match.apply(lambda x: x if x is None else x.group('ambiente'))\n",
    "    ambientes = ambientes.apply(lambda x: x if x is None else x[0])\n",
    "    ambientes = pd.to_numeric(ambientes)\n",
    "\n",
    "\n",
    "    # Extrae la cantidad de ambientes, balcón, patio, duplex, y planta alta y amenities de la descripción. Genera una serie booleana\n",
    "\n",
    "    #balcon = patron_match.apply(lambda x: x if x is None else x.group('balcon'))\n",
    "    #balcon = balcon.apply(lambda x: False if x is None else True)\n",
    "\n",
    "    #patio = patron_match.apply(lambda x: x if x is None else x.group('patio'))\n",
    "    #patio = patio.apply(lambda x: False if x is None else True)\n",
    "\n",
    "    #duplex = patron_match.apply(lambda x: x if x is None else x.group('duplex'))\n",
    "    #duplex = duplex.apply(lambda x: False if x is None else True)\n",
    "\n",
    "    #planta_alta = patron_match.apply(lambda x: x if x is None else x.group('planta_alta'))\n",
    "    #planta_alta = planta_alta.apply(lambda x: False if x is None else True)\n",
    "\n",
    "    #amenities = patron_match.apply(lambda x: x if x is None else x.group('amenities'))\n",
    "    #amenities = amenities.apply(lambda x: False if x is None else True)\n",
    "\n",
    "    cuota = patron_match.apply(lambda x: x if x is None else x.group('cuota'))\n",
    "    cuota = cuota.apply(lambda x: 0 if x is None else 1)\n",
    "    \n",
    "    df2['sup_m2_re'] = m2\n",
    "    df2['ambientes'] = ambientes\n",
    "    df2['cuota'] = cuota\n",
    "    \n",
    "    return df2"
   ]
  },
  {
   "cell_type": "code",
   "execution_count": 32,
   "id": "6d6c3b4d",
   "metadata": {
    "execution": {
     "iopub.execute_input": "2022-06-07T00:09:16.541375Z",
     "iopub.status.busy": "2022-06-07T00:09:16.540369Z",
     "iopub.status.idle": "2022-06-07T00:09:22.223100Z",
     "shell.execute_reply": "2022-06-07T00:09:22.222114Z",
     "shell.execute_reply.started": "2022-06-07T00:09:16.541375Z"
    }
   },
   "outputs": [
    {
     "data": {
      "text/html": [
       "<div>\n",
       "<style scoped>\n",
       "    .dataframe tbody tr th:only-of-type {\n",
       "        vertical-align: middle;\n",
       "    }\n",
       "\n",
       "    .dataframe tbody tr th {\n",
       "        vertical-align: top;\n",
       "    }\n",
       "\n",
       "    .dataframe thead th {\n",
       "        text-align: right;\n",
       "    }\n",
       "</style>\n",
       "<table border=\"1\" class=\"dataframe\">\n",
       "  <thead>\n",
       "    <tr style=\"text-align: right;\">\n",
       "      <th></th>\n",
       "      <th>property_type</th>\n",
       "      <th>place_name</th>\n",
       "      <th>price_aprox_local_currency</th>\n",
       "      <th>price_aprox_usd</th>\n",
       "      <th>surface_total_in_m2</th>\n",
       "      <th>surface_covered_in_m2</th>\n",
       "      <th>price_usd_per_m2</th>\n",
       "      <th>price_per_m2</th>\n",
       "      <th>properati_url</th>\n",
       "      <th>description</th>\n",
       "      <th>title</th>\n",
       "      <th>image_thumbnail</th>\n",
       "      <th>tiene_jardin</th>\n",
       "      <th>tiene_cochera</th>\n",
       "      <th>tiene_pileta</th>\n",
       "      <th>tiene_parrilla</th>\n",
       "      <th>sup_m2_re</th>\n",
       "      <th>ambientes</th>\n",
       "      <th>cuota</th>\n",
       "    </tr>\n",
       "  </thead>\n",
       "  <tbody>\n",
       "    <tr>\n",
       "      <th>0</th>\n",
       "      <td>PH</td>\n",
       "      <td>Mataderos</td>\n",
       "      <td>1093959.00</td>\n",
       "      <td>62000.0</td>\n",
       "      <td>55.0</td>\n",
       "      <td>40.0</td>\n",
       "      <td>1127.272727</td>\n",
       "      <td>1550.000000</td>\n",
       "      <td>http://www.properati.com.ar/15bo8_venta_ph_mat...</td>\n",
       "      <td>2 AMBIENTES TIPO CASA PLANTA BAJA POR PASILLO,...</td>\n",
       "      <td>2 AMB TIPO CASA SIN EXPENSAS EN PB</td>\n",
       "      <td>https://thumbs4.properati.com/8/BluUYiHJLhgIIK...</td>\n",
       "      <td>0.0</td>\n",
       "      <td>0.0</td>\n",
       "      <td>0.0</td>\n",
       "      <td>0.0</td>\n",
       "      <td>NaN</td>\n",
       "      <td>2.0</td>\n",
       "      <td>0</td>\n",
       "    </tr>\n",
       "    <tr>\n",
       "      <th>2</th>\n",
       "      <td>apartment</td>\n",
       "      <td>Mataderos</td>\n",
       "      <td>1270404.00</td>\n",
       "      <td>72000.0</td>\n",
       "      <td>55.0</td>\n",
       "      <td>55.0</td>\n",
       "      <td>1309.090909</td>\n",
       "      <td>1309.090909</td>\n",
       "      <td>http://www.properati.com.ar/15bod_venta_depart...</td>\n",
       "      <td>2 AMBIENTES 3ER PISO LATERAL LIVING COMEDOR AM...</td>\n",
       "      <td>2 AMB 3ER PISO CON ASCENSOR APTO CREDITO</td>\n",
       "      <td>https://thumbs4.properati.com/5/SXKr34F_IwG3W_...</td>\n",
       "      <td>0.0</td>\n",
       "      <td>0.0</td>\n",
       "      <td>0.0</td>\n",
       "      <td>0.0</td>\n",
       "      <td>NaN</td>\n",
       "      <td>2.0</td>\n",
       "      <td>0</td>\n",
       "    </tr>\n",
       "    <tr>\n",
       "      <th>3</th>\n",
       "      <td>PH</td>\n",
       "      <td>Liniers</td>\n",
       "      <td>1676227.50</td>\n",
       "      <td>95000.0</td>\n",
       "      <td>NaN</td>\n",
       "      <td>NaN</td>\n",
       "      <td>NaN</td>\n",
       "      <td>NaN</td>\n",
       "      <td>http://www.properati.com.ar/15boh_venta_ph_lin...</td>\n",
       "      <td>PH 3 ambientes con patio. Hay 3 deptos en lote...</td>\n",
       "      <td>PH 3 amb. cfte. reciclado</td>\n",
       "      <td>https://thumbs4.properati.com/3/DgIfX-85Mog5SP...</td>\n",
       "      <td>0.0</td>\n",
       "      <td>0.0</td>\n",
       "      <td>0.0</td>\n",
       "      <td>0.0</td>\n",
       "      <td>NaN</td>\n",
       "      <td>3.0</td>\n",
       "      <td>0</td>\n",
       "    </tr>\n",
       "    <tr>\n",
       "      <th>7</th>\n",
       "      <td>apartment</td>\n",
       "      <td>Belgrano</td>\n",
       "      <td>2434941.00</td>\n",
       "      <td>138000.0</td>\n",
       "      <td>45.0</td>\n",
       "      <td>40.0</td>\n",
       "      <td>3066.666667</td>\n",
       "      <td>3450.000000</td>\n",
       "      <td>http://www.properati.com.ar/15bot_venta_depart...</td>\n",
       "      <td>EXCELENTE MONOAMBIENTE A ESTRENAR AMPLIO SUPER...</td>\n",
       "      <td>JOSE HERNANDEZ 1400 MONOAMBIENTE  ESTRENAR CAT...</td>\n",
       "      <td>https://thumbs4.properati.com/1/IHxARynlr8sPEW...</td>\n",
       "      <td>0.0</td>\n",
       "      <td>0.0</td>\n",
       "      <td>1.0</td>\n",
       "      <td>0.0</td>\n",
       "      <td>NaN</td>\n",
       "      <td>NaN</td>\n",
       "      <td>0</td>\n",
       "    </tr>\n",
       "    <tr>\n",
       "      <th>8</th>\n",
       "      <td>apartment</td>\n",
       "      <td>Belgrano</td>\n",
       "      <td>3440677.50</td>\n",
       "      <td>195000.0</td>\n",
       "      <td>65.0</td>\n",
       "      <td>60.0</td>\n",
       "      <td>3000.000000</td>\n",
       "      <td>3250.000000</td>\n",
       "      <td>http://www.properati.com.ar/15bou_venta_depart...</td>\n",
       "      <td>EXCELENTE DOS AMBIENTES  ESTRENAR AMPLIO SUPER...</td>\n",
       "      <td>JOSE HERNANDEZ   1400 DOS AMBIENTES ESTRENAR ,...</td>\n",
       "      <td>https://thumbs4.properati.com/2/J3zOjgaFHrkvnv...</td>\n",
       "      <td>0.0</td>\n",
       "      <td>0.0</td>\n",
       "      <td>1.0</td>\n",
       "      <td>0.0</td>\n",
       "      <td>NaN</td>\n",
       "      <td>NaN</td>\n",
       "      <td>0</td>\n",
       "    </tr>\n",
       "    <tr>\n",
       "      <th>...</th>\n",
       "      <td>...</td>\n",
       "      <td>...</td>\n",
       "      <td>...</td>\n",
       "      <td>...</td>\n",
       "      <td>...</td>\n",
       "      <td>...</td>\n",
       "      <td>...</td>\n",
       "      <td>...</td>\n",
       "      <td>...</td>\n",
       "      <td>...</td>\n",
       "      <td>...</td>\n",
       "      <td>...</td>\n",
       "      <td>...</td>\n",
       "      <td>...</td>\n",
       "      <td>...</td>\n",
       "      <td>...</td>\n",
       "      <td>...</td>\n",
       "      <td>...</td>\n",
       "      <td>...</td>\n",
       "    </tr>\n",
       "    <tr>\n",
       "      <th>121160</th>\n",
       "      <td>apartment</td>\n",
       "      <td>Belgrano</td>\n",
       "      <td>7234245.00</td>\n",
       "      <td>410000.0</td>\n",
       "      <td>157.0</td>\n",
       "      <td>NaN</td>\n",
       "      <td>2611.464968</td>\n",
       "      <td>NaN</td>\n",
       "      <td>http://www.properati.com.ar/1cj5v_venta_depart...</td>\n",
       "      <td>Edificio en esquina de muy buena categoría de ...</td>\n",
       "      <td>Av .Luis Maria Campos 1400- Belgrano-Capital F...</td>\n",
       "      <td>https://thumbs4.properati.com/0/zeLNBuyylOJL7z...</td>\n",
       "      <td>1.0</td>\n",
       "      <td>0.0</td>\n",
       "      <td>0.0</td>\n",
       "      <td>0.0</td>\n",
       "      <td>NaN</td>\n",
       "      <td>NaN</td>\n",
       "      <td>0</td>\n",
       "    </tr>\n",
       "    <tr>\n",
       "      <th>121209</th>\n",
       "      <td>apartment</td>\n",
       "      <td>Belgrano</td>\n",
       "      <td>7234245.00</td>\n",
       "      <td>410000.0</td>\n",
       "      <td>157.0</td>\n",
       "      <td>NaN</td>\n",
       "      <td>2611.464968</td>\n",
       "      <td>NaN</td>\n",
       "      <td>http://www.properati.com.ar/1cj7c_venta_depart...</td>\n",
       "      <td>Edificio en esquina de muy buena categoría de ...</td>\n",
       "      <td>Av .Luis Maria Campos 1400- Belgrano-Capital F...</td>\n",
       "      <td>https://thumbs4.properati.com/0/zeLNBuyylOJL7z...</td>\n",
       "      <td>1.0</td>\n",
       "      <td>0.0</td>\n",
       "      <td>0.0</td>\n",
       "      <td>0.0</td>\n",
       "      <td>NaN</td>\n",
       "      <td>NaN</td>\n",
       "      <td>0</td>\n",
       "    </tr>\n",
       "    <tr>\n",
       "      <th>121215</th>\n",
       "      <td>apartment</td>\n",
       "      <td>Belgrano</td>\n",
       "      <td>15350715.00</td>\n",
       "      <td>870000.0</td>\n",
       "      <td>113.0</td>\n",
       "      <td>93.0</td>\n",
       "      <td>7699.115044</td>\n",
       "      <td>9354.838710</td>\n",
       "      <td>http://www.properati.com.ar/1cja2_venta_depart...</td>\n",
       "      <td>TORRE FORUM ALCORTA - MÁXIMA CATEGORÍA.Impecab...</td>\n",
       "      <td>Torre Forum Alcorta- Impecable 3 ambientes</td>\n",
       "      <td>https://thumbs4.properati.com/1/bjms0KnaAnlNoQ...</td>\n",
       "      <td>0.0</td>\n",
       "      <td>1.0</td>\n",
       "      <td>1.0</td>\n",
       "      <td>1.0</td>\n",
       "      <td>NaN</td>\n",
       "      <td>NaN</td>\n",
       "      <td>0</td>\n",
       "    </tr>\n",
       "    <tr>\n",
       "      <th>121217</th>\n",
       "      <td>apartment</td>\n",
       "      <td>Villa Urquiza</td>\n",
       "      <td>2320251.75</td>\n",
       "      <td>131500.0</td>\n",
       "      <td>46.0</td>\n",
       "      <td>39.0</td>\n",
       "      <td>2858.695652</td>\n",
       "      <td>3371.794872</td>\n",
       "      <td>http://www.properati.com.ar/1cja7_venta_depart...</td>\n",
       "      <td>VENTA DEPARTAMENTO AMBIENTE DIVISIBLE A ESTREN...</td>\n",
       "      <td>VENTA DEPARTAMENTO AMBIENTE DIVISIBLE A ESTREN...</td>\n",
       "      <td>https://thumbs4.properati.com/9/YAe_-2gRVykADP...</td>\n",
       "      <td>0.0</td>\n",
       "      <td>1.0</td>\n",
       "      <td>0.0</td>\n",
       "      <td>1.0</td>\n",
       "      <td>NaN</td>\n",
       "      <td>NaN</td>\n",
       "      <td>0</td>\n",
       "    </tr>\n",
       "    <tr>\n",
       "      <th>121219</th>\n",
       "      <td>apartment</td>\n",
       "      <td>Capital Federal</td>\n",
       "      <td>2276140.50</td>\n",
       "      <td>129000.0</td>\n",
       "      <td>77.0</td>\n",
       "      <td>77.0</td>\n",
       "      <td>1675.324675</td>\n",
       "      <td>1675.324675</td>\n",
       "      <td>http://www.properati.com.ar/1cjaa_venta_depart...</td>\n",
       "      <td>Departamento de 77 m2 apto profesional. Edific...</td>\n",
       "      <td>Departamento apto profesional en el Centro</td>\n",
       "      <td>https://thumbs4.properati.com/8/mNEsnQWqB7joBF...</td>\n",
       "      <td>0.0</td>\n",
       "      <td>0.0</td>\n",
       "      <td>0.0</td>\n",
       "      <td>0.0</td>\n",
       "      <td>NaN</td>\n",
       "      <td>NaN</td>\n",
       "      <td>0</td>\n",
       "    </tr>\n",
       "  </tbody>\n",
       "</table>\n",
       "<p>30952 rows × 19 columns</p>\n",
       "</div>"
      ],
      "text/plain": [
       "       property_type       place_name  price_aprox_local_currency  \\\n",
       "0                 PH        Mataderos                  1093959.00   \n",
       "2          apartment        Mataderos                  1270404.00   \n",
       "3                 PH          Liniers                  1676227.50   \n",
       "7          apartment         Belgrano                  2434941.00   \n",
       "8          apartment         Belgrano                  3440677.50   \n",
       "...              ...              ...                         ...   \n",
       "121160     apartment         Belgrano                  7234245.00   \n",
       "121209     apartment         Belgrano                  7234245.00   \n",
       "121215     apartment         Belgrano                 15350715.00   \n",
       "121217     apartment    Villa Urquiza                  2320251.75   \n",
       "121219     apartment  Capital Federal                  2276140.50   \n",
       "\n",
       "        price_aprox_usd  surface_total_in_m2  surface_covered_in_m2  \\\n",
       "0               62000.0                 55.0                   40.0   \n",
       "2               72000.0                 55.0                   55.0   \n",
       "3               95000.0                  NaN                    NaN   \n",
       "7              138000.0                 45.0                   40.0   \n",
       "8              195000.0                 65.0                   60.0   \n",
       "...                 ...                  ...                    ...   \n",
       "121160         410000.0                157.0                    NaN   \n",
       "121209         410000.0                157.0                    NaN   \n",
       "121215         870000.0                113.0                   93.0   \n",
       "121217         131500.0                 46.0                   39.0   \n",
       "121219         129000.0                 77.0                   77.0   \n",
       "\n",
       "        price_usd_per_m2  price_per_m2  \\\n",
       "0            1127.272727   1550.000000   \n",
       "2            1309.090909   1309.090909   \n",
       "3                    NaN           NaN   \n",
       "7            3066.666667   3450.000000   \n",
       "8            3000.000000   3250.000000   \n",
       "...                  ...           ...   \n",
       "121160       2611.464968           NaN   \n",
       "121209       2611.464968           NaN   \n",
       "121215       7699.115044   9354.838710   \n",
       "121217       2858.695652   3371.794872   \n",
       "121219       1675.324675   1675.324675   \n",
       "\n",
       "                                            properati_url  \\\n",
       "0       http://www.properati.com.ar/15bo8_venta_ph_mat...   \n",
       "2       http://www.properati.com.ar/15bod_venta_depart...   \n",
       "3       http://www.properati.com.ar/15boh_venta_ph_lin...   \n",
       "7       http://www.properati.com.ar/15bot_venta_depart...   \n",
       "8       http://www.properati.com.ar/15bou_venta_depart...   \n",
       "...                                                   ...   \n",
       "121160  http://www.properati.com.ar/1cj5v_venta_depart...   \n",
       "121209  http://www.properati.com.ar/1cj7c_venta_depart...   \n",
       "121215  http://www.properati.com.ar/1cja2_venta_depart...   \n",
       "121217  http://www.properati.com.ar/1cja7_venta_depart...   \n",
       "121219  http://www.properati.com.ar/1cjaa_venta_depart...   \n",
       "\n",
       "                                              description  \\\n",
       "0       2 AMBIENTES TIPO CASA PLANTA BAJA POR PASILLO,...   \n",
       "2       2 AMBIENTES 3ER PISO LATERAL LIVING COMEDOR AM...   \n",
       "3       PH 3 ambientes con patio. Hay 3 deptos en lote...   \n",
       "7       EXCELENTE MONOAMBIENTE A ESTRENAR AMPLIO SUPER...   \n",
       "8       EXCELENTE DOS AMBIENTES  ESTRENAR AMPLIO SUPER...   \n",
       "...                                                   ...   \n",
       "121160  Edificio en esquina de muy buena categoría de ...   \n",
       "121209  Edificio en esquina de muy buena categoría de ...   \n",
       "121215  TORRE FORUM ALCORTA - MÁXIMA CATEGORÍA.Impecab...   \n",
       "121217  VENTA DEPARTAMENTO AMBIENTE DIVISIBLE A ESTREN...   \n",
       "121219  Departamento de 77 m2 apto profesional. Edific...   \n",
       "\n",
       "                                                    title  \\\n",
       "0                      2 AMB TIPO CASA SIN EXPENSAS EN PB   \n",
       "2                2 AMB 3ER PISO CON ASCENSOR APTO CREDITO   \n",
       "3                            PH 3 amb. cfte. reciclado      \n",
       "7       JOSE HERNANDEZ 1400 MONOAMBIENTE  ESTRENAR CAT...   \n",
       "8       JOSE HERNANDEZ   1400 DOS AMBIENTES ESTRENAR ,...   \n",
       "...                                                   ...   \n",
       "121160  Av .Luis Maria Campos 1400- Belgrano-Capital F...   \n",
       "121209  Av .Luis Maria Campos 1400- Belgrano-Capital F...   \n",
       "121215         Torre Forum Alcorta- Impecable 3 ambientes   \n",
       "121217  VENTA DEPARTAMENTO AMBIENTE DIVISIBLE A ESTREN...   \n",
       "121219         Departamento apto profesional en el Centro   \n",
       "\n",
       "                                          image_thumbnail  tiene_jardin  \\\n",
       "0       https://thumbs4.properati.com/8/BluUYiHJLhgIIK...           0.0   \n",
       "2       https://thumbs4.properati.com/5/SXKr34F_IwG3W_...           0.0   \n",
       "3       https://thumbs4.properati.com/3/DgIfX-85Mog5SP...           0.0   \n",
       "7       https://thumbs4.properati.com/1/IHxARynlr8sPEW...           0.0   \n",
       "8       https://thumbs4.properati.com/2/J3zOjgaFHrkvnv...           0.0   \n",
       "...                                                   ...           ...   \n",
       "121160  https://thumbs4.properati.com/0/zeLNBuyylOJL7z...           1.0   \n",
       "121209  https://thumbs4.properati.com/0/zeLNBuyylOJL7z...           1.0   \n",
       "121215  https://thumbs4.properati.com/1/bjms0KnaAnlNoQ...           0.0   \n",
       "121217  https://thumbs4.properati.com/9/YAe_-2gRVykADP...           0.0   \n",
       "121219  https://thumbs4.properati.com/8/mNEsnQWqB7joBF...           0.0   \n",
       "\n",
       "        tiene_cochera  tiene_pileta  tiene_parrilla  sup_m2_re  ambientes  \\\n",
       "0                 0.0           0.0             0.0        NaN        2.0   \n",
       "2                 0.0           0.0             0.0        NaN        2.0   \n",
       "3                 0.0           0.0             0.0        NaN        3.0   \n",
       "7                 0.0           1.0             0.0        NaN        NaN   \n",
       "8                 0.0           1.0             0.0        NaN        NaN   \n",
       "...               ...           ...             ...        ...        ...   \n",
       "121160            0.0           0.0             0.0        NaN        NaN   \n",
       "121209            0.0           0.0             0.0        NaN        NaN   \n",
       "121215            1.0           1.0             1.0        NaN        NaN   \n",
       "121217            1.0           0.0             1.0        NaN        NaN   \n",
       "121219            0.0           0.0             0.0        NaN        NaN   \n",
       "\n",
       "        cuota  \n",
       "0           0  \n",
       "2           0  \n",
       "3           0  \n",
       "7           0  \n",
       "8           0  \n",
       "...       ...  \n",
       "121160      0  \n",
       "121209      0  \n",
       "121215      0  \n",
       "121217      0  \n",
       "121219      0  \n",
       "\n",
       "[30952 rows x 19 columns]"
      ]
     },
     "execution_count": 32,
     "metadata": {},
     "output_type": "execute_result"
    }
   ],
   "source": [
    "superficie(df2)"
   ]
  },
  {
   "cell_type": "code",
   "execution_count": 33,
   "id": "a4e7cf78",
   "metadata": {
    "execution": {
     "iopub.execute_input": "2022-06-07T00:09:22.225096Z",
     "iopub.status.busy": "2022-06-07T00:09:22.224112Z",
     "iopub.status.idle": "2022-06-07T00:09:22.234096Z",
     "shell.execute_reply": "2022-06-07T00:09:22.233112Z",
     "shell.execute_reply.started": "2022-06-07T00:09:22.225096Z"
    }
   },
   "outputs": [
    {
     "data": {
      "text/plain": [
       "82"
      ]
     },
     "execution_count": 33,
     "metadata": {},
     "output_type": "execute_result"
    }
   ],
   "source": [
    "mask_sup_cov = (df2['sup_m2_re'].notna()) & (df2['surface_covered_in_m2'].isna())\n",
    "mask_sup_cov.sum()"
   ]
  },
  {
   "cell_type": "code",
   "execution_count": 34,
   "id": "dcf29e1f",
   "metadata": {
    "execution": {
     "iopub.execute_input": "2022-06-07T00:09:22.238100Z",
     "iopub.status.busy": "2022-06-07T00:09:22.237097Z",
     "iopub.status.idle": "2022-06-07T00:09:23.029103Z",
     "shell.execute_reply": "2022-06-07T00:09:23.028099Z",
     "shell.execute_reply.started": "2022-06-07T00:09:22.238100Z"
    }
   },
   "outputs": [],
   "source": [
    "# Función que completa datos faltantes de superficie con datos extraídos de la descripción.\n",
    "def compl_m2_re (row):\n",
    "    if row['surface_covered_in_m2']>=0:\n",
    "        result = row['surface_covered_in_m2']\n",
    "    else:\n",
    "        result = row['sup_m2_re']\n",
    "    return result\n",
    "\n",
    "df2['surface_covered_in_m2'] = df2.apply(compl_m2_re, axis = 1)"
   ]
  },
  {
   "cell_type": "code",
   "execution_count": 35,
   "id": "a3a0879d",
   "metadata": {
    "execution": {
     "iopub.execute_input": "2022-06-07T00:09:23.031101Z",
     "iopub.status.busy": "2022-06-07T00:09:23.030101Z",
     "iopub.status.idle": "2022-06-07T00:09:23.041100Z",
     "shell.execute_reply": "2022-06-07T00:09:23.040098Z",
     "shell.execute_reply.started": "2022-06-07T00:09:23.031101Z"
    }
   },
   "outputs": [
    {
     "data": {
      "text/plain": [
       "28882"
      ]
     },
     "execution_count": 35,
     "metadata": {},
     "output_type": "execute_result"
    }
   ],
   "source": [
    "# Verifico si se imputaron correctamente.\n",
    "\n",
    "df2['surface_covered_in_m2'].notnull().sum()"
   ]
  },
  {
   "cell_type": "code",
   "execution_count": 36,
   "id": "96a8edec",
   "metadata": {
    "execution": {
     "iopub.execute_input": "2022-06-07T00:09:23.043097Z",
     "iopub.status.busy": "2022-06-07T00:09:23.042095Z",
     "iopub.status.idle": "2022-06-07T00:09:23.056098Z",
     "shell.execute_reply": "2022-06-07T00:09:23.055103Z",
     "shell.execute_reply.started": "2022-06-07T00:09:23.043097Z"
    }
   },
   "outputs": [
    {
     "name": "stdout",
     "output_type": "stream",
     "text": [
      "Cantidad de filas con sup_cov > sup_total 131\n"
     ]
    }
   ],
   "source": [
    "# Determinar la cantidad de filas que pueden tener invertidas los datos de superficie cubierta con superficie total\n",
    "\n",
    "sup_mask = df2['surface_covered_in_m2'] > df2['surface_total_in_m2']\n",
    "print(f'Cantidad de filas con sup_cov > sup_total {sup_mask.sum()}')"
   ]
  },
  {
   "cell_type": "code",
   "execution_count": 37,
   "id": "fae9e0e9",
   "metadata": {
    "execution": {
     "iopub.execute_input": "2022-06-07T00:09:23.058101Z",
     "iopub.status.busy": "2022-06-07T00:09:23.058101Z",
     "iopub.status.idle": "2022-06-07T00:09:24.830374Z",
     "shell.execute_reply": "2022-06-07T00:09:24.829390Z",
     "shell.execute_reply.started": "2022-06-07T00:09:23.058101Z"
    }
   },
   "outputs": [],
   "source": [
    "# Función para corregir los valores invertidos de superficie cubierta y superficie total\n",
    "\n",
    "df2['surface_covered_in_m2_aux'] = df2['surface_covered_in_m2']\n",
    "\n",
    "def invertir_sup_cov (row):\n",
    "    if (row['surface_covered_in_m2'] > row['surface_total_in_m2']):\n",
    "        return row['surface_total_in_m2']\n",
    "    else:\n",
    "        return row['surface_covered_in_m2']\n",
    "\n",
    "def invertir_sup_tot (row):\n",
    "    if (row['surface_covered_in_m2'] == row['surface_total_in_m2']):\n",
    "        return row['surface_covered_in_m2_aux']\n",
    "    else:\n",
    "        return row['surface_total_in_m2'] \n",
    "    \n",
    "df2.loc[sup_mask,'surface_covered_in_m2'] = df2.apply(invertir_sup_tot, axis=1)\n",
    "df2.loc[sup_mask,'surface_total_in_m2']  = df2.apply(invertir_sup_tot, axis=1)"
   ]
  },
  {
   "cell_type": "code",
   "execution_count": 38,
   "id": "91beb330",
   "metadata": {
    "execution": {
     "iopub.execute_input": "2022-06-07T00:09:33.563407Z",
     "iopub.status.busy": "2022-06-07T00:09:33.563407Z",
     "iopub.status.idle": "2022-06-07T00:09:33.573400Z",
     "shell.execute_reply": "2022-06-07T00:09:33.573400Z",
     "shell.execute_reply.started": "2022-06-07T00:09:33.563407Z"
    }
   },
   "outputs": [
    {
     "data": {
      "text/plain": [
       "Index(['property_type', 'place_name', 'price_aprox_local_currency',\n",
       "       'price_aprox_usd', 'surface_total_in_m2', 'surface_covered_in_m2',\n",
       "       'price_usd_per_m2', 'price_per_m2', 'properati_url', 'description',\n",
       "       'title', 'image_thumbnail', 'tiene_jardin', 'tiene_cochera',\n",
       "       'tiene_pileta', 'tiene_parrilla', 'sup_m2_re', 'ambientes', 'cuota',\n",
       "       'surface_covered_in_m2_aux'],\n",
       "      dtype='object')"
      ]
     },
     "execution_count": 38,
     "metadata": {},
     "output_type": "execute_result"
    }
   ],
   "source": [
    "df2.columns"
   ]
  },
  {
   "cell_type": "code",
   "execution_count": 39,
   "id": "2d1c5607",
   "metadata": {
    "execution": {
     "iopub.execute_input": "2022-06-07T00:09:34.431205Z",
     "iopub.status.busy": "2022-06-07T00:09:34.430188Z",
     "iopub.status.idle": "2022-06-07T00:09:34.458191Z",
     "shell.execute_reply": "2022-06-07T00:09:34.457189Z",
     "shell.execute_reply.started": "2022-06-07T00:09:34.431205Z"
    }
   },
   "outputs": [],
   "source": [
    "# Elimino la columna auxiliar generada\n",
    "\n",
    "df2.drop('surface_covered_in_m2_aux', axis=1, inplace=True)\n",
    "df2.drop('sup_m2_re', axis=1, inplace=True)\n",
    "#df2.drop('ambientes', axis=1, inplace=True)"
   ]
  },
  {
   "cell_type": "code",
   "execution_count": 40,
   "id": "52dac98d",
   "metadata": {
    "execution": {
     "iopub.execute_input": "2022-06-07T00:09:36.700097Z",
     "iopub.status.busy": "2022-06-07T00:09:36.699096Z",
     "iopub.status.idle": "2022-06-07T00:09:36.709098Z",
     "shell.execute_reply": "2022-06-07T00:09:36.708098Z",
     "shell.execute_reply.started": "2022-06-07T00:09:36.700097Z"
    }
   },
   "outputs": [
    {
     "name": "stdout",
     "output_type": "stream",
     "text": [
      "Cantidad de filas con sup_cov > sup_total 0\n"
     ]
    }
   ],
   "source": [
    "# Verificación de la corrección de cambio de columnas e imputación.\n",
    "\n",
    "sup_mask = df2['surface_covered_in_m2'] > df2['surface_total_in_m2']\n",
    "print(f'Cantidad de filas con sup_cov > sup_total {sup_mask.sum()}')"
   ]
  },
  {
   "cell_type": "code",
   "execution_count": 41,
   "id": "482b570e",
   "metadata": {
    "execution": {
     "iopub.execute_input": "2022-06-07T00:09:47.186094Z",
     "iopub.status.busy": "2022-06-07T00:09:47.185094Z",
     "iopub.status.idle": "2022-06-07T00:09:48.477084Z",
     "shell.execute_reply": "2022-06-07T00:09:48.476083Z",
     "shell.execute_reply.started": "2022-06-07T00:09:47.186094Z"
    }
   },
   "outputs": [
    {
     "name": "stdout",
     "output_type": "stream",
     "text": [
      "Datos a imputar en sup_total:  4887\n",
      "<class 'pandas.core.frame.DataFrame'>\n",
      "Int64Index: 30952 entries, 0 to 121219\n",
      "Data columns (total 18 columns):\n",
      " #   Column                      Non-Null Count  Dtype  \n",
      "---  ------                      --------------  -----  \n",
      " 0   property_type               30952 non-null  object \n",
      " 1   place_name                  30952 non-null  object \n",
      " 2   price_aprox_local_currency  27828 non-null  float64\n",
      " 3   price_aprox_usd             27828 non-null  float64\n",
      " 4   surface_total_in_m2         30259 non-null  float64\n",
      " 5   surface_covered_in_m2       28882 non-null  float64\n",
      " 6   price_usd_per_m2            22519 non-null  float64\n",
      " 7   price_per_m2                26276 non-null  float64\n",
      " 8   properati_url               30952 non-null  object \n",
      " 9   description                 30952 non-null  object \n",
      " 10  title                       30952 non-null  object \n",
      " 11  image_thumbnail             30477 non-null  object \n",
      " 12  tiene_jardin                30952 non-null  float64\n",
      " 13  tiene_cochera               30952 non-null  float64\n",
      " 14  tiene_pileta                30952 non-null  float64\n",
      " 15  tiene_parrilla              30952 non-null  float64\n",
      " 16  ambientes                   13027 non-null  float64\n",
      " 17  cuota                       30952 non-null  int64  \n",
      "dtypes: float64(11), int64(1), object(6)\n",
      "memory usage: 5.7+ MB\n"
     ]
    },
    {
     "data": {
      "text/plain": [
       "None"
      ]
     },
     "metadata": {},
     "output_type": "display_data"
    },
    {
     "name": "stdout",
     "output_type": "stream",
     "text": [
      "Datos a imputar en sup_cubierta:  1377\n",
      "<class 'pandas.core.frame.DataFrame'>\n",
      "Int64Index: 30952 entries, 0 to 121219\n",
      "Data columns (total 18 columns):\n",
      " #   Column                      Non-Null Count  Dtype  \n",
      "---  ------                      --------------  -----  \n",
      " 0   property_type               30952 non-null  object \n",
      " 1   place_name                  30952 non-null  object \n",
      " 2   price_aprox_local_currency  27828 non-null  float64\n",
      " 3   price_aprox_usd             27828 non-null  float64\n",
      " 4   surface_total_in_m2         30259 non-null  float64\n",
      " 5   surface_covered_in_m2       30259 non-null  float64\n",
      " 6   price_usd_per_m2            22519 non-null  float64\n",
      " 7   price_per_m2                26276 non-null  float64\n",
      " 8   properati_url               30952 non-null  object \n",
      " 9   description                 30952 non-null  object \n",
      " 10  title                       30952 non-null  object \n",
      " 11  image_thumbnail             30477 non-null  object \n",
      " 12  tiene_jardin                30952 non-null  float64\n",
      " 13  tiene_cochera               30952 non-null  float64\n",
      " 14  tiene_pileta                30952 non-null  float64\n",
      " 15  tiene_parrilla              30952 non-null  float64\n",
      " 16  ambientes                   13027 non-null  float64\n",
      " 17  cuota                       30952 non-null  int64  \n",
      "dtypes: float64(11), int64(1), object(6)\n",
      "memory usage: 5.7+ MB\n"
     ]
    },
    {
     "data": {
      "text/plain": [
       "None"
      ]
     },
     "metadata": {},
     "output_type": "display_data"
    }
   ],
   "source": [
    "# Imputo los valores de superficie cubierta y total, considerando que si tengo uno solo de los dos, son el mismo valor\n",
    "\n",
    "# Imputo superficie total con los datos de cuubierta\n",
    "mask_sup_cov = (df2['surface_covered_in_m2'].notna()) & (df2['surface_total_in_m2'].isna())\n",
    "print('Datos a imputar en sup_total: ',mask_sup_cov.sum())\n",
    "\n",
    "def compl_m2_cub (row):\n",
    "    if row['surface_total_in_m2']>=0:\n",
    "        result = row['surface_total_in_m2']\n",
    "    else:\n",
    "        result = row['surface_covered_in_m2']\n",
    "    return result\n",
    "\n",
    "df2['surface_total_in_m2'] = df2.apply(compl_m2_cub, axis = 1)\n",
    "display(df2.info())\n",
    "\n",
    "# Imputo superficie cubierta con los datos de total\n",
    "mask_sup_cov = (df2['surface_total_in_m2'].notna()) & (df2['surface_covered_in_m2'].isna())\n",
    "print('Datos a imputar en sup_cubierta: ',mask_sup_cov.sum())\n",
    "\n",
    "def compl_m2_tot (row):\n",
    "    if row['surface_covered_in_m2']>=0:\n",
    "        result = row['surface_covered_in_m2']\n",
    "    else:\n",
    "        result = row['surface_total_in_m2']\n",
    "    return result\n",
    "\n",
    "df2['surface_covered_in_m2'] = df2.apply(compl_m2_tot, axis = 1)\n",
    "display(df2.info())"
   ]
  },
  {
   "cell_type": "code",
   "execution_count": 43,
   "id": "f7f9b971",
   "metadata": {
    "execution": {
     "iopub.execute_input": "2022-06-07T00:10:28.169293Z",
     "iopub.status.busy": "2022-06-07T00:10:28.169293Z",
     "iopub.status.idle": "2022-06-07T00:10:31.346418Z",
     "shell.execute_reply": "2022-06-07T00:10:31.345417Z",
     "shell.execute_reply.started": "2022-06-07T00:10:28.169293Z"
    }
   },
   "outputs": [
    {
     "data": {
      "text/plain": [
       "<seaborn.axisgrid.JointGrid at 0x1f4ecf556d0>"
      ]
     },
     "execution_count": 43,
     "metadata": {},
     "output_type": "execute_result"
    },
    {
     "data": {
      "image/png": "[encoded data removed]",
      "text/plain": [
       "<Figure size 432x432 with 3 Axes>"
      ]
     },
     "metadata": {
      "needs_background": "light"
     },
     "output_type": "display_data"
    }
   ],
   "source": [
    "sns.jointplot(x='surface_covered_in_m2', y='surface_total_in_m2',data=df2, hue='property_type',xlim=(0,500), ylim=(0,500))"
   ]
  },
  {
   "cell_type": "code",
   "execution_count": 44,
   "id": "cebc3f14",
   "metadata": {
    "execution": {
     "iopub.execute_input": "2022-06-07T00:10:31.349420Z",
     "iopub.status.busy": "2022-06-07T00:10:31.348422Z",
     "iopub.status.idle": "2022-06-07T00:10:31.386419Z",
     "shell.execute_reply": "2022-06-07T00:10:31.385418Z",
     "shell.execute_reply.started": "2022-06-07T00:10:31.349420Z"
    }
   },
   "outputs": [
    {
     "data": {
      "text/plain": [
       "Index(['property_type', 'place_name', 'price_aprox_local_currency',\n",
       "       'price_aprox_usd', 'surface_total_in_m2', 'surface_covered_in_m2',\n",
       "       'price_usd_per_m2', 'price_per_m2', 'properati_url', 'description',\n",
       "       'title', 'image_thumbnail', 'tiene_jardin', 'tiene_cochera',\n",
       "       'tiene_pileta', 'tiene_parrilla', 'ambientes', 'cuota'],\n",
       "      dtype='object')"
      ]
     },
     "metadata": {},
     "output_type": "display_data"
    },
    {
     "data": {
      "text/html": [
       "<div>\n",
       "<style scoped>\n",
       "    .dataframe tbody tr th:only-of-type {\n",
       "        vertical-align: middle;\n",
       "    }\n",
       "\n",
       "    .dataframe tbody tr th {\n",
       "        vertical-align: top;\n",
       "    }\n",
       "\n",
       "    .dataframe thead th {\n",
       "        text-align: right;\n",
       "    }\n",
       "</style>\n",
       "<table border=\"1\" class=\"dataframe\">\n",
       "  <thead>\n",
       "    <tr style=\"text-align: right;\">\n",
       "      <th></th>\n",
       "      <th>property_type</th>\n",
       "      <th>place_name</th>\n",
       "      <th>price_aprox_local_currency</th>\n",
       "      <th>price_aprox_usd</th>\n",
       "      <th>surface_total_in_m2</th>\n",
       "      <th>surface_covered_in_m2</th>\n",
       "      <th>price_usd_per_m2</th>\n",
       "      <th>price_per_m2</th>\n",
       "      <th>properati_url</th>\n",
       "      <th>description</th>\n",
       "      <th>title</th>\n",
       "      <th>image_thumbnail</th>\n",
       "      <th>tiene_jardin</th>\n",
       "      <th>tiene_cochera</th>\n",
       "      <th>tiene_pileta</th>\n",
       "      <th>tiene_parrilla</th>\n",
       "      <th>ambientes</th>\n",
       "      <th>cuota</th>\n",
       "    </tr>\n",
       "  </thead>\n",
       "  <tbody>\n",
       "    <tr>\n",
       "      <th>0</th>\n",
       "      <td>PH</td>\n",
       "      <td>Mataderos</td>\n",
       "      <td>1093959.0</td>\n",
       "      <td>62000.0</td>\n",
       "      <td>55.0</td>\n",
       "      <td>40.0</td>\n",
       "      <td>1127.272727</td>\n",
       "      <td>1550.000000</td>\n",
       "      <td>http://www.properati.com.ar/15bo8_venta_ph_mat...</td>\n",
       "      <td>2 AMBIENTES TIPO CASA PLANTA BAJA POR PASILLO,...</td>\n",
       "      <td>2 AMB TIPO CASA SIN EXPENSAS EN PB</td>\n",
       "      <td>https://thumbs4.properati.com/8/BluUYiHJLhgIIK...</td>\n",
       "      <td>0.0</td>\n",
       "      <td>0.0</td>\n",
       "      <td>0.0</td>\n",
       "      <td>0.0</td>\n",
       "      <td>2.0</td>\n",
       "      <td>0</td>\n",
       "    </tr>\n",
       "    <tr>\n",
       "      <th>2</th>\n",
       "      <td>apartment</td>\n",
       "      <td>Mataderos</td>\n",
       "      <td>1270404.0</td>\n",
       "      <td>72000.0</td>\n",
       "      <td>55.0</td>\n",
       "      <td>55.0</td>\n",
       "      <td>1309.090909</td>\n",
       "      <td>1309.090909</td>\n",
       "      <td>http://www.properati.com.ar/15bod_venta_depart...</td>\n",
       "      <td>2 AMBIENTES 3ER PISO LATERAL LIVING COMEDOR AM...</td>\n",
       "      <td>2 AMB 3ER PISO CON ASCENSOR APTO CREDITO</td>\n",
       "      <td>https://thumbs4.properati.com/5/SXKr34F_IwG3W_...</td>\n",
       "      <td>0.0</td>\n",
       "      <td>0.0</td>\n",
       "      <td>0.0</td>\n",
       "      <td>0.0</td>\n",
       "      <td>2.0</td>\n",
       "      <td>0</td>\n",
       "    </tr>\n",
       "    <tr>\n",
       "      <th>3</th>\n",
       "      <td>PH</td>\n",
       "      <td>Liniers</td>\n",
       "      <td>1676227.5</td>\n",
       "      <td>95000.0</td>\n",
       "      <td>NaN</td>\n",
       "      <td>NaN</td>\n",
       "      <td>NaN</td>\n",
       "      <td>NaN</td>\n",
       "      <td>http://www.properati.com.ar/15boh_venta_ph_lin...</td>\n",
       "      <td>PH 3 ambientes con patio. Hay 3 deptos en lote...</td>\n",
       "      <td>PH 3 amb. cfte. reciclado</td>\n",
       "      <td>https://thumbs4.properati.com/3/DgIfX-85Mog5SP...</td>\n",
       "      <td>0.0</td>\n",
       "      <td>0.0</td>\n",
       "      <td>0.0</td>\n",
       "      <td>0.0</td>\n",
       "      <td>3.0</td>\n",
       "      <td>0</td>\n",
       "    </tr>\n",
       "    <tr>\n",
       "      <th>7</th>\n",
       "      <td>apartment</td>\n",
       "      <td>Belgrano</td>\n",
       "      <td>2434941.0</td>\n",
       "      <td>138000.0</td>\n",
       "      <td>45.0</td>\n",
       "      <td>40.0</td>\n",
       "      <td>3066.666667</td>\n",
       "      <td>3450.000000</td>\n",
       "      <td>http://www.properati.com.ar/15bot_venta_depart...</td>\n",
       "      <td>EXCELENTE MONOAMBIENTE A ESTRENAR AMPLIO SUPER...</td>\n",
       "      <td>JOSE HERNANDEZ 1400 MONOAMBIENTE  ESTRENAR CAT...</td>\n",
       "      <td>https://thumbs4.properati.com/1/IHxARynlr8sPEW...</td>\n",
       "      <td>0.0</td>\n",
       "      <td>0.0</td>\n",
       "      <td>1.0</td>\n",
       "      <td>0.0</td>\n",
       "      <td>NaN</td>\n",
       "      <td>0</td>\n",
       "    </tr>\n",
       "    <tr>\n",
       "      <th>8</th>\n",
       "      <td>apartment</td>\n",
       "      <td>Belgrano</td>\n",
       "      <td>3440677.5</td>\n",
       "      <td>195000.0</td>\n",
       "      <td>65.0</td>\n",
       "      <td>60.0</td>\n",
       "      <td>3000.000000</td>\n",
       "      <td>3250.000000</td>\n",
       "      <td>http://www.properati.com.ar/15bou_venta_depart...</td>\n",
       "      <td>EXCELENTE DOS AMBIENTES  ESTRENAR AMPLIO SUPER...</td>\n",
       "      <td>JOSE HERNANDEZ   1400 DOS AMBIENTES ESTRENAR ,...</td>\n",
       "      <td>https://thumbs4.properati.com/2/J3zOjgaFHrkvnv...</td>\n",
       "      <td>0.0</td>\n",
       "      <td>0.0</td>\n",
       "      <td>1.0</td>\n",
       "      <td>0.0</td>\n",
       "      <td>NaN</td>\n",
       "      <td>0</td>\n",
       "    </tr>\n",
       "  </tbody>\n",
       "</table>\n",
       "</div>"
      ],
      "text/plain": [
       "  property_type place_name  price_aprox_local_currency  price_aprox_usd  \\\n",
       "0            PH  Mataderos                   1093959.0          62000.0   \n",
       "2     apartment  Mataderos                   1270404.0          72000.0   \n",
       "3            PH    Liniers                   1676227.5          95000.0   \n",
       "7     apartment   Belgrano                   2434941.0         138000.0   \n",
       "8     apartment   Belgrano                   3440677.5         195000.0   \n",
       "\n",
       "   surface_total_in_m2  surface_covered_in_m2  price_usd_per_m2  price_per_m2  \\\n",
       "0                 55.0                   40.0       1127.272727   1550.000000   \n",
       "2                 55.0                   55.0       1309.090909   1309.090909   \n",
       "3                  NaN                    NaN               NaN           NaN   \n",
       "7                 45.0                   40.0       3066.666667   3450.000000   \n",
       "8                 65.0                   60.0       3000.000000   3250.000000   \n",
       "\n",
       "                                       properati_url  \\\n",
       "0  http://www.properati.com.ar/15bo8_venta_ph_mat...   \n",
       "2  http://www.properati.com.ar/15bod_venta_depart...   \n",
       "3  http://www.properati.com.ar/15boh_venta_ph_lin...   \n",
       "7  http://www.properati.com.ar/15bot_venta_depart...   \n",
       "8  http://www.properati.com.ar/15bou_venta_depart...   \n",
       "\n",
       "                                         description  \\\n",
       "0  2 AMBIENTES TIPO CASA PLANTA BAJA POR PASILLO,...   \n",
       "2  2 AMBIENTES 3ER PISO LATERAL LIVING COMEDOR AM...   \n",
       "3  PH 3 ambientes con patio. Hay 3 deptos en lote...   \n",
       "7  EXCELENTE MONOAMBIENTE A ESTRENAR AMPLIO SUPER...   \n",
       "8  EXCELENTE DOS AMBIENTES  ESTRENAR AMPLIO SUPER...   \n",
       "\n",
       "                                               title  \\\n",
       "0                 2 AMB TIPO CASA SIN EXPENSAS EN PB   \n",
       "2           2 AMB 3ER PISO CON ASCENSOR APTO CREDITO   \n",
       "3                       PH 3 amb. cfte. reciclado      \n",
       "7  JOSE HERNANDEZ 1400 MONOAMBIENTE  ESTRENAR CAT...   \n",
       "8  JOSE HERNANDEZ   1400 DOS AMBIENTES ESTRENAR ,...   \n",
       "\n",
       "                                     image_thumbnail  tiene_jardin  \\\n",
       "0  https://thumbs4.properati.com/8/BluUYiHJLhgIIK...           0.0   \n",
       "2  https://thumbs4.properati.com/5/SXKr34F_IwG3W_...           0.0   \n",
       "3  https://thumbs4.properati.com/3/DgIfX-85Mog5SP...           0.0   \n",
       "7  https://thumbs4.properati.com/1/IHxARynlr8sPEW...           0.0   \n",
       "8  https://thumbs4.properati.com/2/J3zOjgaFHrkvnv...           0.0   \n",
       "\n",
       "   tiene_cochera  tiene_pileta  tiene_parrilla  ambientes  cuota  \n",
       "0            0.0           0.0             0.0        2.0      0  \n",
       "2            0.0           0.0             0.0        2.0      0  \n",
       "3            0.0           0.0             0.0        3.0      0  \n",
       "7            0.0           1.0             0.0        NaN      0  \n",
       "8            0.0           1.0             0.0        NaN      0  "
      ]
     },
     "execution_count": 44,
     "metadata": {},
     "output_type": "execute_result"
    }
   ],
   "source": [
    "display(df2.columns)\n",
    "df2.head()"
   ]
  },
  {
   "cell_type": "code",
   "execution_count": 45,
   "id": "10edcaf5",
   "metadata": {
    "execution": {
     "iopub.execute_input": "2022-06-07T00:10:31.388418Z",
     "iopub.status.busy": "2022-06-07T00:10:31.387419Z",
     "iopub.status.idle": "2022-06-07T00:10:31.423417Z",
     "shell.execute_reply": "2022-06-07T00:10:31.422434Z",
     "shell.execute_reply.started": "2022-06-07T00:10:31.388418Z"
    }
   },
   "outputs": [
    {
     "name": "stdout",
     "output_type": "stream",
     "text": [
      "<class 'pandas.core.frame.DataFrame'>\n",
      "Int64Index: 30952 entries, 0 to 121219\n",
      "Data columns (total 18 columns):\n",
      " #   Column                      Non-Null Count  Dtype  \n",
      "---  ------                      --------------  -----  \n",
      " 0   property_type               30952 non-null  object \n",
      " 1   place_name                  30952 non-null  object \n",
      " 2   price_aprox_local_currency  27828 non-null  float64\n",
      " 3   price_aprox_usd             27828 non-null  float64\n",
      " 4   surface_total_in_m2         30259 non-null  float64\n",
      " 5   surface_covered_in_m2       30259 non-null  float64\n",
      " 6   price_usd_per_m2            22519 non-null  float64\n",
      " 7   price_per_m2                26276 non-null  float64\n",
      " 8   properati_url               30952 non-null  object \n",
      " 9   description                 30952 non-null  object \n",
      " 10  title                       30952 non-null  object \n",
      " 11  image_thumbnail             30477 non-null  object \n",
      " 12  tiene_jardin                30952 non-null  float64\n",
      " 13  tiene_cochera               30952 non-null  float64\n",
      " 14  tiene_pileta                30952 non-null  float64\n",
      " 15  tiene_parrilla              30952 non-null  float64\n",
      " 16  ambientes                   13027 non-null  float64\n",
      " 17  cuota                       30952 non-null  int64  \n",
      "dtypes: float64(11), int64(1), object(6)\n",
      "memory usage: 5.7+ MB\n"
     ]
    }
   ],
   "source": [
    "df2.info()"
   ]
  },
  {
   "cell_type": "markdown",
   "id": "b9e0bb37",
   "metadata": {},
   "source": [
    "## Conversion de pasos a dolares\n",
    "\n",
    "Tipo de cambio promedio entre entre 'price_aprox_local_currency' y 'price_aprox_usd':  17.64 $/USD "
   ]
  },
  {
   "cell_type": "code",
   "execution_count": 46,
   "id": "cfe406b6",
   "metadata": {
    "execution": {
     "iopub.execute_input": "2022-06-07T00:10:31.425422Z",
     "iopub.status.busy": "2022-06-07T00:10:31.425422Z",
     "iopub.status.idle": "2022-06-07T00:10:31.432421Z",
     "shell.execute_reply": "2022-06-07T00:10:31.431453Z",
     "shell.execute_reply.started": "2022-06-07T00:10:31.425422Z"
    }
   },
   "outputs": [],
   "source": [
    "def estimar_tipo_de_cambio(data):\n",
    "    #'Esta función estima el tipo de cambio promedio entre 'price_aprox_local_currency' y 'price_aprox_usd'\n",
    "    mask_tipo_de_cambio = (data['price_aprox_local_currency'].notnull() & data['price_aprox_usd'].notnull())\n",
    "    calculo_tipo_de_cambio = data.loc[mask_tipo_de_cambio, 'price_aprox_local_currency'] / data.loc[mask_tipo_de_cambio, 'price_aprox_usd']\n",
    "    tipo_de_cambio = calculo_tipo_de_cambio.mean()\n",
    "    valor = round(tipo_de_cambio, 2)\n",
    "    return valor\n"
   ]
  },
  {
   "cell_type": "code",
   "execution_count": 47,
   "id": "57a1debb",
   "metadata": {
    "execution": {
     "iopub.execute_input": "2022-06-07T00:10:31.433421Z",
     "iopub.status.busy": "2022-06-07T00:10:31.433421Z",
     "iopub.status.idle": "2022-06-07T00:10:31.445422Z",
     "shell.execute_reply": "2022-06-07T00:10:31.444420Z",
     "shell.execute_reply.started": "2022-06-07T00:10:31.433421Z"
    }
   },
   "outputs": [
    {
     "name": "stdout",
     "output_type": "stream",
     "text": [
      "17.64\n"
     ]
    }
   ],
   "source": [
    "valor_dolar = estimar_tipo_de_cambio(df2)\n",
    "print(valor_dolar)"
   ]
  },
  {
   "cell_type": "code",
   "execution_count": 48,
   "id": "6295e3d9",
   "metadata": {
    "execution": {
     "iopub.execute_input": "2022-06-07T00:10:31.447422Z",
     "iopub.status.busy": "2022-06-07T00:10:31.447422Z",
     "iopub.status.idle": "2022-06-07T00:10:31.454419Z",
     "shell.execute_reply": "2022-06-07T00:10:31.453434Z",
     "shell.execute_reply.started": "2022-06-07T00:10:31.447422Z"
    }
   },
   "outputs": [],
   "source": [
    "def calculo_valor_total_pesos_dolar(dataframe, valor_dolar):\n",
    "    #precio m2 en pesos a precio m2 en dolares\n",
    "    for i in dataframe.index:\n",
    "        if pd.isna(dataframe.loc[i, 'price_usd_per_m2']):\n",
    "            dataframe.loc[i, 'price_usd_per_m2'] = dataframe.loc[i, 'price_per_m2'] / valor_dolar\n",
    "    \n",
    "    return dataframe"
   ]
  },
  {
   "cell_type": "code",
   "execution_count": 49,
   "id": "c723a078",
   "metadata": {
    "execution": {
     "iopub.execute_input": "2022-06-07T00:10:31.576633Z",
     "iopub.status.busy": "2022-06-07T00:10:31.575651Z",
     "iopub.status.idle": "2022-06-07T00:10:37.516340Z",
     "shell.execute_reply": "2022-06-07T00:10:37.515346Z",
     "shell.execute_reply.started": "2022-06-07T00:10:31.576633Z"
    }
   },
   "outputs": [],
   "source": [
    "df2 = calculo_valor_total_pesos_dolar(df2, valor_dolar)"
   ]
  },
  {
   "cell_type": "code",
   "execution_count": 50,
   "id": "14fe474d",
   "metadata": {
    "execution": {
     "iopub.execute_input": "2022-06-07T00:10:37.517340Z",
     "iopub.status.busy": "2022-06-07T00:10:37.517340Z",
     "iopub.status.idle": "2022-06-07T00:10:37.552338Z",
     "shell.execute_reply": "2022-06-07T00:10:37.551340Z",
     "shell.execute_reply.started": "2022-06-07T00:10:37.517340Z"
    },
    "scrolled": true
   },
   "outputs": [
    {
     "name": "stdout",
     "output_type": "stream",
     "text": [
      "<class 'pandas.core.frame.DataFrame'>\n",
      "Int64Index: 30952 entries, 0 to 121219\n",
      "Data columns (total 18 columns):\n",
      " #   Column                      Non-Null Count  Dtype  \n",
      "---  ------                      --------------  -----  \n",
      " 0   property_type               30952 non-null  object \n",
      " 1   place_name                  30952 non-null  object \n",
      " 2   price_aprox_local_currency  27828 non-null  float64\n",
      " 3   price_aprox_usd             27828 non-null  float64\n",
      " 4   surface_total_in_m2         30259 non-null  float64\n",
      " 5   surface_covered_in_m2       30259 non-null  float64\n",
      " 6   price_usd_per_m2            27307 non-null  float64\n",
      " 7   price_per_m2                26276 non-null  float64\n",
      " 8   properati_url               30952 non-null  object \n",
      " 9   description                 30952 non-null  object \n",
      " 10  title                       30952 non-null  object \n",
      " 11  image_thumbnail             30477 non-null  object \n",
      " 12  tiene_jardin                30952 non-null  float64\n",
      " 13  tiene_cochera               30952 non-null  float64\n",
      " 14  tiene_pileta                30952 non-null  float64\n",
      " 15  tiene_parrilla              30952 non-null  float64\n",
      " 16  ambientes                   13027 non-null  float64\n",
      " 17  cuota                       30952 non-null  int64  \n",
      "dtypes: float64(11), int64(1), object(6)\n",
      "memory usage: 5.7+ MB\n"
     ]
    }
   ],
   "source": [
    "df2.info()"
   ]
  },
  {
   "cell_type": "code",
   "execution_count": 51,
   "id": "d7037483",
   "metadata": {
    "execution": {
     "iopub.execute_input": "2022-06-07T00:10:37.554337Z",
     "iopub.status.busy": "2022-06-07T00:10:37.553337Z",
     "iopub.status.idle": "2022-06-07T00:10:37.563338Z",
     "shell.execute_reply": "2022-06-07T00:10:37.562340Z",
     "shell.execute_reply.started": "2022-06-07T00:10:37.554337Z"
    }
   },
   "outputs": [],
   "source": [
    "#Dropeo todas las features que necesitan tratamiento previo para servir\n",
    "df2 = df2.drop(['description','title','image_thumbnail','price_per_m2','properati_url', 'price_aprox_local_currency'], axis=1)"
   ]
  },
  {
   "cell_type": "code",
   "execution_count": 52,
   "id": "ef8b3286",
   "metadata": {
    "execution": {
     "iopub.execute_input": "2022-06-07T00:10:41.329688Z",
     "iopub.status.busy": "2022-06-07T00:10:41.329688Z",
     "iopub.status.idle": "2022-06-07T00:10:41.339673Z",
     "shell.execute_reply": "2022-06-07T00:10:41.338670Z",
     "shell.execute_reply.started": "2022-06-07T00:10:41.329688Z"
    }
   },
   "outputs": [],
   "source": [
    "df2 = df2.drop('ambientes',axis=1)"
   ]
  },
  {
   "cell_type": "code",
   "execution_count": 53,
   "id": "f248abd8",
   "metadata": {
    "execution": {
     "iopub.execute_input": "2022-06-07T00:10:41.767292Z",
     "iopub.status.busy": "2022-06-07T00:10:41.767292Z",
     "iopub.status.idle": "2022-06-07T00:10:41.781291Z",
     "shell.execute_reply": "2022-06-07T00:10:41.780307Z",
     "shell.execute_reply.started": "2022-06-07T00:10:41.767292Z"
    },
    "scrolled": true
   },
   "outputs": [],
   "source": [
    "df2 = df2.dropna()"
   ]
  },
  {
   "cell_type": "code",
   "execution_count": 54,
   "id": "15c446b8",
   "metadata": {
    "execution": {
     "iopub.execute_input": "2022-06-07T00:10:42.166290Z",
     "iopub.status.busy": "2022-06-07T00:10:42.165291Z",
     "iopub.status.idle": "2022-06-07T00:10:42.182294Z",
     "shell.execute_reply": "2022-06-07T00:10:42.181293Z",
     "shell.execute_reply.started": "2022-06-07T00:10:42.166290Z"
    },
    "scrolled": true
   },
   "outputs": [
    {
     "name": "stdout",
     "output_type": "stream",
     "text": [
      "<class 'pandas.core.frame.DataFrame'>\n",
      "Int64Index: 27307 entries, 0 to 121219\n",
      "Data columns (total 11 columns):\n",
      " #   Column                 Non-Null Count  Dtype  \n",
      "---  ------                 --------------  -----  \n",
      " 0   property_type          27307 non-null  object \n",
      " 1   place_name             27307 non-null  object \n",
      " 2   price_aprox_usd        27307 non-null  float64\n",
      " 3   surface_total_in_m2    27307 non-null  float64\n",
      " 4   surface_covered_in_m2  27307 non-null  float64\n",
      " 5   price_usd_per_m2       27307 non-null  float64\n",
      " 6   tiene_jardin           27307 non-null  float64\n",
      " 7   tiene_cochera          27307 non-null  float64\n",
      " 8   tiene_pileta           27307 non-null  float64\n",
      " 9   tiene_parrilla         27307 non-null  float64\n",
      " 10  cuota                  27307 non-null  int64  \n",
      "dtypes: float64(8), int64(1), object(2)\n",
      "memory usage: 2.5+ MB\n"
     ]
    }
   ],
   "source": [
    "df2.info()"
   ]
  },
  {
   "cell_type": "markdown",
   "id": "22b5ec11",
   "metadata": {},
   "source": [
    "## test modelado básico"
   ]
  },
  {
   "cell_type": "code",
   "execution_count": 55,
   "id": "b5cf05e4",
   "metadata": {
    "execution": {
     "iopub.execute_input": "2022-06-07T00:10:45.064292Z",
     "iopub.status.busy": "2022-06-07T00:10:45.063292Z",
     "iopub.status.idle": "2022-06-07T00:10:45.357291Z",
     "shell.execute_reply": "2022-06-07T00:10:45.356309Z",
     "shell.execute_reply.started": "2022-06-07T00:10:45.064292Z"
    }
   },
   "outputs": [],
   "source": [
    "# importo los librerías para el modelo\n",
    "from sklearn.model_selection import train_test_split\n",
    "from sklearn.linear_model import LinearRegression\n",
    "from sklearn.linear_model import RidgeCV, LassoCV\n",
    "from sklearn import metrics"
   ]
  },
  {
   "cell_type": "markdown",
   "id": "aadc78e7",
   "metadata": {},
   "source": [
    "### Modelado SOLO con place_name y property_type"
   ]
  },
  {
   "cell_type": "code",
   "execution_count": 67,
   "id": "4264a9b9",
   "metadata": {
    "execution": {
     "iopub.execute_input": "2022-06-07T00:13:51.963093Z",
     "iopub.status.busy": "2022-06-07T00:13:51.962075Z",
     "iopub.status.idle": "2022-06-07T00:13:51.978075Z",
     "shell.execute_reply": "2022-06-07T00:13:51.977081Z",
     "shell.execute_reply.started": "2022-06-07T00:13:51.963093Z"
    }
   },
   "outputs": [
    {
     "data": {
      "text/plain": [
       "apartment    21214\n",
       "house         1469\n",
       "PH            1358\n",
       "Name: property_type, dtype: int64"
      ]
     },
     "execution_count": 67,
     "metadata": {},
     "output_type": "execute_result"
    }
   ],
   "source": [
    "df2.property_type.value_counts()"
   ]
  },
  {
   "cell_type": "code",
   "execution_count": 71,
   "id": "3c89f0b2",
   "metadata": {
    "execution": {
     "iopub.execute_input": "2022-06-07T00:16:31.682077Z",
     "iopub.status.busy": "2022-06-07T00:16:31.681076Z",
     "iopub.status.idle": "2022-06-07T00:16:31.700078Z",
     "shell.execute_reply": "2022-06-07T00:16:31.699092Z",
     "shell.execute_reply.started": "2022-06-07T00:16:31.682077Z"
    }
   },
   "outputs": [],
   "source": [
    "# Eliminamos todos los barrios con menos de 250 entradas\n",
    "group_place_name = df2.groupby('place_name')['place_name'].count()\n",
    "lista_barrios = []\n",
    "\n",
    "for x in group_place_name.index:\n",
    "    if group_place_name[x]>250:\n",
    "        lista_barrios.append(x)\n",
    "# list = [x for x in group_place_name.index if group_place_name[x]>250]\n",
    "\n",
    "\n",
    "df2 = df2[df2['place_name'].isin(lista_barrios)]"
   ]
  },
  {
   "cell_type": "code",
   "execution_count": 72,
   "id": "befa06be",
   "metadata": {
    "collapsed": true,
    "execution": {
     "iopub.execute_input": "2022-06-07T00:16:32.793087Z",
     "iopub.status.busy": "2022-06-07T00:16:32.793087Z",
     "iopub.status.idle": "2022-06-07T00:16:32.807076Z",
     "shell.execute_reply": "2022-06-07T00:16:32.806089Z",
     "shell.execute_reply.started": "2022-06-07T00:16:32.793087Z"
    },
    "jupyter": {
     "outputs_hidden": true
    }
   },
   "outputs": [
    {
     "data": {
      "text/plain": [
       "Belgrano             2468\n",
       "Palermo              2387\n",
       "Caballito            2000\n",
       "Villa Urquiza        1331\n",
       "Recoleta             1326\n",
       "Flores               1201\n",
       "Villa Crespo         1106\n",
       "San Telmo            1103\n",
       "Barrio Norte          955\n",
       "Almagro               941\n",
       "Capital Federal       867\n",
       "Boedo                 829\n",
       "Nuñez                 680\n",
       "Balvanera             588\n",
       "Puerto Madero         555\n",
       "San Cristobal         549\n",
       "Saavedra              497\n",
       "Monserrat             454\n",
       "Palermo Hollywood     453\n",
       "Villa del Parque      436\n",
       "Floresta              407\n",
       "Barracas              380\n",
       "Villa Devoto          365\n",
       "Villa Luro            352\n",
       "Mataderos             337\n",
       "Colegiales            334\n",
       "Palermo Soho          307\n",
       "Liniers               295\n",
       "Parque Patricios      270\n",
       "Congreso              268\n",
       "Name: place_name, dtype: int64"
      ]
     },
     "execution_count": 72,
     "metadata": {},
     "output_type": "execute_result"
    }
   ],
   "source": [
    "df2['place_name'].value_counts()"
   ]
  },
  {
   "cell_type": "code",
   "execution_count": 82,
   "id": "440dd882",
   "metadata": {
    "execution": {
     "iopub.execute_input": "2022-06-07T00:20:56.114502Z",
     "iopub.status.busy": "2022-06-07T00:20:56.113517Z",
     "iopub.status.idle": "2022-06-07T00:20:56.147503Z",
     "shell.execute_reply": "2022-06-07T00:20:56.146515Z",
     "shell.execute_reply.started": "2022-06-07T00:20:56.114502Z"
    }
   },
   "outputs": [
    {
     "data": {
      "text/plain": [
       "((24041, 31), (24041,), (18030, 31), (6011, 31), (18030,), (6011,))"
      ]
     },
     "execution_count": 82,
     "metadata": {},
     "output_type": "execute_result"
    }
   ],
   "source": [
    "# Selecciono las columnas que considero features para modelar \n",
    "X = df2.loc[:,['property_type','place_name']]\n",
    "y = df2['price_usd_per_m2']\n",
    "\n",
    "# Convierto a dummies las categóricas\n",
    "X = pd.get_dummies(X,drop_first=True)\n",
    "\n",
    "# Separo en train/test\n",
    "X_train, X_test, y_train, y_test = train_test_split(X,y,random_state=33)\n",
    "\n",
    "X.shape, y.shape, X_train.shape,X_test.shape, y_train.shape, y_test.shape"
   ]
  },
  {
   "cell_type": "code",
   "execution_count": 83,
   "id": "74d7f9c2",
   "metadata": {
    "execution": {
     "iopub.execute_input": "2022-06-07T00:20:59.494758Z",
     "iopub.status.busy": "2022-06-07T00:20:59.494758Z",
     "iopub.status.idle": "2022-06-07T00:21:00.636740Z",
     "shell.execute_reply": "2022-06-07T00:21:00.635740Z",
     "shell.execute_reply.started": "2022-06-07T00:20:59.494758Z"
    }
   },
   "outputs": [
    {
     "name": "stdout",
     "output_type": "stream",
     "text": [
      "intercept:  1407.153115291106 coef:  [ 1224.48695568    21.2178587  -1001.51514817  -622.96873516\n",
      "   143.5921864    160.52842616  7812.44619962  -444.12004447\n",
      "  -438.52358608  -389.30925439  -564.05087969  -714.19593336\n",
      "  -999.67948195  -638.19708162  -604.39579306 -1187.00404765\n",
      "    75.22120581   199.43264399   359.22542444   500.48172768\n",
      "  -647.2190963   2587.71815855   235.08821982  -235.58776892\n",
      "  5644.6010124   -529.05364222  -282.3774712   -334.70118548\n",
      "  -399.18280479  -409.85047452  -561.65550654] alpha:  10.0\n"
     ]
    },
    {
     "data": {
      "text/plain": [
       "0.22245471068939204"
      ]
     },
     "execution_count": 83,
     "metadata": {},
     "output_type": "execute_result"
    }
   ],
   "source": [
    "#prueba con crossvalidation con Ridge\n",
    "rcv = RidgeCV(alphas=(0.0001,0.001,0.01,0.1,1,10,100,1000,10000), cv=5)\n",
    "\n",
    "rcv.fit(X_train,y_train)\n",
    "print('intercept: ',rcv.intercept_,'coef: ', rcv.coef_,'alpha: ', rcv.alpha_)\n",
    "\n",
    "y_pred_rcv = rcv.predict(X_test)\n",
    "\n",
    "metrics.r2_score(y_test, y_pred_rcv)"
   ]
  },
  {
   "cell_type": "code",
   "execution_count": null,
   "id": "7402663e",
   "metadata": {},
   "outputs": [],
   "source": []
  },
  {
   "cell_type": "markdown",
   "id": "6fa27624",
   "metadata": {},
   "source": [
    "## Modelado con todas las features"
   ]
  },
  {
   "cell_type": "code",
   "execution_count": 58,
   "id": "002a6635",
   "metadata": {
    "execution": {
     "iopub.execute_input": "2022-06-07T00:10:50.050865Z",
     "iopub.status.busy": "2022-06-07T00:10:50.049881Z",
     "iopub.status.idle": "2022-06-07T00:10:50.057862Z",
     "shell.execute_reply": "2022-06-07T00:10:50.056883Z",
     "shell.execute_reply.started": "2022-06-07T00:10:50.050865Z"
    }
   },
   "outputs": [
    {
     "data": {
      "text/plain": [
       "Index(['property_type', 'place_name', 'price_aprox_usd', 'surface_total_in_m2',\n",
       "       'surface_covered_in_m2', 'price_usd_per_m2', 'tiene_jardin',\n",
       "       'tiene_cochera', 'tiene_pileta', 'tiene_parrilla', 'cuota'],\n",
       "      dtype='object')"
      ]
     },
     "execution_count": 58,
     "metadata": {},
     "output_type": "execute_result"
    }
   ],
   "source": [
    "df2.columns"
   ]
  },
  {
   "cell_type": "code",
   "execution_count": 84,
   "id": "308a6760",
   "metadata": {
    "execution": {
     "iopub.execute_input": "2022-06-07T00:21:15.744019Z",
     "iopub.status.busy": "2022-06-07T00:21:15.744019Z",
     "iopub.status.idle": "2022-06-07T00:21:15.821023Z",
     "shell.execute_reply": "2022-06-07T00:21:15.820024Z",
     "shell.execute_reply.started": "2022-06-07T00:21:15.744019Z"
    }
   },
   "outputs": [
    {
     "data": {
      "text/plain": [
       "((24041, 37), (24041,), (18030, 37), (6011, 37), (18030,), (6011,))"
      ]
     },
     "execution_count": 84,
     "metadata": {},
     "output_type": "execute_result"
    }
   ],
   "source": [
    "# Selecciono las columnas que considero features para modelar \n",
    "X = df2.loc[:,['property_type','place_name','surface_total_in_m2','surface_covered_in_m2','tiene_cochera','tiene_pileta','tiene_parrilla','cuota' ]]\n",
    "y = df2['price_usd_per_m2']\n",
    "\n",
    "# Convierto a dummies las categóricas\n",
    "X = pd.get_dummies(X,drop_first=True)\n",
    "\n",
    "# Separo en train/test\n",
    "X_train, X_test, y_train, y_test = train_test_split(X,y,random_state=33, stratify = df2['place_name'])\n",
    "\n",
    "X.shape, y.shape, X_train.shape,X_test.shape, y_train.shape, y_test.shape"
   ]
  },
  {
   "cell_type": "code",
   "execution_count": 60,
   "id": "dc17c1b6",
   "metadata": {
    "execution": {
     "iopub.execute_input": "2022-06-07T00:10:57.274276Z",
     "iopub.status.busy": "2022-06-07T00:10:57.273292Z",
     "iopub.status.idle": "2022-06-07T00:10:57.317291Z",
     "shell.execute_reply": "2022-06-07T00:10:57.317291Z",
     "shell.execute_reply.started": "2022-06-07T00:10:57.274276Z"
    }
   },
   "outputs": [
    {
     "data": {
      "text/plain": [
       "(1182.9592391525584,\n",
       " array([-7.02117193e-01,  6.84884084e-01,  1.44613189e+02,  1.02678744e+03,\n",
       "         3.86072764e+01,  1.54888869e+03,  8.56451488e+02, -2.37954757e+02,\n",
       "        -5.54335776e+02, -4.20495613e+02,  4.27553275e+02,  1.63089230e+02,\n",
       "         7.18445637e+03, -3.05064130e+02, -3.93428701e+02, -3.36737410e+02,\n",
       "        -3.32160373e+02, -5.90487146e+02, -6.92427585e+02, -3.43759626e+02,\n",
       "        -3.38766486e+02, -1.18681918e+03,  1.18099588e+02,  2.90768487e+02,\n",
       "         2.17711044e+02,  4.31112482e+02, -6.22574125e+02,  2.78625742e+03,\n",
       "         5.69223313e+02, -2.99656185e+02,  5.67350928e+03, -4.70248583e+02,\n",
       "        -5.76817119e+01, -9.90388116e+01, -1.24992467e+02, -3.47310302e+02,\n",
       "        -4.94055662e+02]))"
      ]
     },
     "execution_count": 60,
     "metadata": {},
     "output_type": "execute_result"
    }
   ],
   "source": [
    "lr = LinearRegression()\n",
    "\n",
    "lr.fit(X_train,y_train)\n",
    "print('intercept: ',lr.intercept_,'coef: ', lr.coef_)"
   ]
  },
  {
   "cell_type": "code",
   "execution_count": 61,
   "id": "74b85dff",
   "metadata": {
    "execution": {
     "iopub.execute_input": "2022-06-07T00:10:59.244277Z",
     "iopub.status.busy": "2022-06-07T00:10:59.243278Z",
     "iopub.status.idle": "2022-06-07T00:10:59.260279Z",
     "shell.execute_reply": "2022-06-07T00:10:59.259273Z",
     "shell.execute_reply.started": "2022-06-07T00:10:59.243278Z"
    }
   },
   "outputs": [
    {
     "data": {
      "text/plain": [
       "0.2642815258195935"
      ]
     },
     "execution_count": 61,
     "metadata": {},
     "output_type": "execute_result"
    }
   ],
   "source": [
    "y_pred = lr.predict(X_test)\n",
    "\n",
    "metrics.r2_score(y_test, y_pred)"
   ]
  },
  {
   "cell_type": "markdown",
   "id": "2803251b",
   "metadata": {},
   "source": [
    "## Ridge"
   ]
  },
  {
   "cell_type": "code",
   "execution_count": 62,
   "id": "b656894b",
   "metadata": {
    "execution": {
     "iopub.execute_input": "2022-06-07T00:11:01.976905Z",
     "iopub.status.busy": "2022-06-07T00:11:01.976905Z",
     "iopub.status.idle": "2022-06-07T00:11:03.226139Z",
     "shell.execute_reply": "2022-06-07T00:11:03.225136Z",
     "shell.execute_reply.started": "2022-06-07T00:11:01.976905Z"
    }
   },
   "outputs": [
    {
     "data": {
      "text/plain": [
       "(1182.960612684789,\n",
       " array([-7.02117354e-01,  6.84884245e-01,  1.44613229e+02,  1.02678756e+03,\n",
       "         3.86073245e+01,  1.54888897e+03,  8.56451439e+02, -2.37954830e+02,\n",
       "        -5.54337000e+02, -4.20496860e+02,  4.27551839e+02,  1.63087796e+02,\n",
       "         7.18445360e+03, -3.05065517e+02, -3.93430026e+02, -3.36738695e+02,\n",
       "        -3.32161596e+02, -5.90488497e+02, -6.92428724e+02, -3.43760834e+02,\n",
       "        -3.38767728e+02, -1.18682025e+03,  1.18098131e+02,  2.90767058e+02,\n",
       "         2.17709508e+02,  4.31110857e+02, -6.22575235e+02,  2.78625529e+03,\n",
       "         5.69221889e+02, -2.99657536e+02,  5.67350641e+03, -4.70249942e+02,\n",
       "        -5.76830956e+01, -9.90401541e+01, -1.24993803e+02, -3.47311700e+02,\n",
       "        -4.94056914e+02]),\n",
       " 0.0001)"
      ]
     },
     "execution_count": 62,
     "metadata": {},
     "output_type": "execute_result"
    }
   ],
   "source": [
    "#prueba con crossvalidation con Ridge\n",
    "rcv = RidgeCV(alphas=(0.0001,0.001,0.01,0.1,1,10,100,1000,10000), cv=5)\n",
    "\n",
    "rcv.fit(X_train,y_train)\n",
    "print('intercept: ',rcv.intercept_,'coef: ', rcv.coef_,'alpha: ', rcv.alpha_)\n",
    "\n",
    "y_pred_rcv = rcv.predict(X_test)\n",
    "\n",
    "metrics.r2_score(y_test, y_pred_rcv)"
   ]
  },
  {
   "cell_type": "markdown",
   "id": "bf0d1da6",
   "metadata": {},
   "source": [
    "## Lasso"
   ]
  },
  {
   "cell_type": "code",
   "execution_count": 64,
   "id": "38268687",
   "metadata": {
    "execution": {
     "iopub.execute_input": "2022-06-07T00:11:11.865562Z",
     "iopub.status.busy": "2022-06-07T00:11:11.864561Z",
     "iopub.status.idle": "2022-06-07T00:11:13.147831Z",
     "shell.execute_reply": "2022-06-07T00:11:13.146829Z",
     "shell.execute_reply.started": "2022-06-07T00:11:11.865562Z"
    },
    "scrolled": true
   },
   "outputs": [
    {
     "name": "stderr",
     "output_type": "stream",
     "text": [
      "C:\\Users\\alanp\\anaconda3\\envs\\dhdsblend2021\\lib\\site-packages\\sklearn\\linear_model\\_coordinate_descent.py:525: ConvergenceWarning: Objective did not converge. You might want to increase the number of iterations. Duality gap: 6043940427.456757, tolerance: 23683385.080771595\n",
      "  model = cd_fast.enet_coordinate_descent_gram(\n",
      "C:\\Users\\alanp\\anaconda3\\envs\\dhdsblend2021\\lib\\site-packages\\sklearn\\linear_model\\_coordinate_descent.py:525: ConvergenceWarning: Objective did not converge. You might want to increase the number of iterations. Duality gap: 21708726474.000214, tolerance: 23683385.080771595\n",
      "  model = cd_fast.enet_coordinate_descent_gram(\n",
      "C:\\Users\\alanp\\anaconda3\\envs\\dhdsblend2021\\lib\\site-packages\\sklearn\\linear_model\\_coordinate_descent.py:525: ConvergenceWarning: Objective did not converge. You might want to increase the number of iterations. Duality gap: 85953832386.44081, tolerance: 23683385.080771595\n",
      "  model = cd_fast.enet_coordinate_descent_gram(\n",
      "C:\\Users\\alanp\\anaconda3\\envs\\dhdsblend2021\\lib\\site-packages\\sklearn\\linear_model\\_coordinate_descent.py:525: ConvergenceWarning: Objective did not converge. You might want to increase the number of iterations. Duality gap: 87800906776.34299, tolerance: 23683385.080771595\n",
      "  model = cd_fast.enet_coordinate_descent_gram(\n",
      "C:\\Users\\alanp\\anaconda3\\envs\\dhdsblend2021\\lib\\site-packages\\sklearn\\linear_model\\_coordinate_descent.py:525: ConvergenceWarning: Objective did not converge. You might want to increase the number of iterations. Duality gap: 88055538038.47008, tolerance: 23683385.080771595\n",
      "  model = cd_fast.enet_coordinate_descent_gram(\n",
      "C:\\Users\\alanp\\anaconda3\\envs\\dhdsblend2021\\lib\\site-packages\\sklearn\\linear_model\\_coordinate_descent.py:525: ConvergenceWarning: Objective did not converge. You might want to increase the number of iterations. Duality gap: 88154103428.84586, tolerance: 23683385.080771595\n",
      "  model = cd_fast.enet_coordinate_descent_gram(\n",
      "C:\\Users\\alanp\\anaconda3\\envs\\dhdsblend2021\\lib\\site-packages\\sklearn\\linear_model\\_coordinate_descent.py:525: ConvergenceWarning: Objective did not converge. You might want to increase the number of iterations. Duality gap: 88170657934.83635, tolerance: 23683385.080771595\n",
      "  model = cd_fast.enet_coordinate_descent_gram(\n",
      "C:\\Users\\alanp\\anaconda3\\envs\\dhdsblend2021\\lib\\site-packages\\sklearn\\linear_model\\_coordinate_descent.py:525: ConvergenceWarning: Objective did not converge. You might want to increase the number of iterations. Duality gap: 88180884038.11748, tolerance: 23683385.080771595\n",
      "  model = cd_fast.enet_coordinate_descent_gram(\n",
      "C:\\Users\\alanp\\anaconda3\\envs\\dhdsblend2021\\lib\\site-packages\\sklearn\\linear_model\\_coordinate_descent.py:525: ConvergenceWarning: Objective did not converge. You might want to increase the number of iterations. Duality gap: 4625930391.767975, tolerance: 22107369.42004536\n",
      "  model = cd_fast.enet_coordinate_descent_gram(\n",
      "C:\\Users\\alanp\\anaconda3\\envs\\dhdsblend2021\\lib\\site-packages\\sklearn\\linear_model\\_coordinate_descent.py:525: ConvergenceWarning: Objective did not converge. You might want to increase the number of iterations. Duality gap: 15279550274.96202, tolerance: 22107369.42004536\n",
      "  model = cd_fast.enet_coordinate_descent_gram(\n",
      "C:\\Users\\alanp\\anaconda3\\envs\\dhdsblend2021\\lib\\site-packages\\sklearn\\linear_model\\_coordinate_descent.py:525: ConvergenceWarning: Objective did not converge. You might want to increase the number of iterations. Duality gap: 78715219280.21927, tolerance: 22107369.42004536\n",
      "  model = cd_fast.enet_coordinate_descent_gram(\n",
      "C:\\Users\\alanp\\anaconda3\\envs\\dhdsblend2021\\lib\\site-packages\\sklearn\\linear_model\\_coordinate_descent.py:525: ConvergenceWarning: Objective did not converge. You might want to increase the number of iterations. Duality gap: 79635737511.56534, tolerance: 22107369.42004536\n",
      "  model = cd_fast.enet_coordinate_descent_gram(\n",
      "C:\\Users\\alanp\\anaconda3\\envs\\dhdsblend2021\\lib\\site-packages\\sklearn\\linear_model\\_coordinate_descent.py:525: ConvergenceWarning: Objective did not converge. You might want to increase the number of iterations. Duality gap: 79691248613.05339, tolerance: 22107369.42004536\n",
      "  model = cd_fast.enet_coordinate_descent_gram(\n",
      "C:\\Users\\alanp\\anaconda3\\envs\\dhdsblend2021\\lib\\site-packages\\sklearn\\linear_model\\_coordinate_descent.py:525: ConvergenceWarning: Objective did not converge. You might want to increase the number of iterations. Duality gap: 79724183399.67114, tolerance: 22107369.42004536\n",
      "  model = cd_fast.enet_coordinate_descent_gram(\n",
      "C:\\Users\\alanp\\anaconda3\\envs\\dhdsblend2021\\lib\\site-packages\\sklearn\\linear_model\\_coordinate_descent.py:525: ConvergenceWarning: Objective did not converge. You might want to increase the number of iterations. Duality gap: 79750580030.68362, tolerance: 22107369.42004536\n",
      "  model = cd_fast.enet_coordinate_descent_gram(\n",
      "C:\\Users\\alanp\\anaconda3\\envs\\dhdsblend2021\\lib\\site-packages\\sklearn\\linear_model\\_coordinate_descent.py:525: ConvergenceWarning: Objective did not converge. You might want to increase the number of iterations. Duality gap: 79763833125.8098, tolerance: 22107369.42004536\n",
      "  model = cd_fast.enet_coordinate_descent_gram(\n",
      "C:\\Users\\alanp\\anaconda3\\envs\\dhdsblend2021\\lib\\site-packages\\sklearn\\linear_model\\_coordinate_descent.py:525: ConvergenceWarning: Objective did not converge. You might want to increase the number of iterations. Duality gap: 5165398934.819733, tolerance: 25399234.90785811\n",
      "  model = cd_fast.enet_coordinate_descent_gram(\n",
      "C:\\Users\\alanp\\anaconda3\\envs\\dhdsblend2021\\lib\\site-packages\\sklearn\\linear_model\\_coordinate_descent.py:525: ConvergenceWarning: Objective did not converge. You might want to increase the number of iterations. Duality gap: 16632577193.481415, tolerance: 25399234.90785811\n",
      "  model = cd_fast.enet_coordinate_descent_gram(\n",
      "C:\\Users\\alanp\\anaconda3\\envs\\dhdsblend2021\\lib\\site-packages\\sklearn\\linear_model\\_coordinate_descent.py:525: ConvergenceWarning: Objective did not converge. You might want to increase the number of iterations. Duality gap: 93510461506.16692, tolerance: 25399234.90785811\n",
      "  model = cd_fast.enet_coordinate_descent_gram(\n",
      "C:\\Users\\alanp\\anaconda3\\envs\\dhdsblend2021\\lib\\site-packages\\sklearn\\linear_model\\_coordinate_descent.py:525: ConvergenceWarning: Objective did not converge. You might want to increase the number of iterations. Duality gap: 95440463491.47563, tolerance: 25399234.90785811\n",
      "  model = cd_fast.enet_coordinate_descent_gram(\n",
      "C:\\Users\\alanp\\anaconda3\\envs\\dhdsblend2021\\lib\\site-packages\\sklearn\\linear_model\\_coordinate_descent.py:525: ConvergenceWarning: Objective did not converge. You might want to increase the number of iterations. Duality gap: 95729923288.27942, tolerance: 25399234.90785811\n",
      "  model = cd_fast.enet_coordinate_descent_gram(\n",
      "C:\\Users\\alanp\\anaconda3\\envs\\dhdsblend2021\\lib\\site-packages\\sklearn\\linear_model\\_coordinate_descent.py:525: ConvergenceWarning: Objective did not converge. You might want to increase the number of iterations. Duality gap: 95767966777.41653, tolerance: 25399234.90785811\n",
      "  model = cd_fast.enet_coordinate_descent_gram(\n",
      "C:\\Users\\alanp\\anaconda3\\envs\\dhdsblend2021\\lib\\site-packages\\sklearn\\linear_model\\_coordinate_descent.py:525: ConvergenceWarning: Objective did not converge. You might want to increase the number of iterations. Duality gap: 95795588545.52724, tolerance: 25399234.90785811\n",
      "  model = cd_fast.enet_coordinate_descent_gram(\n",
      "C:\\Users\\alanp\\anaconda3\\envs\\dhdsblend2021\\lib\\site-packages\\sklearn\\linear_model\\_coordinate_descent.py:525: ConvergenceWarning: Objective did not converge. You might want to increase the number of iterations. Duality gap: 95808849421.5062, tolerance: 25399234.90785811\n",
      "  model = cd_fast.enet_coordinate_descent_gram(\n",
      "C:\\Users\\alanp\\anaconda3\\envs\\dhdsblend2021\\lib\\site-packages\\sklearn\\linear_model\\_coordinate_descent.py:525: ConvergenceWarning: Objective did not converge. You might want to increase the number of iterations. Duality gap: 3091584723.647827, tolerance: 22708026.213247027\n",
      "  model = cd_fast.enet_coordinate_descent_gram(\n",
      "C:\\Users\\alanp\\anaconda3\\envs\\dhdsblend2021\\lib\\site-packages\\sklearn\\linear_model\\_coordinate_descent.py:525: ConvergenceWarning: Objective did not converge. You might want to increase the number of iterations. Duality gap: 14404757755.772583, tolerance: 22708026.213247027\n",
      "  model = cd_fast.enet_coordinate_descent_gram(\n",
      "C:\\Users\\alanp\\anaconda3\\envs\\dhdsblend2021\\lib\\site-packages\\sklearn\\linear_model\\_coordinate_descent.py:525: ConvergenceWarning: Objective did not converge. You might want to increase the number of iterations. Duality gap: 81894499069.40936, tolerance: 22708026.213247027\n",
      "  model = cd_fast.enet_coordinate_descent_gram(\n",
      "C:\\Users\\alanp\\anaconda3\\envs\\dhdsblend2021\\lib\\site-packages\\sklearn\\linear_model\\_coordinate_descent.py:525: ConvergenceWarning: Objective did not converge. You might want to increase the number of iterations. Duality gap: 83854874360.48502, tolerance: 22708026.213247027\n",
      "  model = cd_fast.enet_coordinate_descent_gram(\n",
      "C:\\Users\\alanp\\anaconda3\\envs\\dhdsblend2021\\lib\\site-packages\\sklearn\\linear_model\\_coordinate_descent.py:525: ConvergenceWarning: Objective did not converge. You might want to increase the number of iterations. Duality gap: 83876584071.95795, tolerance: 22708026.213247027\n",
      "  model = cd_fast.enet_coordinate_descent_gram(\n",
      "C:\\Users\\alanp\\anaconda3\\envs\\dhdsblend2021\\lib\\site-packages\\sklearn\\linear_model\\_coordinate_descent.py:525: ConvergenceWarning: Objective did not converge. You might want to increase the number of iterations. Duality gap: 83914401962.77795, tolerance: 22708026.213247027\n",
      "  model = cd_fast.enet_coordinate_descent_gram(\n",
      "C:\\Users\\alanp\\anaconda3\\envs\\dhdsblend2021\\lib\\site-packages\\sklearn\\linear_model\\_coordinate_descent.py:525: ConvergenceWarning: Objective did not converge. You might want to increase the number of iterations. Duality gap: 83938146405.18314, tolerance: 22708026.213247027\n",
      "  model = cd_fast.enet_coordinate_descent_gram(\n",
      "C:\\Users\\alanp\\anaconda3\\envs\\dhdsblend2021\\lib\\site-packages\\sklearn\\linear_model\\_coordinate_descent.py:525: ConvergenceWarning: Objective did not converge. You might want to increase the number of iterations. Duality gap: 83948333504.63493, tolerance: 22708026.213247027\n",
      "  model = cd_fast.enet_coordinate_descent_gram(\n",
      "C:\\Users\\alanp\\anaconda3\\envs\\dhdsblend2021\\lib\\site-packages\\sklearn\\linear_model\\_coordinate_descent.py:529: ConvergenceWarning: Objective did not converge. You might want to increase the number of iterations. Duality gap: 111641304856.68184, tolerance: 29750774.30317727\n",
      "  model = cd_fast.enet_coordinate_descent(\n"
     ]
    },
    {
     "data": {
      "text/plain": [
       "(1180.1162319509776,\n",
       " array([-6.88053438e-01,  6.70806972e-01,  1.44791242e+02,  1.02643652e+03,\n",
       "         3.86176772e+01,  1.54891373e+03,  8.56936168e+02, -2.39311357e+02,\n",
       "        -5.51636873e+02, -4.17418684e+02,  4.29554625e+02,  1.65269112e+02,\n",
       "         7.18666986e+03, -3.02642948e+02, -3.93426589e+02, -3.33639636e+02,\n",
       "        -3.28947421e+02, -5.87914125e+02, -6.89398752e+02, -3.40480004e+02,\n",
       "        -3.35402193e+02, -1.18389216e+03,  1.20067527e+02,  2.92971925e+02,\n",
       "         2.19521068e+02,  4.32668224e+02, -6.19618915e+02,  2.78816717e+03,\n",
       "         5.71240980e+02, -2.96815411e+02,  5.67549344e+03, -4.67687772e+02,\n",
       "        -5.51570733e+01, -9.58151696e+01, -1.21936145e+02, -3.44777299e+02,\n",
       "        -4.91028308e+02]),\n",
       " 0.01)"
      ]
     },
     "execution_count": 64,
     "metadata": {},
     "output_type": "execute_result"
    }
   ],
   "source": [
    "#prueba con crossvalidation con Lasso\n",
    "lcv = LassoCV(alphas=(0.0001,0.001,0.01,0.1,1,10,100,1000,10000), cv=5)\n",
    "\n",
    "lcv.fit(X_train,y_train)\n",
    "print('intercept: ',lcv.intercept_,'coef: ', lcv.coef_,'alpha: ', lcv.alpha_)\n",
    "\n",
    "y_pred_lcv = lcv.predict(X_test)\n",
    "\n",
    "metrics.r2_score(y_test, y_pred_lcv)"
   ]
  },
  {
   "cell_type": "markdown",
   "id": "ad179e9a",
   "metadata": {},
   "source": [
    "## Portfolio de Departamentos"
   ]
  },
  {
   "cell_type": "code",
   "execution_count": 66,
   "id": "f4002acf",
   "metadata": {
    "execution": {
     "iopub.execute_input": "2022-06-07T00:11:26.391785Z",
     "iopub.status.busy": "2022-06-07T00:11:26.391785Z",
     "iopub.status.idle": "2022-06-07T00:11:28.037020Z",
     "shell.execute_reply": "2022-06-07T00:11:28.036038Z",
     "shell.execute_reply.started": "2022-06-07T00:11:26.391785Z"
    }
   },
   "outputs": [
    {
     "name": "stdout",
     "output_type": "stream",
     "text": [
      "Nuestro capital inicial es:  30823756.590000004\n",
      "13603379.61\n"
     ]
    }
   ],
   "source": [
    "# Seleccionar mediante muestreo aleatorio simple una submuestra de 100 (cambiar la columna seleccionada por la columna \n",
    "# del modelo, utilicé el precio aproximado en usd ya que posteriormente vamos a estimar un precio en función del precio/m2 \n",
    "# y la superficie)\n",
    "\n",
    "portafolio = df2['price_aprox_usd'].sample(100)\n",
    "portafolio\n",
    "\n",
    "# Determinar capital inicial\n",
    "\n",
    "cap_inicial = portafolio.sum()\n",
    "print('Nuestro capital inicial es: ', cap_inicial)\n",
    "\n",
    "df2['price_usd_per_m2_predic'] = df2.apply(lambda row: row['price_usd_per_m2']*0.8, axis=1)\n",
    "\n",
    "# Determinar el error del precio de las propiedades \n",
    "\n",
    "# Se crea una columna con el precio de predicción\n",
    "# (Cambiar los nombres de las columnas por los nombres de las columnas del modelo)\n",
    "df2['price_aprox_usd_predic'] = df2.apply((lambda row: row['price_usd_per_m2_predic']*row['surface_covered_in_m2']), axis=1)\n",
    "\n",
    "# Se crea una columna con la diferencia entre el precio real y el precio estimado por el modelos. \n",
    "# Se normaliza el error dividiendo por el precio real (cambiar los nombres de las variables)\n",
    "\n",
    "df2['error_normalizado'] = df2.apply((lambda row: (row['price_aprox_usd_predic']-row['price_aprox_usd'])/row['price_aprox_usd']), axis=1)\n",
    "\n",
    "# Se genera una máscara con los índice de las 100 propiedades que más se alejan del valor predicho, con diferencia negativa\n",
    "menor_error_mask= (df2['error_normalizado'].sort_values(ascending=False).head(100)).index\n",
    "\n",
    "\n",
    "# Se calcula el capital que se necesitaría para adquirir las 100 propiedades de menor valor. \n",
    "cap_menor = df2.loc[menor_error_mask,'price_aprox_usd'].sum()\n",
    "print(cap_menor)"
   ]
  },
  {
   "cell_type": "code",
   "execution_count": null,
   "id": "9e8e23c0",
   "metadata": {},
   "outputs": [],
   "source": []
  },
  {
   "cell_type": "code",
   "execution_count": null,
   "id": "83c86bdc",
   "metadata": {},
   "outputs": [],
   "source": []
  },
  {
   "cell_type": "code",
   "execution_count": null,
   "id": "be491f67",
   "metadata": {},
   "outputs": [],
   "source": []
  },
  {
   "cell_type": "code",
   "execution_count": null,
   "id": "ec158ea6",
   "metadata": {},
   "outputs": [],
   "source": []
  },
  {
   "cell_type": "code",
   "execution_count": null,
   "id": "09d5e311",
   "metadata": {},
   "outputs": [],
   "source": []
  }
 ],
 "metadata": {
  "interpreter": {
   "hash": "e92f0bda4297049adc9b92772b16916edd701ec7184b6bd4967697da34afcdf9"
  },
  "kernelspec": {
   "display_name": "Python 3 (ipykernel)",
   "language": "python",
   "name": "python3"
  },
  "language_info": {
   "codemirror_mode": {
    "name": "ipython",
    "version": 3
   },
   "file_extension": ".py",
   "mimetype": "text/x-python",
   "name": "python",
   "nbconvert_exporter": "python",
   "pygments_lexer": "ipython3",
   "version": "3.8.12"
  }
 },
 "nbformat": 4,
 "nbformat_minor": 5
}
