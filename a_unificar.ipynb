{
 "cells": [
  {
   "cell_type": "markdown",
   "id": "f75321c0",
   "metadata": {},
   "source": [
    "# La celda de abajo agregarla al final de la imputación de Julio en las superficies. "
   ]
  },
  {
   "cell_type": "code",
   "execution_count": 41,
   "id": "9fa6aba9",
   "metadata": {
    "execution": {
     "iopub.execute_input": "2022-06-07T00:09:47.186094Z",
     "iopub.status.busy": "2022-06-07T00:09:47.185094Z",
     "iopub.status.idle": "2022-06-07T00:09:48.477084Z",
     "shell.execute_reply": "2022-06-07T00:09:48.476083Z",
     "shell.execute_reply.started": "2022-06-07T00:09:47.186094Z"
    }
   },
   "outputs": [
    {
     "name": "stdout",
     "output_type": "stream",
     "text": [
      "Datos a imputar en sup_total:  4887\n",
      "<class 'pandas.core.frame.DataFrame'>\n",
      "Int64Index: 30952 entries, 0 to 121219\n",
      "Data columns (total 18 columns):\n",
      " #   Column                      Non-Null Count  Dtype  \n",
      "---  ------                      --------------  -----  \n",
      " 0   property_type               30952 non-null  object \n",
      " 1   place_name                  30952 non-null  object \n",
      " 2   price_aprox_local_currency  27828 non-null  float64\n",
      " 3   price_aprox_usd             27828 non-null  float64\n",
      " 4   surface_total_in_m2         30259 non-null  float64\n",
      " 5   surface_covered_in_m2       28882 non-null  float64\n",
      " 6   price_usd_per_m2            22519 non-null  float64\n",
      " 7   price_per_m2                26276 non-null  float64\n",
      " 8   properati_url               30952 non-null  object \n",
      " 9   description                 30952 non-null  object \n",
      " 10  title                       30952 non-null  object \n",
      " 11  image_thumbnail             30477 non-null  object \n",
      " 12  tiene_jardin                30952 non-null  float64\n",
      " 13  tiene_cochera               30952 non-null  float64\n",
      " 14  tiene_pileta                30952 non-null  float64\n",
      " 15  tiene_parrilla              30952 non-null  float64\n",
      " 16  ambientes                   13027 non-null  float64\n",
      " 17  cuota                       30952 non-null  int64  \n",
      "dtypes: float64(11), int64(1), object(6)\n",
      "memory usage: 5.7+ MB\n"
     ]
    },
    {
     "data": {
      "text/plain": [
       "None"
      ]
     },
     "metadata": {},
     "output_type": "display_data"
    },
    {
     "name": "stdout",
     "output_type": "stream",
     "text": [
      "Datos a imputar en sup_cubierta:  1377\n",
      "<class 'pandas.core.frame.DataFrame'>\n",
      "Int64Index: 30952 entries, 0 to 121219\n",
      "Data columns (total 18 columns):\n",
      " #   Column                      Non-Null Count  Dtype  \n",
      "---  ------                      --------------  -----  \n",
      " 0   property_type               30952 non-null  object \n",
      " 1   place_name                  30952 non-null  object \n",
      " 2   price_aprox_local_currency  27828 non-null  float64\n",
      " 3   price_aprox_usd             27828 non-null  float64\n",
      " 4   surface_total_in_m2         30259 non-null  float64\n",
      " 5   surface_covered_in_m2       30259 non-null  float64\n",
      " 6   price_usd_per_m2            22519 non-null  float64\n",
      " 7   price_per_m2                26276 non-null  float64\n",
      " 8   properati_url               30952 non-null  object \n",
      " 9   description                 30952 non-null  object \n",
      " 10  title                       30952 non-null  object \n",
      " 11  image_thumbnail             30477 non-null  object \n",
      " 12  tiene_jardin                30952 non-null  float64\n",
      " 13  tiene_cochera               30952 non-null  float64\n",
      " 14  tiene_pileta                30952 non-null  float64\n",
      " 15  tiene_parrilla              30952 non-null  float64\n",
      " 16  ambientes                   13027 non-null  float64\n",
      " 17  cuota                       30952 non-null  int64  \n",
      "dtypes: float64(11), int64(1), object(6)\n",
      "memory usage: 5.7+ MB\n"
     ]
    },
    {
     "data": {
      "text/plain": [
       "None"
      ]
     },
     "metadata": {},
     "output_type": "display_data"
    }
   ],
   "source": [
    "# Imputo los valores de superficie cubierta y total, considerando que si tengo uno solo de los dos, son el mismo valor\n",
    "\n",
    "# Imputo superficie total con los datos de cuubierta\n",
    "mask_sup_cov = (df2['surface_covered_in_m2'].notna()) & (df2['surface_total_in_m2'].isna())\n",
    "print('Datos a imputar en sup_total: ',mask_sup_cov.sum())\n",
    "\n",
    "def compl_m2_cub (row):\n",
    "    if row['surface_total_in_m2']>=0:\n",
    "        result = row['surface_total_in_m2']\n",
    "    else:\n",
    "        result = row['surface_covered_in_m2']\n",
    "    return result\n",
    "\n",
    "df2['surface_total_in_m2'] = df2.apply(compl_m2_cub, axis = 1)\n",
    "display(df2.info())\n",
    "\n",
    "# Imputo superficie cubierta con los datos de total\n",
    "mask_sup_cov = (df2['surface_total_in_m2'].notna()) & (df2['surface_covered_in_m2'].isna())\n",
    "print('Datos a imputar en sup_cubierta: ',mask_sup_cov.sum())\n",
    "\n",
    "def compl_m2_tot (row):\n",
    "    if row['surface_covered_in_m2']>=0:\n",
    "        result = row['surface_covered_in_m2']\n",
    "    else:\n",
    "        result = row['surface_total_in_m2']\n",
    "    return result\n",
    "\n",
    "df2['surface_covered_in_m2'] = df2.apply(compl_m2_tot, axis = 1)\n",
    "display(df2.info())"
   ]
  },
  {
   "cell_type": "markdown",
   "id": "b5c52e1d",
   "metadata": {},
   "source": [
    "# Esto se agregar en la parte de test modelado básico, después de la importación y la reducción de lugares con pocos datos, pero antes de los demás modelados, es un modelado separado sobre menos features"
   ]
  },
  {
   "cell_type": "markdown",
   "id": "5e67bbcf",
   "metadata": {},
   "source": [
    "### Modelado SOLO con place_name y property_type y sin stratify"
   ]
  },
  {
   "cell_type": "code",
   "execution_count": 82,
   "id": "d0d55c34",
   "metadata": {
    "execution": {
     "iopub.execute_input": "2022-06-07T00:20:56.114502Z",
     "iopub.status.busy": "2022-06-07T00:20:56.113517Z",
     "iopub.status.idle": "2022-06-07T00:20:56.147503Z",
     "shell.execute_reply": "2022-06-07T00:20:56.146515Z",
     "shell.execute_reply.started": "2022-06-07T00:20:56.114502Z"
    }
   },
   "outputs": [
    {
     "data": {
      "text/plain": [
       "((24041, 31), (24041,), (18030, 31), (6011, 31), (18030,), (6011,))"
      ]
     },
     "execution_count": 82,
     "metadata": {},
     "output_type": "execute_result"
    }
   ],
   "source": [
    "# Selecciono las columnas que considero features para modelar \n",
    "X = df2.loc[:,['property_type','place_name']]\n",
    "y = df2['price_usd_per_m2']\n",
    "\n",
    "# Convierto a dummies las categóricas\n",
    "X = pd.get_dummies(X,drop_first=True)\n",
    "\n",
    "# Separo en train/test\n",
    "X_train, X_test, y_train, y_test = train_test_split(X,y,random_state=33)\n",
    "\n",
    "X.shape, y.shape, X_train.shape,X_test.shape, y_train.shape, y_test.shape"
   ]
  },
  {
   "cell_type": "code",
   "execution_count": 83,
   "id": "e9fc6b69",
   "metadata": {
    "execution": {
     "iopub.execute_input": "2022-06-07T00:20:59.494758Z",
     "iopub.status.busy": "2022-06-07T00:20:59.494758Z",
     "iopub.status.idle": "2022-06-07T00:21:00.636740Z",
     "shell.execute_reply": "2022-06-07T00:21:00.635740Z",
     "shell.execute_reply.started": "2022-06-07T00:20:59.494758Z"
    }
   },
   "outputs": [
    {
     "name": "stdout",
     "output_type": "stream",
     "text": [
      "intercept:  1407.153115291106 coef:  [ 1224.48695568    21.2178587  -1001.51514817  -622.96873516\n",
      "   143.5921864    160.52842616  7812.44619962  -444.12004447\n",
      "  -438.52358608  -389.30925439  -564.05087969  -714.19593336\n",
      "  -999.67948195  -638.19708162  -604.39579306 -1187.00404765\n",
      "    75.22120581   199.43264399   359.22542444   500.48172768\n",
      "  -647.2190963   2587.71815855   235.08821982  -235.58776892\n",
      "  5644.6010124   -529.05364222  -282.3774712   -334.70118548\n",
      "  -399.18280479  -409.85047452  -561.65550654] alpha:  10.0\n"
     ]
    },
    {
     "data": {
      "text/plain": [
       "0.22245471068939204"
      ]
     },
     "execution_count": 83,
     "metadata": {},
     "output_type": "execute_result"
    }
   ],
   "source": [
    "#prueba con crossvalidation con Ridge\n",
    "rcv = RidgeCV(alphas=(0.0001,0.001,0.01,0.1,1,10,100,1000,10000), cv=5)\n",
    "\n",
    "rcv.fit(X_train,y_train)\n",
    "print('intercept: ',rcv.intercept_,'coef: ', rcv.coef_,'alpha: ', rcv.alpha_)\n",
    "\n",
    "y_pred_rcv = rcv.predict(X_test)\n",
    "\n",
    "metrics.r2_score(y_test, y_pred_rcv)"
   ]
  },
  {
   "cell_type": "code",
   "execution_count": null,
   "id": "1583292b",
   "metadata": {},
   "outputs": [],
   "source": []
  },
  {
   "cell_type": "code",
   "execution_count": null,
   "id": "79930db2",
   "metadata": {},
   "outputs": [],
   "source": []
  },
  {
   "cell_type": "code",
   "execution_count": null,
   "id": "c1e84bb4",
   "metadata": {},
   "outputs": [],
   "source": []
  },
  {
   "cell_type": "code",
   "execution_count": null,
   "id": "ae7004b2",
   "metadata": {},
   "outputs": [],
   "source": []
  },
  {
   "cell_type": "code",
   "execution_count": null,
   "id": "d41d6f99",
   "metadata": {},
   "outputs": [],
   "source": []
  },
  {
   "cell_type": "code",
   "execution_count": null,
   "id": "ac9e10f6",
   "metadata": {},
   "outputs": [],
   "source": []
  }
 ],
 "metadata": {
  "interpreter": {
   "hash": "e92f0bda4297049adc9b92772b16916edd701ec7184b6bd4967697da34afcdf9"
  },
  "kernelspec": {
   "display_name": "Python 3 (ipykernel)",
   "language": "python",
   "name": "python3"
  },
  "language_info": {
   "codemirror_mode": {
    "name": "ipython",
    "version": 3
   },
   "file_extension": ".py",
   "mimetype": "text/x-python",
   "name": "python",
   "nbconvert_exporter": "python",
   "pygments_lexer": "ipython3",
   "version": "3.8.12"
  }
 },
 "nbformat": 4,
 "nbformat_minor": 5
}
