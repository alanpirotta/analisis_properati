{
 "cells": [
  {
   "cell_type": "markdown",
   "id": "43660491",
   "metadata": {},
   "source": [
    "# Workshop N°1"
   ]
  },
  {
   "cell_type": "code",
   "execution_count": 1,
   "id": "7dfb598b",
   "metadata": {
    "execution": {
     "iopub.execute_input": "2022-05-12T02:28:41.947541Z",
     "iopub.status.busy": "2022-05-12T02:28:41.946540Z",
     "iopub.status.idle": "2022-05-12T02:28:43.604843Z",
     "shell.execute_reply": "2022-05-12T02:28:43.603872Z",
     "shell.execute_reply.started": "2022-05-12T02:28:41.947541Z"
    }
   },
   "outputs": [],
   "source": [
    "import pandas as pd\n",
    "import numpy as np\n",
    "import re\n",
    "import seaborn as sns\n",
    "import matplotlib.pyplot as plt"
   ]
  },
  {
   "cell_type": "code",
   "execution_count": 2,
   "id": "77ec18e0",
   "metadata": {
    "execution": {
     "iopub.execute_input": "2022-05-12T02:28:43.606827Z",
     "iopub.status.busy": "2022-05-12T02:28:43.606827Z",
     "iopub.status.idle": "2022-05-12T02:28:45.551871Z",
     "shell.execute_reply": "2022-05-12T02:28:45.550888Z",
     "shell.execute_reply.started": "2022-05-12T02:28:43.606827Z"
    }
   },
   "outputs": [
    {
     "name": "stdout",
     "output_type": "stream",
     "text": [
      "(121220, 26)\n"
     ]
    },
    {
     "data": {
      "text/html": [
       "<div>\n",
       "<style scoped>\n",
       "    .dataframe tbody tr th:only-of-type {\n",
       "        vertical-align: middle;\n",
       "    }\n",
       "\n",
       "    .dataframe tbody tr th {\n",
       "        vertical-align: top;\n",
       "    }\n",
       "\n",
       "    .dataframe thead th {\n",
       "        text-align: right;\n",
       "    }\n",
       "</style>\n",
       "<table border=\"1\" class=\"dataframe\">\n",
       "  <thead>\n",
       "    <tr style=\"text-align: right;\">\n",
       "      <th></th>\n",
       "      <th>Unnamed: 0</th>\n",
       "      <th>operation</th>\n",
       "      <th>property_type</th>\n",
       "      <th>place_name</th>\n",
       "      <th>place_with_parent_names</th>\n",
       "      <th>country_name</th>\n",
       "      <th>state_name</th>\n",
       "      <th>geonames_id</th>\n",
       "      <th>lat-lon</th>\n",
       "      <th>lat</th>\n",
       "      <th>...</th>\n",
       "      <th>surface_covered_in_m2</th>\n",
       "      <th>price_usd_per_m2</th>\n",
       "      <th>price_per_m2</th>\n",
       "      <th>floor</th>\n",
       "      <th>rooms</th>\n",
       "      <th>expenses</th>\n",
       "      <th>properati_url</th>\n",
       "      <th>description</th>\n",
       "      <th>title</th>\n",
       "      <th>image_thumbnail</th>\n",
       "    </tr>\n",
       "  </thead>\n",
       "  <tbody>\n",
       "    <tr>\n",
       "      <th>0</th>\n",
       "      <td>0</td>\n",
       "      <td>sell</td>\n",
       "      <td>PH</td>\n",
       "      <td>Mataderos</td>\n",
       "      <td>|Argentina|Capital Federal|Mataderos|</td>\n",
       "      <td>Argentina</td>\n",
       "      <td>Capital Federal</td>\n",
       "      <td>3430787.0</td>\n",
       "      <td>-34.6618237,-58.5088387</td>\n",
       "      <td>-34.661824</td>\n",
       "      <td>...</td>\n",
       "      <td>40.0</td>\n",
       "      <td>1127.272727</td>\n",
       "      <td>1550.000000</td>\n",
       "      <td>NaN</td>\n",
       "      <td>NaN</td>\n",
       "      <td>NaN</td>\n",
       "      <td>http://www.properati.com.ar/15bo8_venta_ph_mat...</td>\n",
       "      <td>2 AMBIENTES TIPO CASA PLANTA BAJA POR PASILLO,...</td>\n",
       "      <td>2 AMB TIPO CASA SIN EXPENSAS EN PB</td>\n",
       "      <td>https://thumbs4.properati.com/8/BluUYiHJLhgIIK...</td>\n",
       "    </tr>\n",
       "    <tr>\n",
       "      <th>1</th>\n",
       "      <td>1</td>\n",
       "      <td>sell</td>\n",
       "      <td>apartment</td>\n",
       "      <td>La Plata</td>\n",
       "      <td>|Argentina|Bs.As. G.B.A. Zona Sur|La Plata|</td>\n",
       "      <td>Argentina</td>\n",
       "      <td>Bs.As. G.B.A. Zona Sur</td>\n",
       "      <td>3432039.0</td>\n",
       "      <td>-34.9038831,-57.9643295</td>\n",
       "      <td>-34.903883</td>\n",
       "      <td>...</td>\n",
       "      <td>NaN</td>\n",
       "      <td>NaN</td>\n",
       "      <td>NaN</td>\n",
       "      <td>NaN</td>\n",
       "      <td>NaN</td>\n",
       "      <td>NaN</td>\n",
       "      <td>http://www.properati.com.ar/15bob_venta_depart...</td>\n",
       "      <td>Venta de departamento en décimo piso al frente...</td>\n",
       "      <td>VENTA Depto 2 dorm. a estrenar 7 e/ 36 y 37   ...</td>\n",
       "      <td>https://thumbs4.properati.com/7/ikpVBu2ztHA7jv...</td>\n",
       "    </tr>\n",
       "    <tr>\n",
       "      <th>2</th>\n",
       "      <td>2</td>\n",
       "      <td>sell</td>\n",
       "      <td>apartment</td>\n",
       "      <td>Mataderos</td>\n",
       "      <td>|Argentina|Capital Federal|Mataderos|</td>\n",
       "      <td>Argentina</td>\n",
       "      <td>Capital Federal</td>\n",
       "      <td>3430787.0</td>\n",
       "      <td>-34.6522615,-58.5229825</td>\n",
       "      <td>-34.652262</td>\n",
       "      <td>...</td>\n",
       "      <td>55.0</td>\n",
       "      <td>1309.090909</td>\n",
       "      <td>1309.090909</td>\n",
       "      <td>NaN</td>\n",
       "      <td>NaN</td>\n",
       "      <td>NaN</td>\n",
       "      <td>http://www.properati.com.ar/15bod_venta_depart...</td>\n",
       "      <td>2 AMBIENTES 3ER PISO LATERAL LIVING COMEDOR AM...</td>\n",
       "      <td>2 AMB 3ER PISO CON ASCENSOR APTO CREDITO</td>\n",
       "      <td>https://thumbs4.properati.com/5/SXKr34F_IwG3W_...</td>\n",
       "    </tr>\n",
       "  </tbody>\n",
       "</table>\n",
       "<p>3 rows × 26 columns</p>\n",
       "</div>"
      ],
      "text/plain": [
       "   Unnamed: 0 operation property_type place_name  \\\n",
       "0           0      sell            PH  Mataderos   \n",
       "1           1      sell     apartment   La Plata   \n",
       "2           2      sell     apartment  Mataderos   \n",
       "\n",
       "                       place_with_parent_names country_name  \\\n",
       "0        |Argentina|Capital Federal|Mataderos|    Argentina   \n",
       "1  |Argentina|Bs.As. G.B.A. Zona Sur|La Plata|    Argentina   \n",
       "2        |Argentina|Capital Federal|Mataderos|    Argentina   \n",
       "\n",
       "               state_name  geonames_id                  lat-lon        lat  \\\n",
       "0         Capital Federal    3430787.0  -34.6618237,-58.5088387 -34.661824   \n",
       "1  Bs.As. G.B.A. Zona Sur    3432039.0  -34.9038831,-57.9643295 -34.903883   \n",
       "2         Capital Federal    3430787.0  -34.6522615,-58.5229825 -34.652262   \n",
       "\n",
       "   ...  surface_covered_in_m2  price_usd_per_m2 price_per_m2  floor  rooms  \\\n",
       "0  ...                   40.0       1127.272727  1550.000000    NaN    NaN   \n",
       "1  ...                    NaN               NaN          NaN    NaN    NaN   \n",
       "2  ...                   55.0       1309.090909  1309.090909    NaN    NaN   \n",
       "\n",
       "   expenses                                      properati_url  \\\n",
       "0       NaN  http://www.properati.com.ar/15bo8_venta_ph_mat...   \n",
       "1       NaN  http://www.properati.com.ar/15bob_venta_depart...   \n",
       "2       NaN  http://www.properati.com.ar/15bod_venta_depart...   \n",
       "\n",
       "                                         description  \\\n",
       "0  2 AMBIENTES TIPO CASA PLANTA BAJA POR PASILLO,...   \n",
       "1  Venta de departamento en décimo piso al frente...   \n",
       "2  2 AMBIENTES 3ER PISO LATERAL LIVING COMEDOR AM...   \n",
       "\n",
       "                                               title  \\\n",
       "0                 2 AMB TIPO CASA SIN EXPENSAS EN PB   \n",
       "1  VENTA Depto 2 dorm. a estrenar 7 e/ 36 y 37   ...   \n",
       "2           2 AMB 3ER PISO CON ASCENSOR APTO CREDITO   \n",
       "\n",
       "                                     image_thumbnail  \n",
       "0  https://thumbs4.properati.com/8/BluUYiHJLhgIIK...  \n",
       "1  https://thumbs4.properati.com/7/ikpVBu2ztHA7jv...  \n",
       "2  https://thumbs4.properati.com/5/SXKr34F_IwG3W_...  \n",
       "\n",
       "[3 rows x 26 columns]"
      ]
     },
     "execution_count": 2,
     "metadata": {},
     "output_type": "execute_result"
    }
   ],
   "source": [
    "# Dataset properati\n",
    "data_location = 'data/properati.csv'\n",
    "\n",
    "data = pd.read_csv(data_location)\n",
    "\n",
    "print(np.shape(data))\n",
    "\n",
    "data.head(3)"
   ]
  },
  {
   "cell_type": "markdown",
   "id": "6b067b39",
   "metadata": {},
   "source": [
    "\n",
    "Determinar la calidad de información en las columnas y parámetros estadísticos.\n",
    "El objetivo es entender la calidad de datos que poseen las columnas\n",
    "\n"
   ]
  },
  {
   "cell_type": "code",
   "execution_count": 3,
   "id": "e35d526e",
   "metadata": {
    "execution": {
     "iopub.execute_input": "2022-05-12T02:28:45.556870Z",
     "iopub.status.busy": "2022-05-12T02:28:45.556870Z",
     "iopub.status.idle": "2022-05-12T02:28:45.677449Z",
     "shell.execute_reply": "2022-05-12T02:28:45.676450Z",
     "shell.execute_reply.started": "2022-05-12T02:28:45.556870Z"
    }
   },
   "outputs": [
    {
     "data": {
      "text/plain": [
       "(Unnamed: 0                    121220\n",
       " operation                     121220\n",
       " property_type                 121220\n",
       " place_name                    121197\n",
       " place_with_parent_names       121220\n",
       " country_name                  121220\n",
       " state_name                    121220\n",
       " geonames_id                   102503\n",
       " lat-lon                        69670\n",
       " lat                            69670\n",
       " lon                            69670\n",
       " price                         100810\n",
       " currency                      100809\n",
       " price_aprox_local_currency    100810\n",
       " price_aprox_usd               100810\n",
       " surface_total_in_m2            81892\n",
       " surface_covered_in_m2         101313\n",
       " price_usd_per_m2               68617\n",
       " price_per_m2                   87658\n",
       " floor                           7899\n",
       " rooms                          47390\n",
       " expenses                       14262\n",
       " properati_url                 121220\n",
       " description                   121218\n",
       " title                         121220\n",
       " image_thumbnail               118108\n",
       " dtype: int64,\n",
       " Unnamed: 0                    100.000000\n",
       " operation                     100.000000\n",
       " property_type                 100.000000\n",
       " place_name                     99.981026\n",
       " place_with_parent_names       100.000000\n",
       " country_name                  100.000000\n",
       " state_name                    100.000000\n",
       " geonames_id                    84.559479\n",
       " lat-lon                        57.474014\n",
       " lat                            57.474014\n",
       " lon                            57.474014\n",
       " price                          83.162844\n",
       " currency                       83.162019\n",
       " price_aprox_local_currency     83.162844\n",
       " price_aprox_usd                83.162844\n",
       " surface_total_in_m2            67.556509\n",
       " surface_covered_in_m2          83.577792\n",
       " price_usd_per_m2               56.605346\n",
       " price_per_m2                   72.313150\n",
       " floor                           6.516251\n",
       " rooms                          39.094209\n",
       " expenses                       11.765385\n",
       " properati_url                 100.000000\n",
       " description                    99.998350\n",
       " title                         100.000000\n",
       " image_thumbnail                97.432767\n",
       " dtype: float64)"
      ]
     },
     "execution_count": 3,
     "metadata": {},
     "output_type": "execute_result"
    }
   ],
   "source": [
    "# Cantidad de datos por columna\n",
    "no_nulos = data.notnull().sum()\n",
    "no_nulos_porcentual = no_nulos/(data.shape[0])*100\n",
    "no_nulos, no_nulos_porcentual"
   ]
  },
  {
   "cell_type": "code",
   "execution_count": 4,
   "id": "4f84d9ab",
   "metadata": {
    "execution": {
     "iopub.execute_input": "2022-05-12T02:28:45.679452Z",
     "iopub.status.busy": "2022-05-12T02:28:45.679452Z",
     "iopub.status.idle": "2022-05-12T02:28:45.771452Z",
     "shell.execute_reply": "2022-05-12T02:28:45.770452Z",
     "shell.execute_reply.started": "2022-05-12T02:28:45.679452Z"
    }
   },
   "outputs": [
    {
     "data": {
      "text/html": [
       "<div>\n",
       "<style scoped>\n",
       "    .dataframe tbody tr th:only-of-type {\n",
       "        vertical-align: middle;\n",
       "    }\n",
       "\n",
       "    .dataframe tbody tr th {\n",
       "        vertical-align: top;\n",
       "    }\n",
       "\n",
       "    .dataframe thead th {\n",
       "        text-align: right;\n",
       "    }\n",
       "</style>\n",
       "<table border=\"1\" class=\"dataframe\">\n",
       "  <thead>\n",
       "    <tr style=\"text-align: right;\">\n",
       "      <th></th>\n",
       "      <th>price</th>\n",
       "      <th>price_aprox_local_currency</th>\n",
       "      <th>price_aprox_usd</th>\n",
       "      <th>surface_total_in_m2</th>\n",
       "      <th>surface_covered_in_m2</th>\n",
       "    </tr>\n",
       "  </thead>\n",
       "  <tbody>\n",
       "    <tr>\n",
       "      <th>count</th>\n",
       "      <td>1.008100e+05</td>\n",
       "      <td>1.008100e+05</td>\n",
       "      <td>1.008100e+05</td>\n",
       "      <td>81892.000000</td>\n",
       "      <td>101313.000000</td>\n",
       "    </tr>\n",
       "    <tr>\n",
       "      <th>mean</th>\n",
       "      <td>4.685259e+05</td>\n",
       "      <td>4.229397e+06</td>\n",
       "      <td>2.397006e+05</td>\n",
       "      <td>233.795328</td>\n",
       "      <td>133.050181</td>\n",
       "    </tr>\n",
       "    <tr>\n",
       "      <th>std</th>\n",
       "      <td>2.260101e+06</td>\n",
       "      <td>6.904714e+06</td>\n",
       "      <td>3.913239e+05</td>\n",
       "      <td>1782.222147</td>\n",
       "      <td>724.351479</td>\n",
       "    </tr>\n",
       "    <tr>\n",
       "      <th>min</th>\n",
       "      <td>0.000000e+00</td>\n",
       "      <td>0.000000e+00</td>\n",
       "      <td>0.000000e+00</td>\n",
       "      <td>0.000000</td>\n",
       "      <td>0.000000</td>\n",
       "    </tr>\n",
       "    <tr>\n",
       "      <th>25%</th>\n",
       "      <td>1.100000e+05</td>\n",
       "      <td>1.583309e+06</td>\n",
       "      <td>8.973388e+04</td>\n",
       "      <td>50.000000</td>\n",
       "      <td>45.000000</td>\n",
       "    </tr>\n",
       "    <tr>\n",
       "      <th>50%</th>\n",
       "      <td>1.850000e+05</td>\n",
       "      <td>2.558452e+06</td>\n",
       "      <td>1.450000e+05</td>\n",
       "      <td>84.000000</td>\n",
       "      <td>75.000000</td>\n",
       "    </tr>\n",
       "    <tr>\n",
       "      <th>75%</th>\n",
       "      <td>4.200000e+05</td>\n",
       "      <td>4.675792e+06</td>\n",
       "      <td>2.650000e+05</td>\n",
       "      <td>200.000000</td>\n",
       "      <td>150.000000</td>\n",
       "    </tr>\n",
       "    <tr>\n",
       "      <th>max</th>\n",
       "      <td>6.500000e+08</td>\n",
       "      <td>8.212711e+08</td>\n",
       "      <td>4.654544e+07</td>\n",
       "      <td>200000.000000</td>\n",
       "      <td>187000.000000</td>\n",
       "    </tr>\n",
       "  </tbody>\n",
       "</table>\n",
       "</div>"
      ],
      "text/plain": [
       "              price  price_aprox_local_currency  price_aprox_usd  \\\n",
       "count  1.008100e+05                1.008100e+05     1.008100e+05   \n",
       "mean   4.685259e+05                4.229397e+06     2.397006e+05   \n",
       "std    2.260101e+06                6.904714e+06     3.913239e+05   \n",
       "min    0.000000e+00                0.000000e+00     0.000000e+00   \n",
       "25%    1.100000e+05                1.583309e+06     8.973388e+04   \n",
       "50%    1.850000e+05                2.558452e+06     1.450000e+05   \n",
       "75%    4.200000e+05                4.675792e+06     2.650000e+05   \n",
       "max    6.500000e+08                8.212711e+08     4.654544e+07   \n",
       "\n",
       "       surface_total_in_m2  surface_covered_in_m2  \n",
       "count         81892.000000          101313.000000  \n",
       "mean            233.795328             133.050181  \n",
       "std            1782.222147             724.351479  \n",
       "min               0.000000               0.000000  \n",
       "25%              50.000000              45.000000  \n",
       "50%              84.000000              75.000000  \n",
       "75%             200.000000             150.000000  \n",
       "max          200000.000000          187000.000000  "
      ]
     },
     "execution_count": 4,
     "metadata": {},
     "output_type": "execute_result"
    }
   ],
   "source": [
    "#Parámetros estadísticos\n",
    "data[['price','price_aprox_local_currency','price_aprox_usd','surface_total_in_m2','surface_covered_in_m2']].describe()"
   ]
  },
  {
   "cell_type": "code",
   "execution_count": 5,
   "id": "99bf9e2c",
   "metadata": {
    "execution": {
     "iopub.execute_input": "2022-05-12T02:28:45.772451Z",
     "iopub.status.busy": "2022-05-12T02:28:45.772451Z",
     "iopub.status.idle": "2022-05-12T02:28:45.863452Z",
     "shell.execute_reply": "2022-05-12T02:28:45.862451Z",
     "shell.execute_reply.started": "2022-05-12T02:28:45.772451Z"
    },
    "scrolled": true
   },
   "outputs": [
    {
     "data": {
      "text/html": [
       "<div>\n",
       "<style scoped>\n",
       "    .dataframe tbody tr th:only-of-type {\n",
       "        vertical-align: middle;\n",
       "    }\n",
       "\n",
       "    .dataframe tbody tr th {\n",
       "        vertical-align: top;\n",
       "    }\n",
       "\n",
       "    .dataframe thead th {\n",
       "        text-align: right;\n",
       "    }\n",
       "</style>\n",
       "<table border=\"1\" class=\"dataframe\">\n",
       "  <thead>\n",
       "    <tr style=\"text-align: right;\">\n",
       "      <th></th>\n",
       "      <th>surface_total_in_m2</th>\n",
       "      <th>surface_covered_in_m2</th>\n",
       "    </tr>\n",
       "    <tr>\n",
       "      <th>property_type</th>\n",
       "      <th></th>\n",
       "      <th></th>\n",
       "    </tr>\n",
       "  </thead>\n",
       "  <tbody>\n",
       "    <tr>\n",
       "      <th>PH</th>\n",
       "      <td>90.0</td>\n",
       "      <td>73.0</td>\n",
       "    </tr>\n",
       "    <tr>\n",
       "      <th>apartment</th>\n",
       "      <td>59.0</td>\n",
       "      <td>52.0</td>\n",
       "    </tr>\n",
       "    <tr>\n",
       "      <th>house</th>\n",
       "      <td>278.0</td>\n",
       "      <td>180.0</td>\n",
       "    </tr>\n",
       "    <tr>\n",
       "      <th>store</th>\n",
       "      <td>154.0</td>\n",
       "      <td>120.0</td>\n",
       "    </tr>\n",
       "  </tbody>\n",
       "</table>\n",
       "</div>"
      ],
      "text/plain": [
       "               surface_total_in_m2  surface_covered_in_m2\n",
       "property_type                                            \n",
       "PH                            90.0                   73.0\n",
       "apartment                     59.0                   52.0\n",
       "house                        278.0                  180.0\n",
       "store                        154.0                  120.0"
      ]
     },
     "execution_count": 5,
     "metadata": {},
     "output_type": "execute_result"
    }
   ],
   "source": [
    "df_median = data.groupby(['property_type']).median()\n",
    "df_median.loc[:, ['surface_total_in_m2','surface_covered_in_m2']]"
   ]
  },
  {
   "cell_type": "markdown",
   "id": "33699776",
   "metadata": {},
   "source": [
    "Buscar datos faltantes en la descripción usando expresiones regulares"
   ]
  },
  {
   "cell_type": "code",
   "execution_count": 6,
   "id": "bca60713",
   "metadata": {
    "execution": {
     "iopub.execute_input": "2022-05-12T02:28:45.865453Z",
     "iopub.status.busy": "2022-05-12T02:28:45.864453Z",
     "iopub.status.idle": "2022-05-12T02:28:54.639460Z",
     "shell.execute_reply": "2022-05-12T02:28:54.638477Z",
     "shell.execute_reply.started": "2022-05-12T02:28:45.865453Z"
    }
   },
   "outputs": [],
   "source": [
    "#regex\n",
    "\n",
    "patron_duplex = '(?P<m2>\\d\\d\\d+\\s\\s*m2|M2)|(?P<ambiente>\\d+\\sambiente|\\d+\\sAMBIENTE)|(?P<balcon>balcon|BALCON)|(?P<planta_alta>planta\\salta|PLANTA\\sALTA)|(?P<patio>patio|PATIO)|(?P<duplex>duplex|DUPLEX)'\n",
    "patron_duplex_regex = re.compile(patron_duplex)\n",
    "data_duplex_match = data.description.apply(lambda x : patron_duplex_regex.search(str(x)))\n",
    "\n",
    "data_m2 = data_duplex_match.apply(lambda x: x if x is None else x.group('m2'))\n",
    "\n",
    "\n",
    "data_ambientes = data_duplex_match.apply(lambda x: x if x is None else x.group('ambiente'))\n",
    "\n",
    "data_balcon = data_duplex_match.apply(lambda x: x if x is None else x.group('balcon'))\n",
    "\n",
    "data_patio = data_duplex_match.apply(lambda x: x if x is None else x.group('patio'))\n",
    "\n",
    "data_duplex = data_duplex_match.apply(lambda x: x if x is None else x.group('duplex'))\n",
    "\n",
    "data_planta_alta = data_duplex_match.apply(lambda x: x if x is None else x.group('planta_alta'))\n",
    "\n",
    "#Creación de data frame con regex\n",
    "data_regex_df = pd.DataFrame({'data_m2':data_m2,'data_ambientes': data_ambientes, 'data_balcon': data_balcon,'data_patio': data_patio, 'data_duplex': data_duplex, 'data_planta_alta': data_planta_alta})\n",
    "data_regex = pd.concat([data_regex_df, data.property_type,data.rooms, data.surface_covered_in_m2, data.surface_total_in_m2], axis=1)\n",
    "\n"
   ]
  },
  {
   "cell_type": "code",
   "execution_count": 7,
   "id": "3475681b",
   "metadata": {
    "execution": {
     "iopub.execute_input": "2022-05-12T02:28:54.640444Z",
     "iopub.status.busy": "2022-05-12T02:28:54.640444Z",
     "iopub.status.idle": "2022-05-12T02:28:54.891449Z",
     "shell.execute_reply": "2022-05-12T02:28:54.890446Z",
     "shell.execute_reply.started": "2022-05-12T02:28:54.640444Z"
    },
    "scrolled": true
   },
   "outputs": [],
   "source": [
    "#metros cuadrados (dejar solo el valor)\n",
    "m2_ = '(?P<num>\\d+)'\n",
    "m2_regex = re.compile(m2_)\n",
    "data_m2_re = data_m2.apply(lambda x: x if x is None else m2_regex.search(x))\n",
    "data_m2_re_num = data_m2_re.apply(lambda x: x if x is None else x.group('num'))\n",
    " \n",
    "#ambientes (dejar solo el valor)\n",
    "amb_ = '(?P<amb>\\d+)'\n",
    "amb_regex = re.compile(amb_)\n",
    "data_amb_re = data_ambientes.apply(lambda x: x if x is None else amb_regex.search(x))\n",
    "data_amb_re_num = data_amb_re.apply(lambda x: 0 if x is None else x.group('amb'))\n",
    "\n",
    "data_m2_re_mach = data_m2_re.apply(lambda x: 0 if x is None else x.group('num'))\n",
    "pd.to_numeric(data_m2_re_mach)\n",
    "pd.to_numeric(data_amb_re_num)\n",
    "data_m2_re_mach.astype(int)\n",
    "data_regex['data_m2'] = data_m2_re_mach\n",
    "data_regex['data_ambientes'] = data_amb_re_num\n"
   ]
  },
  {
   "cell_type": "code",
   "execution_count": 8,
   "id": "8ea5fb13",
   "metadata": {
    "execution": {
     "iopub.execute_input": "2022-05-12T02:28:54.892446Z",
     "iopub.status.busy": "2022-05-12T02:28:54.892446Z",
     "iopub.status.idle": "2022-05-12T02:28:54.906447Z",
     "shell.execute_reply": "2022-05-12T02:28:54.905449Z",
     "shell.execute_reply.started": "2022-05-12T02:28:54.892446Z"
    }
   },
   "outputs": [],
   "source": [
    "#Máscaras sup nulos\n",
    "mask_sup_cov_ = pd.isnull(data.surface_covered_in_m2)\n",
    "mask_sup_tot = pd.isnull(data.surface_total_in_m2)\n",
    "mask_m2 = pd.notnull(data_regex.data_m2) > 0"
   ]
  },
  {
   "cell_type": "code",
   "execution_count": 9,
   "id": "46ba2993",
   "metadata": {
    "execution": {
     "iopub.execute_input": "2022-05-12T02:28:54.908450Z",
     "iopub.status.busy": "2022-05-12T02:28:54.907451Z",
     "iopub.status.idle": "2022-05-12T02:28:56.723346Z",
     "shell.execute_reply": "2022-05-12T02:28:56.722376Z",
     "shell.execute_reply.started": "2022-05-12T02:28:54.908450Z"
    }
   },
   "outputs": [],
   "source": [
    "# Función que completa datos faltantes de superficie con datos extraídos de la descripción.\n",
    "def compl_m2_re (row):\n",
    "    if row['surface_covered_in_m2'] > 0:\n",
    "        result = row['surface_covered_in_m2']\n",
    "    else:\n",
    "        result = row['data_m2']\n",
    "    return result\n",
    "\n",
    "data_regex['surface_covered_in_m2_2'] = data_regex.apply(compl_m2_re, axis = 1)\n"
   ]
  },
  {
   "cell_type": "markdown",
   "id": "f5d82e2e",
   "metadata": {},
   "source": [
    "Una vez completados los datos faltantes de superficie con datos que se pueden extraer de la descripción de venta, se decide imputar el resto de los datos faltantes de acuerdo a mediana de datos actuales."
   ]
  },
  {
   "cell_type": "code",
   "execution_count": 10,
   "id": "11718da0",
   "metadata": {
    "execution": {
     "iopub.execute_input": "2022-05-12T02:28:56.724346Z",
     "iopub.status.busy": "2022-05-12T02:28:56.724346Z",
     "iopub.status.idle": "2022-05-12T02:28:56.754460Z",
     "shell.execute_reply": "2022-05-12T02:28:56.753487Z",
     "shell.execute_reply.started": "2022-05-12T02:28:56.724346Z"
    }
   },
   "outputs": [],
   "source": [
    "#Convierte los valores asignados de la columna superficie en valores númericos.\n",
    "data_regex['surface_covered_in_m2_2'] = data_regex.surface_covered_in_m2_2.astype(int)\n",
    "data_regex['data_ambientes'] = data_regex.data_ambientes.astype('int64')"
   ]
  },
  {
   "cell_type": "code",
   "execution_count": 11,
   "id": "6672c9a5",
   "metadata": {
    "execution": {
     "iopub.execute_input": "2022-05-12T02:28:56.755459Z",
     "iopub.status.busy": "2022-05-12T02:28:56.755459Z",
     "iopub.status.idle": "2022-05-12T02:28:56.801457Z",
     "shell.execute_reply": "2022-05-12T02:28:56.800475Z",
     "shell.execute_reply.started": "2022-05-12T02:28:56.755459Z"
    }
   },
   "outputs": [
    {
     "data": {
      "text/html": [
       "<div>\n",
       "<style scoped>\n",
       "    .dataframe tbody tr th:only-of-type {\n",
       "        vertical-align: middle;\n",
       "    }\n",
       "\n",
       "    .dataframe tbody tr th {\n",
       "        vertical-align: top;\n",
       "    }\n",
       "\n",
       "    .dataframe thead th {\n",
       "        text-align: right;\n",
       "    }\n",
       "</style>\n",
       "<table border=\"1\" class=\"dataframe\">\n",
       "  <thead>\n",
       "    <tr style=\"text-align: right;\">\n",
       "      <th></th>\n",
       "      <th>data_ambientes</th>\n",
       "      <th>rooms</th>\n",
       "      <th>surface_covered_in_m2</th>\n",
       "      <th>surface_total_in_m2</th>\n",
       "      <th>surface_covered_in_m2_2</th>\n",
       "    </tr>\n",
       "    <tr>\n",
       "      <th>property_type</th>\n",
       "      <th></th>\n",
       "      <th></th>\n",
       "      <th></th>\n",
       "      <th></th>\n",
       "      <th></th>\n",
       "    </tr>\n",
       "  </thead>\n",
       "  <tbody>\n",
       "    <tr>\n",
       "      <th>PH</th>\n",
       "      <td>0</td>\n",
       "      <td>3.0</td>\n",
       "      <td>73.0</td>\n",
       "      <td>90.0</td>\n",
       "      <td>65</td>\n",
       "    </tr>\n",
       "    <tr>\n",
       "      <th>apartment</th>\n",
       "      <td>0</td>\n",
       "      <td>2.0</td>\n",
       "      <td>52.0</td>\n",
       "      <td>59.0</td>\n",
       "      <td>47</td>\n",
       "    </tr>\n",
       "    <tr>\n",
       "      <th>house</th>\n",
       "      <td>0</td>\n",
       "      <td>4.0</td>\n",
       "      <td>180.0</td>\n",
       "      <td>278.0</td>\n",
       "      <td>160</td>\n",
       "    </tr>\n",
       "    <tr>\n",
       "      <th>store</th>\n",
       "      <td>0</td>\n",
       "      <td>1.0</td>\n",
       "      <td>120.0</td>\n",
       "      <td>154.0</td>\n",
       "      <td>70</td>\n",
       "    </tr>\n",
       "  </tbody>\n",
       "</table>\n",
       "</div>"
      ],
      "text/plain": [
       "               data_ambientes  rooms  surface_covered_in_m2  \\\n",
       "property_type                                                 \n",
       "PH                          0    3.0                   73.0   \n",
       "apartment                   0    2.0                   52.0   \n",
       "house                       0    4.0                  180.0   \n",
       "store                       0    1.0                  120.0   \n",
       "\n",
       "               surface_total_in_m2  surface_covered_in_m2_2  \n",
       "property_type                                                \n",
       "PH                            90.0                       65  \n",
       "apartment                     59.0                       47  \n",
       "house                        278.0                      160  \n",
       "store                        154.0                       70  "
      ]
     },
     "execution_count": 11,
     "metadata": {},
     "output_type": "execute_result"
    }
   ],
   "source": [
    "data_regex.groupby('property_type').median()"
   ]
  },
  {
   "cell_type": "code",
   "execution_count": 12,
   "id": "e7f29f47",
   "metadata": {
    "execution": {
     "iopub.execute_input": "2022-05-12T02:28:56.802463Z",
     "iopub.status.busy": "2022-05-12T02:28:56.802463Z",
     "iopub.status.idle": "2022-05-12T02:28:56.846458Z",
     "shell.execute_reply": "2022-05-12T02:28:56.845507Z",
     "shell.execute_reply.started": "2022-05-12T02:28:56.802463Z"
    }
   },
   "outputs": [],
   "source": [
    "#Máscaras de ambientes\n",
    "mask_1_amb = data_regex['data_ambientes'] == 1\n",
    "mask_2_amb = data_regex['data_ambientes'] == 2\n",
    "mask_3_amb = data_regex['data_ambientes'] == 3\n",
    "mask_4_amb = data_regex['data_ambientes'] == 4\n",
    "mask_5_amb = data_regex['data_ambientes'] == 5\n",
    "mask_6_amb = data_regex['data_ambientes'] == 6\n",
    "\n",
    "#apartment \n",
    "apart_mask = data_regex['property_type'] == 'apartment'\n",
    "\n",
    "#PH \n",
    "PH_mask = data_regex['property_type'] == 'PH'\n",
    "\n",
    "#house \n",
    "house_mask = data_regex['property_type'] == 'house'\n",
    "\n",
    "#store \n",
    "store_mask = data_regex['property_type'] == 'store'"
   ]
  },
  {
   "cell_type": "code",
   "execution_count": 13,
   "id": "a93b31db",
   "metadata": {
    "execution": {
     "iopub.execute_input": "2022-05-12T02:28:56.850460Z",
     "iopub.status.busy": "2022-05-12T02:28:56.850460Z",
     "iopub.status.idle": "2022-05-12T02:28:56.877480Z",
     "shell.execute_reply": "2022-05-12T02:28:56.876547Z",
     "shell.execute_reply.started": "2022-05-12T02:28:56.850460Z"
    }
   },
   "outputs": [],
   "source": [
    "#Medianas por cantidad de ambientes en apartamentos\n",
    "mediana_1_amb_apar = data_regex.surface_covered_in_m2[mask_1_amb & apart_mask].median()\n",
    "mediana_2_amb_apar = data_regex.surface_covered_in_m2[mask_2_amb & apart_mask].median()\n",
    "mediana_3_amb_apar = data_regex.surface_covered_in_m2[mask_3_amb & apart_mask].median()\n",
    "mediana_4_amb_apar = data_regex.surface_covered_in_m2[mask_4_amb & apart_mask].median()\n",
    "mediana_5_amb_apar = data_regex.surface_covered_in_m2[mask_5_amb & apart_mask].median()\n"
   ]
  },
  {
   "cell_type": "code",
   "execution_count": 14,
   "id": "5057be6c",
   "metadata": {
    "execution": {
     "iopub.execute_input": "2022-05-12T02:28:56.878479Z",
     "iopub.status.busy": "2022-05-12T02:28:56.878479Z",
     "iopub.status.idle": "2022-05-12T02:28:56.893482Z",
     "shell.execute_reply": "2022-05-12T02:28:56.892506Z",
     "shell.execute_reply.started": "2022-05-12T02:28:56.878479Z"
    }
   },
   "outputs": [],
   "source": [
    "#Medianas por cantidad de ambientes en PH\n",
    "mediana_1_amb_PH = data_regex.surface_covered_in_m2[mask_1_amb & PH_mask].median()\n",
    "mediana_2_amb_PH = data_regex.surface_covered_in_m2[mask_2_amb & PH_mask].median()\n",
    "mediana_3_amb_PH = data_regex.surface_covered_in_m2[mask_3_amb & PH_mask].median()\n",
    "mediana_4_amb_PH = data_regex.surface_covered_in_m2[mask_4_amb & PH_mask].median()\n",
    "mediana_5_amb_PH = data_regex.surface_covered_in_m2[mask_5_amb & PH_mask].median()\n",
    "mediana_6_amb_PH = data_regex.surface_covered_in_m2[mask_6_amb & PH_mask].median()\n"
   ]
  },
  {
   "cell_type": "code",
   "execution_count": 15,
   "id": "035fee11",
   "metadata": {
    "execution": {
     "iopub.execute_input": "2022-05-12T02:28:56.894480Z",
     "iopub.status.busy": "2022-05-12T02:28:56.894480Z",
     "iopub.status.idle": "2022-05-12T02:28:56.909497Z",
     "shell.execute_reply": "2022-05-12T02:28:56.908486Z",
     "shell.execute_reply.started": "2022-05-12T02:28:56.894480Z"
    }
   },
   "outputs": [],
   "source": [
    "#Medianas por cantidad de ambientes en House\n",
    "mediana_1_amb_house = data_regex.surface_covered_in_m2[mask_1_amb & house_mask].median()\n",
    "mediana_2_amb_house = data_regex.surface_covered_in_m2[mask_2_amb & house_mask].median()\n",
    "mediana_3_amb_house = data_regex.surface_covered_in_m2[mask_3_amb & house_mask].median()\n",
    "mediana_4_amb_house = data_regex.surface_covered_in_m2[mask_4_amb & house_mask].median()\n",
    "mediana_5_amb_house = data_regex.surface_covered_in_m2[mask_5_amb & house_mask].median()\n",
    "mediana_6_amb_house = data_regex.surface_covered_in_m2[mask_6_amb & house_mask].median()"
   ]
  },
  {
   "cell_type": "code",
   "execution_count": 16,
   "id": "603308b0",
   "metadata": {
    "execution": {
     "iopub.execute_input": "2022-05-12T02:28:56.910480Z",
     "iopub.status.busy": "2022-05-12T02:28:56.910480Z",
     "iopub.status.idle": "2022-05-12T02:28:56.925483Z",
     "shell.execute_reply": "2022-05-12T02:28:56.924492Z",
     "shell.execute_reply.started": "2022-05-12T02:28:56.910480Z"
    }
   },
   "outputs": [],
   "source": [
    "#Medianas por cantidad de ambientes en Store\n",
    "mediana_1_amb_store = data_regex.surface_covered_in_m2[mask_1_amb & store_mask].median()\n",
    "mediana_2_amb_store = data_regex.surface_covered_in_m2[mask_2_amb & store_mask].median()\n",
    "mediana_3_amb_store = data_regex.surface_covered_in_m2[mask_3_amb & store_mask].median()\n",
    "mediana_4_amb_store = data_regex.surface_covered_in_m2[mask_4_amb & store_mask].median()\n",
    "mediana_5_amb_store = data_regex.surface_covered_in_m2[mask_5_amb & store_mask].median()\n",
    "mediana_6_amb_store = data_regex.surface_covered_in_m2[mask_6_amb & store_mask].median()\n"
   ]
  },
  {
   "cell_type": "markdown",
   "id": "510fd5b8",
   "metadata": {},
   "source": [
    "Se crean funciones para imputar los datos faltantes de superficie en fución de la cantidad de ambientes y de las características del inmueble"
   ]
  },
  {
   "cell_type": "code",
   "execution_count": 17,
   "id": "f11de80f",
   "metadata": {
    "execution": {
     "iopub.execute_input": "2022-05-12T02:28:56.926481Z",
     "iopub.status.busy": "2022-05-12T02:28:56.926481Z",
     "iopub.status.idle": "2022-05-12T02:28:59.486687Z",
     "shell.execute_reply": "2022-05-12T02:28:59.485703Z",
     "shell.execute_reply.started": "2022-05-12T02:28:56.926481Z"
    }
   },
   "outputs": [],
   "source": [
    "#Imputa el valor faltante de apartment con la mediana de la superficie en función de la cantidad de ambientes\n",
    "def compl_amb (row):\n",
    "    if row['surface_covered_in_m2_2'] > 0:\n",
    "        result = row['surface_covered_in_m2']\n",
    "    else:\n",
    "        if (row['property_type'] == 'apartment') & (row['data_ambientes'] == 1):\n",
    "            result = mediana_1_amb_apar\n",
    "        elif (row['property_type'] == 'apartment') & (row['data_ambientes'] == 2):\n",
    "            result = mediana_2_amb_apar\n",
    "        elif (row['property_type'] == 'apartment') & (row['data_ambientes'] == 3):\n",
    "            result = mediana_3_amb_apar\n",
    "        elif (row['property_type'] == 'apartment') & (row['data_ambientes'] == 4):\n",
    "            result = mediana_4_amb_apar\n",
    "        elif (row['property_type'] == 'apartment') & (row['data_ambientes'] == 5):\n",
    "            result = mediana_5_amb_apar\n",
    "        else:\n",
    "            result = row['surface_covered_in_m2']\n",
    "    return result\n",
    "\n",
    "data_regex['surface_covered_in_m2_3'] = data_regex.apply(compl_amb, axis = 1)\n"
   ]
  },
  {
   "cell_type": "code",
   "execution_count": 18,
   "id": "69c6e0ce",
   "metadata": {
    "execution": {
     "iopub.execute_input": "2022-05-12T02:28:59.487686Z",
     "iopub.status.busy": "2022-05-12T02:28:59.487686Z",
     "iopub.status.idle": "2022-05-12T02:29:02.176711Z",
     "shell.execute_reply": "2022-05-12T02:29:02.175706Z",
     "shell.execute_reply.started": "2022-05-12T02:28:59.487686Z"
    }
   },
   "outputs": [],
   "source": [
    "#Imputa el valor faltante de PH con la mediana de la superficie en función de la cantidad de ambientes\n",
    "def compl_amb_PH (row):\n",
    "    if row['surface_covered_in_m2_2'] > 0:\n",
    "        result = row['surface_covered_in_m2']\n",
    "    else:\n",
    "        if (row['property_type'] == 'PH') & (row['data_ambientes'] == 1):\n",
    "            result = mediana_1_amb_PH\n",
    "        elif (row['property_type'] == 'PH') & (row['data_ambientes'] == 2):\n",
    "            result = mediana_2_amb_PH\n",
    "        elif (row['property_type'] == 'PH') & (row['data_ambientes'] == 3):\n",
    "            result = mediana_3_amb_PH\n",
    "        elif (row['property_type'] == 'PH') & (row['data_ambientes'] == 4):\n",
    "            result = mediana_4_amb_PH\n",
    "        elif (row['property_type'] == 'PH') & (row['data_ambientes'] == 5):\n",
    "            result = mediana_5_amb_PH\n",
    "        elif (row['property_type'] == 'PH') & (row['data_ambientes'] == 6):\n",
    "            result = mediana_6_amb_PH\n",
    "        else:\n",
    "            result = row['surface_covered_in_m2']\n",
    "    return result\n",
    "\n",
    "data_regex['surface_covered_in_m2_3'] = data_regex.apply(compl_amb_PH, axis = 1)\n"
   ]
  },
  {
   "cell_type": "code",
   "execution_count": 19,
   "id": "23894149",
   "metadata": {
    "execution": {
     "iopub.execute_input": "2022-05-12T02:29:02.177712Z",
     "iopub.status.busy": "2022-05-12T02:29:02.177712Z",
     "iopub.status.idle": "2022-05-12T02:29:04.885311Z",
     "shell.execute_reply": "2022-05-12T02:29:04.884308Z",
     "shell.execute_reply.started": "2022-05-12T02:29:02.177712Z"
    }
   },
   "outputs": [],
   "source": [
    "#Imputa el valor faltante de house con la mediana de la superficie en función de la cantidad de ambientes\n",
    "def compl_amb_house (row):\n",
    "    if row['surface_covered_in_m2_2'] > 0:\n",
    "        result = row['surface_covered_in_m2']\n",
    "    else:\n",
    "        if (row['property_type'] == 'house') & (row['data_ambientes'] == 1):\n",
    "            result = mediana_1_amb_house\n",
    "        elif (row['property_type'] == 'house') & (row['data_ambientes'] == 2):\n",
    "            result = mediana_2_amb_house\n",
    "        elif (row['property_type'] == 'house') & (row['data_ambientes'] == 3):\n",
    "            result = mediana_3_amb_house\n",
    "        elif (row['property_type'] == 'house') & (row['data_ambientes'] == 4):\n",
    "            result = mediana_4_amb_house\n",
    "        elif (row['property_type'] == 'house') & (row['data_ambientes'] == 5):\n",
    "            result = mediana_5_amb_house\n",
    "        elif (row['property_type'] == 'house') & (row['data_ambientes'] == 6):\n",
    "            result = mediana_6_amb_house\n",
    "        else:\n",
    "            result = row['surface_covered_in_m2']\n",
    "    return result\n",
    "\n",
    "data_regex['surface_covered_in_m2_3'] = data_regex.apply(compl_amb_house, axis = 1)"
   ]
  },
  {
   "cell_type": "code",
   "execution_count": 20,
   "id": "c669f65b",
   "metadata": {
    "execution": {
     "iopub.execute_input": "2022-05-12T02:29:04.886313Z",
     "iopub.status.busy": "2022-05-12T02:29:04.886313Z",
     "iopub.status.idle": "2022-05-12T02:29:07.635820Z",
     "shell.execute_reply": "2022-05-12T02:29:07.634825Z",
     "shell.execute_reply.started": "2022-05-12T02:29:04.886313Z"
    }
   },
   "outputs": [],
   "source": [
    "#Imputa el valor faltante de store con la mediana de la superficie en función de la cantidad de ambientes\n",
    "def compl_amb_store (row):\n",
    "    if row['surface_covered_in_m2_2'] > 0:\n",
    "        result = row['surface_covered_in_m2']\n",
    "    else:\n",
    "        if (row['property_type'] == 'store') & (row['data_ambientes'] == 1):\n",
    "            result = mediana_1_amb_store\n",
    "        elif (row['property_type'] == 'store') & (row['data_ambientes'] == 2):\n",
    "            result = mediana_2_amb_store\n",
    "        elif (row['property_type'] == 'store') & (row['data_ambientes'] == 3):\n",
    "            result = mediana_3_amb_store\n",
    "        elif (row['property_type'] == 'store') & (row['data_ambientes'] == 4):\n",
    "            result = mediana_4_amb_store\n",
    "        elif (row['property_type'] == 'store') & (row['data_ambientes'] == 5):\n",
    "            result = mediana_5_amb_store\n",
    "        elif (row['property_type'] == 'store') & (row['data_ambientes'] == 6):\n",
    "            result = mediana_6_amb_store\n",
    "        else:\n",
    "            result = row['surface_covered_in_m2']\n",
    "    return result\n",
    "\n",
    "data_regex['surface_covered_in_m2_3'] = data_regex.apply(compl_amb_house, axis = 1)\n"
   ]
  },
  {
   "cell_type": "code",
   "execution_count": 21,
   "id": "2cf34458",
   "metadata": {
    "execution": {
     "iopub.execute_input": "2022-05-12T02:29:07.636819Z",
     "iopub.status.busy": "2022-05-12T02:29:07.636819Z",
     "iopub.status.idle": "2022-05-12T02:29:07.841820Z",
     "shell.execute_reply": "2022-05-12T02:29:07.840820Z",
     "shell.execute_reply.started": "2022-05-12T02:29:07.636819Z"
    }
   },
   "outputs": [
    {
     "data": {
      "text/plain": [
       "0"
      ]
     },
     "execution_count": 21,
     "metadata": {},
     "output_type": "execute_result"
    }
   ],
   "source": [
    "data_regex['surface_covered_in_m2_3'] = data_regex['surface_covered_in_m2_3'].apply(lambda x: 0 if np.isnan(x) else x)\n",
    "data_regex['surface_covered_in_m2_3'].isnull().sum()"
   ]
  },
  {
   "cell_type": "code",
   "execution_count": 22,
   "id": "08a51af8",
   "metadata": {
    "execution": {
     "iopub.execute_input": "2022-05-12T02:29:07.842821Z",
     "iopub.status.busy": "2022-05-12T02:29:07.842821Z",
     "iopub.status.idle": "2022-05-12T02:29:07.873822Z",
     "shell.execute_reply": "2022-05-12T02:29:07.872822Z",
     "shell.execute_reply.started": "2022-05-12T02:29:07.842821Z"
    }
   },
   "outputs": [],
   "source": [
    "#Calculos de medianas\n",
    "apart_mediana = data_regex.surface_covered_in_m2[apart_mask].median()\n",
    "PH_mediana = data_regex.surface_covered_in_m2[PH_mask].median()\n",
    "house_mediana = data_regex.surface_covered_in_m2[house_mask].median()\n",
    "store_mediana = data_regex.surface_covered_in_m2[store_mask].median()"
   ]
  },
  {
   "cell_type": "markdown",
   "id": "715ca58f",
   "metadata": {},
   "source": [
    "Imputar datos faltantes en función de la cantidad de rooms que posee el inmueble. La imputación se realiza con la mediana de los datos que conocemos."
   ]
  },
  {
   "cell_type": "code",
   "execution_count": 23,
   "id": "5295a8a9",
   "metadata": {
    "execution": {
     "iopub.execute_input": "2022-05-12T02:29:07.875820Z",
     "iopub.status.busy": "2022-05-12T02:29:07.875820Z",
     "iopub.status.idle": "2022-05-12T02:29:07.952820Z",
     "shell.execute_reply": "2022-05-12T02:29:07.951820Z",
     "shell.execute_reply.started": "2022-05-12T02:29:07.875820Z"
    },
    "scrolled": true
   },
   "outputs": [],
   "source": [
    "#Cálculo de medianas de superficie por cantidad de rooms\n",
    "median_sup_cov_dor_apart = data[['rooms', 'surface_covered_in_m2']][(data.surface_covered_in_m2.notnull()) & apart_mask & (data.rooms.notnull())].groupby('rooms').median()\n",
    "median_sup_cov_dor_apart1 = data[['rooms', 'surface_covered_in_m2']][(data.surface_covered_in_m2.notnull()) & apart_mask & (data.rooms == 1)].groupby('rooms').median()\n",
    "\n",
    "median_sup_cov_dor_house = data[['rooms', 'surface_covered_in_m2']][(data.surface_covered_in_m2.notnull()) & house_mask & (data.rooms.notnull())].groupby('rooms').median()\n",
    "median_sup_cov_dor_house1 = data[['rooms', 'surface_covered_in_m2']][(data.surface_covered_in_m2.notnull()) & house_mask & (data.rooms == 1)].groupby('rooms').median()\n",
    "\n",
    "\n",
    "median_sup_cov_dor_PH = data[['rooms', 'surface_covered_in_m2']][(data.surface_covered_in_m2.notnull()) & PH_mask & (data.rooms.notnull())].groupby('rooms').median()\n",
    "median_sup_cov_dor_PH1 = data[['rooms', 'surface_covered_in_m2']][(data.surface_covered_in_m2.notnull()) & PH_mask & (data.rooms == 1)].groupby('rooms').median()\n",
    "\n",
    "\n",
    "median_sup_cov_dor_store = data[['rooms', 'surface_covered_in_m2']][(data.surface_covered_in_m2.notnull()) & store_mask & (data.rooms.notnull())].groupby('rooms').median()\n",
    "median_sup_cov_dor_store1 = data[['rooms', 'surface_covered_in_m2']][(data.surface_covered_in_m2.notnull()) & store_mask & (data.rooms == 1)].groupby('rooms').median()\n"
   ]
  },
  {
   "cell_type": "code",
   "execution_count": 24,
   "id": "561f166b",
   "metadata": {
    "execution": {
     "iopub.execute_input": "2022-05-12T02:29:07.954821Z",
     "iopub.status.busy": "2022-05-12T02:29:07.953820Z",
     "iopub.status.idle": "2022-05-12T02:29:07.967822Z",
     "shell.execute_reply": "2022-05-12T02:29:07.966820Z",
     "shell.execute_reply.started": "2022-05-12T02:29:07.954821Z"
    }
   },
   "outputs": [],
   "source": [
    "#Cálculo de superficie por rooms\n",
    "median_sup_cov_dor_apart['sup_x_room'] = median_sup_cov_dor_apart['surface_covered_in_m2']/median_sup_cov_dor_apart.index\n",
    "median_sup_cov_dor_house['sup_x_room'] = median_sup_cov_dor_house['surface_covered_in_m2']/median_sup_cov_dor_house.index\n",
    "median_sup_cov_dor_PH['sup_x_room'] = median_sup_cov_dor_PH['surface_covered_in_m2']/median_sup_cov_dor_PH.index\n",
    "median_sup_cov_dor_store['sup_x_room'] = median_sup_cov_dor_store['surface_covered_in_m2']/median_sup_cov_dor_store.index\n"
   ]
  },
  {
   "cell_type": "code",
   "execution_count": 25,
   "id": "03001f82",
   "metadata": {
    "execution": {
     "iopub.execute_input": "2022-05-12T02:29:07.969823Z",
     "iopub.status.busy": "2022-05-12T02:29:07.969823Z",
     "iopub.status.idle": "2022-05-12T02:29:12.090053Z",
     "shell.execute_reply": "2022-05-12T02:29:12.089052Z",
     "shell.execute_reply.started": "2022-05-12T02:29:07.969823Z"
    }
   },
   "outputs": [
    {
     "data": {
      "text/html": [
       "<div>\n",
       "<style scoped>\n",
       "    .dataframe tbody tr th:only-of-type {\n",
       "        vertical-align: middle;\n",
       "    }\n",
       "\n",
       "    .dataframe tbody tr th {\n",
       "        vertical-align: top;\n",
       "    }\n",
       "\n",
       "    .dataframe thead th {\n",
       "        text-align: right;\n",
       "    }\n",
       "</style>\n",
       "<table border=\"1\" class=\"dataframe\">\n",
       "  <thead>\n",
       "    <tr style=\"text-align: right;\">\n",
       "      <th></th>\n",
       "      <th>data_m2</th>\n",
       "      <th>data_ambientes</th>\n",
       "      <th>data_balcon</th>\n",
       "      <th>data_patio</th>\n",
       "      <th>data_duplex</th>\n",
       "      <th>data_planta_alta</th>\n",
       "      <th>property_type</th>\n",
       "      <th>rooms</th>\n",
       "      <th>surface_covered_in_m2</th>\n",
       "      <th>surface_total_in_m2</th>\n",
       "      <th>surface_covered_in_m2_2</th>\n",
       "      <th>surface_covered_in_m2_3</th>\n",
       "    </tr>\n",
       "  </thead>\n",
       "  <tbody>\n",
       "    <tr>\n",
       "      <th>67</th>\n",
       "      <td>0</td>\n",
       "      <td>0</td>\n",
       "      <td>None</td>\n",
       "      <td>None</td>\n",
       "      <td>None</td>\n",
       "      <td>PLANTA ALTA</td>\n",
       "      <td>house</td>\n",
       "      <td>5.0</td>\n",
       "      <td>NaN</td>\n",
       "      <td>220.0</td>\n",
       "      <td>0</td>\n",
       "      <td>104.000000</td>\n",
       "    </tr>\n",
       "    <tr>\n",
       "      <th>70</th>\n",
       "      <td>0</td>\n",
       "      <td>0</td>\n",
       "      <td>None</td>\n",
       "      <td>None</td>\n",
       "      <td>None</td>\n",
       "      <td>None</td>\n",
       "      <td>PH</td>\n",
       "      <td>2.0</td>\n",
       "      <td>NaN</td>\n",
       "      <td>NaN</td>\n",
       "      <td>0</td>\n",
       "      <td>47.857143</td>\n",
       "    </tr>\n",
       "    <tr>\n",
       "      <th>71</th>\n",
       "      <td>0</td>\n",
       "      <td>0</td>\n",
       "      <td>None</td>\n",
       "      <td>None</td>\n",
       "      <td>None</td>\n",
       "      <td>PLANTA ALTA</td>\n",
       "      <td>PH</td>\n",
       "      <td>3.0</td>\n",
       "      <td>NaN</td>\n",
       "      <td>NaN</td>\n",
       "      <td>0</td>\n",
       "      <td>71.785714</td>\n",
       "    </tr>\n",
       "    <tr>\n",
       "      <th>72</th>\n",
       "      <td>0</td>\n",
       "      <td>0</td>\n",
       "      <td>None</td>\n",
       "      <td>None</td>\n",
       "      <td>None</td>\n",
       "      <td>PLANTA ALTA</td>\n",
       "      <td>PH</td>\n",
       "      <td>1.0</td>\n",
       "      <td>NaN</td>\n",
       "      <td>NaN</td>\n",
       "      <td>0</td>\n",
       "      <td>37.000000</td>\n",
       "    </tr>\n",
       "    <tr>\n",
       "      <th>88</th>\n",
       "      <td>0</td>\n",
       "      <td>0</td>\n",
       "      <td>None</td>\n",
       "      <td>None</td>\n",
       "      <td>None</td>\n",
       "      <td>None</td>\n",
       "      <td>apartment</td>\n",
       "      <td>1.0</td>\n",
       "      <td>NaN</td>\n",
       "      <td>NaN</td>\n",
       "      <td>0</td>\n",
       "      <td>35.000000</td>\n",
       "    </tr>\n",
       "    <tr>\n",
       "      <th>...</th>\n",
       "      <td>...</td>\n",
       "      <td>...</td>\n",
       "      <td>...</td>\n",
       "      <td>...</td>\n",
       "      <td>...</td>\n",
       "      <td>...</td>\n",
       "      <td>...</td>\n",
       "      <td>...</td>\n",
       "      <td>...</td>\n",
       "      <td>...</td>\n",
       "      <td>...</td>\n",
       "      <td>...</td>\n",
       "    </tr>\n",
       "    <tr>\n",
       "      <th>120150</th>\n",
       "      <td>0</td>\n",
       "      <td>0</td>\n",
       "      <td>None</td>\n",
       "      <td>None</td>\n",
       "      <td>None</td>\n",
       "      <td>None</td>\n",
       "      <td>apartment</td>\n",
       "      <td>2.0</td>\n",
       "      <td>NaN</td>\n",
       "      <td>63.0</td>\n",
       "      <td>0</td>\n",
       "      <td>53.666667</td>\n",
       "    </tr>\n",
       "    <tr>\n",
       "      <th>120154</th>\n",
       "      <td>0</td>\n",
       "      <td>0</td>\n",
       "      <td>None</td>\n",
       "      <td>patio</td>\n",
       "      <td>None</td>\n",
       "      <td>None</td>\n",
       "      <td>apartment</td>\n",
       "      <td>3.0</td>\n",
       "      <td>NaN</td>\n",
       "      <td>NaN</td>\n",
       "      <td>0</td>\n",
       "      <td>80.500000</td>\n",
       "    </tr>\n",
       "    <tr>\n",
       "      <th>120172</th>\n",
       "      <td>0</td>\n",
       "      <td>0</td>\n",
       "      <td>None</td>\n",
       "      <td>patio</td>\n",
       "      <td>None</td>\n",
       "      <td>None</td>\n",
       "      <td>house</td>\n",
       "      <td>6.0</td>\n",
       "      <td>NaN</td>\n",
       "      <td>300.0</td>\n",
       "      <td>0</td>\n",
       "      <td>124.800000</td>\n",
       "    </tr>\n",
       "    <tr>\n",
       "      <th>120173</th>\n",
       "      <td>0</td>\n",
       "      <td>2</td>\n",
       "      <td>None</td>\n",
       "      <td>None</td>\n",
       "      <td>None</td>\n",
       "      <td>None</td>\n",
       "      <td>PH</td>\n",
       "      <td>2.0</td>\n",
       "      <td>NaN</td>\n",
       "      <td>NaN</td>\n",
       "      <td>0</td>\n",
       "      <td>47.857143</td>\n",
       "    </tr>\n",
       "    <tr>\n",
       "      <th>120179</th>\n",
       "      <td>0</td>\n",
       "      <td>0</td>\n",
       "      <td>None</td>\n",
       "      <td>patio</td>\n",
       "      <td>None</td>\n",
       "      <td>None</td>\n",
       "      <td>house</td>\n",
       "      <td>4.0</td>\n",
       "      <td>NaN</td>\n",
       "      <td>430.0</td>\n",
       "      <td>0</td>\n",
       "      <td>83.200000</td>\n",
       "    </tr>\n",
       "  </tbody>\n",
       "</table>\n",
       "<p>6061 rows × 12 columns</p>\n",
       "</div>"
      ],
      "text/plain": [
       "       data_m2  data_ambientes data_balcon data_patio data_duplex  \\\n",
       "67           0               0        None       None        None   \n",
       "70           0               0        None       None        None   \n",
       "71           0               0        None       None        None   \n",
       "72           0               0        None       None        None   \n",
       "88           0               0        None       None        None   \n",
       "...        ...             ...         ...        ...         ...   \n",
       "120150       0               0        None       None        None   \n",
       "120154       0               0        None      patio        None   \n",
       "120172       0               0        None      patio        None   \n",
       "120173       0               2        None       None        None   \n",
       "120179       0               0        None      patio        None   \n",
       "\n",
       "       data_planta_alta property_type  rooms  surface_covered_in_m2  \\\n",
       "67          PLANTA ALTA         house    5.0                    NaN   \n",
       "70                 None            PH    2.0                    NaN   \n",
       "71          PLANTA ALTA            PH    3.0                    NaN   \n",
       "72          PLANTA ALTA            PH    1.0                    NaN   \n",
       "88                 None     apartment    1.0                    NaN   \n",
       "...                 ...           ...    ...                    ...   \n",
       "120150             None     apartment    2.0                    NaN   \n",
       "120154             None     apartment    3.0                    NaN   \n",
       "120172             None         house    6.0                    NaN   \n",
       "120173             None            PH    2.0                    NaN   \n",
       "120179             None         house    4.0                    NaN   \n",
       "\n",
       "        surface_total_in_m2  surface_covered_in_m2_2  surface_covered_in_m2_3  \n",
       "67                    220.0                        0               104.000000  \n",
       "70                      NaN                        0                47.857143  \n",
       "71                      NaN                        0                71.785714  \n",
       "72                      NaN                        0                37.000000  \n",
       "88                      NaN                        0                35.000000  \n",
       "...                     ...                      ...                      ...  \n",
       "120150                 63.0                        0                53.666667  \n",
       "120154                  NaN                        0                80.500000  \n",
       "120172                300.0                        0               124.800000  \n",
       "120173                  NaN                        0                47.857143  \n",
       "120179                430.0                        0                83.200000  \n",
       "\n",
       "[6061 rows x 12 columns]"
      ]
     },
     "execution_count": 25,
     "metadata": {},
     "output_type": "execute_result"
    }
   ],
   "source": [
    "#Imputa el valor faltante de cada inmueble con la mediana en función de la cantidad de rooms\n",
    "def room_faltantes (row):\n",
    "    if (row['property_type'] == 'apartment'):\n",
    "        if row['surface_covered_in_m2_2'] > 0:\n",
    "            result = row['surface_covered_in_m2_2']\n",
    "        else:\n",
    "            if (row['rooms'] == 1):\n",
    "                result = 35\n",
    "            elif row['rooms'] > 1:\n",
    "                result = median_sup_cov_dor_apart.sup_x_room.median()*row['rooms']\n",
    "            else:\n",
    "                result = row['surface_covered_in_m2_2']\n",
    "    elif (row['property_type'] == 'PH'):\n",
    "        if row['surface_covered_in_m2_2'] > 0:\n",
    "            result = row['surface_covered_in_m2_2']\n",
    "        else:\n",
    "            if (row['rooms'] == 1):\n",
    "                result = 37\n",
    "            elif row['rooms'] > 1:\n",
    "                result = median_sup_cov_dor_PH.sup_x_room.median()*row['rooms']\n",
    "            else:\n",
    "                result = row['surface_covered_in_m2_2']\n",
    "    elif (row['property_type'] == 'house'):\n",
    "        if row['surface_covered_in_m2_2'] > 0:\n",
    "            result = row['surface_covered_in_m2_2']\n",
    "        else:\n",
    "            if (row['rooms'] == 1):\n",
    "                result = 65\n",
    "            elif row['rooms'] > 1:\n",
    "                result = median_sup_cov_dor_house.sup_x_room.median()*row['rooms']\n",
    "            else:\n",
    "                result = row['surface_covered_in_m2_2']\n",
    "    elif (row['property_type'] == 'store'):\n",
    "        if row['surface_covered_in_m2_2'] > 0:\n",
    "            result = row['surface_covered_in_m2_2']\n",
    "        else:\n",
    "            if (row['rooms'] == 1):\n",
    "                result = 65\n",
    "            elif row['rooms'] > 1:\n",
    "                result = median_sup_cov_dor_store.sup_x_room.median()*row['rooms']\n",
    "            else:\n",
    "                result = row['surface_covered_in_m2_2']\n",
    "    return result\n",
    "\n",
    "data_regex['surface_covered_in_m2_3'] = data_regex.apply(room_faltantes, axis = 1)\n",
    "data_regex[(data_regex['rooms']>0) & (data_regex.surface_covered_in_m2.isnull())]"
   ]
  },
  {
   "cell_type": "code",
   "execution_count": 26,
   "id": "7523681c",
   "metadata": {
    "execution": {
     "iopub.execute_input": "2022-05-12T02:29:12.093052Z",
     "iopub.status.busy": "2022-05-12T02:29:12.092057Z",
     "iopub.status.idle": "2022-05-12T02:29:13.838050Z",
     "shell.execute_reply": "2022-05-12T02:29:13.837061Z",
     "shell.execute_reply.started": "2022-05-12T02:29:12.092057Z"
    }
   },
   "outputs": [
    {
     "data": {
      "text/plain": [
       "0"
      ]
     },
     "execution_count": 26,
     "metadata": {},
     "output_type": "execute_result"
    }
   ],
   "source": [
    "#Imputa el valor faltante de cada inmueble con la mediana en función del tipo de inmueble\n",
    "def compl_faltantes (row):\n",
    "    if row['surface_covered_in_m2_3'] > 8:\n",
    "        result = row['surface_covered_in_m2_3']\n",
    "    else:\n",
    "        if (row['property_type'] == 'apartment'):\n",
    "            result = apart_mediana\n",
    "        elif (row['property_type'] == 'PH'):\n",
    "            result = PH_mediana\n",
    "        elif (row['property_type'] == 'house'):\n",
    "            result = house_mediana\n",
    "        else:\n",
    "            result = store_mediana\n",
    "    return result\n",
    "\n",
    "data['surface_covered_in_m2_3'] = data_regex.apply(compl_faltantes, axis = 1)\n",
    "data['surface_covered_in_m2_3'].isnull().sum()"
   ]
  },
  {
   "cell_type": "code",
   "execution_count": 27,
   "id": "3f4a5956",
   "metadata": {
    "execution": {
     "iopub.execute_input": "2022-05-12T02:29:13.840056Z",
     "iopub.status.busy": "2022-05-12T02:29:13.839053Z",
     "iopub.status.idle": "2022-05-12T02:29:14.157770Z",
     "shell.execute_reply": "2022-05-12T02:29:14.156786Z",
     "shell.execute_reply.started": "2022-05-12T02:29:13.840056Z"
    }
   },
   "outputs": [
    {
     "data": {
      "text/plain": [
       "(0.0, 1000.0)"
      ]
     },
     "execution_count": 27,
     "metadata": {},
     "output_type": "execute_result"
    },
    {
     "data": {
      "image/png": "[encoded data removed]",
      "text/plain": [
       "<Figure size 720x504 with 1 Axes>"
      ]
     },
     "metadata": {
      "needs_background": "light"
     },
     "output_type": "display_data"
    }
   ],
   "source": [
    "fig, axs = plt.subplots(figsize=(10,7))\n",
    "\n",
    "sns.boxplot(data=data, y='surface_covered_in_m2_3', x='property_type',\n",
    "               palette=[\"lightblue\"])\n",
    "plt.ylim(0,1000)"
   ]
  },
  {
   "cell_type": "code",
   "execution_count": 28,
   "id": "718fcf94",
   "metadata": {
    "execution": {
     "iopub.execute_input": "2022-05-12T02:29:14.158776Z",
     "iopub.status.busy": "2022-05-12T02:29:14.158776Z",
     "iopub.status.idle": "2022-05-12T02:29:14.189371Z",
     "shell.execute_reply": "2022-05-12T02:29:14.188379Z",
     "shell.execute_reply.started": "2022-05-12T02:29:14.158776Z"
    }
   },
   "outputs": [
    {
     "data": {
      "text/plain": [
       "7"
      ]
     },
     "execution_count": 28,
     "metadata": {},
     "output_type": "execute_result"
    }
   ],
   "source": [
    "mask_PH_ol = (data['property_type']=='PH') & (data['surface_covered_in_m2_3']>1000)\n",
    "data.surface_covered_in_m2_3[mask_PH_ol].count()"
   ]
  },
  {
   "cell_type": "code",
   "execution_count": 29,
   "id": "ade7c3f7",
   "metadata": {
    "execution": {
     "iopub.execute_input": "2022-05-12T02:29:14.190353Z",
     "iopub.status.busy": "2022-05-12T02:29:14.190353Z",
     "iopub.status.idle": "2022-05-12T02:29:14.284247Z",
     "shell.execute_reply": "2022-05-12T02:29:14.283238Z",
     "shell.execute_reply.started": "2022-05-12T02:29:14.190353Z"
    },
    "scrolled": true
   },
   "outputs": [
    {
     "data": {
      "text/plain": [
       "(Unnamed: 0                    121220\n",
       " operation                     121220\n",
       " property_type                 121220\n",
       " place_name                    121197\n",
       " place_with_parent_names       121220\n",
       " country_name                  121220\n",
       " state_name                    121220\n",
       " geonames_id                   102503\n",
       " lat-lon                        69670\n",
       " lat                            69670\n",
       " lon                            69670\n",
       " price                         100810\n",
       " currency                      100809\n",
       " price_aprox_local_currency    100810\n",
       " price_aprox_usd               100810\n",
       " surface_total_in_m2            81892\n",
       " surface_covered_in_m2         101313\n",
       " price_usd_per_m2               68617\n",
       " price_per_m2                   87658\n",
       " floor                           7899\n",
       " rooms                          47390\n",
       " expenses                       14262\n",
       " properati_url                 121220\n",
       " description                   121218\n",
       " title                         121220\n",
       " image_thumbnail               118108\n",
       " surface_covered_in_m2_3       121220\n",
       " dtype: int64,\n",
       " Unnamed: 0                    100.000000\n",
       " operation                     100.000000\n",
       " property_type                 100.000000\n",
       " place_name                     99.981026\n",
       " place_with_parent_names       100.000000\n",
       " country_name                  100.000000\n",
       " state_name                    100.000000\n",
       " geonames_id                    84.559479\n",
       " lat-lon                        57.474014\n",
       " lat                            57.474014\n",
       " lon                            57.474014\n",
       " price                          83.162844\n",
       " currency                       83.162019\n",
       " price_aprox_local_currency     83.162844\n",
       " price_aprox_usd                83.162844\n",
       " surface_total_in_m2            67.556509\n",
       " surface_covered_in_m2          83.577792\n",
       " price_usd_per_m2               56.605346\n",
       " price_per_m2                   72.313150\n",
       " floor                           6.516251\n",
       " rooms                          39.094209\n",
       " expenses                       11.765385\n",
       " properati_url                 100.000000\n",
       " description                    99.998350\n",
       " title                         100.000000\n",
       " image_thumbnail                97.432767\n",
       " surface_covered_in_m2_3       100.000000\n",
       " dtype: float64)"
      ]
     },
     "execution_count": 29,
     "metadata": {},
     "output_type": "execute_result"
    }
   ],
   "source": [
    "# Verificación de imputación\n",
    "no_nulos = data.notnull().sum()\n",
    "no_nulos_porcentual= no_nulos/(data.shape[0])*100\n",
    "no_nulos, no_nulos_porcentual"
   ]
  },
  {
   "cell_type": "code",
   "execution_count": 30,
   "id": "82a2645e",
   "metadata": {
    "execution": {
     "iopub.execute_input": "2022-05-12T02:29:14.285247Z",
     "iopub.status.busy": "2022-05-12T02:29:14.285247Z",
     "iopub.status.idle": "2022-05-12T02:29:14.315332Z",
     "shell.execute_reply": "2022-05-12T02:29:14.314332Z",
     "shell.execute_reply.started": "2022-05-12T02:29:14.285247Z"
    }
   },
   "outputs": [
    {
     "data": {
      "text/plain": [
       "67"
      ]
     },
     "execution_count": 30,
     "metadata": {},
     "output_type": "execute_result"
    }
   ],
   "source": [
    "mask_apart_ol = (data['property_type']=='apartment') & (data['surface_covered_in_m2_3']>1000)\n",
    "data.surface_covered_in_m2_3[mask_apart_ol].count()"
   ]
  },
  {
   "cell_type": "code",
   "execution_count": 31,
   "id": "6b006469",
   "metadata": {
    "execution": {
     "iopub.execute_input": "2022-05-12T02:29:14.316329Z",
     "iopub.status.busy": "2022-05-12T02:29:14.316329Z",
     "iopub.status.idle": "2022-05-12T02:29:14.347349Z",
     "shell.execute_reply": "2022-05-12T02:29:14.346364Z",
     "shell.execute_reply.started": "2022-05-12T02:29:14.316329Z"
    }
   },
   "outputs": [
    {
     "data": {
      "text/plain": [
       "16"
      ]
     },
     "execution_count": 31,
     "metadata": {},
     "output_type": "execute_result"
    }
   ],
   "source": [
    "mask_house_ol = (data['property_type']=='house') & (data['surface_covered_in_m2_3']>10000)\n",
    "data.surface_covered_in_m2_3[mask_house_ol].count()"
   ]
  },
  {
   "cell_type": "code",
   "execution_count": 32,
   "id": "cd8f7d12",
   "metadata": {
    "execution": {
     "iopub.execute_input": "2022-05-12T02:29:14.348330Z",
     "iopub.status.busy": "2022-05-12T02:29:14.348330Z",
     "iopub.status.idle": "2022-05-12T02:29:14.379329Z",
     "shell.execute_reply": "2022-05-12T02:29:14.378326Z",
     "shell.execute_reply.started": "2022-05-12T02:29:14.348330Z"
    }
   },
   "outputs": [
    {
     "data": {
      "text/plain": [
       "14"
      ]
     },
     "execution_count": 32,
     "metadata": {},
     "output_type": "execute_result"
    }
   ],
   "source": [
    "mask_store_ol = (data['property_type']=='store') & (data['surface_covered_in_m2_3']>10000)\n",
    "data.surface_covered_in_m2_3[mask_store_ol].count()"
   ]
  },
  {
   "cell_type": "code",
   "execution_count": 33,
   "id": "41f5394c",
   "metadata": {
    "execution": {
     "iopub.execute_input": "2022-05-12T02:29:14.381329Z",
     "iopub.status.busy": "2022-05-12T02:29:14.380331Z",
     "iopub.status.idle": "2022-05-12T02:29:14.411328Z",
     "shell.execute_reply": "2022-05-12T02:29:14.410328Z",
     "shell.execute_reply.started": "2022-05-12T02:29:14.381329Z"
    }
   },
   "outputs": [
    {
     "data": {
      "text/plain": [
       "52.0"
      ]
     },
     "execution_count": 33,
     "metadata": {},
     "output_type": "execute_result"
    }
   ],
   "source": [
    "data.surface_covered_in_m2_3[(data['property_type']=='apartment')].median()"
   ]
  },
  {
   "cell_type": "code",
   "execution_count": 34,
   "id": "eebac02d",
   "metadata": {
    "execution": {
     "iopub.execute_input": "2022-05-12T02:29:14.412329Z",
     "iopub.status.busy": "2022-05-12T02:29:14.412329Z",
     "iopub.status.idle": "2022-05-12T02:29:14.443329Z",
     "shell.execute_reply": "2022-05-12T02:29:14.442342Z",
     "shell.execute_reply.started": "2022-05-12T02:29:14.412329Z"
    }
   },
   "outputs": [
    {
     "data": {
      "text/plain": [
       "52.0"
      ]
     },
     "execution_count": 34,
     "metadata": {},
     "output_type": "execute_result"
    }
   ],
   "source": [
    "data.surface_covered_in_m2[(data['property_type']=='apartment')].median()"
   ]
  },
  {
   "cell_type": "code",
   "execution_count": 35,
   "id": "b06950c2",
   "metadata": {
    "execution": {
     "iopub.execute_input": "2022-05-12T02:29:14.444329Z",
     "iopub.status.busy": "2022-05-12T02:29:14.444329Z",
     "iopub.status.idle": "2022-05-12T02:37:53.492754Z",
     "shell.execute_reply": "2022-05-12T02:37:53.491778Z",
     "shell.execute_reply.started": "2022-05-12T02:29:14.444329Z"
    }
   },
   "outputs": [
    {
     "data": {
      "text/plain": [
       "(0.0, 700.0)"
      ]
     },
     "execution_count": 35,
     "metadata": {},
     "output_type": "execute_result"
    },
    {
     "data": {
      "image/png": "[encoded data removed]",
      "text/plain": [
       "<Figure size 720x504 with 1 Axes>"
      ]
     },
     "metadata": {
      "needs_background": "light"
     },
     "output_type": "display_data"
    }
   ],
   "source": [
    "fig, axs = plt.subplots(figsize=(10,7))\n",
    "sns.histplot(data= data,x='surface_covered_in_m2_3', hue='property_type', bins=50000, color='k')\n",
    "plt.xlim(0,700)"
   ]
  },
  {
   "cell_type": "code",
   "execution_count": 36,
   "id": "0571b6d5",
   "metadata": {
    "execution": {
     "iopub.execute_input": "2022-05-12T02:37:53.494749Z",
     "iopub.status.busy": "2022-05-12T02:37:53.493753Z",
     "iopub.status.idle": "2022-05-12T02:46:48.164301Z",
     "shell.execute_reply": "2022-05-12T02:46:48.163330Z",
     "shell.execute_reply.started": "2022-05-12T02:37:53.494749Z"
    }
   },
   "outputs": [
    {
     "data": {
      "text/plain": [
       "(0.0, 700.0)"
      ]
     },
     "execution_count": 36,
     "metadata": {},
     "output_type": "execute_result"
    },
    {
     "data": {
      "image/png": "[encoded data removed]",
      "text/plain": [
       "<Figure size 720x504 with 1 Axes>"
      ]
     },
     "metadata": {
      "needs_background": "light"
     },
     "output_type": "display_data"
    }
   ],
   "source": [
    "fig, axs = plt.subplots(figsize=(10,7))\n",
    "sns.histplot(data= data,x='surface_covered_in_m2', hue='property_type', bins=50000, color='k')\n",
    "plt.xlim(0,700)"
   ]
  },
  {
   "cell_type": "code",
   "execution_count": 37,
   "id": "4b38aa37",
   "metadata": {
    "execution": {
     "iopub.execute_input": "2022-05-12T02:46:48.166307Z",
     "iopub.status.busy": "2022-05-12T02:46:48.166307Z",
     "iopub.status.idle": "2022-05-12T02:46:48.638378Z",
     "shell.execute_reply": "2022-05-12T02:46:48.637382Z",
     "shell.execute_reply.started": "2022-05-12T02:46:48.166307Z"
    }
   },
   "outputs": [
    {
     "ename": "NameError",
     "evalue": "name 'data_comp' is not defined",
     "output_type": "error",
     "traceback": [
      "\u001b[1;31m---------------------------------------------------------------------------\u001b[0m",
      "\u001b[1;31mNameError\u001b[0m                                 Traceback (most recent call last)",
      "\u001b[1;32m~\\AppData\\Local\\Temp/ipykernel_8576/728715475.py\u001b[0m in \u001b[0;36m<module>\u001b[1;34m\u001b[0m\n\u001b[1;32m----> 1\u001b[1;33m \u001b[0mprice_x_sup\u001b[0m \u001b[1;33m=\u001b[0m \u001b[0mdata\u001b[0m\u001b[1;33m.\u001b[0m\u001b[0mprice\u001b[0m\u001b[1;33m/\u001b[0m\u001b[0mdata_comp\u001b[0m\u001b[1;33m.\u001b[0m\u001b[0msurface_covered_in_m2_3\u001b[0m\u001b[1;33m\u001b[0m\u001b[1;33m\u001b[0m\u001b[0m\n\u001b[0m\u001b[0;32m      2\u001b[0m \u001b[0mdata\u001b[0m\u001b[1;33m[\u001b[0m\u001b[1;34m'price_x_sup'\u001b[0m\u001b[1;33m]\u001b[0m \u001b[1;33m=\u001b[0m \u001b[0mprice_x_sup\u001b[0m\u001b[1;33m\u001b[0m\u001b[1;33m\u001b[0m\u001b[0m\n",
      "\u001b[1;31mNameError\u001b[0m: name 'data_comp' is not defined"
     ]
    }
   ],
   "source": [
    "price_x_sup = data.price/data_comp.surface_covered_in_m2_3\n",
    "data['price_x_sup'] = price_x_sup"
   ]
  },
  {
   "cell_type": "code",
   "execution_count": null,
   "id": "b17e1670",
   "metadata": {
    "execution": {
     "iopub.status.busy": "2022-05-12T02:46:48.640379Z",
     "iopub.status.idle": "2022-05-12T02:46:48.640379Z",
     "shell.execute_reply": "2022-05-12T02:46:48.640379Z",
     "shell.execute_reply.started": "2022-05-12T02:46:48.640379Z"
    }
   },
   "outputs": [],
   "source": [
    "sns.histplot(data= data,x='price_usd_per_m2', hue='property_type', bins=5000, color='k')\n",
    "plt.xlim(0,8000)"
   ]
  },
  {
   "cell_type": "code",
   "execution_count": null,
   "id": "201b9e5d",
   "metadata": {
    "execution": {
     "iopub.status.busy": "2022-05-12T02:46:48.642379Z",
     "iopub.status.idle": "2022-05-12T02:46:48.642379Z",
     "shell.execute_reply": "2022-05-12T02:46:48.642379Z",
     "shell.execute_reply.started": "2022-05-12T02:46:48.642379Z"
    }
   },
   "outputs": [],
   "source": [
    "sns.histplot(data= data,x='price_x_sup', hue='property_type', bins=50000, color='k')\n",
    "plt.xlim(0,8000)"
   ]
  },
  {
   "cell_type": "code",
   "execution_count": null,
   "id": "c781a6ca",
   "metadata": {
    "execution": {
     "iopub.status.busy": "2022-05-12T02:46:48.644380Z",
     "iopub.status.idle": "2022-05-12T02:46:48.645383Z",
     "shell.execute_reply": "2022-05-12T02:46:48.645383Z",
     "shell.execute_reply.started": "2022-05-12T02:46:48.645383Z"
    }
   },
   "outputs": [],
   "source": [
    "sns.histplot(data= data,x='price_per_m2', hue='property_type', bins=50000, color='k')\n",
    "plt.xlim(0,8000)"
   ]
  }
 ],
 "metadata": {
  "kernelspec": {
   "display_name": "Python 3 (ipykernel)",
   "language": "python",
   "name": "python3"
  },
  "language_info": {
   "codemirror_mode": {
    "name": "ipython",
    "version": 3
   },
   "file_extension": ".py",
   "mimetype": "text/x-python",
   "name": "python",
   "nbconvert_exporter": "python",
   "pygments_lexer": "ipython3",
   "version": "3.8.12"
  }
 },
 "nbformat": 4,
 "nbformat_minor": 5
}
