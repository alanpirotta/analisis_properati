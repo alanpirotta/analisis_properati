{
 "cells": [
  {
   "cell_type": "code",
   "execution_count": 1,
   "id": "bbe85e08",
   "metadata": {
    "execution": {
     "iopub.execute_input": "2022-05-30T22:50:22.224618Z",
     "iopub.status.busy": "2022-05-30T22:50:22.223618Z",
     "iopub.status.idle": "2022-05-30T22:50:25.528243Z",
     "shell.execute_reply": "2022-05-30T22:50:25.527241Z",
     "shell.execute_reply.started": "2022-05-30T22:50:22.224618Z"
    }
   },
   "outputs": [],
   "source": [
    "import numpy as np\n",
    "import pandas as pd\n",
    "import matplotlib.pyplot as plt\n",
    "import seaborn as sns\n",
    "import re"
   ]
  },
  {
   "cell_type": "code",
   "execution_count": 13,
   "id": "8ae5f00a",
   "metadata": {
    "execution": {
     "iopub.execute_input": "2022-05-30T22:55:45.912272Z",
     "iopub.status.busy": "2022-05-30T22:55:45.912272Z",
     "iopub.status.idle": "2022-05-30T22:55:48.199270Z",
     "shell.execute_reply": "2022-05-30T22:55:48.198268Z",
     "shell.execute_reply.started": "2022-05-30T22:55:45.912272Z"
    }
   },
   "outputs": [],
   "source": [
    "location= 'Data/properati.csv'\n",
    "\n",
    "df = pd.read_csv(location, index_col=0)"
   ]
  },
  {
   "cell_type": "code",
   "execution_count": 47,
   "id": "2df2a058",
   "metadata": {
    "execution": {
     "iopub.execute_input": "2022-05-31T00:30:28.933715Z",
     "iopub.status.busy": "2022-05-31T00:30:28.933715Z",
     "iopub.status.idle": "2022-05-31T00:30:29.118714Z",
     "shell.execute_reply": "2022-05-31T00:30:29.117712Z",
     "shell.execute_reply.started": "2022-05-31T00:30:28.933715Z"
    }
   },
   "outputs": [
    {
     "name": "stdout",
     "output_type": "stream",
     "text": [
      "<class 'pandas.core.frame.DataFrame'>\n",
      "Int64Index: 30952 entries, 0 to 121219\n",
      "Data columns (total 25 columns):\n",
      " #   Column                      Non-Null Count  Dtype  \n",
      "---  ------                      --------------  -----  \n",
      " 0   operation                   30952 non-null  object \n",
      " 1   property_type               30952 non-null  object \n",
      " 2   place_name                  30952 non-null  object \n",
      " 3   place_with_parent_names     30952 non-null  object \n",
      " 4   country_name                30952 non-null  object \n",
      " 5   state_name                  30952 non-null  object \n",
      " 6   geonames_id                 29737 non-null  float64\n",
      " 7   lat-lon                     22631 non-null  object \n",
      " 8   lat                         22631 non-null  float64\n",
      " 9   lon                         22631 non-null  float64\n",
      " 10  price                       27828 non-null  float64\n",
      " 11  currency                    27828 non-null  object \n",
      " 12  price_aprox_local_currency  27828 non-null  float64\n",
      " 13  price_aprox_usd             27828 non-null  float64\n",
      " 14  surface_total_in_m2         25372 non-null  float64\n",
      " 15  surface_covered_in_m2       28800 non-null  float64\n",
      " 16  price_usd_per_m2            22519 non-null  float64\n",
      " 17  price_per_m2                26276 non-null  float64\n",
      " 18  floor                       3001 non-null   float64\n",
      " 19  rooms                       15283 non-null  float64\n",
      " 20  expenses                    6390 non-null   float64\n",
      " 21  properati_url               30952 non-null  object \n",
      " 22  description                 30952 non-null  object \n",
      " 23  title                       30952 non-null  object \n",
      " 24  image_thumbnail             30477 non-null  object \n",
      "dtypes: float64(13), object(12)\n",
      "memory usage: 6.1+ MB\n"
     ]
    },
    {
     "data": {
      "text/plain": [
       "None"
      ]
     },
     "metadata": {},
     "output_type": "display_data"
    }
   ],
   "source": [
    "# Filtro sólo CABA y elmino los stores del tipo de propiedad\n",
    "df2 = df[(df['property_type'].isin(['apartment','house','PH'])) & (df['state_name'] == 'Capital Federal')]\n",
    "\n",
    "# Chequeo NaN\n",
    "display(df2.info())\n",
    "\n",
    "# Saco las columnas operatcion y estado, ya que son columnas con un solo valor y sin NA\n",
    "df2 = df2.drop(['properati_url','expenses','operation', 'state_name', 'lat','lon','place_with_parent_names', 'country_name', 'geonames_id','price','currency','price_aprox_local_currency'], axis=1)"
   ]
  },
  {
   "cell_type": "code",
   "execution_count": 48,
   "id": "c182b8a1",
   "metadata": {
    "execution": {
     "iopub.execute_input": "2022-05-31T00:30:29.121712Z",
     "iopub.status.busy": "2022-05-31T00:30:29.120713Z",
     "iopub.status.idle": "2022-05-31T00:30:29.148716Z",
     "shell.execute_reply": "2022-05-31T00:30:29.147717Z",
     "shell.execute_reply.started": "2022-05-31T00:30:29.121712Z"
    }
   },
   "outputs": [
    {
     "data": {
      "text/plain": [
       "Belgrano           2925\n",
       "Palermo            2773\n",
       "Caballito          2235\n",
       "Villa Urquiza      1605\n",
       "Recoleta           1453\n",
       "                   ... \n",
       "Palermo Viejo        36\n",
       "Villa Real           36\n",
       "Villa Soldati        13\n",
       "Villa Riachuelo       6\n",
       "Catalinas             3\n",
       "Name: place_name, Length: 62, dtype: int64"
      ]
     },
     "execution_count": 48,
     "metadata": {},
     "output_type": "execute_result"
    }
   ],
   "source": [
    "df2['place_name'].value_counts()"
   ]
  },
  {
   "cell_type": "code",
   "execution_count": 49,
   "id": "f4f70371",
   "metadata": {
    "execution": {
     "iopub.execute_input": "2022-05-31T00:30:29.151713Z",
     "iopub.status.busy": "2022-05-31T00:30:29.150712Z",
     "iopub.status.idle": "2022-05-31T00:30:29.163714Z",
     "shell.execute_reply": "2022-05-31T00:30:29.162710Z",
     "shell.execute_reply.started": "2022-05-31T00:30:29.150712Z"
    }
   },
   "outputs": [
    {
     "data": {
      "text/plain": [
       "Index(['property_type', 'place_name', 'lat-lon', 'price_aprox_usd',\n",
       "       'surface_total_in_m2', 'surface_covered_in_m2', 'price_usd_per_m2',\n",
       "       'price_per_m2', 'floor', 'rooms', 'description', 'title',\n",
       "       'image_thumbnail'],\n",
       "      dtype='object')"
      ]
     },
     "execution_count": 49,
     "metadata": {},
     "output_type": "execute_result"
    }
   ],
   "source": [
    "df2.columns"
   ]
  },
  {
   "cell_type": "markdown",
   "id": "3105d23d",
   "metadata": {},
   "source": [
    "## Columnas a agregar/eliminar\n",
    "\n",
    "- Amenities: Booleano. Pileta, garage/cochera, parrilla, sum, garden/jardin\n",
    "- Cuota: Booleano. Ver si sigue aplicando para planes, y si eliminamos o no.\n",
    "- superficie: unificar los regex de los dos grupos\n",
    "- Sup total y cubierta: Tomas buscará en los trabajos del resto. Julio había imputado esto, traer el código al nuevo dataset. Revisar le tema de las que tiene valores diferentes.\n",
    "- image_thumbnail: Ver si los duplicados que se encontraron son relevantes en el nuevo dataset, y ulego eliminarla\n",
    "- Floor: Aplicar el regex y ver con cuantos datos nos quedamos.\n",
    "- rooms y ambientes: Ver los regex que se armaron, como aplican al nuevo dataset\n",
    "- expensas por ahora se elimina\n",
    "- Description y title: Se saca todos los datos y se elimina"
   ]
  },
  {
   "cell_type": "code",
   "execution_count": null,
   "id": "e1069d31",
   "metadata": {},
   "outputs": [],
   "source": []
  },
  {
   "cell_type": "code",
   "execution_count": null,
   "id": "98c501a2",
   "metadata": {},
   "outputs": [],
   "source": []
  },
  {
   "cell_type": "code",
   "execution_count": null,
   "id": "f28ddad3",
   "metadata": {},
   "outputs": [],
   "source": []
  },
  {
   "cell_type": "code",
   "execution_count": null,
   "id": "710ed76a",
   "metadata": {},
   "outputs": [],
   "source": []
  },
  {
   "cell_type": "code",
   "execution_count": null,
   "id": "88e0c6bc",
   "metadata": {},
   "outputs": [],
   "source": []
  },
  {
   "cell_type": "code",
   "execution_count": null,
   "id": "3271237b",
   "metadata": {},
   "outputs": [],
   "source": []
  },
  {
   "cell_type": "markdown",
   "id": "19ce3f3b",
   "metadata": {},
   "source": [
    "## Feature engineering"
   ]
  },
  {
   "cell_type": "code",
   "execution_count": null,
   "id": "831aca68",
   "metadata": {},
   "outputs": [],
   "source": []
  },
  {
   "cell_type": "markdown",
   "id": "43aafd3f",
   "metadata": {},
   "source": [
    "## Modelado"
   ]
  },
  {
   "cell_type": "code",
   "execution_count": 50,
   "id": "7ff1b574",
   "metadata": {
    "execution": {
     "iopub.execute_input": "2022-05-31T00:30:30.919716Z",
     "iopub.status.busy": "2022-05-31T00:30:30.918716Z",
     "iopub.status.idle": "2022-05-31T00:30:30.944713Z",
     "shell.execute_reply": "2022-05-31T00:30:30.942712Z",
     "shell.execute_reply.started": "2022-05-31T00:30:30.919716Z"
    }
   },
   "outputs": [
    {
     "data": {
      "text/plain": [
       "Belgrano           2925\n",
       "Palermo            2773\n",
       "Caballito          2235\n",
       "Villa Urquiza      1605\n",
       "Recoleta           1453\n",
       "                   ... \n",
       "Palermo Viejo        36\n",
       "Villa Real           36\n",
       "Villa Soldati        13\n",
       "Villa Riachuelo       6\n",
       "Catalinas             3\n",
       "Name: place_name, Length: 62, dtype: int64"
      ]
     },
     "execution_count": 50,
     "metadata": {},
     "output_type": "execute_result"
    }
   ],
   "source": [
    "df2['place_name'].value_counts()"
   ]
  },
  {
   "cell_type": "code",
   "execution_count": 51,
   "id": "d9254d75",
   "metadata": {
    "execution": {
     "iopub.execute_input": "2022-05-31T00:30:31.648720Z",
     "iopub.status.busy": "2022-05-31T00:30:31.647716Z",
     "iopub.status.idle": "2022-05-31T00:30:31.672715Z",
     "shell.execute_reply": "2022-05-31T00:30:31.670712Z",
     "shell.execute_reply.started": "2022-05-31T00:30:31.648720Z"
    }
   },
   "outputs": [
    {
     "name": "stdout",
     "output_type": "stream",
     "text": [
      "(4840, 13)\n"
     ]
    }
   ],
   "source": [
    "X = df2[(df2['place_name'].isin(['Belgrano','Caballito'])) & (df2['property_type'] == 'apartment')]\n",
    "print(X.shape)\n",
    "y = df2['price_usd_per_m2']"
   ]
  },
  {
   "cell_type": "code",
   "execution_count": null,
   "id": "555e7288",
   "metadata": {},
   "outputs": [],
   "source": []
  }
 ],
 "metadata": {
  "kernelspec": {
   "display_name": "Python 3 (ipykernel)",
   "language": "python",
   "name": "python3"
  },
  "language_info": {
   "codemirror_mode": {
    "name": "ipython",
    "version": 3
   },
   "file_extension": ".py",
   "mimetype": "text/x-python",
   "name": "python",
   "nbconvert_exporter": "python",
   "pygments_lexer": "ipython3",
   "version": "3.8.12"
  }
 },
 "nbformat": 4,
 "nbformat_minor": 5
}
