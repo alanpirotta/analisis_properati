{
 "cells": [
  {
   "cell_type": "code",
   "execution_count": 1,
   "id": "bbe85e08",
   "metadata": {},
   "outputs": [],
   "source": [
    "import numpy as np\n",
    "import pandas as pd\n",
    "import matplotlib.pyplot as plt\n",
    "import seaborn as sns\n",
    "import re"
   ]
  },
  {
   "cell_type": "code",
   "execution_count": 2,
   "id": "8ae5f00a",
   "metadata": {},
   "outputs": [],
   "source": [
    "location= 'Data/properatti.csv'\n",
    "\n",
    "df = pd.read_csv(location, index_col=0)"
   ]
  },
  {
   "cell_type": "code",
   "execution_count": 3,
   "id": "2df2a058",
   "metadata": {},
   "outputs": [
    {
     "name": "stdout",
     "output_type": "stream",
     "text": [
      "<class 'pandas.core.frame.DataFrame'>\n",
      "Int64Index: 30952 entries, 0 to 121219\n",
      "Data columns (total 25 columns):\n",
      " #   Column                      Non-Null Count  Dtype  \n",
      "---  ------                      --------------  -----  \n",
      " 0   operation                   30952 non-null  object \n",
      " 1   property_type               30952 non-null  object \n",
      " 2   place_name                  30952 non-null  object \n",
      " 3   place_with_parent_names     30952 non-null  object \n",
      " 4   country_name                30952 non-null  object \n",
      " 5   state_name                  30952 non-null  object \n",
      " 6   geonames_id                 29737 non-null  float64\n",
      " 7   lat-lon                     22631 non-null  object \n",
      " 8   lat                         22631 non-null  float64\n",
      " 9   lon                         22631 non-null  float64\n",
      " 10  price                       27828 non-null  float64\n",
      " 11  currency                    27828 non-null  object \n",
      " 12  price_aprox_local_currency  27828 non-null  float64\n",
      " 13  price_aprox_usd             27828 non-null  float64\n",
      " 14  surface_total_in_m2         25372 non-null  float64\n",
      " 15  surface_covered_in_m2       28800 non-null  float64\n",
      " 16  price_usd_per_m2            22519 non-null  float64\n",
      " 17  price_per_m2                26276 non-null  float64\n",
      " 18  floor                       3001 non-null   float64\n",
      " 19  rooms                       15283 non-null  float64\n",
      " 20  expenses                    6390 non-null   float64\n",
      " 21  properati_url               30952 non-null  object \n",
      " 22  description                 30952 non-null  object \n",
      " 23  title                       30952 non-null  object \n",
      " 24  image_thumbnail             30477 non-null  object \n",
      "dtypes: float64(13), object(12)\n",
      "memory usage: 6.1+ MB\n"
     ]
    },
    {
     "data": {
      "text/plain": [
       "None"
      ]
     },
     "metadata": {},
     "output_type": "display_data"
    }
   ],
   "source": [
    "# Filtro sólo CABA y elmino los stores del tipo de propiedad\n",
    "df2 = df[(df['property_type'].isin(['apartment','house','PH'])) & (df['state_name'] == 'Capital Federal')]\n",
    "\n",
    "# Chequeo NaN\n",
    "display(df2.info())\n",
    "\n",
    "# Saco las columnas operatcion y estado, ya que son columnas con un solo valor y sin NA\n",
    "df2 = df2.drop(['properati_url','expenses','operation', 'state_name', 'lat','lon','place_with_parent_names', 'country_name', 'geonames_id','price','currency','price_aprox_local_currency'], axis=1)"
   ]
  },
  {
   "cell_type": "code",
   "execution_count": 4,
   "id": "c182b8a1",
   "metadata": {},
   "outputs": [
    {
     "data": {
      "text/plain": [
       "Belgrano           2925\n",
       "Palermo            2773\n",
       "Caballito          2235\n",
       "Villa Urquiza      1605\n",
       "Recoleta           1453\n",
       "                   ... \n",
       "Palermo Viejo        36\n",
       "Villa Real           36\n",
       "Villa Soldati        13\n",
       "Villa Riachuelo       6\n",
       "Catalinas             3\n",
       "Name: place_name, Length: 62, dtype: int64"
      ]
     },
     "execution_count": 4,
     "metadata": {},
     "output_type": "execute_result"
    }
   ],
   "source": [
    "df2['place_name'].value_counts()"
   ]
  },
  {
   "cell_type": "code",
   "execution_count": 5,
   "id": "f4f70371",
   "metadata": {},
   "outputs": [
    {
     "data": {
      "text/plain": [
       "Index(['property_type', 'place_name', 'lat-lon', 'price_aprox_usd',\n",
       "       'surface_total_in_m2', 'surface_covered_in_m2', 'price_usd_per_m2',\n",
       "       'price_per_m2', 'floor', 'rooms', 'description', 'title',\n",
       "       'image_thumbnail'],\n",
       "      dtype='object')"
      ]
     },
     "execution_count": 5,
     "metadata": {},
     "output_type": "execute_result"
    }
   ],
   "source": [
    "df2.columns"
   ]
  },
  {
   "cell_type": "markdown",
   "id": "3105d23d",
   "metadata": {},
   "source": [
    "## Columnas a agregar/eliminar\n",
    "\n",
    "- Amenities: Booleano. Pileta, garage/cochera, parrilla, sum, garden/jardin\n",
    "- Cuota: Booleano. Ver si sigue aplicando para planes, y si eliminamos o no.\n",
    "- superficie: unificar los regex de los dos grupos\n",
    "- Sup total y cubierta: Tomas buscará en los trabajos del resto. Julio había imputado esto, traer el código al nuevo dataset. Revisar le tema de las que tiene valores diferentes.\n",
    "- image_thumbnail: Ver si los duplicados que se encontraron son relevantes en el nuevo dataset, y ulego eliminarla\n",
    "- Floor: Aplicar el regex y ver con cuantos datos nos quedamos.\n",
    "- rooms y ambientes: Ver los regex que se armaron, como aplican al nuevo dataset\n",
    "- expensas por ahora se elimina\n",
    "- Description y title: Se saca todos los datos y se elimina"
   ]
  },
  {
   "cell_type": "code",
   "execution_count": null,
   "id": "e1069d31",
   "metadata": {},
   "outputs": [],
   "source": []
  },
  {
   "cell_type": "code",
   "execution_count": null,
   "id": "98c501a2",
   "metadata": {},
   "outputs": [],
   "source": []
  },
  {
   "cell_type": "code",
   "execution_count": null,
   "id": "f28ddad3",
   "metadata": {},
   "outputs": [],
   "source": []
  },
  {
   "cell_type": "code",
   "execution_count": null,
   "id": "710ed76a",
   "metadata": {},
   "outputs": [],
   "source": []
  },
  {
   "cell_type": "code",
   "execution_count": null,
   "id": "88e0c6bc",
   "metadata": {},
   "outputs": [],
   "source": []
  },
  {
   "cell_type": "code",
   "execution_count": null,
   "id": "3271237b",
   "metadata": {},
   "outputs": [],
   "source": []
  },
  {
   "cell_type": "markdown",
   "id": "19ce3f3b",
   "metadata": {},
   "source": [
    "## Feature engineering"
   ]
  },
  {
   "cell_type": "code",
   "execution_count": null,
   "id": "831aca68",
   "metadata": {},
   "outputs": [],
   "source": []
  },
  {
   "cell_type": "markdown",
   "id": "43aafd3f",
   "metadata": {},
   "source": [
    "## test modelado básico"
   ]
  },
  {
   "cell_type": "code",
   "execution_count": 43,
   "id": "02dfb30e-7c61-41d7-8b59-322bea0ca431",
   "metadata": {},
   "outputs": [],
   "source": [
    "# importo los librerías para el modelo\n",
    "from sklearn.model_selection import train_test_split\n",
    "from sklearn.linear_model import LinearRegression\n",
    "from sklearn.linear_model import RidgeCV\n",
    "from sklearn import metrics"
   ]
  },
  {
   "cell_type": "code",
   "execution_count": 25,
   "id": "f65addcd-5068-4313-a147-6f5ca5113eed",
   "metadata": {},
   "outputs": [],
   "source": [
    "#Dropeo todas las features que necesitan tratamiento previo para servir\n",
    "df3 = df2.drop(['description','title','image_thumbnail','price_per_m2','lat-lon', 'rooms','floor'], axis=1)"
   ]
  },
  {
   "cell_type": "code",
   "execution_count": 26,
   "id": "c72bd691-8af0-4c7a-b7b1-ca076ff8c221",
   "metadata": {},
   "outputs": [],
   "source": [
    "mask_barrios = (df3['place_name'].isin(['Belgrano','Caballito']))\n",
    "mask_appt = (df3['property_type'] == 'apartment')\n",
    "\n",
    "df3 = df3[mask_barrios & mask_appt]"
   ]
  },
  {
   "cell_type": "code",
   "execution_count": 27,
   "id": "700397cf-3527-4780-b1f2-22dbe4218a99",
   "metadata": {},
   "outputs": [
    {
     "name": "stdout",
     "output_type": "stream",
     "text": [
      "<class 'pandas.core.frame.DataFrame'>\n",
      "Int64Index: 4840 entries, 7 to 121215\n",
      "Data columns (total 6 columns):\n",
      " #   Column                 Non-Null Count  Dtype  \n",
      "---  ------                 --------------  -----  \n",
      " 0   property_type          4840 non-null   object \n",
      " 1   place_name             4840 non-null   object \n",
      " 2   price_aprox_usd        4224 non-null   float64\n",
      " 3   surface_total_in_m2    4119 non-null   float64\n",
      " 4   surface_covered_in_m2  4643 non-null   float64\n",
      " 5   price_usd_per_m2       3530 non-null   float64\n",
      "dtypes: float64(4), object(2)\n",
      "memory usage: 264.7+ KB\n"
     ]
    }
   ],
   "source": [
    "df3.info()"
   ]
  },
  {
   "cell_type": "code",
   "execution_count": 28,
   "id": "efb49170-aaa1-49b5-9f27-62627dfca483",
   "metadata": {},
   "outputs": [],
   "source": [
    "#Descarto TODAS las que tienen algun NaN, sin otro criterio\n",
    "df3 = df3.dropna()"
   ]
  },
  {
   "cell_type": "code",
   "execution_count": 46,
   "id": "eaaa7c6f-e59c-4022-a17a-3d48b22640ea",
   "metadata": {},
   "outputs": [
    {
     "data": {
      "text/plain": [
       "Belgrano     1874\n",
       "Caballito    1528\n",
       "Name: place_name, dtype: int64"
      ]
     },
     "execution_count": 46,
     "metadata": {},
     "output_type": "execute_result"
    }
   ],
   "source": [
    "df3['place_name'].value_counts()"
   ]
  },
  {
   "cell_type": "code",
   "execution_count": 35,
   "id": "d9254d75",
   "metadata": {},
   "outputs": [
    {
     "data": {
      "text/plain": [
       "((3402, 3), (3402,), (2551, 3), (851, 3), (2551,), (851,))"
      ]
     },
     "execution_count": 35,
     "metadata": {},
     "output_type": "execute_result"
    }
   ],
   "source": [
    "# Selecciono las columnas que considero features para modelar \n",
    "X = df3.loc[:,['place_name','surface_total_in_m2','surface_covered_in_m2']]\n",
    "y = df3['price_usd_per_m2']\n",
    "\n",
    "# Convierto a dummies las categóricas\n",
    "X = pd.get_dummies(X,drop_first=True)\n",
    "\n",
    "# Separo en train/test\n",
    "X_train, X_test, y_train, y_test = train_test_split(X,y,random_state=33)\n",
    "\n",
    "X.shape, y.shape, X_train.shape,X_test.shape, y_train.shape, y_test.shape"
   ]
  },
  {
   "cell_type": "code",
   "execution_count": 38,
   "id": "555e7288",
   "metadata": {},
   "outputs": [
    {
     "data": {
      "text/plain": [
       "(3031.862519234963, array([  -9.35812977,   12.63713738, -600.1193796 ]))"
      ]
     },
     "execution_count": 38,
     "metadata": {},
     "output_type": "execute_result"
    }
   ],
   "source": [
    "lr = LinearRegression()\n",
    "\n",
    "lr.fit(X_train,y_train)\n",
    "lr.intercept_, lr.coef_"
   ]
  },
  {
   "cell_type": "code",
   "execution_count": 44,
   "id": "985cf1aa-8460-4d0b-866f-28d257a11178",
   "metadata": {},
   "outputs": [
    {
     "data": {
      "text/plain": [
       "0.27414053361027124"
      ]
     },
     "execution_count": 44,
     "metadata": {},
     "output_type": "execute_result"
    }
   ],
   "source": [
    "y_pred = lr.predict(X_test)\n",
    "\n",
    "metrics.r2_score(y_test, y_pred)"
   ]
  },
  {
   "cell_type": "code",
   "execution_count": 52,
   "id": "9c0e03f4-1b52-4e0e-9807-3eeb19f72c9c",
   "metadata": {},
   "outputs": [
    {
     "data": {
      "text/plain": [
       "(3031.8624621393838,\n",
       " array([  -9.35812972,   12.63713749, -600.11928047]),\n",
       " 0.0001)"
      ]
     },
     "execution_count": 52,
     "metadata": {},
     "output_type": "execute_result"
    }
   ],
   "source": [
    "#prueba con crossvalidation con Ridge\n",
    "rcv = RidgeCV(alphas=(0.0001,0.001,0.01,0.1,1,10,100,1000,10000), cv=5)\n",
    "\n",
    "rcv.fit(X_train,y_train)\n",
    "rcv.intercept_, rcv.coef_, rcv.alpha_"
   ]
  }
 ],
 "metadata": {
  "kernelspec": {
   "display_name": "Python 3 (ipykernel)",
   "language": "python",
   "name": "python3"
  },
  "language_info": {
   "codemirror_mode": {
    "name": "ipython",
    "version": 3
   },
   "file_extension": ".py",
   "mimetype": "text/x-python",
   "name": "python",
   "nbconvert_exporter": "python",
   "pygments_lexer": "ipython3",
   "version": "3.9.12"
  }
 },
 "nbformat": 4,
 "nbformat_minor": 5
}
