{
 "cells": [
  {
   "cell_type": "code",
   "execution_count": 1,
   "id": "c92b4177",
   "metadata": {
    "execution": {
     "iopub.status.idle": "2022-06-09T23:35:48.046069Z",
     "shell.execute_reply": "2022-06-09T23:35:48.045067Z",
     "shell.execute_reply.started": "2022-06-09T23:35:46.090897Z"
    }
   },
   "outputs": [],
   "source": [
    "import numpy as np\n",
    "import pandas as pd\n",
    "import matplotlib.pyplot as plt\n",
    "import seaborn as sns\n",
    "import re"
   ]
  },
  {
   "cell_type": "code",
   "execution_count": 2,
   "id": "82dc2190",
   "metadata": {
    "execution": {
     "iopub.execute_input": "2022-06-09T23:35:48.048067Z",
     "iopub.status.busy": "2022-06-09T23:35:48.048067Z",
     "iopub.status.idle": "2022-06-09T23:35:50.320068Z",
     "shell.execute_reply": "2022-06-09T23:35:50.319065Z",
     "shell.execute_reply.started": "2022-06-09T23:35:48.048067Z"
    }
   },
   "outputs": [],
   "source": [
    "location= 'Data/properatti.csv'\n",
    "\n",
    "df = pd.read_csv(location, index_col=0)"
   ]
  },
  {
   "cell_type": "code",
   "execution_count": 3,
   "id": "d0d8cc94",
   "metadata": {
    "execution": {
     "iopub.execute_input": "2022-06-09T23:35:50.322067Z",
     "iopub.status.busy": "2022-06-09T23:35:50.321067Z",
     "iopub.status.idle": "2022-06-09T23:35:50.445067Z",
     "shell.execute_reply": "2022-06-09T23:35:50.444066Z",
     "shell.execute_reply.started": "2022-06-09T23:35:50.322067Z"
    }
   },
   "outputs": [
    {
     "name": "stdout",
     "output_type": "stream",
     "text": [
      "<class 'pandas.core.frame.DataFrame'>\n",
      "Int64Index: 30952 entries, 0 to 121219\n",
      "Data columns (total 25 columns):\n",
      " #   Column                      Non-Null Count  Dtype  \n",
      "---  ------                      --------------  -----  \n",
      " 0   operation                   30952 non-null  object \n",
      " 1   property_type               30952 non-null  object \n",
      " 2   place_name                  30952 non-null  object \n",
      " 3   place_with_parent_names     30952 non-null  object \n",
      " 4   country_name                30952 non-null  object \n",
      " 5   state_name                  30952 non-null  object \n",
      " 6   geonames_id                 29737 non-null  float64\n",
      " 7   lat-lon                     22631 non-null  object \n",
      " 8   lat                         22631 non-null  float64\n",
      " 9   lon                         22631 non-null  float64\n",
      " 10  price                       27828 non-null  float64\n",
      " 11  currency                    27828 non-null  object \n",
      " 12  price_aprox_local_currency  27828 non-null  float64\n",
      " 13  price_aprox_usd             27828 non-null  float64\n",
      " 14  surface_total_in_m2         25372 non-null  float64\n",
      " 15  surface_covered_in_m2       28800 non-null  float64\n",
      " 16  price_usd_per_m2            22519 non-null  float64\n",
      " 17  price_per_m2                26276 non-null  float64\n",
      " 18  floor                       3001 non-null   float64\n",
      " 19  rooms                       15283 non-null  float64\n",
      " 20  expenses                    6390 non-null   float64\n",
      " 21  properati_url               30952 non-null  object \n",
      " 22  description                 30952 non-null  object \n",
      " 23  title                       30952 non-null  object \n",
      " 24  image_thumbnail             30477 non-null  object \n",
      "dtypes: float64(13), object(12)\n",
      "memory usage: 6.1+ MB\n"
     ]
    },
    {
     "data": {
      "text/plain": [
       "None"
      ]
     },
     "metadata": {},
     "output_type": "display_data"
    }
   ],
   "source": [
    "# Filtro sólo CABA y elmino los stores del tipo de propiedad\n",
    "df = df[(df['property_type'].isin(['apartment','house','PH'])) & (df['state_name'] == 'Capital Federal')]\n",
    "\n",
    "# Chequeo NaN\n",
    "display(df.info())\n",
    "\n",
    "# Saco las columnas operatcion y estado, ya que son columnas con un solo valor y sin NA (,'rooms')\n",
    "df = df.drop(['lat-lon','floor','expenses','operation', 'state_name', 'lat','lon','place_with_parent_names', 'country_name', 'geonames_id','price','currency'], axis=1)"
   ]
  },
  {
   "cell_type": "code",
   "execution_count": 4,
   "id": "41fce227",
   "metadata": {
    "execution": {
     "iopub.execute_input": "2022-06-09T23:35:50.447074Z",
     "iopub.status.busy": "2022-06-09T23:35:50.446066Z",
     "iopub.status.idle": "2022-06-09T23:35:50.476068Z",
     "shell.execute_reply": "2022-06-09T23:35:50.475065Z",
     "shell.execute_reply.started": "2022-06-09T23:35:50.447074Z"
    }
   },
   "outputs": [
    {
     "data": {
      "text/plain": [
       "Belgrano           2925\n",
       "Palermo            2773\n",
       "Caballito          2235\n",
       "Villa Urquiza      1605\n",
       "Recoleta           1453\n",
       "                   ... \n",
       "Villa Real           36\n",
       "Palermo Viejo        36\n",
       "Villa Soldati        13\n",
       "Villa Riachuelo       6\n",
       "Catalinas             3\n",
       "Name: place_name, Length: 62, dtype: int64"
      ]
     },
     "execution_count": 4,
     "metadata": {},
     "output_type": "execute_result"
    }
   ],
   "source": [
    "df['place_name'].value_counts()"
   ]
  },
  {
   "cell_type": "code",
   "execution_count": 5,
   "id": "6a60a4bd",
   "metadata": {
    "execution": {
     "iopub.execute_input": "2022-06-09T23:35:50.478068Z",
     "iopub.status.busy": "2022-06-09T23:35:50.478068Z",
     "iopub.status.idle": "2022-06-09T23:35:50.491073Z",
     "shell.execute_reply": "2022-06-09T23:35:50.490068Z",
     "shell.execute_reply.started": "2022-06-09T23:35:50.478068Z"
    }
   },
   "outputs": [
    {
     "data": {
      "text/plain": [
       "Index(['property_type', 'place_name', 'price_aprox_local_currency',\n",
       "       'price_aprox_usd', 'surface_total_in_m2', 'surface_covered_in_m2',\n",
       "       'price_usd_per_m2', 'price_per_m2', 'rooms', 'properati_url',\n",
       "       'description', 'title', 'image_thumbnail'],\n",
       "      dtype='object')"
      ]
     },
     "execution_count": 5,
     "metadata": {},
     "output_type": "execute_result"
    }
   ],
   "source": [
    "df.columns"
   ]
  },
  {
   "cell_type": "markdown",
   "id": "a7423cfc",
   "metadata": {},
   "source": [
    "## Features de \"amenities\""
   ]
  },
  {
   "cell_type": "code",
   "execution_count": 6,
   "id": "354a8ba7",
   "metadata": {
    "execution": {
     "iopub.execute_input": "2022-06-09T23:35:50.493071Z",
     "iopub.status.busy": "2022-06-09T23:35:50.493071Z",
     "iopub.status.idle": "2022-06-09T23:35:50.523069Z",
     "shell.execute_reply": "2022-06-09T23:35:50.522071Z",
     "shell.execute_reply.started": "2022-06-09T23:35:50.493071Z"
    }
   },
   "outputs": [],
   "source": [
    "def clasificarAmenities(dataset):\n",
    "    ##esta funcion modifica el dataset de manera que agrega las columnas de amenities\n",
    "    #inicializo columnas\n",
    "    dataset['tiene_jardin'] = np.NaN\n",
    "    dataset['tiene_cochera'] = np.NaN\n",
    "    dataset['tiene_pileta'] = np.NaN\n",
    "    dataset['tiene_parrilla'] = np.NaN\n",
    "    \n",
    "    ##regex\n",
    "    #Expresiones regulares a utilizar\n",
    "    re_jardin = re.compile(\"(jardin|garden|green|parque|parquizado|pasto)+|\\s(sum)+\", flags=re.IGNORECASE)\n",
    "    re_cochera = re.compile(\"(garage|cochera)+|\\s(sum)+\", flags=re.IGNORECASE)\n",
    "    re_pileta = re.compile(\"(pileta|piscina|pile)+|\\s(sum)+\", flags=re.IGNORECASE)\n",
    "    re_parrilla = re.compile(\"(parrilla|bbq|barbaque|asado|asador)+|\\s(sum)+\", flags=re.IGNORECASE)\n",
    "    \n",
    "    #\n",
    "    for i in dataset.description.index:\n",
    "        \n",
    "        dataset.tiene_jardin[i] = 0\n",
    "        dataset.tiene_cochera[i] = 0\n",
    "        dataset.tiene_pileta[i] = 0\n",
    "        dataset.tiene_parrilla[i] = 0\n",
    "        \n",
    "        if dataset['description'][i] is not None:\n",
    "            \n",
    "            reg_search = re_jardin.search(str(dataset['description'][i]))\n",
    "            if reg_search:\n",
    "                dataset.tiene_jardin[i] = 1\n",
    "                \n",
    "            reg_search = re_cochera.search(str(dataset['description'][i]))\n",
    "            if reg_search:\n",
    "                dataset.tiene_cochera[i] = 1\n",
    "                \n",
    "            reg_search = re_pileta.search(str(dataset['description'][i]))\n",
    "            if reg_search:\n",
    "                dataset.tiene_pileta[i] = 1\n",
    "                \n",
    "            reg_search = re_parrilla.search(str(dataset['description'][i]))\n",
    "            if reg_search:\n",
    "                dataset.tiene_parrilla[i] = 1\n",
    "                \n",
    "                \n",
    "        if dataset['title'][i] is not None:\n",
    "            \n",
    "            reg_search = re_jardin.search(str(dataset['title'][i]))\n",
    "            if reg_search:\n",
    "                dataset.tiene_jardin[i] = 1\n",
    "                \n",
    "            reg_search = re_cochera.search(str(dataset['title'][i]))\n",
    "            if reg_search:\n",
    "                dataset.tiene_cochera[i] = 1\n",
    "                \n",
    "            reg_search = re_pileta.search(str(dataset['title'][i]))\n",
    "            if reg_search:\n",
    "                dataset.tiene_pileta[i] = 1\n",
    "                \n",
    "            reg_search = re_parrilla.search(str(dataset['title'][i]))\n",
    "            if reg_search:\n",
    "                dataset.tiene_parrilla[i] = 1                \n",
    "                \n",
    "                              \n",
    "        if dataset['properati_url'][i] is not None:\n",
    "            \n",
    "            reg_search = re_jardin.search(str(dataset['properati_url'][i]))\n",
    "            if reg_search:\n",
    "                dataset.tiene_jardin[i] = 1\n",
    "                \n",
    "            reg_search = re_cochera.search(str(dataset['properati_url'][i]))\n",
    "            if reg_search:\n",
    "                dataset.tiene_cochera[i] = 1\n",
    "                \n",
    "            reg_search = re_pileta.search(str(dataset['properati_url'][i]))\n",
    "            if reg_search:\n",
    "                dataset.tiene_pileta[i] = 1\n",
    "                \n",
    "            reg_search = re_parrilla.search(str(dataset['properati_url'][i]))\n",
    "            if reg_search:\n",
    "                dataset.tiene_parrilla[i] = 1                \n",
    "                  \n",
    "    return dataset            "
   ]
  },
  {
   "cell_type": "code",
   "execution_count": 7,
   "id": "fe68aba0",
   "metadata": {
    "execution": {
     "iopub.execute_input": "2022-06-09T23:35:50.525067Z",
     "iopub.status.busy": "2022-06-09T23:35:50.524072Z",
     "iopub.status.idle": "2022-06-09T23:36:37.443850Z",
     "shell.execute_reply": "2022-06-09T23:36:37.442846Z",
     "shell.execute_reply.started": "2022-06-09T23:35:50.525067Z"
    }
   },
   "outputs": [
    {
     "name": "stderr",
     "output_type": "stream",
     "text": [
      "C:\\Users\\alanp\\AppData\\Local\\Temp/ipykernel_3728/3445030929.py:19: SettingWithCopyWarning: \n",
      "A value is trying to be set on a copy of a slice from a DataFrame\n",
      "\n",
      "See the caveats in the documentation: https://pandas.pydata.org/pandas-docs/stable/user_guide/indexing.html#returning-a-view-versus-a-copy\n",
      "  dataset.tiene_jardin[i] = 0\n",
      "C:\\Users\\alanp\\AppData\\Local\\Temp/ipykernel_3728/3445030929.py:20: SettingWithCopyWarning: \n",
      "A value is trying to be set on a copy of a slice from a DataFrame\n",
      "\n",
      "See the caveats in the documentation: https://pandas.pydata.org/pandas-docs/stable/user_guide/indexing.html#returning-a-view-versus-a-copy\n",
      "  dataset.tiene_cochera[i] = 0\n",
      "C:\\Users\\alanp\\AppData\\Local\\Temp/ipykernel_3728/3445030929.py:21: SettingWithCopyWarning: \n",
      "A value is trying to be set on a copy of a slice from a DataFrame\n",
      "\n",
      "See the caveats in the documentation: https://pandas.pydata.org/pandas-docs/stable/user_guide/indexing.html#returning-a-view-versus-a-copy\n",
      "  dataset.tiene_pileta[i] = 0\n",
      "C:\\Users\\alanp\\AppData\\Local\\Temp/ipykernel_3728/3445030929.py:22: SettingWithCopyWarning: \n",
      "A value is trying to be set on a copy of a slice from a DataFrame\n",
      "\n",
      "See the caveats in the documentation: https://pandas.pydata.org/pandas-docs/stable/user_guide/indexing.html#returning-a-view-versus-a-copy\n",
      "  dataset.tiene_parrilla[i] = 0\n",
      "C:\\Users\\alanp\\AppData\\Local\\Temp/ipykernel_3728/3445030929.py:36: SettingWithCopyWarning: \n",
      "A value is trying to be set on a copy of a slice from a DataFrame\n",
      "\n",
      "See the caveats in the documentation: https://pandas.pydata.org/pandas-docs/stable/user_guide/indexing.html#returning-a-view-versus-a-copy\n",
      "  dataset.tiene_pileta[i] = 1\n",
      "C:\\Users\\alanp\\AppData\\Local\\Temp/ipykernel_3728/3445030929.py:74: SettingWithCopyWarning: \n",
      "A value is trying to be set on a copy of a slice from a DataFrame\n",
      "\n",
      "See the caveats in the documentation: https://pandas.pydata.org/pandas-docs/stable/user_guide/indexing.html#returning-a-view-versus-a-copy\n",
      "  dataset.tiene_pileta[i] = 1\n",
      "C:\\Users\\alanp\\AppData\\Local\\Temp/ipykernel_3728/3445030929.py:28: SettingWithCopyWarning: \n",
      "A value is trying to be set on a copy of a slice from a DataFrame\n",
      "\n",
      "See the caveats in the documentation: https://pandas.pydata.org/pandas-docs/stable/user_guide/indexing.html#returning-a-view-versus-a-copy\n",
      "  dataset.tiene_jardin[i] = 1\n",
      "C:\\Users\\alanp\\AppData\\Local\\Temp/ipykernel_3728/3445030929.py:40: SettingWithCopyWarning: \n",
      "A value is trying to be set on a copy of a slice from a DataFrame\n",
      "\n",
      "See the caveats in the documentation: https://pandas.pydata.org/pandas-docs/stable/user_guide/indexing.html#returning-a-view-versus-a-copy\n",
      "  dataset.tiene_parrilla[i] = 1\n",
      "C:\\Users\\alanp\\AppData\\Local\\Temp/ipykernel_3728/3445030929.py:78: SettingWithCopyWarning: \n",
      "A value is trying to be set on a copy of a slice from a DataFrame\n",
      "\n",
      "See the caveats in the documentation: https://pandas.pydata.org/pandas-docs/stable/user_guide/indexing.html#returning-a-view-versus-a-copy\n",
      "  dataset.tiene_parrilla[i] = 1\n",
      "C:\\Users\\alanp\\AppData\\Local\\Temp/ipykernel_3728/3445030929.py:32: SettingWithCopyWarning: \n",
      "A value is trying to be set on a copy of a slice from a DataFrame\n",
      "\n",
      "See the caveats in the documentation: https://pandas.pydata.org/pandas-docs/stable/user_guide/indexing.html#returning-a-view-versus-a-copy\n",
      "  dataset.tiene_cochera[i] = 1\n",
      "C:\\Users\\alanp\\AppData\\Local\\Temp/ipykernel_3728/3445030929.py:51: SettingWithCopyWarning: \n",
      "A value is trying to be set on a copy of a slice from a DataFrame\n",
      "\n",
      "See the caveats in the documentation: https://pandas.pydata.org/pandas-docs/stable/user_guide/indexing.html#returning-a-view-versus-a-copy\n",
      "  dataset.tiene_cochera[i] = 1\n",
      "C:\\Users\\alanp\\AppData\\Local\\Temp/ipykernel_3728/3445030929.py:55: SettingWithCopyWarning: \n",
      "A value is trying to be set on a copy of a slice from a DataFrame\n",
      "\n",
      "See the caveats in the documentation: https://pandas.pydata.org/pandas-docs/stable/user_guide/indexing.html#returning-a-view-versus-a-copy\n",
      "  dataset.tiene_pileta[i] = 1\n",
      "C:\\Users\\alanp\\AppData\\Local\\Temp/ipykernel_3728/3445030929.py:70: SettingWithCopyWarning: \n",
      "A value is trying to be set on a copy of a slice from a DataFrame\n",
      "\n",
      "See the caveats in the documentation: https://pandas.pydata.org/pandas-docs/stable/user_guide/indexing.html#returning-a-view-versus-a-copy\n",
      "  dataset.tiene_cochera[i] = 1\n",
      "C:\\Users\\alanp\\AppData\\Local\\Temp/ipykernel_3728/3445030929.py:66: SettingWithCopyWarning: \n",
      "A value is trying to be set on a copy of a slice from a DataFrame\n",
      "\n",
      "See the caveats in the documentation: https://pandas.pydata.org/pandas-docs/stable/user_guide/indexing.html#returning-a-view-versus-a-copy\n",
      "  dataset.tiene_jardin[i] = 1\n",
      "C:\\Users\\alanp\\AppData\\Local\\Temp/ipykernel_3728/3445030929.py:47: SettingWithCopyWarning: \n",
      "A value is trying to be set on a copy of a slice from a DataFrame\n",
      "\n",
      "See the caveats in the documentation: https://pandas.pydata.org/pandas-docs/stable/user_guide/indexing.html#returning-a-view-versus-a-copy\n",
      "  dataset.tiene_jardin[i] = 1\n",
      "C:\\Users\\alanp\\AppData\\Local\\Temp/ipykernel_3728/3445030929.py:59: SettingWithCopyWarning: \n",
      "A value is trying to be set on a copy of a slice from a DataFrame\n",
      "\n",
      "See the caveats in the documentation: https://pandas.pydata.org/pandas-docs/stable/user_guide/indexing.html#returning-a-view-versus-a-copy\n",
      "  dataset.tiene_parrilla[i] = 1\n"
     ]
    },
    {
     "data": {
      "text/html": [
       "<div>\n",
       "<style scoped>\n",
       "    .dataframe tbody tr th:only-of-type {\n",
       "        vertical-align: middle;\n",
       "    }\n",
       "\n",
       "    .dataframe tbody tr th {\n",
       "        vertical-align: top;\n",
       "    }\n",
       "\n",
       "    .dataframe thead th {\n",
       "        text-align: right;\n",
       "    }\n",
       "</style>\n",
       "<table border=\"1\" class=\"dataframe\">\n",
       "  <thead>\n",
       "    <tr style=\"text-align: right;\">\n",
       "      <th></th>\n",
       "      <th>property_type</th>\n",
       "      <th>place_name</th>\n",
       "      <th>price_aprox_local_currency</th>\n",
       "      <th>price_aprox_usd</th>\n",
       "      <th>surface_total_in_m2</th>\n",
       "      <th>surface_covered_in_m2</th>\n",
       "      <th>price_usd_per_m2</th>\n",
       "      <th>price_per_m2</th>\n",
       "      <th>rooms</th>\n",
       "      <th>properati_url</th>\n",
       "      <th>description</th>\n",
       "      <th>title</th>\n",
       "      <th>image_thumbnail</th>\n",
       "      <th>tiene_jardin</th>\n",
       "      <th>tiene_cochera</th>\n",
       "      <th>tiene_pileta</th>\n",
       "      <th>tiene_parrilla</th>\n",
       "    </tr>\n",
       "  </thead>\n",
       "  <tbody>\n",
       "    <tr>\n",
       "      <th>0</th>\n",
       "      <td>PH</td>\n",
       "      <td>Mataderos</td>\n",
       "      <td>1093959.00</td>\n",
       "      <td>62000.0</td>\n",
       "      <td>55.0</td>\n",
       "      <td>40.0</td>\n",
       "      <td>1127.272727</td>\n",
       "      <td>1550.000000</td>\n",
       "      <td>NaN</td>\n",
       "      <td>http://www.properati.com.ar/15bo8_venta_ph_mat...</td>\n",
       "      <td>2 AMBIENTES TIPO CASA PLANTA BAJA POR PASILLO,...</td>\n",
       "      <td>2 AMB TIPO CASA SIN EXPENSAS EN PB</td>\n",
       "      <td>https://thumbs4.properati.com/8/BluUYiHJLhgIIK...</td>\n",
       "      <td>0.0</td>\n",
       "      <td>0.0</td>\n",
       "      <td>0.0</td>\n",
       "      <td>0.0</td>\n",
       "    </tr>\n",
       "    <tr>\n",
       "      <th>2</th>\n",
       "      <td>apartment</td>\n",
       "      <td>Mataderos</td>\n",
       "      <td>1270404.00</td>\n",
       "      <td>72000.0</td>\n",
       "      <td>55.0</td>\n",
       "      <td>55.0</td>\n",
       "      <td>1309.090909</td>\n",
       "      <td>1309.090909</td>\n",
       "      <td>NaN</td>\n",
       "      <td>http://www.properati.com.ar/15bod_venta_depart...</td>\n",
       "      <td>2 AMBIENTES 3ER PISO LATERAL LIVING COMEDOR AM...</td>\n",
       "      <td>2 AMB 3ER PISO CON ASCENSOR APTO CREDITO</td>\n",
       "      <td>https://thumbs4.properati.com/5/SXKr34F_IwG3W_...</td>\n",
       "      <td>0.0</td>\n",
       "      <td>0.0</td>\n",
       "      <td>0.0</td>\n",
       "      <td>0.0</td>\n",
       "    </tr>\n",
       "    <tr>\n",
       "      <th>3</th>\n",
       "      <td>PH</td>\n",
       "      <td>Liniers</td>\n",
       "      <td>1676227.50</td>\n",
       "      <td>95000.0</td>\n",
       "      <td>NaN</td>\n",
       "      <td>NaN</td>\n",
       "      <td>NaN</td>\n",
       "      <td>NaN</td>\n",
       "      <td>NaN</td>\n",
       "      <td>http://www.properati.com.ar/15boh_venta_ph_lin...</td>\n",
       "      <td>PH 3 ambientes con patio. Hay 3 deptos en lote...</td>\n",
       "      <td>PH 3 amb. cfte. reciclado</td>\n",
       "      <td>https://thumbs4.properati.com/3/DgIfX-85Mog5SP...</td>\n",
       "      <td>0.0</td>\n",
       "      <td>0.0</td>\n",
       "      <td>0.0</td>\n",
       "      <td>0.0</td>\n",
       "    </tr>\n",
       "    <tr>\n",
       "      <th>7</th>\n",
       "      <td>apartment</td>\n",
       "      <td>Belgrano</td>\n",
       "      <td>2434941.00</td>\n",
       "      <td>138000.0</td>\n",
       "      <td>45.0</td>\n",
       "      <td>40.0</td>\n",
       "      <td>3066.666667</td>\n",
       "      <td>3450.000000</td>\n",
       "      <td>NaN</td>\n",
       "      <td>http://www.properati.com.ar/15bot_venta_depart...</td>\n",
       "      <td>EXCELENTE MONOAMBIENTE A ESTRENAR AMPLIO SUPER...</td>\n",
       "      <td>JOSE HERNANDEZ 1400 MONOAMBIENTE  ESTRENAR CAT...</td>\n",
       "      <td>https://thumbs4.properati.com/1/IHxARynlr8sPEW...</td>\n",
       "      <td>0.0</td>\n",
       "      <td>0.0</td>\n",
       "      <td>1.0</td>\n",
       "      <td>0.0</td>\n",
       "    </tr>\n",
       "    <tr>\n",
       "      <th>8</th>\n",
       "      <td>apartment</td>\n",
       "      <td>Belgrano</td>\n",
       "      <td>3440677.50</td>\n",
       "      <td>195000.0</td>\n",
       "      <td>65.0</td>\n",
       "      <td>60.0</td>\n",
       "      <td>3000.000000</td>\n",
       "      <td>3250.000000</td>\n",
       "      <td>NaN</td>\n",
       "      <td>http://www.properati.com.ar/15bou_venta_depart...</td>\n",
       "      <td>EXCELENTE DOS AMBIENTES  ESTRENAR AMPLIO SUPER...</td>\n",
       "      <td>JOSE HERNANDEZ   1400 DOS AMBIENTES ESTRENAR ,...</td>\n",
       "      <td>https://thumbs4.properati.com/2/J3zOjgaFHrkvnv...</td>\n",
       "      <td>0.0</td>\n",
       "      <td>0.0</td>\n",
       "      <td>1.0</td>\n",
       "      <td>0.0</td>\n",
       "    </tr>\n",
       "    <tr>\n",
       "      <th>...</th>\n",
       "      <td>...</td>\n",
       "      <td>...</td>\n",
       "      <td>...</td>\n",
       "      <td>...</td>\n",
       "      <td>...</td>\n",
       "      <td>...</td>\n",
       "      <td>...</td>\n",
       "      <td>...</td>\n",
       "      <td>...</td>\n",
       "      <td>...</td>\n",
       "      <td>...</td>\n",
       "      <td>...</td>\n",
       "      <td>...</td>\n",
       "      <td>...</td>\n",
       "      <td>...</td>\n",
       "      <td>...</td>\n",
       "      <td>...</td>\n",
       "    </tr>\n",
       "    <tr>\n",
       "      <th>121160</th>\n",
       "      <td>apartment</td>\n",
       "      <td>Belgrano</td>\n",
       "      <td>7234245.00</td>\n",
       "      <td>410000.0</td>\n",
       "      <td>157.0</td>\n",
       "      <td>NaN</td>\n",
       "      <td>2611.464968</td>\n",
       "      <td>NaN</td>\n",
       "      <td>NaN</td>\n",
       "      <td>http://www.properati.com.ar/1cj5v_venta_depart...</td>\n",
       "      <td>Edificio en esquina de muy buena categoría de ...</td>\n",
       "      <td>Av .Luis Maria Campos 1400- Belgrano-Capital F...</td>\n",
       "      <td>https://thumbs4.properati.com/0/zeLNBuyylOJL7z...</td>\n",
       "      <td>1.0</td>\n",
       "      <td>0.0</td>\n",
       "      <td>0.0</td>\n",
       "      <td>0.0</td>\n",
       "    </tr>\n",
       "    <tr>\n",
       "      <th>121209</th>\n",
       "      <td>apartment</td>\n",
       "      <td>Belgrano</td>\n",
       "      <td>7234245.00</td>\n",
       "      <td>410000.0</td>\n",
       "      <td>157.0</td>\n",
       "      <td>NaN</td>\n",
       "      <td>2611.464968</td>\n",
       "      <td>NaN</td>\n",
       "      <td>NaN</td>\n",
       "      <td>http://www.properati.com.ar/1cj7c_venta_depart...</td>\n",
       "      <td>Edificio en esquina de muy buena categoría de ...</td>\n",
       "      <td>Av .Luis Maria Campos 1400- Belgrano-Capital F...</td>\n",
       "      <td>https://thumbs4.properati.com/0/zeLNBuyylOJL7z...</td>\n",
       "      <td>1.0</td>\n",
       "      <td>0.0</td>\n",
       "      <td>0.0</td>\n",
       "      <td>0.0</td>\n",
       "    </tr>\n",
       "    <tr>\n",
       "      <th>121215</th>\n",
       "      <td>apartment</td>\n",
       "      <td>Belgrano</td>\n",
       "      <td>15350715.00</td>\n",
       "      <td>870000.0</td>\n",
       "      <td>113.0</td>\n",
       "      <td>93.0</td>\n",
       "      <td>7699.115044</td>\n",
       "      <td>9354.838710</td>\n",
       "      <td>NaN</td>\n",
       "      <td>http://www.properati.com.ar/1cja2_venta_depart...</td>\n",
       "      <td>TORRE FORUM ALCORTA - MÁXIMA CATEGORÍA.Impecab...</td>\n",
       "      <td>Torre Forum Alcorta- Impecable 3 ambientes</td>\n",
       "      <td>https://thumbs4.properati.com/1/bjms0KnaAnlNoQ...</td>\n",
       "      <td>0.0</td>\n",
       "      <td>1.0</td>\n",
       "      <td>1.0</td>\n",
       "      <td>1.0</td>\n",
       "    </tr>\n",
       "    <tr>\n",
       "      <th>121217</th>\n",
       "      <td>apartment</td>\n",
       "      <td>Villa Urquiza</td>\n",
       "      <td>2320251.75</td>\n",
       "      <td>131500.0</td>\n",
       "      <td>46.0</td>\n",
       "      <td>39.0</td>\n",
       "      <td>2858.695652</td>\n",
       "      <td>3371.794872</td>\n",
       "      <td>NaN</td>\n",
       "      <td>http://www.properati.com.ar/1cja7_venta_depart...</td>\n",
       "      <td>VENTA DEPARTAMENTO AMBIENTE DIVISIBLE A ESTREN...</td>\n",
       "      <td>VENTA DEPARTAMENTO AMBIENTE DIVISIBLE A ESTREN...</td>\n",
       "      <td>https://thumbs4.properati.com/9/YAe_-2gRVykADP...</td>\n",
       "      <td>0.0</td>\n",
       "      <td>1.0</td>\n",
       "      <td>0.0</td>\n",
       "      <td>1.0</td>\n",
       "    </tr>\n",
       "    <tr>\n",
       "      <th>121219</th>\n",
       "      <td>apartment</td>\n",
       "      <td>Capital Federal</td>\n",
       "      <td>2276140.50</td>\n",
       "      <td>129000.0</td>\n",
       "      <td>77.0</td>\n",
       "      <td>77.0</td>\n",
       "      <td>1675.324675</td>\n",
       "      <td>1675.324675</td>\n",
       "      <td>NaN</td>\n",
       "      <td>http://www.properati.com.ar/1cjaa_venta_depart...</td>\n",
       "      <td>Departamento de 77 m2 apto profesional. Edific...</td>\n",
       "      <td>Departamento apto profesional en el Centro</td>\n",
       "      <td>https://thumbs4.properati.com/8/mNEsnQWqB7joBF...</td>\n",
       "      <td>0.0</td>\n",
       "      <td>0.0</td>\n",
       "      <td>0.0</td>\n",
       "      <td>0.0</td>\n",
       "    </tr>\n",
       "  </tbody>\n",
       "</table>\n",
       "<p>30952 rows × 17 columns</p>\n",
       "</div>"
      ],
      "text/plain": [
       "       property_type       place_name  price_aprox_local_currency  \\\n",
       "0                 PH        Mataderos                  1093959.00   \n",
       "2          apartment        Mataderos                  1270404.00   \n",
       "3                 PH          Liniers                  1676227.50   \n",
       "7          apartment         Belgrano                  2434941.00   \n",
       "8          apartment         Belgrano                  3440677.50   \n",
       "...              ...              ...                         ...   \n",
       "121160     apartment         Belgrano                  7234245.00   \n",
       "121209     apartment         Belgrano                  7234245.00   \n",
       "121215     apartment         Belgrano                 15350715.00   \n",
       "121217     apartment    Villa Urquiza                  2320251.75   \n",
       "121219     apartment  Capital Federal                  2276140.50   \n",
       "\n",
       "        price_aprox_usd  surface_total_in_m2  surface_covered_in_m2  \\\n",
       "0               62000.0                 55.0                   40.0   \n",
       "2               72000.0                 55.0                   55.0   \n",
       "3               95000.0                  NaN                    NaN   \n",
       "7              138000.0                 45.0                   40.0   \n",
       "8              195000.0                 65.0                   60.0   \n",
       "...                 ...                  ...                    ...   \n",
       "121160         410000.0                157.0                    NaN   \n",
       "121209         410000.0                157.0                    NaN   \n",
       "121215         870000.0                113.0                   93.0   \n",
       "121217         131500.0                 46.0                   39.0   \n",
       "121219         129000.0                 77.0                   77.0   \n",
       "\n",
       "        price_usd_per_m2  price_per_m2  rooms  \\\n",
       "0            1127.272727   1550.000000    NaN   \n",
       "2            1309.090909   1309.090909    NaN   \n",
       "3                    NaN           NaN    NaN   \n",
       "7            3066.666667   3450.000000    NaN   \n",
       "8            3000.000000   3250.000000    NaN   \n",
       "...                  ...           ...    ...   \n",
       "121160       2611.464968           NaN    NaN   \n",
       "121209       2611.464968           NaN    NaN   \n",
       "121215       7699.115044   9354.838710    NaN   \n",
       "121217       2858.695652   3371.794872    NaN   \n",
       "121219       1675.324675   1675.324675    NaN   \n",
       "\n",
       "                                            properati_url  \\\n",
       "0       http://www.properati.com.ar/15bo8_venta_ph_mat...   \n",
       "2       http://www.properati.com.ar/15bod_venta_depart...   \n",
       "3       http://www.properati.com.ar/15boh_venta_ph_lin...   \n",
       "7       http://www.properati.com.ar/15bot_venta_depart...   \n",
       "8       http://www.properati.com.ar/15bou_venta_depart...   \n",
       "...                                                   ...   \n",
       "121160  http://www.properati.com.ar/1cj5v_venta_depart...   \n",
       "121209  http://www.properati.com.ar/1cj7c_venta_depart...   \n",
       "121215  http://www.properati.com.ar/1cja2_venta_depart...   \n",
       "121217  http://www.properati.com.ar/1cja7_venta_depart...   \n",
       "121219  http://www.properati.com.ar/1cjaa_venta_depart...   \n",
       "\n",
       "                                              description  \\\n",
       "0       2 AMBIENTES TIPO CASA PLANTA BAJA POR PASILLO,...   \n",
       "2       2 AMBIENTES 3ER PISO LATERAL LIVING COMEDOR AM...   \n",
       "3       PH 3 ambientes con patio. Hay 3 deptos en lote...   \n",
       "7       EXCELENTE MONOAMBIENTE A ESTRENAR AMPLIO SUPER...   \n",
       "8       EXCELENTE DOS AMBIENTES  ESTRENAR AMPLIO SUPER...   \n",
       "...                                                   ...   \n",
       "121160  Edificio en esquina de muy buena categoría de ...   \n",
       "121209  Edificio en esquina de muy buena categoría de ...   \n",
       "121215  TORRE FORUM ALCORTA - MÁXIMA CATEGORÍA.Impecab...   \n",
       "121217  VENTA DEPARTAMENTO AMBIENTE DIVISIBLE A ESTREN...   \n",
       "121219  Departamento de 77 m2 apto profesional. Edific...   \n",
       "\n",
       "                                                    title  \\\n",
       "0                      2 AMB TIPO CASA SIN EXPENSAS EN PB   \n",
       "2                2 AMB 3ER PISO CON ASCENSOR APTO CREDITO   \n",
       "3                            PH 3 amb. cfte. reciclado      \n",
       "7       JOSE HERNANDEZ 1400 MONOAMBIENTE  ESTRENAR CAT...   \n",
       "8       JOSE HERNANDEZ   1400 DOS AMBIENTES ESTRENAR ,...   \n",
       "...                                                   ...   \n",
       "121160  Av .Luis Maria Campos 1400- Belgrano-Capital F...   \n",
       "121209  Av .Luis Maria Campos 1400- Belgrano-Capital F...   \n",
       "121215         Torre Forum Alcorta- Impecable 3 ambientes   \n",
       "121217  VENTA DEPARTAMENTO AMBIENTE DIVISIBLE A ESTREN...   \n",
       "121219         Departamento apto profesional en el Centro   \n",
       "\n",
       "                                          image_thumbnail  tiene_jardin  \\\n",
       "0       https://thumbs4.properati.com/8/BluUYiHJLhgIIK...           0.0   \n",
       "2       https://thumbs4.properati.com/5/SXKr34F_IwG3W_...           0.0   \n",
       "3       https://thumbs4.properati.com/3/DgIfX-85Mog5SP...           0.0   \n",
       "7       https://thumbs4.properati.com/1/IHxARynlr8sPEW...           0.0   \n",
       "8       https://thumbs4.properati.com/2/J3zOjgaFHrkvnv...           0.0   \n",
       "...                                                   ...           ...   \n",
       "121160  https://thumbs4.properati.com/0/zeLNBuyylOJL7z...           1.0   \n",
       "121209  https://thumbs4.properati.com/0/zeLNBuyylOJL7z...           1.0   \n",
       "121215  https://thumbs4.properati.com/1/bjms0KnaAnlNoQ...           0.0   \n",
       "121217  https://thumbs4.properati.com/9/YAe_-2gRVykADP...           0.0   \n",
       "121219  https://thumbs4.properati.com/8/mNEsnQWqB7joBF...           0.0   \n",
       "\n",
       "        tiene_cochera  tiene_pileta  tiene_parrilla  \n",
       "0                 0.0           0.0             0.0  \n",
       "2                 0.0           0.0             0.0  \n",
       "3                 0.0           0.0             0.0  \n",
       "7                 0.0           1.0             0.0  \n",
       "8                 0.0           1.0             0.0  \n",
       "...               ...           ...             ...  \n",
       "121160            0.0           0.0             0.0  \n",
       "121209            0.0           0.0             0.0  \n",
       "121215            1.0           1.0             1.0  \n",
       "121217            1.0           0.0             1.0  \n",
       "121219            0.0           0.0             0.0  \n",
       "\n",
       "[30952 rows x 17 columns]"
      ]
     },
     "execution_count": 7,
     "metadata": {},
     "output_type": "execute_result"
    }
   ],
   "source": [
    "clasificarAmenities(df)"
   ]
  },
  {
   "cell_type": "markdown",
   "id": "f632d7fc",
   "metadata": {},
   "source": [
    "## Columnas a agregar/eliminar\n",
    "\n",
    "- Amenities: Booleano. Pileta, garage/cochera, parrilla, sum, garden/jardin\n",
    "- Cuota: Booleano. Ver si sigue aplicando para planes, y si eliminamos o no.\n",
    "- superficie: unificar los regex de los dos grupos\n",
    "- Sup total y cubierta: Tomas buscará en los trabajos del resto. Julio había imputado esto, traer el código al nuevo dataset. Revisar le tema de las que tiene valores diferentes.\n",
    "- rooms y ambientes: Ver los regex que se armaron, como aplican al nuevo dataset\n",
    "- expensas por ahora se elimina\n",
    "- Description y title: Se saca todos los datos y se elimina"
   ]
  },
  {
   "cell_type": "markdown",
   "id": "cdaeac52",
   "metadata": {},
   "source": [
    "## Agregado de columnas \"ambientes\", \"cuota\"e imputación de superficie"
   ]
  },
  {
   "cell_type": "code",
   "execution_count": 8,
   "id": "28651cc2",
   "metadata": {
    "execution": {
     "iopub.execute_input": "2022-06-09T23:36:37.445847Z",
     "iopub.status.busy": "2022-06-09T23:36:37.445847Z",
     "iopub.status.idle": "2022-06-09T23:36:37.459851Z",
     "shell.execute_reply": "2022-06-09T23:36:37.458847Z",
     "shell.execute_reply.started": "2022-06-09T23:36:37.445847Z"
    }
   },
   "outputs": [],
   "source": [
    "def superficie(df2):\n",
    "\n",
    "    #regex para encontrar las diferentes características\n",
    "\n",
    "    patron = '(?P<m2>\\d\\d\\d+\\s\\s*m2|\\d\\d\\d+\\s\\s*M2|\\d\\d\\d+\\s\\s*metro|\\d\\d\\d+\\s\\s*METRO)|(?P<ambiente>\\d+\\sambiente|\\d+\\sAMBIENTE|\\d+\\sAMB|\\d+\\samb|\\d+\\sAMBS|\\d+\\sambs)|(?P<balcon>balcon|BALCON)|(?P<planta_alta>planta\\salta|PLANTA\\sALTA)|(?P<patio>patio|PATIO)|(?P<duplex>duplex|DUPLEX)|(?P<cuota>cuota|CUOTA)|(?P<amenities>parrilla|bbq|barbaque|asado|asador|cochera|pileta|piscina|pile|patio|terraza|solarium|pile|jardin|garden|green|parque|parquizado|pasto)+|\\s(sum)+'\n",
    "    patron_regex = re.compile(patron)\n",
    "    patron_match = df2.description.apply(lambda x : patron_regex.search(str(x)))\n",
    "\n",
    "    # Extrae los metros cuadrados de la descripción, luego extrae el número (sin unidad) y posteriormente elimina aquellos menores que 3 para que no tome por error el número 2 de la unidad de medida\n",
    "    # Genera una serie m2\n",
    "\n",
    "    m2 = patron_match.apply(lambda x: x if x is None else x.group('m2'))\n",
    "    patron_num = '\\d+'\n",
    "    patron_num_regex = re.compile(patron_num)\n",
    "    m2 = m2.apply(lambda x: x if x is None else patron_num_regex.findall(x))\n",
    "    # Extrae solo el valor de la superficie, evitando considerar el 2 de \"m2\"\n",
    "    m2 = m2.apply(lambda x: x if x is None else x[0])\n",
    "    m2 = pd.to_numeric(m2)\n",
    "    m2 = m2.apply(lambda x: x if x is None else (None if x<3 else x))\n",
    "\n",
    "    # Extrae la cantidad de ambientes, de la descripción, luego extrae el número (sin unidad) y posteriormente elimina aquellos menores que 3 para que no tome por error el número 2 de la unidad de medida\n",
    "    # Genera una serie ambientes\n",
    "\n",
    "    ambientes = patron_match.apply(lambda x: x if x is None else x.group('ambiente'))\n",
    "    ambientes = ambientes.apply(lambda x: x if x is None else x[0])\n",
    "    ambientes = pd.to_numeric(ambientes)\n",
    "\n",
    "\n",
    "    # Extrae la cantidad de ambientes, balcón, patio, duplex, y planta alta y amenities de la descripción. Genera una serie booleana\n",
    "\n",
    "    #balcon = patron_match.apply(lambda x: x if x is None else x.group('balcon'))\n",
    "    #balcon = balcon.apply(lambda x: False if x is None else True)\n",
    "\n",
    "    #patio = patron_match.apply(lambda x: x if x is None else x.group('patio'))\n",
    "    #patio = patio.apply(lambda x: False if x is None else True)\n",
    "\n",
    "    #duplex = patron_match.apply(lambda x: x if x is None else x.group('duplex'))\n",
    "    #duplex = duplex.apply(lambda x: False if x is None else True)\n",
    "\n",
    "    #planta_alta = patron_match.apply(lambda x: x if x is None else x.group('planta_alta'))\n",
    "    #planta_alta = planta_alta.apply(lambda x: False if x is None else True)\n",
    "\n",
    "    #amenities = patron_match.apply(lambda x: x if x is None else x.group('amenities'))\n",
    "    #amenities = amenities.apply(lambda x: False if x is None else True)\n",
    "\n",
    "    cuota = patron_match.apply(lambda x: x if x is None else x.group('cuota'))\n",
    "    cuota = cuota.apply(lambda x: 0 if x is None else 1)\n",
    "    \n",
    "    df2['sup_m2_re'] = m2\n",
    "    df2['ambientes'] = ambientes\n",
    "    df2['cuota'] = cuota\n",
    "    \n",
    "    return df2"
   ]
  },
  {
   "cell_type": "code",
   "execution_count": 9,
   "id": "3539adb2",
   "metadata": {
    "execution": {
     "iopub.execute_input": "2022-06-09T23:36:37.461849Z",
     "iopub.status.busy": "2022-06-09T23:36:37.460849Z",
     "iopub.status.idle": "2022-06-09T23:36:43.882472Z",
     "shell.execute_reply": "2022-06-09T23:36:43.881469Z",
     "shell.execute_reply.started": "2022-06-09T23:36:37.461849Z"
    }
   },
   "outputs": [],
   "source": [
    "df = superficie(df)"
   ]
  },
  {
   "cell_type": "code",
   "execution_count": 10,
   "id": "3170ed57",
   "metadata": {
    "execution": {
     "iopub.execute_input": "2022-06-09T23:36:43.884469Z",
     "iopub.status.busy": "2022-06-09T23:36:43.884469Z",
     "iopub.status.idle": "2022-06-09T23:36:43.898473Z",
     "shell.execute_reply": "2022-06-09T23:36:43.897470Z",
     "shell.execute_reply.started": "2022-06-09T23:36:43.884469Z"
    }
   },
   "outputs": [],
   "source": [
    "#Unificación rooms y ambientes\n",
    "def unif_rooms_amb(data):\n",
    "    for i in data.index:\n",
    "        if pd.isna(data.loc[i, 'rooms']) & pd.notna(data.loc[i, 'ambientes']):\n",
    "            data.loc[i, 'rooms'] = data.loc[i, 'ambientes']\n",
    "    \n",
    "    return data"
   ]
  },
  {
   "cell_type": "code",
   "execution_count": 11,
   "id": "b41de34a",
   "metadata": {
    "execution": {
     "iopub.execute_input": "2022-06-09T23:36:43.901475Z",
     "iopub.status.busy": "2022-06-09T23:36:43.900472Z",
     "iopub.status.idle": "2022-06-09T23:36:48.810606Z",
     "shell.execute_reply": "2022-06-09T23:36:48.809603Z",
     "shell.execute_reply.started": "2022-06-09T23:36:43.901475Z"
    }
   },
   "outputs": [
    {
     "data": {
      "text/html": [
       "<div>\n",
       "<style scoped>\n",
       "    .dataframe tbody tr th:only-of-type {\n",
       "        vertical-align: middle;\n",
       "    }\n",
       "\n",
       "    .dataframe tbody tr th {\n",
       "        vertical-align: top;\n",
       "    }\n",
       "\n",
       "    .dataframe thead th {\n",
       "        text-align: right;\n",
       "    }\n",
       "</style>\n",
       "<table border=\"1\" class=\"dataframe\">\n",
       "  <thead>\n",
       "    <tr style=\"text-align: right;\">\n",
       "      <th></th>\n",
       "      <th>property_type</th>\n",
       "      <th>place_name</th>\n",
       "      <th>price_aprox_local_currency</th>\n",
       "      <th>price_aprox_usd</th>\n",
       "      <th>surface_total_in_m2</th>\n",
       "      <th>surface_covered_in_m2</th>\n",
       "      <th>price_usd_per_m2</th>\n",
       "      <th>price_per_m2</th>\n",
       "      <th>rooms</th>\n",
       "      <th>properati_url</th>\n",
       "      <th>description</th>\n",
       "      <th>title</th>\n",
       "      <th>image_thumbnail</th>\n",
       "      <th>tiene_jardin</th>\n",
       "      <th>tiene_cochera</th>\n",
       "      <th>tiene_pileta</th>\n",
       "      <th>tiene_parrilla</th>\n",
       "      <th>sup_m2_re</th>\n",
       "      <th>ambientes</th>\n",
       "      <th>cuota</th>\n",
       "    </tr>\n",
       "  </thead>\n",
       "  <tbody>\n",
       "    <tr>\n",
       "      <th>0</th>\n",
       "      <td>PH</td>\n",
       "      <td>Mataderos</td>\n",
       "      <td>1093959.00</td>\n",
       "      <td>62000.0</td>\n",
       "      <td>55.0</td>\n",
       "      <td>40.0</td>\n",
       "      <td>1127.272727</td>\n",
       "      <td>1550.000000</td>\n",
       "      <td>2.0</td>\n",
       "      <td>http://www.properati.com.ar/15bo8_venta_ph_mat...</td>\n",
       "      <td>2 AMBIENTES TIPO CASA PLANTA BAJA POR PASILLO,...</td>\n",
       "      <td>2 AMB TIPO CASA SIN EXPENSAS EN PB</td>\n",
       "      <td>https://thumbs4.properati.com/8/BluUYiHJLhgIIK...</td>\n",
       "      <td>0.0</td>\n",
       "      <td>0.0</td>\n",
       "      <td>0.0</td>\n",
       "      <td>0.0</td>\n",
       "      <td>NaN</td>\n",
       "      <td>2.0</td>\n",
       "      <td>0</td>\n",
       "    </tr>\n",
       "    <tr>\n",
       "      <th>2</th>\n",
       "      <td>apartment</td>\n",
       "      <td>Mataderos</td>\n",
       "      <td>1270404.00</td>\n",
       "      <td>72000.0</td>\n",
       "      <td>55.0</td>\n",
       "      <td>55.0</td>\n",
       "      <td>1309.090909</td>\n",
       "      <td>1309.090909</td>\n",
       "      <td>2.0</td>\n",
       "      <td>http://www.properati.com.ar/15bod_venta_depart...</td>\n",
       "      <td>2 AMBIENTES 3ER PISO LATERAL LIVING COMEDOR AM...</td>\n",
       "      <td>2 AMB 3ER PISO CON ASCENSOR APTO CREDITO</td>\n",
       "      <td>https://thumbs4.properati.com/5/SXKr34F_IwG3W_...</td>\n",
       "      <td>0.0</td>\n",
       "      <td>0.0</td>\n",
       "      <td>0.0</td>\n",
       "      <td>0.0</td>\n",
       "      <td>NaN</td>\n",
       "      <td>2.0</td>\n",
       "      <td>0</td>\n",
       "    </tr>\n",
       "    <tr>\n",
       "      <th>3</th>\n",
       "      <td>PH</td>\n",
       "      <td>Liniers</td>\n",
       "      <td>1676227.50</td>\n",
       "      <td>95000.0</td>\n",
       "      <td>NaN</td>\n",
       "      <td>NaN</td>\n",
       "      <td>NaN</td>\n",
       "      <td>NaN</td>\n",
       "      <td>3.0</td>\n",
       "      <td>http://www.properati.com.ar/15boh_venta_ph_lin...</td>\n",
       "      <td>PH 3 ambientes con patio. Hay 3 deptos en lote...</td>\n",
       "      <td>PH 3 amb. cfte. reciclado</td>\n",
       "      <td>https://thumbs4.properati.com/3/DgIfX-85Mog5SP...</td>\n",
       "      <td>0.0</td>\n",
       "      <td>0.0</td>\n",
       "      <td>0.0</td>\n",
       "      <td>0.0</td>\n",
       "      <td>NaN</td>\n",
       "      <td>3.0</td>\n",
       "      <td>0</td>\n",
       "    </tr>\n",
       "    <tr>\n",
       "      <th>7</th>\n",
       "      <td>apartment</td>\n",
       "      <td>Belgrano</td>\n",
       "      <td>2434941.00</td>\n",
       "      <td>138000.0</td>\n",
       "      <td>45.0</td>\n",
       "      <td>40.0</td>\n",
       "      <td>3066.666667</td>\n",
       "      <td>3450.000000</td>\n",
       "      <td>NaN</td>\n",
       "      <td>http://www.properati.com.ar/15bot_venta_depart...</td>\n",
       "      <td>EXCELENTE MONOAMBIENTE A ESTRENAR AMPLIO SUPER...</td>\n",
       "      <td>JOSE HERNANDEZ 1400 MONOAMBIENTE  ESTRENAR CAT...</td>\n",
       "      <td>https://thumbs4.properati.com/1/IHxARynlr8sPEW...</td>\n",
       "      <td>0.0</td>\n",
       "      <td>0.0</td>\n",
       "      <td>1.0</td>\n",
       "      <td>0.0</td>\n",
       "      <td>NaN</td>\n",
       "      <td>NaN</td>\n",
       "      <td>0</td>\n",
       "    </tr>\n",
       "    <tr>\n",
       "      <th>8</th>\n",
       "      <td>apartment</td>\n",
       "      <td>Belgrano</td>\n",
       "      <td>3440677.50</td>\n",
       "      <td>195000.0</td>\n",
       "      <td>65.0</td>\n",
       "      <td>60.0</td>\n",
       "      <td>3000.000000</td>\n",
       "      <td>3250.000000</td>\n",
       "      <td>NaN</td>\n",
       "      <td>http://www.properati.com.ar/15bou_venta_depart...</td>\n",
       "      <td>EXCELENTE DOS AMBIENTES  ESTRENAR AMPLIO SUPER...</td>\n",
       "      <td>JOSE HERNANDEZ   1400 DOS AMBIENTES ESTRENAR ,...</td>\n",
       "      <td>https://thumbs4.properati.com/2/J3zOjgaFHrkvnv...</td>\n",
       "      <td>0.0</td>\n",
       "      <td>0.0</td>\n",
       "      <td>1.0</td>\n",
       "      <td>0.0</td>\n",
       "      <td>NaN</td>\n",
       "      <td>NaN</td>\n",
       "      <td>0</td>\n",
       "    </tr>\n",
       "    <tr>\n",
       "      <th>...</th>\n",
       "      <td>...</td>\n",
       "      <td>...</td>\n",
       "      <td>...</td>\n",
       "      <td>...</td>\n",
       "      <td>...</td>\n",
       "      <td>...</td>\n",
       "      <td>...</td>\n",
       "      <td>...</td>\n",
       "      <td>...</td>\n",
       "      <td>...</td>\n",
       "      <td>...</td>\n",
       "      <td>...</td>\n",
       "      <td>...</td>\n",
       "      <td>...</td>\n",
       "      <td>...</td>\n",
       "      <td>...</td>\n",
       "      <td>...</td>\n",
       "      <td>...</td>\n",
       "      <td>...</td>\n",
       "      <td>...</td>\n",
       "    </tr>\n",
       "    <tr>\n",
       "      <th>121160</th>\n",
       "      <td>apartment</td>\n",
       "      <td>Belgrano</td>\n",
       "      <td>7234245.00</td>\n",
       "      <td>410000.0</td>\n",
       "      <td>157.0</td>\n",
       "      <td>NaN</td>\n",
       "      <td>2611.464968</td>\n",
       "      <td>NaN</td>\n",
       "      <td>NaN</td>\n",
       "      <td>http://www.properati.com.ar/1cj5v_venta_depart...</td>\n",
       "      <td>Edificio en esquina de muy buena categoría de ...</td>\n",
       "      <td>Av .Luis Maria Campos 1400- Belgrano-Capital F...</td>\n",
       "      <td>https://thumbs4.properati.com/0/zeLNBuyylOJL7z...</td>\n",
       "      <td>1.0</td>\n",
       "      <td>0.0</td>\n",
       "      <td>0.0</td>\n",
       "      <td>0.0</td>\n",
       "      <td>NaN</td>\n",
       "      <td>NaN</td>\n",
       "      <td>0</td>\n",
       "    </tr>\n",
       "    <tr>\n",
       "      <th>121209</th>\n",
       "      <td>apartment</td>\n",
       "      <td>Belgrano</td>\n",
       "      <td>7234245.00</td>\n",
       "      <td>410000.0</td>\n",
       "      <td>157.0</td>\n",
       "      <td>NaN</td>\n",
       "      <td>2611.464968</td>\n",
       "      <td>NaN</td>\n",
       "      <td>NaN</td>\n",
       "      <td>http://www.properati.com.ar/1cj7c_venta_depart...</td>\n",
       "      <td>Edificio en esquina de muy buena categoría de ...</td>\n",
       "      <td>Av .Luis Maria Campos 1400- Belgrano-Capital F...</td>\n",
       "      <td>https://thumbs4.properati.com/0/zeLNBuyylOJL7z...</td>\n",
       "      <td>1.0</td>\n",
       "      <td>0.0</td>\n",
       "      <td>0.0</td>\n",
       "      <td>0.0</td>\n",
       "      <td>NaN</td>\n",
       "      <td>NaN</td>\n",
       "      <td>0</td>\n",
       "    </tr>\n",
       "    <tr>\n",
       "      <th>121215</th>\n",
       "      <td>apartment</td>\n",
       "      <td>Belgrano</td>\n",
       "      <td>15350715.00</td>\n",
       "      <td>870000.0</td>\n",
       "      <td>113.0</td>\n",
       "      <td>93.0</td>\n",
       "      <td>7699.115044</td>\n",
       "      <td>9354.838710</td>\n",
       "      <td>NaN</td>\n",
       "      <td>http://www.properati.com.ar/1cja2_venta_depart...</td>\n",
       "      <td>TORRE FORUM ALCORTA - MÁXIMA CATEGORÍA.Impecab...</td>\n",
       "      <td>Torre Forum Alcorta- Impecable 3 ambientes</td>\n",
       "      <td>https://thumbs4.properati.com/1/bjms0KnaAnlNoQ...</td>\n",
       "      <td>0.0</td>\n",
       "      <td>1.0</td>\n",
       "      <td>1.0</td>\n",
       "      <td>1.0</td>\n",
       "      <td>NaN</td>\n",
       "      <td>NaN</td>\n",
       "      <td>0</td>\n",
       "    </tr>\n",
       "    <tr>\n",
       "      <th>121217</th>\n",
       "      <td>apartment</td>\n",
       "      <td>Villa Urquiza</td>\n",
       "      <td>2320251.75</td>\n",
       "      <td>131500.0</td>\n",
       "      <td>46.0</td>\n",
       "      <td>39.0</td>\n",
       "      <td>2858.695652</td>\n",
       "      <td>3371.794872</td>\n",
       "      <td>NaN</td>\n",
       "      <td>http://www.properati.com.ar/1cja7_venta_depart...</td>\n",
       "      <td>VENTA DEPARTAMENTO AMBIENTE DIVISIBLE A ESTREN...</td>\n",
       "      <td>VENTA DEPARTAMENTO AMBIENTE DIVISIBLE A ESTREN...</td>\n",
       "      <td>https://thumbs4.properati.com/9/YAe_-2gRVykADP...</td>\n",
       "      <td>0.0</td>\n",
       "      <td>1.0</td>\n",
       "      <td>0.0</td>\n",
       "      <td>1.0</td>\n",
       "      <td>NaN</td>\n",
       "      <td>NaN</td>\n",
       "      <td>0</td>\n",
       "    </tr>\n",
       "    <tr>\n",
       "      <th>121219</th>\n",
       "      <td>apartment</td>\n",
       "      <td>Capital Federal</td>\n",
       "      <td>2276140.50</td>\n",
       "      <td>129000.0</td>\n",
       "      <td>77.0</td>\n",
       "      <td>77.0</td>\n",
       "      <td>1675.324675</td>\n",
       "      <td>1675.324675</td>\n",
       "      <td>NaN</td>\n",
       "      <td>http://www.properati.com.ar/1cjaa_venta_depart...</td>\n",
       "      <td>Departamento de 77 m2 apto profesional. Edific...</td>\n",
       "      <td>Departamento apto profesional en el Centro</td>\n",
       "      <td>https://thumbs4.properati.com/8/mNEsnQWqB7joBF...</td>\n",
       "      <td>0.0</td>\n",
       "      <td>0.0</td>\n",
       "      <td>0.0</td>\n",
       "      <td>0.0</td>\n",
       "      <td>NaN</td>\n",
       "      <td>NaN</td>\n",
       "      <td>0</td>\n",
       "    </tr>\n",
       "  </tbody>\n",
       "</table>\n",
       "<p>30952 rows × 20 columns</p>\n",
       "</div>"
      ],
      "text/plain": [
       "       property_type       place_name  price_aprox_local_currency  \\\n",
       "0                 PH        Mataderos                  1093959.00   \n",
       "2          apartment        Mataderos                  1270404.00   \n",
       "3                 PH          Liniers                  1676227.50   \n",
       "7          apartment         Belgrano                  2434941.00   \n",
       "8          apartment         Belgrano                  3440677.50   \n",
       "...              ...              ...                         ...   \n",
       "121160     apartment         Belgrano                  7234245.00   \n",
       "121209     apartment         Belgrano                  7234245.00   \n",
       "121215     apartment         Belgrano                 15350715.00   \n",
       "121217     apartment    Villa Urquiza                  2320251.75   \n",
       "121219     apartment  Capital Federal                  2276140.50   \n",
       "\n",
       "        price_aprox_usd  surface_total_in_m2  surface_covered_in_m2  \\\n",
       "0               62000.0                 55.0                   40.0   \n",
       "2               72000.0                 55.0                   55.0   \n",
       "3               95000.0                  NaN                    NaN   \n",
       "7              138000.0                 45.0                   40.0   \n",
       "8              195000.0                 65.0                   60.0   \n",
       "...                 ...                  ...                    ...   \n",
       "121160         410000.0                157.0                    NaN   \n",
       "121209         410000.0                157.0                    NaN   \n",
       "121215         870000.0                113.0                   93.0   \n",
       "121217         131500.0                 46.0                   39.0   \n",
       "121219         129000.0                 77.0                   77.0   \n",
       "\n",
       "        price_usd_per_m2  price_per_m2  rooms  \\\n",
       "0            1127.272727   1550.000000    2.0   \n",
       "2            1309.090909   1309.090909    2.0   \n",
       "3                    NaN           NaN    3.0   \n",
       "7            3066.666667   3450.000000    NaN   \n",
       "8            3000.000000   3250.000000    NaN   \n",
       "...                  ...           ...    ...   \n",
       "121160       2611.464968           NaN    NaN   \n",
       "121209       2611.464968           NaN    NaN   \n",
       "121215       7699.115044   9354.838710    NaN   \n",
       "121217       2858.695652   3371.794872    NaN   \n",
       "121219       1675.324675   1675.324675    NaN   \n",
       "\n",
       "                                            properati_url  \\\n",
       "0       http://www.properati.com.ar/15bo8_venta_ph_mat...   \n",
       "2       http://www.properati.com.ar/15bod_venta_depart...   \n",
       "3       http://www.properati.com.ar/15boh_venta_ph_lin...   \n",
       "7       http://www.properati.com.ar/15bot_venta_depart...   \n",
       "8       http://www.properati.com.ar/15bou_venta_depart...   \n",
       "...                                                   ...   \n",
       "121160  http://www.properati.com.ar/1cj5v_venta_depart...   \n",
       "121209  http://www.properati.com.ar/1cj7c_venta_depart...   \n",
       "121215  http://www.properati.com.ar/1cja2_venta_depart...   \n",
       "121217  http://www.properati.com.ar/1cja7_venta_depart...   \n",
       "121219  http://www.properati.com.ar/1cjaa_venta_depart...   \n",
       "\n",
       "                                              description  \\\n",
       "0       2 AMBIENTES TIPO CASA PLANTA BAJA POR PASILLO,...   \n",
       "2       2 AMBIENTES 3ER PISO LATERAL LIVING COMEDOR AM...   \n",
       "3       PH 3 ambientes con patio. Hay 3 deptos en lote...   \n",
       "7       EXCELENTE MONOAMBIENTE A ESTRENAR AMPLIO SUPER...   \n",
       "8       EXCELENTE DOS AMBIENTES  ESTRENAR AMPLIO SUPER...   \n",
       "...                                                   ...   \n",
       "121160  Edificio en esquina de muy buena categoría de ...   \n",
       "121209  Edificio en esquina de muy buena categoría de ...   \n",
       "121215  TORRE FORUM ALCORTA - MÁXIMA CATEGORÍA.Impecab...   \n",
       "121217  VENTA DEPARTAMENTO AMBIENTE DIVISIBLE A ESTREN...   \n",
       "121219  Departamento de 77 m2 apto profesional. Edific...   \n",
       "\n",
       "                                                    title  \\\n",
       "0                      2 AMB TIPO CASA SIN EXPENSAS EN PB   \n",
       "2                2 AMB 3ER PISO CON ASCENSOR APTO CREDITO   \n",
       "3                            PH 3 amb. cfte. reciclado      \n",
       "7       JOSE HERNANDEZ 1400 MONOAMBIENTE  ESTRENAR CAT...   \n",
       "8       JOSE HERNANDEZ   1400 DOS AMBIENTES ESTRENAR ,...   \n",
       "...                                                   ...   \n",
       "121160  Av .Luis Maria Campos 1400- Belgrano-Capital F...   \n",
       "121209  Av .Luis Maria Campos 1400- Belgrano-Capital F...   \n",
       "121215         Torre Forum Alcorta- Impecable 3 ambientes   \n",
       "121217  VENTA DEPARTAMENTO AMBIENTE DIVISIBLE A ESTREN...   \n",
       "121219         Departamento apto profesional en el Centro   \n",
       "\n",
       "                                          image_thumbnail  tiene_jardin  \\\n",
       "0       https://thumbs4.properati.com/8/BluUYiHJLhgIIK...           0.0   \n",
       "2       https://thumbs4.properati.com/5/SXKr34F_IwG3W_...           0.0   \n",
       "3       https://thumbs4.properati.com/3/DgIfX-85Mog5SP...           0.0   \n",
       "7       https://thumbs4.properati.com/1/IHxARynlr8sPEW...           0.0   \n",
       "8       https://thumbs4.properati.com/2/J3zOjgaFHrkvnv...           0.0   \n",
       "...                                                   ...           ...   \n",
       "121160  https://thumbs4.properati.com/0/zeLNBuyylOJL7z...           1.0   \n",
       "121209  https://thumbs4.properati.com/0/zeLNBuyylOJL7z...           1.0   \n",
       "121215  https://thumbs4.properati.com/1/bjms0KnaAnlNoQ...           0.0   \n",
       "121217  https://thumbs4.properati.com/9/YAe_-2gRVykADP...           0.0   \n",
       "121219  https://thumbs4.properati.com/8/mNEsnQWqB7joBF...           0.0   \n",
       "\n",
       "        tiene_cochera  tiene_pileta  tiene_parrilla  sup_m2_re  ambientes  \\\n",
       "0                 0.0           0.0             0.0        NaN        2.0   \n",
       "2                 0.0           0.0             0.0        NaN        2.0   \n",
       "3                 0.0           0.0             0.0        NaN        3.0   \n",
       "7                 0.0           1.0             0.0        NaN        NaN   \n",
       "8                 0.0           1.0             0.0        NaN        NaN   \n",
       "...               ...           ...             ...        ...        ...   \n",
       "121160            0.0           0.0             0.0        NaN        NaN   \n",
       "121209            0.0           0.0             0.0        NaN        NaN   \n",
       "121215            1.0           1.0             1.0        NaN        NaN   \n",
       "121217            1.0           0.0             1.0        NaN        NaN   \n",
       "121219            0.0           0.0             0.0        NaN        NaN   \n",
       "\n",
       "        cuota  \n",
       "0           0  \n",
       "2           0  \n",
       "3           0  \n",
       "7           0  \n",
       "8           0  \n",
       "...       ...  \n",
       "121160      0  \n",
       "121209      0  \n",
       "121215      0  \n",
       "121217      0  \n",
       "121219      0  \n",
       "\n",
       "[30952 rows x 20 columns]"
      ]
     },
     "execution_count": 11,
     "metadata": {},
     "output_type": "execute_result"
    }
   ],
   "source": [
    "unif_rooms_amb(df)"
   ]
  },
  {
   "cell_type": "code",
   "execution_count": null,
   "id": "74654881",
   "metadata": {},
   "outputs": [],
   "source": []
  },
  {
   "cell_type": "code",
   "execution_count": null,
   "id": "e2c355f9",
   "metadata": {},
   "outputs": [],
   "source": []
  },
  {
   "cell_type": "markdown",
   "id": "85e29b9c",
   "metadata": {},
   "source": [
    "---\n",
    "---\n",
    "---\n",
    "# Generación del df2"
   ]
  },
  {
   "cell_type": "code",
   "execution_count": 164,
   "id": "03c6dc73",
   "metadata": {
    "execution": {
     "iopub.execute_input": "2022-06-10T00:02:51.496094Z",
     "iopub.status.busy": "2022-06-10T00:02:51.496094Z",
     "iopub.status.idle": "2022-06-10T00:02:51.522094Z",
     "shell.execute_reply": "2022-06-10T00:02:51.521092Z",
     "shell.execute_reply.started": "2022-06-10T00:02:51.496094Z"
    }
   },
   "outputs": [],
   "source": [
    "df2 = df.copy()"
   ]
  },
  {
   "cell_type": "code",
   "execution_count": 165,
   "id": "92d52fbc",
   "metadata": {
    "execution": {
     "iopub.execute_input": "2022-06-10T00:02:51.674095Z",
     "iopub.status.busy": "2022-06-10T00:02:51.674095Z",
     "iopub.status.idle": "2022-06-10T00:02:51.721094Z",
     "shell.execute_reply": "2022-06-10T00:02:51.720094Z",
     "shell.execute_reply.started": "2022-06-10T00:02:51.674095Z"
    }
   },
   "outputs": [
    {
     "name": "stdout",
     "output_type": "stream",
     "text": [
      "<class 'pandas.core.frame.DataFrame'>\n",
      "Int64Index: 30952 entries, 0 to 121219\n",
      "Data columns (total 20 columns):\n",
      " #   Column                      Non-Null Count  Dtype  \n",
      "---  ------                      --------------  -----  \n",
      " 0   property_type               30952 non-null  object \n",
      " 1   place_name                  30952 non-null  object \n",
      " 2   price_aprox_local_currency  27828 non-null  float64\n",
      " 3   price_aprox_usd             27828 non-null  float64\n",
      " 4   surface_total_in_m2         25372 non-null  float64\n",
      " 5   surface_covered_in_m2       28800 non-null  float64\n",
      " 6   price_usd_per_m2            22519 non-null  float64\n",
      " 7   price_per_m2                26276 non-null  float64\n",
      " 8   rooms                       21652 non-null  float64\n",
      " 9   properati_url               30952 non-null  object \n",
      " 10  description                 30952 non-null  object \n",
      " 11  title                       30952 non-null  object \n",
      " 12  image_thumbnail             30477 non-null  object \n",
      " 13  tiene_jardin                30952 non-null  float64\n",
      " 14  tiene_cochera               30952 non-null  float64\n",
      " 15  tiene_pileta                30952 non-null  float64\n",
      " 16  tiene_parrilla              30952 non-null  float64\n",
      " 17  sup_m2_re                   1110 non-null   float64\n",
      " 18  ambientes                   13027 non-null  float64\n",
      " 19  cuota                       30952 non-null  int64  \n",
      "dtypes: float64(13), int64(1), object(6)\n",
      "memory usage: 6.2+ MB\n"
     ]
    }
   ],
   "source": [
    "df2.info()"
   ]
  },
  {
   "cell_type": "code",
   "execution_count": 166,
   "id": "76b85a83",
   "metadata": {
    "execution": {
     "iopub.execute_input": "2022-06-10T00:02:51.782096Z",
     "iopub.status.busy": "2022-06-10T00:02:51.782096Z",
     "iopub.status.idle": "2022-06-10T00:02:51.797095Z",
     "shell.execute_reply": "2022-06-10T00:02:51.796095Z",
     "shell.execute_reply.started": "2022-06-10T00:02:51.782096Z"
    }
   },
   "outputs": [
    {
     "data": {
      "text/plain": [
       "82"
      ]
     },
     "execution_count": 166,
     "metadata": {},
     "output_type": "execute_result"
    }
   ],
   "source": [
    "mask_sup_cov = (df2['sup_m2_re'].notna()) & (df2['surface_covered_in_m2'].isna())\n",
    "mask_sup_cov.sum()"
   ]
  },
  {
   "cell_type": "code",
   "execution_count": 167,
   "id": "3a7b326a",
   "metadata": {
    "execution": {
     "iopub.execute_input": "2022-06-10T00:02:51.917094Z",
     "iopub.status.busy": "2022-06-10T00:02:51.917094Z",
     "iopub.status.idle": "2022-06-10T00:02:52.578237Z",
     "shell.execute_reply": "2022-06-10T00:02:52.577235Z",
     "shell.execute_reply.started": "2022-06-10T00:02:51.917094Z"
    }
   },
   "outputs": [],
   "source": [
    "# Función que completa datos faltantes de superficie con datos extraídos de la descripción.\n",
    "def compl_m2_re (row):\n",
    "    if row['surface_covered_in_m2']>=0:\n",
    "        result = row['surface_covered_in_m2']\n",
    "    else:\n",
    "        result = row['sup_m2_re']\n",
    "    return result\n",
    "\n",
    "df2['surface_covered_in_m2'] = df2.apply(compl_m2_re, axis = 1)"
   ]
  },
  {
   "cell_type": "code",
   "execution_count": 168,
   "id": "bf7f5704",
   "metadata": {
    "execution": {
     "iopub.execute_input": "2022-06-10T00:02:52.580236Z",
     "iopub.status.busy": "2022-06-10T00:02:52.580236Z",
     "iopub.status.idle": "2022-06-10T00:02:52.593237Z",
     "shell.execute_reply": "2022-06-10T00:02:52.592238Z",
     "shell.execute_reply.started": "2022-06-10T00:02:52.580236Z"
    }
   },
   "outputs": [
    {
     "data": {
      "text/plain": [
       "28882"
      ]
     },
     "execution_count": 168,
     "metadata": {},
     "output_type": "execute_result"
    }
   ],
   "source": [
    "# Verifico si se imputaron correctamente.\n",
    "\n",
    "df2['surface_covered_in_m2'].notnull().sum()"
   ]
  },
  {
   "cell_type": "code",
   "execution_count": 169,
   "id": "65549406",
   "metadata": {
    "execution": {
     "iopub.execute_input": "2022-06-10T00:02:52.595237Z",
     "iopub.status.busy": "2022-06-10T00:02:52.594238Z",
     "iopub.status.idle": "2022-06-10T00:02:52.608239Z",
     "shell.execute_reply": "2022-06-10T00:02:52.607238Z",
     "shell.execute_reply.started": "2022-06-10T00:02:52.595237Z"
    }
   },
   "outputs": [
    {
     "name": "stdout",
     "output_type": "stream",
     "text": [
      "Cantidad de filas con sup_cov > sup_total 131\n"
     ]
    }
   ],
   "source": [
    "# Determinar la cantidad de filas que pueden tener invertidas los datos de superficie cubierta con superficie total\n",
    "\n",
    "sup_mask = df2['surface_covered_in_m2'] > df2['surface_total_in_m2']\n",
    "print(f'Cantidad de filas con sup_cov > sup_total {sup_mask.sum()}')"
   ]
  },
  {
   "cell_type": "code",
   "execution_count": 170,
   "id": "a97721ff",
   "metadata": {
    "execution": {
     "iopub.execute_input": "2022-06-10T00:02:52.609239Z",
     "iopub.status.busy": "2022-06-10T00:02:52.609239Z",
     "iopub.status.idle": "2022-06-10T00:02:54.352235Z",
     "shell.execute_reply": "2022-06-10T00:02:54.351234Z",
     "shell.execute_reply.started": "2022-06-10T00:02:52.609239Z"
    }
   },
   "outputs": [],
   "source": [
    "# Función para corregir los valores invertidos de superficie cubierta y superficie total\n",
    "\n",
    "df2['surface_covered_in_m2_aux'] = df2['surface_covered_in_m2']\n",
    "\n",
    "def invertir_sup_cov (row):\n",
    "    if (row['surface_covered_in_m2'] > row['surface_total_in_m2']):\n",
    "        return row['surface_total_in_m2']\n",
    "    else:\n",
    "        return row['surface_covered_in_m2']\n",
    "\n",
    "def invertir_sup_tot (row):\n",
    "    if (row['surface_covered_in_m2'] == row['surface_total_in_m2']):\n",
    "        return row['surface_covered_in_m2_aux']\n",
    "    else:\n",
    "        return row['surface_total_in_m2'] \n",
    "    \n",
    "df2.loc[sup_mask,'surface_covered_in_m2'] = df2.apply(invertir_sup_tot, axis=1)\n",
    "df2.loc[sup_mask,'surface_total_in_m2']  = df2.apply(invertir_sup_tot, axis=1)"
   ]
  },
  {
   "cell_type": "code",
   "execution_count": 171,
   "id": "42925e06",
   "metadata": {
    "execution": {
     "iopub.execute_input": "2022-06-10T00:02:54.354237Z",
     "iopub.status.busy": "2022-06-10T00:02:54.353234Z",
     "iopub.status.idle": "2022-06-10T00:02:54.367236Z",
     "shell.execute_reply": "2022-06-10T00:02:54.366236Z",
     "shell.execute_reply.started": "2022-06-10T00:02:54.354237Z"
    }
   },
   "outputs": [
    {
     "data": {
      "text/plain": [
       "Index(['property_type', 'place_name', 'price_aprox_local_currency',\n",
       "       'price_aprox_usd', 'surface_total_in_m2', 'surface_covered_in_m2',\n",
       "       'price_usd_per_m2', 'price_per_m2', 'rooms', 'properati_url',\n",
       "       'description', 'title', 'image_thumbnail', 'tiene_jardin',\n",
       "       'tiene_cochera', 'tiene_pileta', 'tiene_parrilla', 'sup_m2_re',\n",
       "       'ambientes', 'cuota', 'surface_covered_in_m2_aux'],\n",
       "      dtype='object')"
      ]
     },
     "execution_count": 171,
     "metadata": {},
     "output_type": "execute_result"
    }
   ],
   "source": [
    "df2.columns"
   ]
  },
  {
   "cell_type": "code",
   "execution_count": 172,
   "id": "d83f3735",
   "metadata": {
    "execution": {
     "iopub.execute_input": "2022-06-10T00:02:54.371238Z",
     "iopub.status.busy": "2022-06-10T00:02:54.370237Z",
     "iopub.status.idle": "2022-06-10T00:02:55.673238Z",
     "shell.execute_reply": "2022-06-10T00:02:55.672238Z",
     "shell.execute_reply.started": "2022-06-10T00:02:54.371238Z"
    }
   },
   "outputs": [
    {
     "name": "stdout",
     "output_type": "stream",
     "text": [
      "Datos a imputar en sup_total:  4887\n",
      "<class 'pandas.core.frame.DataFrame'>\n",
      "Int64Index: 30952 entries, 0 to 121219\n",
      "Data columns (total 21 columns):\n",
      " #   Column                      Non-Null Count  Dtype  \n",
      "---  ------                      --------------  -----  \n",
      " 0   property_type               30952 non-null  object \n",
      " 1   place_name                  30952 non-null  object \n",
      " 2   price_aprox_local_currency  27828 non-null  float64\n",
      " 3   price_aprox_usd             27828 non-null  float64\n",
      " 4   surface_total_in_m2         30259 non-null  float64\n",
      " 5   surface_covered_in_m2       28882 non-null  float64\n",
      " 6   price_usd_per_m2            22519 non-null  float64\n",
      " 7   price_per_m2                26276 non-null  float64\n",
      " 8   rooms                       21652 non-null  float64\n",
      " 9   properati_url               30952 non-null  object \n",
      " 10  description                 30952 non-null  object \n",
      " 11  title                       30952 non-null  object \n",
      " 12  image_thumbnail             30477 non-null  object \n",
      " 13  tiene_jardin                30952 non-null  float64\n",
      " 14  tiene_cochera               30952 non-null  float64\n",
      " 15  tiene_pileta                30952 non-null  float64\n",
      " 16  tiene_parrilla              30952 non-null  float64\n",
      " 17  sup_m2_re                   1110 non-null   float64\n",
      " 18  ambientes                   13027 non-null  float64\n",
      " 19  cuota                       30952 non-null  int64  \n",
      " 20  surface_covered_in_m2_aux   28882 non-null  float64\n",
      "dtypes: float64(14), int64(1), object(6)\n",
      "memory usage: 6.4+ MB\n"
     ]
    },
    {
     "data": {
      "text/plain": [
       "None"
      ]
     },
     "metadata": {},
     "output_type": "display_data"
    },
    {
     "name": "stdout",
     "output_type": "stream",
     "text": [
      "Datos a imputar en sup_cubierta:  1377\n",
      "<class 'pandas.core.frame.DataFrame'>\n",
      "Int64Index: 30952 entries, 0 to 121219\n",
      "Data columns (total 21 columns):\n",
      " #   Column                      Non-Null Count  Dtype  \n",
      "---  ------                      --------------  -----  \n",
      " 0   property_type               30952 non-null  object \n",
      " 1   place_name                  30952 non-null  object \n",
      " 2   price_aprox_local_currency  27828 non-null  float64\n",
      " 3   price_aprox_usd             27828 non-null  float64\n",
      " 4   surface_total_in_m2         30259 non-null  float64\n",
      " 5   surface_covered_in_m2       30259 non-null  float64\n",
      " 6   price_usd_per_m2            22519 non-null  float64\n",
      " 7   price_per_m2                26276 non-null  float64\n",
      " 8   rooms                       21652 non-null  float64\n",
      " 9   properati_url               30952 non-null  object \n",
      " 10  description                 30952 non-null  object \n",
      " 11  title                       30952 non-null  object \n",
      " 12  image_thumbnail             30477 non-null  object \n",
      " 13  tiene_jardin                30952 non-null  float64\n",
      " 14  tiene_cochera               30952 non-null  float64\n",
      " 15  tiene_pileta                30952 non-null  float64\n",
      " 16  tiene_parrilla              30952 non-null  float64\n",
      " 17  sup_m2_re                   1110 non-null   float64\n",
      " 18  ambientes                   13027 non-null  float64\n",
      " 19  cuota                       30952 non-null  int64  \n",
      " 20  surface_covered_in_m2_aux   28882 non-null  float64\n",
      "dtypes: float64(14), int64(1), object(6)\n",
      "memory usage: 6.4+ MB\n"
     ]
    },
    {
     "data": {
      "text/plain": [
       "None"
      ]
     },
     "metadata": {},
     "output_type": "display_data"
    }
   ],
   "source": [
    "# Imputo los valores de superficie cubierta y total, considerando que si tengo uno solo de los dos, son el mismo valor\n",
    "\n",
    "# Imputo superficie total con los datos de cuubierta\n",
    "mask_sup_cov = (df2['surface_covered_in_m2'].notna()) & (df2['surface_total_in_m2'].isna())\n",
    "print('Datos a imputar en sup_total: ',mask_sup_cov.sum())\n",
    "\n",
    "def compl_m2_cub (row):\n",
    "    if row['surface_total_in_m2']>=0:\n",
    "        result = row['surface_total_in_m2']\n",
    "    else:\n",
    "        result = row['surface_covered_in_m2']\n",
    "    return result\n",
    "\n",
    "df2['surface_total_in_m2'] = df2.apply(compl_m2_cub, axis = 1)\n",
    "display(df2.info())\n",
    "\n",
    "# Imputo superficie cubierta con los datos de total\n",
    "mask_sup_cov = (df2['surface_total_in_m2'].notna()) & (df2['surface_covered_in_m2'].isna())\n",
    "print('Datos a imputar en sup_cubierta: ',mask_sup_cov.sum())\n",
    "\n",
    "def compl_m2_tot (row):\n",
    "    if row['surface_covered_in_m2']>=0:\n",
    "        result = row['surface_covered_in_m2']\n",
    "    else:\n",
    "        result = row['surface_total_in_m2']\n",
    "    return result\n",
    "\n",
    "df2['surface_covered_in_m2'] = df2.apply(compl_m2_tot, axis = 1)\n",
    "display(df2.info())"
   ]
  },
  {
   "cell_type": "code",
   "execution_count": 173,
   "id": "595c8633",
   "metadata": {
    "execution": {
     "iopub.execute_input": "2022-06-10T00:02:55.675237Z",
     "iopub.status.busy": "2022-06-10T00:02:55.674236Z",
     "iopub.status.idle": "2022-06-10T00:02:55.704236Z",
     "shell.execute_reply": "2022-06-10T00:02:55.703237Z",
     "shell.execute_reply.started": "2022-06-10T00:02:55.675237Z"
    }
   },
   "outputs": [],
   "source": [
    "# Elimino la columna auxiliar generada\n",
    "\n",
    "df2.drop('surface_covered_in_m2_aux', axis=1, inplace=True)\n",
    "df2.drop('sup_m2_re', axis=1, inplace=True)\n",
    "#df2.drop('ambientes', axis=1, inplace=True)"
   ]
  },
  {
   "cell_type": "code",
   "execution_count": 174,
   "id": "59e5915c",
   "metadata": {
    "execution": {
     "iopub.execute_input": "2022-06-10T00:02:55.705236Z",
     "iopub.status.busy": "2022-06-10T00:02:55.705236Z",
     "iopub.status.idle": "2022-06-10T00:02:55.750237Z",
     "shell.execute_reply": "2022-06-10T00:02:55.749235Z",
     "shell.execute_reply.started": "2022-06-10T00:02:55.705236Z"
    }
   },
   "outputs": [
    {
     "name": "stdout",
     "output_type": "stream",
     "text": [
      "Cantidad de filas con sup_cov > sup_total 0\n",
      "<class 'pandas.core.frame.DataFrame'>\n",
      "Int64Index: 30952 entries, 0 to 121219\n",
      "Data columns (total 19 columns):\n",
      " #   Column                      Non-Null Count  Dtype  \n",
      "---  ------                      --------------  -----  \n",
      " 0   property_type               30952 non-null  object \n",
      " 1   place_name                  30952 non-null  object \n",
      " 2   price_aprox_local_currency  27828 non-null  float64\n",
      " 3   price_aprox_usd             27828 non-null  float64\n",
      " 4   surface_total_in_m2         30259 non-null  float64\n",
      " 5   surface_covered_in_m2       30259 non-null  float64\n",
      " 6   price_usd_per_m2            22519 non-null  float64\n",
      " 7   price_per_m2                26276 non-null  float64\n",
      " 8   rooms                       21652 non-null  float64\n",
      " 9   properati_url               30952 non-null  object \n",
      " 10  description                 30952 non-null  object \n",
      " 11  title                       30952 non-null  object \n",
      " 12  image_thumbnail             30477 non-null  object \n",
      " 13  tiene_jardin                30952 non-null  float64\n",
      " 14  tiene_cochera               30952 non-null  float64\n",
      " 15  tiene_pileta                30952 non-null  float64\n",
      " 16  tiene_parrilla              30952 non-null  float64\n",
      " 17  ambientes                   13027 non-null  float64\n",
      " 18  cuota                       30952 non-null  int64  \n",
      "dtypes: float64(12), int64(1), object(6)\n",
      "memory usage: 6.0+ MB\n"
     ]
    },
    {
     "data": {
      "text/plain": [
       "None"
      ]
     },
     "metadata": {},
     "output_type": "display_data"
    }
   ],
   "source": [
    "# Verificación de la corrección de cambio de columnas e imputación.\n",
    "\n",
    "sup_mask = df2['surface_covered_in_m2'] > df2['surface_total_in_m2']\n",
    "print(f'Cantidad de filas con sup_cov > sup_total {sup_mask.sum()}')\n",
    "display(df2.info())"
   ]
  },
  {
   "cell_type": "code",
   "execution_count": 175,
   "id": "f0cf9c60",
   "metadata": {
    "execution": {
     "iopub.execute_input": "2022-06-10T00:02:55.752237Z",
     "iopub.status.busy": "2022-06-10T00:02:55.752237Z",
     "iopub.status.idle": "2022-06-10T00:02:58.698410Z",
     "shell.execute_reply": "2022-06-10T00:02:58.697410Z",
     "shell.execute_reply.started": "2022-06-10T00:02:55.752237Z"
    }
   },
   "outputs": [
    {
     "data": {
      "text/plain": [
       "<seaborn.axisgrid.JointGrid at 0x216ce03f9a0>"
      ]
     },
     "execution_count": 175,
     "metadata": {},
     "output_type": "execute_result"
    },
    {
     "data": {
      "image/png": "[encoded data removed]",
      "text/plain": [
       "<Figure size 432x432 with 3 Axes>"
      ]
     },
     "metadata": {
      "needs_background": "light"
     },
     "output_type": "display_data"
    }
   ],
   "source": [
    " sns.jointplot(x='surface_covered_in_m2', y='surface_total_in_m2',data=df2, hue='property_type',xlim=(0,500), ylim=(0,500))"
   ]
  },
  {
   "cell_type": "code",
   "execution_count": 176,
   "id": "c5afbb51",
   "metadata": {
    "execution": {
     "iopub.execute_input": "2022-06-10T00:02:58.700408Z",
     "iopub.status.busy": "2022-06-10T00:02:58.700408Z",
     "iopub.status.idle": "2022-06-10T00:02:58.744409Z",
     "shell.execute_reply": "2022-06-10T00:02:58.743409Z",
     "shell.execute_reply.started": "2022-06-10T00:02:58.700408Z"
    }
   },
   "outputs": [
    {
     "data": {
      "text/plain": [
       "Index(['property_type', 'place_name', 'price_aprox_local_currency',\n",
       "       'price_aprox_usd', 'surface_total_in_m2', 'surface_covered_in_m2',\n",
       "       'price_usd_per_m2', 'price_per_m2', 'rooms', 'properati_url',\n",
       "       'description', 'title', 'image_thumbnail', 'tiene_jardin',\n",
       "       'tiene_cochera', 'tiene_pileta', 'tiene_parrilla', 'ambientes',\n",
       "       'cuota'],\n",
       "      dtype='object')"
      ]
     },
     "metadata": {},
     "output_type": "display_data"
    },
    {
     "data": {
      "text/html": [
       "<div>\n",
       "<style scoped>\n",
       "    .dataframe tbody tr th:only-of-type {\n",
       "        vertical-align: middle;\n",
       "    }\n",
       "\n",
       "    .dataframe tbody tr th {\n",
       "        vertical-align: top;\n",
       "    }\n",
       "\n",
       "    .dataframe thead th {\n",
       "        text-align: right;\n",
       "    }\n",
       "</style>\n",
       "<table border=\"1\" class=\"dataframe\">\n",
       "  <thead>\n",
       "    <tr style=\"text-align: right;\">\n",
       "      <th></th>\n",
       "      <th>property_type</th>\n",
       "      <th>place_name</th>\n",
       "      <th>price_aprox_local_currency</th>\n",
       "      <th>price_aprox_usd</th>\n",
       "      <th>surface_total_in_m2</th>\n",
       "      <th>surface_covered_in_m2</th>\n",
       "      <th>price_usd_per_m2</th>\n",
       "      <th>price_per_m2</th>\n",
       "      <th>rooms</th>\n",
       "      <th>properati_url</th>\n",
       "      <th>description</th>\n",
       "      <th>title</th>\n",
       "      <th>image_thumbnail</th>\n",
       "      <th>tiene_jardin</th>\n",
       "      <th>tiene_cochera</th>\n",
       "      <th>tiene_pileta</th>\n",
       "      <th>tiene_parrilla</th>\n",
       "      <th>ambientes</th>\n",
       "      <th>cuota</th>\n",
       "    </tr>\n",
       "  </thead>\n",
       "  <tbody>\n",
       "    <tr>\n",
       "      <th>0</th>\n",
       "      <td>PH</td>\n",
       "      <td>Mataderos</td>\n",
       "      <td>1093959.0</td>\n",
       "      <td>62000.0</td>\n",
       "      <td>55.0</td>\n",
       "      <td>40.0</td>\n",
       "      <td>1127.272727</td>\n",
       "      <td>1550.000000</td>\n",
       "      <td>2.0</td>\n",
       "      <td>http://www.properati.com.ar/15bo8_venta_ph_mat...</td>\n",
       "      <td>2 AMBIENTES TIPO CASA PLANTA BAJA POR PASILLO,...</td>\n",
       "      <td>2 AMB TIPO CASA SIN EXPENSAS EN PB</td>\n",
       "      <td>https://thumbs4.properati.com/8/BluUYiHJLhgIIK...</td>\n",
       "      <td>0.0</td>\n",
       "      <td>0.0</td>\n",
       "      <td>0.0</td>\n",
       "      <td>0.0</td>\n",
       "      <td>2.0</td>\n",
       "      <td>0</td>\n",
       "    </tr>\n",
       "    <tr>\n",
       "      <th>2</th>\n",
       "      <td>apartment</td>\n",
       "      <td>Mataderos</td>\n",
       "      <td>1270404.0</td>\n",
       "      <td>72000.0</td>\n",
       "      <td>55.0</td>\n",
       "      <td>55.0</td>\n",
       "      <td>1309.090909</td>\n",
       "      <td>1309.090909</td>\n",
       "      <td>2.0</td>\n",
       "      <td>http://www.properati.com.ar/15bod_venta_depart...</td>\n",
       "      <td>2 AMBIENTES 3ER PISO LATERAL LIVING COMEDOR AM...</td>\n",
       "      <td>2 AMB 3ER PISO CON ASCENSOR APTO CREDITO</td>\n",
       "      <td>https://thumbs4.properati.com/5/SXKr34F_IwG3W_...</td>\n",
       "      <td>0.0</td>\n",
       "      <td>0.0</td>\n",
       "      <td>0.0</td>\n",
       "      <td>0.0</td>\n",
       "      <td>2.0</td>\n",
       "      <td>0</td>\n",
       "    </tr>\n",
       "    <tr>\n",
       "      <th>3</th>\n",
       "      <td>PH</td>\n",
       "      <td>Liniers</td>\n",
       "      <td>1676227.5</td>\n",
       "      <td>95000.0</td>\n",
       "      <td>NaN</td>\n",
       "      <td>NaN</td>\n",
       "      <td>NaN</td>\n",
       "      <td>NaN</td>\n",
       "      <td>3.0</td>\n",
       "      <td>http://www.properati.com.ar/15boh_venta_ph_lin...</td>\n",
       "      <td>PH 3 ambientes con patio. Hay 3 deptos en lote...</td>\n",
       "      <td>PH 3 amb. cfte. reciclado</td>\n",
       "      <td>https://thumbs4.properati.com/3/DgIfX-85Mog5SP...</td>\n",
       "      <td>0.0</td>\n",
       "      <td>0.0</td>\n",
       "      <td>0.0</td>\n",
       "      <td>0.0</td>\n",
       "      <td>3.0</td>\n",
       "      <td>0</td>\n",
       "    </tr>\n",
       "    <tr>\n",
       "      <th>7</th>\n",
       "      <td>apartment</td>\n",
       "      <td>Belgrano</td>\n",
       "      <td>2434941.0</td>\n",
       "      <td>138000.0</td>\n",
       "      <td>45.0</td>\n",
       "      <td>40.0</td>\n",
       "      <td>3066.666667</td>\n",
       "      <td>3450.000000</td>\n",
       "      <td>NaN</td>\n",
       "      <td>http://www.properati.com.ar/15bot_venta_depart...</td>\n",
       "      <td>EXCELENTE MONOAMBIENTE A ESTRENAR AMPLIO SUPER...</td>\n",
       "      <td>JOSE HERNANDEZ 1400 MONOAMBIENTE  ESTRENAR CAT...</td>\n",
       "      <td>https://thumbs4.properati.com/1/IHxARynlr8sPEW...</td>\n",
       "      <td>0.0</td>\n",
       "      <td>0.0</td>\n",
       "      <td>1.0</td>\n",
       "      <td>0.0</td>\n",
       "      <td>NaN</td>\n",
       "      <td>0</td>\n",
       "    </tr>\n",
       "    <tr>\n",
       "      <th>8</th>\n",
       "      <td>apartment</td>\n",
       "      <td>Belgrano</td>\n",
       "      <td>3440677.5</td>\n",
       "      <td>195000.0</td>\n",
       "      <td>65.0</td>\n",
       "      <td>60.0</td>\n",
       "      <td>3000.000000</td>\n",
       "      <td>3250.000000</td>\n",
       "      <td>NaN</td>\n",
       "      <td>http://www.properati.com.ar/15bou_venta_depart...</td>\n",
       "      <td>EXCELENTE DOS AMBIENTES  ESTRENAR AMPLIO SUPER...</td>\n",
       "      <td>JOSE HERNANDEZ   1400 DOS AMBIENTES ESTRENAR ,...</td>\n",
       "      <td>https://thumbs4.properati.com/2/J3zOjgaFHrkvnv...</td>\n",
       "      <td>0.0</td>\n",
       "      <td>0.0</td>\n",
       "      <td>1.0</td>\n",
       "      <td>0.0</td>\n",
       "      <td>NaN</td>\n",
       "      <td>0</td>\n",
       "    </tr>\n",
       "  </tbody>\n",
       "</table>\n",
       "</div>"
      ],
      "text/plain": [
       "  property_type place_name  price_aprox_local_currency  price_aprox_usd  \\\n",
       "0            PH  Mataderos                   1093959.0          62000.0   \n",
       "2     apartment  Mataderos                   1270404.0          72000.0   \n",
       "3            PH    Liniers                   1676227.5          95000.0   \n",
       "7     apartment   Belgrano                   2434941.0         138000.0   \n",
       "8     apartment   Belgrano                   3440677.5         195000.0   \n",
       "\n",
       "   surface_total_in_m2  surface_covered_in_m2  price_usd_per_m2  price_per_m2  \\\n",
       "0                 55.0                   40.0       1127.272727   1550.000000   \n",
       "2                 55.0                   55.0       1309.090909   1309.090909   \n",
       "3                  NaN                    NaN               NaN           NaN   \n",
       "7                 45.0                   40.0       3066.666667   3450.000000   \n",
       "8                 65.0                   60.0       3000.000000   3250.000000   \n",
       "\n",
       "   rooms                                      properati_url  \\\n",
       "0    2.0  http://www.properati.com.ar/15bo8_venta_ph_mat...   \n",
       "2    2.0  http://www.properati.com.ar/15bod_venta_depart...   \n",
       "3    3.0  http://www.properati.com.ar/15boh_venta_ph_lin...   \n",
       "7    NaN  http://www.properati.com.ar/15bot_venta_depart...   \n",
       "8    NaN  http://www.properati.com.ar/15bou_venta_depart...   \n",
       "\n",
       "                                         description  \\\n",
       "0  2 AMBIENTES TIPO CASA PLANTA BAJA POR PASILLO,...   \n",
       "2  2 AMBIENTES 3ER PISO LATERAL LIVING COMEDOR AM...   \n",
       "3  PH 3 ambientes con patio. Hay 3 deptos en lote...   \n",
       "7  EXCELENTE MONOAMBIENTE A ESTRENAR AMPLIO SUPER...   \n",
       "8  EXCELENTE DOS AMBIENTES  ESTRENAR AMPLIO SUPER...   \n",
       "\n",
       "                                               title  \\\n",
       "0                 2 AMB TIPO CASA SIN EXPENSAS EN PB   \n",
       "2           2 AMB 3ER PISO CON ASCENSOR APTO CREDITO   \n",
       "3                       PH 3 amb. cfte. reciclado      \n",
       "7  JOSE HERNANDEZ 1400 MONOAMBIENTE  ESTRENAR CAT...   \n",
       "8  JOSE HERNANDEZ   1400 DOS AMBIENTES ESTRENAR ,...   \n",
       "\n",
       "                                     image_thumbnail  tiene_jardin  \\\n",
       "0  https://thumbs4.properati.com/8/BluUYiHJLhgIIK...           0.0   \n",
       "2  https://thumbs4.properati.com/5/SXKr34F_IwG3W_...           0.0   \n",
       "3  https://thumbs4.properati.com/3/DgIfX-85Mog5SP...           0.0   \n",
       "7  https://thumbs4.properati.com/1/IHxARynlr8sPEW...           0.0   \n",
       "8  https://thumbs4.properati.com/2/J3zOjgaFHrkvnv...           0.0   \n",
       "\n",
       "   tiene_cochera  tiene_pileta  tiene_parrilla  ambientes  cuota  \n",
       "0            0.0           0.0             0.0        2.0      0  \n",
       "2            0.0           0.0             0.0        2.0      0  \n",
       "3            0.0           0.0             0.0        3.0      0  \n",
       "7            0.0           1.0             0.0        NaN      0  \n",
       "8            0.0           1.0             0.0        NaN      0  "
      ]
     },
     "execution_count": 176,
     "metadata": {},
     "output_type": "execute_result"
    }
   ],
   "source": [
    "display(df2.columns)\n",
    "df2.head()"
   ]
  },
  {
   "cell_type": "code",
   "execution_count": 177,
   "id": "6ef63ebc",
   "metadata": {
    "execution": {
     "iopub.execute_input": "2022-06-10T00:02:58.749409Z",
     "iopub.status.busy": "2022-06-10T00:02:58.748411Z",
     "iopub.status.idle": "2022-06-10T00:02:58.790409Z",
     "shell.execute_reply": "2022-06-10T00:02:58.789408Z",
     "shell.execute_reply.started": "2022-06-10T00:02:58.749409Z"
    }
   },
   "outputs": [
    {
     "name": "stdout",
     "output_type": "stream",
     "text": [
      "<class 'pandas.core.frame.DataFrame'>\n",
      "Int64Index: 30952 entries, 0 to 121219\n",
      "Data columns (total 19 columns):\n",
      " #   Column                      Non-Null Count  Dtype  \n",
      "---  ------                      --------------  -----  \n",
      " 0   property_type               30952 non-null  object \n",
      " 1   place_name                  30952 non-null  object \n",
      " 2   price_aprox_local_currency  27828 non-null  float64\n",
      " 3   price_aprox_usd             27828 non-null  float64\n",
      " 4   surface_total_in_m2         30259 non-null  float64\n",
      " 5   surface_covered_in_m2       30259 non-null  float64\n",
      " 6   price_usd_per_m2            22519 non-null  float64\n",
      " 7   price_per_m2                26276 non-null  float64\n",
      " 8   rooms                       21652 non-null  float64\n",
      " 9   properati_url               30952 non-null  object \n",
      " 10  description                 30952 non-null  object \n",
      " 11  title                       30952 non-null  object \n",
      " 12  image_thumbnail             30477 non-null  object \n",
      " 13  tiene_jardin                30952 non-null  float64\n",
      " 14  tiene_cochera               30952 non-null  float64\n",
      " 15  tiene_pileta                30952 non-null  float64\n",
      " 16  tiene_parrilla              30952 non-null  float64\n",
      " 17  ambientes                   13027 non-null  float64\n",
      " 18  cuota                       30952 non-null  int64  \n",
      "dtypes: float64(12), int64(1), object(6)\n",
      "memory usage: 6.0+ MB\n"
     ]
    }
   ],
   "source": [
    "df2.info()"
   ]
  },
  {
   "cell_type": "markdown",
   "id": "e1d73b9c",
   "metadata": {},
   "source": [
    "## Conversion de pasos a dolares\n",
    "\n",
    "Tipo de cambio promedio entre entre 'price_aprox_local_currency' y 'price_aprox_usd':  17.64 $/USD "
   ]
  },
  {
   "cell_type": "code",
   "execution_count": 178,
   "id": "5fa49c28",
   "metadata": {
    "execution": {
     "iopub.execute_input": "2022-06-10T00:02:58.792410Z",
     "iopub.status.busy": "2022-06-10T00:02:58.792410Z",
     "iopub.status.idle": "2022-06-10T00:02:58.805409Z",
     "shell.execute_reply": "2022-06-10T00:02:58.804414Z",
     "shell.execute_reply.started": "2022-06-10T00:02:58.792410Z"
    }
   },
   "outputs": [],
   "source": [
    "def estimar_tipo_de_cambio(data):\n",
    "    #'Esta función estima el tipo de cambio promedio entre 'price_aprox_local_currency' y 'price_aprox_usd'\n",
    "    mask_tipo_de_cambio = (data['price_aprox_local_currency'].notnull() & data['price_aprox_usd'].notnull())\n",
    "    calculo_tipo_de_cambio = data.loc[mask_tipo_de_cambio, 'price_aprox_local_currency'] / data.loc[mask_tipo_de_cambio, 'price_aprox_usd']\n",
    "    tipo_de_cambio = calculo_tipo_de_cambio.mean()\n",
    "    valor = round(tipo_de_cambio, 2)\n",
    "    return valor\n"
   ]
  },
  {
   "cell_type": "code",
   "execution_count": 179,
   "id": "e92cc9c6",
   "metadata": {
    "execution": {
     "iopub.execute_input": "2022-06-10T00:02:58.807409Z",
     "iopub.status.busy": "2022-06-10T00:02:58.806410Z",
     "iopub.status.idle": "2022-06-10T00:02:58.820408Z",
     "shell.execute_reply": "2022-06-10T00:02:58.819410Z",
     "shell.execute_reply.started": "2022-06-10T00:02:58.806410Z"
    }
   },
   "outputs": [
    {
     "name": "stdout",
     "output_type": "stream",
     "text": [
      "17.64\n"
     ]
    }
   ],
   "source": [
    "valor_dolar = estimar_tipo_de_cambio(df2)\n",
    "print(valor_dolar)"
   ]
  },
  {
   "cell_type": "code",
   "execution_count": 180,
   "id": "e4c8884d",
   "metadata": {
    "execution": {
     "iopub.execute_input": "2022-06-10T00:02:58.822410Z",
     "iopub.status.busy": "2022-06-10T00:02:58.822410Z",
     "iopub.status.idle": "2022-06-10T00:02:58.836411Z",
     "shell.execute_reply": "2022-06-10T00:02:58.835406Z",
     "shell.execute_reply.started": "2022-06-10T00:02:58.822410Z"
    }
   },
   "outputs": [],
   "source": [
    "def calculo_valor_total_pesos_dolar(dataframe, valor_dolar):\n",
    "    #precio m2 en pesos a precio m2 en dolares\n",
    "    for i in dataframe.index:\n",
    "        if pd.isna(dataframe.loc[i, 'price_usd_per_m2']):\n",
    "            dataframe.loc[i, 'price_usd_per_m2'] = dataframe.loc[i, 'price_per_m2'] / valor_dolar\n",
    "    \n",
    "    return dataframe"
   ]
  },
  {
   "cell_type": "code",
   "execution_count": 181,
   "id": "1c10fa43",
   "metadata": {
    "execution": {
     "iopub.execute_input": "2022-06-10T00:02:58.837410Z",
     "iopub.status.busy": "2022-06-10T00:02:58.837410Z",
     "iopub.status.idle": "2022-06-10T00:03:03.504607Z",
     "shell.execute_reply": "2022-06-10T00:03:03.503601Z",
     "shell.execute_reply.started": "2022-06-10T00:02:58.837410Z"
    }
   },
   "outputs": [],
   "source": [
    "df2 = calculo_valor_total_pesos_dolar(df2, valor_dolar)"
   ]
  },
  {
   "cell_type": "code",
   "execution_count": 182,
   "id": "a3d68c37",
   "metadata": {
    "execution": {
     "iopub.execute_input": "2022-06-10T00:03:03.506602Z",
     "iopub.status.busy": "2022-06-10T00:03:03.505603Z",
     "iopub.status.idle": "2022-06-10T00:03:03.551605Z",
     "shell.execute_reply": "2022-06-10T00:03:03.550605Z",
     "shell.execute_reply.started": "2022-06-10T00:03:03.506602Z"
    },
    "scrolled": true
   },
   "outputs": [
    {
     "name": "stdout",
     "output_type": "stream",
     "text": [
      "<class 'pandas.core.frame.DataFrame'>\n",
      "Int64Index: 30952 entries, 0 to 121219\n",
      "Data columns (total 19 columns):\n",
      " #   Column                      Non-Null Count  Dtype  \n",
      "---  ------                      --------------  -----  \n",
      " 0   property_type               30952 non-null  object \n",
      " 1   place_name                  30952 non-null  object \n",
      " 2   price_aprox_local_currency  27828 non-null  float64\n",
      " 3   price_aprox_usd             27828 non-null  float64\n",
      " 4   surface_total_in_m2         30259 non-null  float64\n",
      " 5   surface_covered_in_m2       30259 non-null  float64\n",
      " 6   price_usd_per_m2            27307 non-null  float64\n",
      " 7   price_per_m2                26276 non-null  float64\n",
      " 8   rooms                       21652 non-null  float64\n",
      " 9   properati_url               30952 non-null  object \n",
      " 10  description                 30952 non-null  object \n",
      " 11  title                       30952 non-null  object \n",
      " 12  image_thumbnail             30477 non-null  object \n",
      " 13  tiene_jardin                30952 non-null  float64\n",
      " 14  tiene_cochera               30952 non-null  float64\n",
      " 15  tiene_pileta                30952 non-null  float64\n",
      " 16  tiene_parrilla              30952 non-null  float64\n",
      " 17  ambientes                   13027 non-null  float64\n",
      " 18  cuota                       30952 non-null  int64  \n",
      "dtypes: float64(12), int64(1), object(6)\n",
      "memory usage: 6.0+ MB\n"
     ]
    }
   ],
   "source": [
    "df2.info()"
   ]
  },
  {
   "cell_type": "code",
   "execution_count": 183,
   "id": "27919107",
   "metadata": {
    "execution": {
     "iopub.execute_input": "2022-06-10T00:03:03.553604Z",
     "iopub.status.busy": "2022-06-10T00:03:03.552604Z",
     "iopub.status.idle": "2022-06-10T00:03:03.567605Z",
     "shell.execute_reply": "2022-06-10T00:03:03.566601Z",
     "shell.execute_reply.started": "2022-06-10T00:03:03.552604Z"
    }
   },
   "outputs": [],
   "source": [
    "#Dropeo todas las features que necesitan tratamiento previo para servir\n",
    "df2 = df2.drop(['description','title','image_thumbnail','price_per_m2','properati_url', 'price_aprox_local_currency', 'ambientes'], axis=1)"
   ]
  },
  {
   "cell_type": "code",
   "execution_count": 184,
   "id": "b9c509fb",
   "metadata": {
    "execution": {
     "iopub.execute_input": "2022-06-10T00:03:03.569604Z",
     "iopub.status.busy": "2022-06-10T00:03:03.568603Z",
     "iopub.status.idle": "2022-06-10T00:03:03.598604Z",
     "shell.execute_reply": "2022-06-10T00:03:03.597602Z",
     "shell.execute_reply.started": "2022-06-10T00:03:03.569604Z"
    },
    "scrolled": true
   },
   "outputs": [],
   "source": [
    "df2 = df2.dropna()"
   ]
  },
  {
   "cell_type": "code",
   "execution_count": 185,
   "id": "c6e06067",
   "metadata": {
    "execution": {
     "iopub.execute_input": "2022-06-10T00:03:03.600603Z",
     "iopub.status.busy": "2022-06-10T00:03:03.600603Z",
     "iopub.status.idle": "2022-06-10T00:03:03.629604Z",
     "shell.execute_reply": "2022-06-10T00:03:03.628600Z",
     "shell.execute_reply.started": "2022-06-10T00:03:03.600603Z"
    },
    "scrolled": true
   },
   "outputs": [
    {
     "name": "stdout",
     "output_type": "stream",
     "text": [
      "<class 'pandas.core.frame.DataFrame'>\n",
      "Int64Index: 20003 entries, 0 to 121138\n",
      "Data columns (total 12 columns):\n",
      " #   Column                 Non-Null Count  Dtype  \n",
      "---  ------                 --------------  -----  \n",
      " 0   property_type          20003 non-null  object \n",
      " 1   place_name             20003 non-null  object \n",
      " 2   price_aprox_usd        20003 non-null  float64\n",
      " 3   surface_total_in_m2    20003 non-null  float64\n",
      " 4   surface_covered_in_m2  20003 non-null  float64\n",
      " 5   price_usd_per_m2       20003 non-null  float64\n",
      " 6   rooms                  20003 non-null  float64\n",
      " 7   tiene_jardin           20003 non-null  float64\n",
      " 8   tiene_cochera          20003 non-null  float64\n",
      " 9   tiene_pileta           20003 non-null  float64\n",
      " 10  tiene_parrilla         20003 non-null  float64\n",
      " 11  cuota                  20003 non-null  int64  \n",
      "dtypes: float64(9), int64(1), object(2)\n",
      "memory usage: 2.0+ MB\n"
     ]
    }
   ],
   "source": [
    "df2.info()"
   ]
  },
  {
   "cell_type": "code",
   "execution_count": 186,
   "id": "449498d1",
   "metadata": {
    "execution": {
     "iopub.execute_input": "2022-06-10T00:03:03.631603Z",
     "iopub.status.busy": "2022-06-10T00:03:03.630605Z",
     "iopub.status.idle": "2022-06-10T00:03:03.659604Z",
     "shell.execute_reply": "2022-06-10T00:03:03.658601Z",
     "shell.execute_reply.started": "2022-06-10T00:03:03.631603Z"
    }
   },
   "outputs": [],
   "source": [
    "# Eliminamos todos los barrios con menos de 250 entradas\n",
    "group_place_name = df2.groupby('place_name')['place_name'].count()\n",
    "lista_barrios = []\n",
    "\n",
    "for x in group_place_name.index:\n",
    "    if group_place_name[x]>250:\n",
    "        lista_barrios.append(x)\n",
    "# list = [x for x in group_place_name.index if group_place_name[x]>250]\n",
    "\n",
    "\n",
    "df2 = df2[df2['place_name'].isin(lista_barrios)]"
   ]
  },
  {
   "cell_type": "markdown",
   "id": "24eaa477",
   "metadata": {},
   "source": [
    "## Mascaras booleanas para eliminar outliers"
   ]
  },
  {
   "cell_type": "code",
   "execution_count": 187,
   "id": "8b10f6dc",
   "metadata": {
    "execution": {
     "iopub.execute_input": "2022-06-10T00:03:03.661608Z",
     "iopub.status.busy": "2022-06-10T00:03:03.661608Z",
     "iopub.status.idle": "2022-06-10T00:03:03.689608Z",
     "shell.execute_reply": "2022-06-10T00:03:03.688600Z",
     "shell.execute_reply.started": "2022-06-10T00:03:03.661608Z"
    }
   },
   "outputs": [],
   "source": [
    "df2 = df2[(df2['price_usd_per_m2'] < df2['price_usd_per_m2'].quantile(0.99))&\\\n",
    "          (df2['surface_total_in_m2'] < df2['surface_total_in_m2'].quantile(0.99))&\\\n",
    "          (df2['price_aprox_usd'] < df2['price_aprox_usd'].quantile(0.99))]"
   ]
  },
  {
   "cell_type": "code",
   "execution_count": 188,
   "id": "8d632048",
   "metadata": {
    "execution": {
     "iopub.execute_input": "2022-06-10T00:03:03.691606Z",
     "iopub.status.busy": "2022-06-10T00:03:03.690605Z",
     "iopub.status.idle": "2022-06-10T00:03:03.719606Z",
     "shell.execute_reply": "2022-06-10T00:03:03.718600Z",
     "shell.execute_reply.started": "2022-06-10T00:03:03.691606Z"
    }
   },
   "outputs": [
    {
     "name": "stdout",
     "output_type": "stream",
     "text": [
      "<class 'pandas.core.frame.DataFrame'>\n",
      "Int64Index: 15686 entries, 19 to 121138\n",
      "Data columns (total 12 columns):\n",
      " #   Column                 Non-Null Count  Dtype  \n",
      "---  ------                 --------------  -----  \n",
      " 0   property_type          15686 non-null  object \n",
      " 1   place_name             15686 non-null  object \n",
      " 2   price_aprox_usd        15686 non-null  float64\n",
      " 3   surface_total_in_m2    15686 non-null  float64\n",
      " 4   surface_covered_in_m2  15686 non-null  float64\n",
      " 5   price_usd_per_m2       15686 non-null  float64\n",
      " 6   rooms                  15686 non-null  float64\n",
      " 7   tiene_jardin           15686 non-null  float64\n",
      " 8   tiene_cochera          15686 non-null  float64\n",
      " 9   tiene_pileta           15686 non-null  float64\n",
      " 10  tiene_parrilla         15686 non-null  float64\n",
      " 11  cuota                  15686 non-null  int64  \n",
      "dtypes: float64(9), int64(1), object(2)\n",
      "memory usage: 1.6+ MB\n"
     ]
    }
   ],
   "source": [
    "df2.info()"
   ]
  },
  {
   "cell_type": "markdown",
   "id": "54792187",
   "metadata": {},
   "source": [
    "## Test modelado básico"
   ]
  },
  {
   "cell_type": "code",
   "execution_count": 189,
   "id": "0894ca9c",
   "metadata": {
    "execution": {
     "iopub.execute_input": "2022-06-10T00:03:03.723606Z",
     "iopub.status.busy": "2022-06-10T00:03:03.723606Z",
     "iopub.status.idle": "2022-06-10T00:03:03.735606Z",
     "shell.execute_reply": "2022-06-10T00:03:03.734604Z",
     "shell.execute_reply.started": "2022-06-10T00:03:03.723606Z"
    }
   },
   "outputs": [],
   "source": [
    "# importo los librerías para el modelo\n",
    "from sklearn.model_selection import train_test_split\n",
    "from sklearn.linear_model import LinearRegression\n",
    "from sklearn.linear_model import RidgeCV, LassoCV\n",
    "from sklearn import metrics"
   ]
  },
  {
   "cell_type": "code",
   "execution_count": 190,
   "id": "c0d67f20",
   "metadata": {
    "execution": {
     "iopub.execute_input": "2022-06-10T00:03:03.737603Z",
     "iopub.status.busy": "2022-06-10T00:03:03.736607Z",
     "iopub.status.idle": "2022-06-10T00:03:03.752605Z",
     "shell.execute_reply": "2022-06-10T00:03:03.749603Z",
     "shell.execute_reply.started": "2022-06-10T00:03:03.737603Z"
    }
   },
   "outputs": [
    {
     "data": {
      "text/plain": [
       "apartment    14351\n",
       "PH             907\n",
       "house          428\n",
       "Name: property_type, dtype: int64"
      ]
     },
     "execution_count": 190,
     "metadata": {},
     "output_type": "execute_result"
    }
   ],
   "source": [
    "df2.property_type.value_counts()"
   ]
  },
  {
   "cell_type": "markdown",
   "id": "c5d0f00e",
   "metadata": {},
   "source": [
    "### Modelado SOLO con place_name y property_type y sin stratify"
   ]
  },
  {
   "cell_type": "code",
   "execution_count": 191,
   "id": "39bac681",
   "metadata": {
    "execution": {
     "iopub.execute_input": "2022-06-10T00:03:03.754604Z",
     "iopub.status.busy": "2022-06-10T00:03:03.753604Z",
     "iopub.status.idle": "2022-06-10T00:03:03.796606Z",
     "shell.execute_reply": "2022-06-10T00:03:03.795603Z",
     "shell.execute_reply.started": "2022-06-10T00:03:03.754604Z"
    }
   },
   "outputs": [
    {
     "data": {
      "text/plain": [
       "((15686, 26), (15686,), (11764, 26), (3922, 26), (11764,), (3922,))"
      ]
     },
     "execution_count": 191,
     "metadata": {},
     "output_type": "execute_result"
    }
   ],
   "source": [
    "# Selecciono las columnas que considero features para modelar \n",
    "X = df2.loc[:,['property_type','place_name', 'rooms']]\n",
    "y = df2['price_usd_per_m2']\n",
    "\n",
    "# Convierto a dummies las categóricas\n",
    "X = pd.get_dummies(X,drop_first=True)\n",
    "\n",
    "# Separo en train/test\n",
    "X_train, X_test, y_train, y_test = train_test_split(X,y,random_state=33)\n",
    "\n",
    "X.shape, y.shape, X_train.shape,X_test.shape, y_train.shape, y_test.shape"
   ]
  },
  {
   "cell_type": "code",
   "execution_count": 192,
   "id": "6e1ccfb7",
   "metadata": {
    "execution": {
     "iopub.execute_input": "2022-06-10T00:03:03.797604Z",
     "iopub.status.busy": "2022-06-10T00:03:03.797604Z",
     "iopub.status.idle": "2022-06-10T00:03:03.812605Z",
     "shell.execute_reply": "2022-06-10T00:03:03.811608Z",
     "shell.execute_reply.started": "2022-06-10T00:03:03.797604Z"
    }
   },
   "outputs": [
    {
     "data": {
      "text/plain": [
       "0"
      ]
     },
     "execution_count": 192,
     "metadata": {},
     "output_type": "execute_result"
    }
   ],
   "source": [
    "df2.price_usd_per_m2.isna().sum()"
   ]
  },
  {
   "cell_type": "code",
   "execution_count": 193,
   "id": "d9f059e9",
   "metadata": {
    "execution": {
     "iopub.execute_input": "2022-06-10T00:03:03.814607Z",
     "iopub.status.busy": "2022-06-10T00:03:03.813605Z",
     "iopub.status.idle": "2022-06-10T00:03:04.752605Z",
     "shell.execute_reply": "2022-06-10T00:03:04.750603Z",
     "shell.execute_reply.started": "2022-06-10T00:03:03.814607Z"
    }
   },
   "outputs": [
    {
     "name": "stdout",
     "output_type": "stream",
     "text": [
      "intercept:  1805.9784588781486 coef:  [ -125.44663494   848.52424299   -23.3680375   -730.43029735\n",
      "  -395.45237015   431.82861982   286.42312488  6703.06161074\n",
      "  -234.98497499  -324.9965397   -574.32709187  -792.32197893\n",
      " -1261.5009384   -122.85532264   156.96968273   780.80519451\n",
      "  2412.45998221   505.95120515  -509.40376448  3165.41822405\n",
      "  -511.85614943   -44.76418375  -350.77529584  -488.15155391\n",
      "  -213.43998796  -275.82429763] alpha:  1.0\n"
     ]
    },
    {
     "data": {
      "text/plain": [
       "0.30970158883525145"
      ]
     },
     "execution_count": 193,
     "metadata": {},
     "output_type": "execute_result"
    }
   ],
   "source": [
    "#prueba con crossvalidation con Ridge\n",
    "rcv = RidgeCV(alphas=(0.0001,0.001,0.01,0.1,1,10,100,1000,10000), cv=5)\n",
    "\n",
    "rcv.fit(X_train,y_train)\n",
    "print('intercept: ',rcv.intercept_,'coef: ', rcv.coef_,'alpha: ', rcv.alpha_)\n",
    "\n",
    "y_pred_rcv = rcv.predict(X_test)\n",
    "\n",
    "metrics.r2_score(y_test, y_pred_rcv)"
   ]
  },
  {
   "cell_type": "code",
   "execution_count": 194,
   "id": "5f16ba55",
   "metadata": {
    "execution": {
     "iopub.execute_input": "2022-06-10T00:03:04.754602Z",
     "iopub.status.busy": "2022-06-10T00:03:04.754602Z",
     "iopub.status.idle": "2022-06-10T00:03:05.313604Z",
     "shell.execute_reply": "2022-06-10T00:03:05.312604Z",
     "shell.execute_reply.started": "2022-06-10T00:03:04.754602Z"
    }
   },
   "outputs": [
    {
     "name": "stdout",
     "output_type": "stream",
     "text": [
      "intercept:  1844.119253907385 coef:  [ -126.80546217   846.28195724   -23.41483796  -756.4364003\n",
      "  -421.6674929    398.07591063   253.74375261  6631.40896027\n",
      "  -266.7100379   -351.98898583  -603.9680945   -814.2222248\n",
      " -1277.82841635  -153.88969915   124.46069697   738.50861644\n",
      "  2352.08774185   472.77770967  -535.71292007  3102.60289789\n",
      "  -541.40360084   -76.84713459  -377.34429556  -513.61503266\n",
      "  -244.89016802  -304.66249747] alpha:  4.0\n"
     ]
    },
    {
     "data": {
      "text/plain": [
       "0.3096262111575223"
      ]
     },
     "execution_count": 194,
     "metadata": {},
     "output_type": "execute_result"
    }
   ],
   "source": [
    "#prueba con crossvalidation con Ridge\n",
    "rcv = RidgeCV(alphas=(0.5,1,2,3,4), cv=5)\n",
    "\n",
    "rcv.fit(X_train,y_train)\n",
    "print('intercept: ',rcv.intercept_,'coef: ', rcv.coef_,'alpha: ', rcv.alpha_)\n",
    "\n",
    "y_pred_rcv = rcv.predict(X_test)\n",
    "\n",
    "metrics.r2_score(y_test, y_pred_rcv)"
   ]
  },
  {
   "cell_type": "code",
   "execution_count": 162,
   "id": "553ff11d",
   "metadata": {
    "execution": {
     "iopub.execute_input": "2022-06-10T00:01:50.467329Z",
     "iopub.status.busy": "2022-06-10T00:01:50.466331Z",
     "iopub.status.idle": "2022-06-10T00:01:50.964331Z",
     "shell.execute_reply": "2022-06-10T00:01:50.963329Z",
     "shell.execute_reply.started": "2022-06-10T00:01:50.467329Z"
    }
   },
   "outputs": [
    {
     "name": "stdout",
     "output_type": "stream",
     "text": [
      "intercept:  1663.5884390574217 coef:  [ -100.59566689   751.72125414   -83.74164023  -542.54169811\n",
      "  -193.87167398   558.00622525   441.19518727  4725.83134172\n",
      "  -101.08579347   -32.05552939  -417.68637939  -649.06065448\n",
      " -1060.69767877   134.88667502   383.67806452   959.94959805\n",
      "  2307.23587856   660.26521421  -275.92114672  1659.55144938\n",
      "  -273.41131126    81.94635982  -139.4439175   -231.484466\n",
      "   -66.51908638   -60.35426293] alpha:  5.0\n"
     ]
    },
    {
     "data": {
      "text/plain": [
       "0.24905642740804068"
      ]
     },
     "execution_count": 162,
     "metadata": {},
     "output_type": "execute_result"
    }
   ],
   "source": [
    "#prueba con crossvalidation con Ridge\n",
    "rcv = RidgeCV(alphas=(3.8,4,4.5,5,6,7), cv=5)\n",
    "\n",
    "rcv.fit(X_train,y_train)\n",
    "print('intercept: ',rcv.intercept_,'coef: ', rcv.coef_,'alpha: ', rcv.alpha_)\n",
    "\n",
    "y_pred_rcv = rcv.predict(X_test)\n",
    "\n",
    "metrics.r2_score(y_test, y_pred_rcv)"
   ]
  },
  {
   "cell_type": "markdown",
   "id": "9011318f",
   "metadata": {},
   "source": [
    "## Modelado Regresión Lineal pre-estandarización "
   ]
  },
  {
   "cell_type": "code",
   "execution_count": 46,
   "id": "3f4c84ae",
   "metadata": {
    "execution": {
     "iopub.execute_input": "2022-06-09T23:37:04.368691Z",
     "iopub.status.busy": "2022-06-09T23:37:04.368691Z",
     "iopub.status.idle": "2022-06-09T23:37:04.430688Z",
     "shell.execute_reply": "2022-06-09T23:37:04.429684Z",
     "shell.execute_reply.started": "2022-06-09T23:37:04.368691Z"
    }
   },
   "outputs": [
    {
     "data": {
      "text/plain": [
       "((15634, 32), (15634,), (11725, 32), (3909, 32), (11725,), (3909,))"
      ]
     },
     "execution_count": 46,
     "metadata": {},
     "output_type": "execute_result"
    }
   ],
   "source": [
    "# Selecciono las columnas que considero features para modelar \n",
    "X = df2.loc[:,['property_type','place_name','tiene_cochera','tiene_pileta','tiene_parrilla','cuota',\\\n",
    "               'surface_total_in_m2', 'surface_covered_in_m2','rooms' ]]\n",
    "y = df2['price_usd_per_m2']\n",
    "\n",
    "# Convierto a dummies las categóricas\n",
    "X = pd.get_dummies(X,drop_first=True)\n",
    "\n",
    "# Separo en train/test\n",
    "X_train, X_test, y_train, y_test = train_test_split(X,y,random_state=33)\n",
    "\n",
    "X.shape, y.shape, X_train.shape,X_test.shape, y_train.shape, y_test.shape"
   ]
  },
  {
   "cell_type": "code",
   "execution_count": 47,
   "id": "dc154ea6",
   "metadata": {
    "execution": {
     "iopub.execute_input": "2022-06-09T23:37:04.434686Z",
     "iopub.status.busy": "2022-06-09T23:37:04.433690Z",
     "iopub.status.idle": "2022-06-09T23:37:04.477690Z",
     "shell.execute_reply": "2022-06-09T23:37:04.476687Z",
     "shell.execute_reply.started": "2022-06-09T23:37:04.434686Z"
    },
    "scrolled": true
   },
   "outputs": [
    {
     "data": {
      "text/plain": [
       "(1282.121281866111,\n",
       " array([ 1.42245123e+02,  1.00674136e+03, -4.68256888e+01,  1.13387621e+03,\n",
       "         4.42950452e+00, -6.47402158e+00,  7.66348269e-02,  7.87543312e+02,\n",
       "         1.19308324e+01, -4.72113505e+02, -3.71177526e+02,  5.23956172e+02,\n",
       "         2.01281231e+02,  5.44892487e+03, -2.85108922e+02, -4.07346521e+02,\n",
       "        -5.94621323e+02, -5.83947979e+02, -1.21900102e+03, -1.07114683e+02,\n",
       "         1.37042273e+02,  4.48670518e+02,  2.19085500e+03,  7.64688530e+02,\n",
       "        -6.07979447e+02,  2.93168318e+03, -6.83471128e+02,  2.02036932e+01,\n",
       "        -2.62350254e+02, -4.16328509e+02, -4.33078678e+02, -3.74783355e+02]))"
      ]
     },
     "execution_count": 47,
     "metadata": {},
     "output_type": "execute_result"
    }
   ],
   "source": [
    "lr = LinearRegression()\n",
    "\n",
    "lr.fit(X_train,y_train)\n",
    "lr.intercept_, lr.coef_"
   ]
  },
  {
   "cell_type": "code",
   "execution_count": 48,
   "id": "6dc01fb4",
   "metadata": {
    "execution": {
     "iopub.execute_input": "2022-06-09T23:37:04.480687Z",
     "iopub.status.busy": "2022-06-09T23:37:04.479689Z",
     "iopub.status.idle": "2022-06-09T23:37:04.508691Z",
     "shell.execute_reply": "2022-06-09T23:37:04.507698Z",
     "shell.execute_reply.started": "2022-06-09T23:37:04.480687Z"
    }
   },
   "outputs": [
    {
     "data": {
      "text/plain": [
       "0.37631775090560915"
      ]
     },
     "execution_count": 48,
     "metadata": {},
     "output_type": "execute_result"
    }
   ],
   "source": [
    "y_pred = lr.predict(X_test)\n",
    "\n",
    "metrics.r2_score(y_test, y_pred)"
   ]
  },
  {
   "cell_type": "markdown",
   "id": "6e1b6151",
   "metadata": {},
   "source": [
    "## Ridge pre-escalado"
   ]
  },
  {
   "cell_type": "code",
   "execution_count": 49,
   "id": "bd68f9da",
   "metadata": {
    "execution": {
     "iopub.execute_input": "2022-06-09T23:37:04.511688Z",
     "iopub.status.busy": "2022-06-09T23:37:04.510686Z",
     "iopub.status.idle": "2022-06-09T23:37:05.486688Z",
     "shell.execute_reply": "2022-06-09T23:37:05.485686Z",
     "shell.execute_reply.started": "2022-06-09T23:37:04.510686Z"
    }
   },
   "outputs": [
    {
     "data": {
      "text/plain": [
       "(1292.8083660773275,\n",
       " array([ 1.42699332e+02,  1.00782500e+03, -4.64115482e+01,  1.13631562e+03,\n",
       "         4.42012377e+00, -6.45076292e+00, -4.59117401e-01,  7.86018941e+02,\n",
       "         1.01857612e+01, -4.79723234e+02, -3.78737340e+02,  5.13818417e+02,\n",
       "         1.91543532e+02,  5.42724832e+03, -2.94349595e+02, -4.15024315e+02,\n",
       "        -6.03144126e+02, -5.90449236e+02, -1.22333973e+03, -1.16430514e+02,\n",
       "         1.27429427e+02,  4.36813550e+02,  2.17236752e+03,  7.54487967e+02,\n",
       "        -6.15164566e+02,  2.91242460e+03, -6.91732110e+02,  1.10616735e+01,\n",
       "        -2.70291657e+02, -4.23504638e+02, -4.42143239e+02, -3.82612074e+02]),\n",
       " 1.0)"
      ]
     },
     "execution_count": 49,
     "metadata": {},
     "output_type": "execute_result"
    }
   ],
   "source": [
    "#prueba con crossvalidation con Ridge\n",
    "rcv = RidgeCV(alphas=(0.0001,0.001,0.01,0.1,1,10,100,1000,10000), cv=5)\n",
    "\n",
    "rcv.fit(X_train,y_train)\n",
    "rcv.intercept_, rcv.coef_, rcv.alpha_"
   ]
  },
  {
   "cell_type": "code",
   "execution_count": 50,
   "id": "4d1be7fe",
   "metadata": {
    "execution": {
     "iopub.execute_input": "2022-06-09T23:37:05.488688Z",
     "iopub.status.busy": "2022-06-09T23:37:05.488688Z",
     "iopub.status.idle": "2022-06-09T23:37:05.502686Z",
     "shell.execute_reply": "2022-06-09T23:37:05.501688Z",
     "shell.execute_reply.started": "2022-06-09T23:37:05.488688Z"
    },
    "scrolled": true
   },
   "outputs": [
    {
     "data": {
      "text/plain": [
       "0.3761553712989161"
      ]
     },
     "execution_count": 50,
     "metadata": {},
     "output_type": "execute_result"
    }
   ],
   "source": [
    "y_pred_rcv = rcv.predict(X_test)\n",
    "\n",
    "metrics.r2_score(y_test, y_pred_rcv)"
   ]
  },
  {
   "cell_type": "code",
   "execution_count": 51,
   "id": "894e8a69",
   "metadata": {
    "execution": {
     "iopub.execute_input": "2022-06-09T23:37:05.505685Z",
     "iopub.status.busy": "2022-06-09T23:37:05.504685Z",
     "iopub.status.idle": "2022-06-09T23:37:05.975686Z",
     "shell.execute_reply": "2022-06-09T23:37:05.974684Z",
     "shell.execute_reply.started": "2022-06-09T23:37:05.504685Z"
    }
   },
   "outputs": [
    {
     "data": {
      "text/plain": [
       "(1307.5297129188311,\n",
       " array([ 1.43369958e+02,  1.00938654e+03, -4.57907842e+01,  1.13995881e+03,\n",
       "         4.40636061e+00, -6.41679477e+00, -1.25126473e+00,  7.83773683e+02,\n",
       "         7.61871316e+00, -4.89786891e+02, -3.88648246e+02,  4.99976666e+02,\n",
       "         1.78279342e+02,  5.39622162e+03, -3.06876691e+02, -4.25103227e+02,\n",
       "        -6.14586346e+02, -5.98822292e+02, -1.22848305e+03, -1.28993400e+02,\n",
       "         1.14347214e+02,  4.20528261e+02,  2.14623940e+03,  7.40536851e+02,\n",
       "        -6.24535361e+02,  2.88506754e+03, -7.02747848e+02, -1.31884904e+00,\n",
       "        -2.80764404e+02, -4.32856813e+02, -4.54383681e+02, -3.92948647e+02]),\n",
       " 2.5)"
      ]
     },
     "execution_count": 51,
     "metadata": {},
     "output_type": "execute_result"
    }
   ],
   "source": [
    "#prueba con crossvalidation con Ridge\n",
    "rcv = RidgeCV(alphas=(0.5,1,2,2.5), cv=5)\n",
    "\n",
    "rcv.fit(X_train,y_train)\n",
    "rcv.intercept_, rcv.coef_, rcv.alpha_"
   ]
  },
  {
   "cell_type": "code",
   "execution_count": 52,
   "id": "f7f052fc",
   "metadata": {
    "execution": {
     "iopub.execute_input": "2022-06-09T23:37:05.978687Z",
     "iopub.status.busy": "2022-06-09T23:37:05.977696Z",
     "iopub.status.idle": "2022-06-09T23:37:06.007688Z",
     "shell.execute_reply": "2022-06-09T23:37:06.006683Z",
     "shell.execute_reply.started": "2022-06-09T23:37:05.978687Z"
    },
    "scrolled": true
   },
   "outputs": [
    {
     "data": {
      "text/plain": [
       "0.37590691822725186"
      ]
     },
     "execution_count": 52,
     "metadata": {},
     "output_type": "execute_result"
    }
   ],
   "source": [
    "y_pred_rcv = rcv.predict(X_test)\n",
    "\n",
    "metrics.r2_score(y_test, y_pred_rcv)"
   ]
  },
  {
   "cell_type": "markdown",
   "id": "6db48106",
   "metadata": {},
   "source": [
    "## Lasso pre-escalado"
   ]
  },
  {
   "cell_type": "code",
   "execution_count": 53,
   "id": "71ba677d",
   "metadata": {
    "execution": {
     "iopub.execute_input": "2022-06-09T23:37:06.009688Z",
     "iopub.status.busy": "2022-06-09T23:37:06.009688Z",
     "iopub.status.idle": "2022-06-09T23:37:06.256811Z",
     "shell.execute_reply": "2022-06-09T23:37:06.255686Z",
     "shell.execute_reply.started": "2022-06-09T23:37:06.009688Z"
    },
    "scrolled": true
   },
   "outputs": [
    {
     "data": {
      "text/plain": [
       "(1274.1110212487501,\n",
       " array([ 1.41988540e+02,  1.00612941e+03, -4.55442655e+01,  1.13293992e+03,\n",
       "         4.42095659e+00, -6.45601047e+00, -1.55823423e-02,  7.85411645e+02,\n",
       "         3.27103082e+00, -4.59341999e+02, -3.55799487e+02,  5.31473906e+02,\n",
       "         2.09981702e+02,  5.45689474e+03, -2.74369207e+02, -3.91845505e+02,\n",
       "        -5.82877986e+02, -5.69046883e+02, -1.20436062e+03, -9.36184966e+01,\n",
       "         1.45694071e+02,  4.53032114e+02,  2.19608759e+03,  7.72678495e+02,\n",
       "        -5.93280751e+02,  2.93768131e+03, -6.71066298e+02,  2.82622477e+01,\n",
       "        -2.46096847e+02, -4.00640727e+02, -4.21637022e+02, -3.60196365e+02]),\n",
       " 0.1)"
      ]
     },
     "execution_count": 53,
     "metadata": {},
     "output_type": "execute_result"
    }
   ],
   "source": [
    "#prueba con crossvalidation con Lasso\n",
    "lcv = LassoCV(alphas=(0.0001,0.001,0.01,0.1,1,10,100,1000,10000), cv=5)\n",
    "\n",
    "lcv.fit(X_train,y_train)\n",
    "lcv.intercept_, lcv.coef_, lcv.alpha_"
   ]
  },
  {
   "cell_type": "code",
   "execution_count": 54,
   "id": "f3f3211c",
   "metadata": {
    "execution": {
     "iopub.execute_input": "2022-06-09T23:37:06.259686Z",
     "iopub.status.busy": "2022-06-09T23:37:06.258688Z",
     "iopub.status.idle": "2022-06-09T23:37:06.287685Z",
     "shell.execute_reply": "2022-06-09T23:37:06.286684Z",
     "shell.execute_reply.started": "2022-06-09T23:37:06.259686Z"
    }
   },
   "outputs": [
    {
     "data": {
      "text/plain": [
       "0.3762824496993946"
      ]
     },
     "execution_count": 54,
     "metadata": {},
     "output_type": "execute_result"
    }
   ],
   "source": [
    "y_pred_lcv = lcv.predict(X_test)\n",
    "\n",
    "metrics.r2_score(y_test, y_pred_lcv)"
   ]
  },
  {
   "cell_type": "code",
   "execution_count": 55,
   "id": "2b683995",
   "metadata": {
    "execution": {
     "iopub.execute_input": "2022-06-09T23:37:06.289687Z",
     "iopub.status.busy": "2022-06-09T23:37:06.288789Z",
     "iopub.status.idle": "2022-06-09T23:37:06.534758Z",
     "shell.execute_reply": "2022-06-09T23:37:06.533762Z",
     "shell.execute_reply.started": "2022-06-09T23:37:06.289687Z"
    }
   },
   "outputs": [
    {
     "data": {
      "text/plain": [
       "(1269.8350290290173,\n",
       " array([ 1.41839231e+02,  1.00582150e+03, -4.49087672e+01,  1.13247247e+03,\n",
       "         4.41685808e+00, -6.44794326e+00, -5.30032263e-02,  7.84657697e+02,\n",
       "         0.00000000e+00, -4.52949743e+02, -3.48094254e+02,  5.35241443e+02,\n",
       "         2.14339817e+02,  5.46086533e+03, -2.69001547e+02, -3.84087821e+02,\n",
       "        -5.77027097e+02, -5.61608076e+02, -1.19703143e+03, -8.68729664e+01,\n",
       "         1.50028979e+02,  4.55224620e+02,  2.19875055e+03,  7.76690227e+02,\n",
       "        -5.85943844e+02,  2.94069055e+03, -6.64868705e+02,  3.22911336e+01,\n",
       "        -2.38024443e+02, -3.92813380e+02, -4.15916698e+02, -3.52911946e+02]),\n",
       " 0.15)"
      ]
     },
     "execution_count": 55,
     "metadata": {},
     "output_type": "execute_result"
    }
   ],
   "source": [
    "#prueba con crossvalidation con Lasso\n",
    "lcv = LassoCV(alphas=(0.05,0.1,0.15), cv=5)\n",
    "\n",
    "lcv.fit(X_train,y_train)\n",
    "lcv.intercept_, lcv.coef_, lcv.alpha_"
   ]
  },
  {
   "cell_type": "markdown",
   "id": "6bef43a3",
   "metadata": {},
   "source": [
    "## Portfolio de Departamentos sin estandarizar"
   ]
  },
  {
   "cell_type": "markdown",
   "id": "5739955c",
   "metadata": {},
   "source": [
    "Usar la variable 'y_pred' para conseguir la columna 'price_usd_per_m2_predic'"
   ]
  },
  {
   "cell_type": "code",
   "execution_count": 56,
   "id": "5b6f53e2",
   "metadata": {
    "execution": {
     "iopub.execute_input": "2022-06-09T23:37:06.537756Z",
     "iopub.status.busy": "2022-06-09T23:37:06.536756Z",
     "iopub.status.idle": "2022-06-09T23:37:06.630756Z",
     "shell.execute_reply": "2022-06-09T23:37:06.629754Z",
     "shell.execute_reply.started": "2022-06-09T23:37:06.537756Z"
    },
    "scrolled": true
   },
   "outputs": [
    {
     "data": {
      "text/html": [
       "<div>\n",
       "<style scoped>\n",
       "    .dataframe tbody tr th:only-of-type {\n",
       "        vertical-align: middle;\n",
       "    }\n",
       "\n",
       "    .dataframe tbody tr th {\n",
       "        vertical-align: top;\n",
       "    }\n",
       "\n",
       "    .dataframe thead th {\n",
       "        text-align: right;\n",
       "    }\n",
       "</style>\n",
       "<table border=\"1\" class=\"dataframe\">\n",
       "  <thead>\n",
       "    <tr style=\"text-align: right;\">\n",
       "      <th></th>\n",
       "      <th>tiene_cochera</th>\n",
       "      <th>tiene_pileta</th>\n",
       "      <th>tiene_parrilla</th>\n",
       "      <th>cuota</th>\n",
       "      <th>surface_total_in_m2</th>\n",
       "      <th>surface_covered_in_m2</th>\n",
       "      <th>rooms</th>\n",
       "      <th>property_type_apartment</th>\n",
       "      <th>property_type_house</th>\n",
       "      <th>place_name_Balvanera</th>\n",
       "      <th>...</th>\n",
       "      <th>place_name_Puerto Madero</th>\n",
       "      <th>place_name_Recoleta</th>\n",
       "      <th>place_name_Saavedra</th>\n",
       "      <th>place_name_San Cristobal</th>\n",
       "      <th>place_name_San Telmo</th>\n",
       "      <th>place_name_Villa Crespo</th>\n",
       "      <th>place_name_Villa Devoto</th>\n",
       "      <th>place_name_Villa Luro</th>\n",
       "      <th>place_name_Villa Urquiza</th>\n",
       "      <th>place_name_Villa del Parque</th>\n",
       "    </tr>\n",
       "  </thead>\n",
       "  <tbody>\n",
       "    <tr>\n",
       "      <th>19</th>\n",
       "      <td>0.0</td>\n",
       "      <td>0.0</td>\n",
       "      <td>0.0</td>\n",
       "      <td>0</td>\n",
       "      <td>104.0</td>\n",
       "      <td>96.0</td>\n",
       "      <td>3.0</td>\n",
       "      <td>1</td>\n",
       "      <td>0</td>\n",
       "      <td>0</td>\n",
       "      <td>...</td>\n",
       "      <td>0</td>\n",
       "      <td>0</td>\n",
       "      <td>0</td>\n",
       "      <td>0</td>\n",
       "      <td>0</td>\n",
       "      <td>0</td>\n",
       "      <td>0</td>\n",
       "      <td>0</td>\n",
       "      <td>0</td>\n",
       "      <td>0</td>\n",
       "    </tr>\n",
       "    <tr>\n",
       "      <th>21</th>\n",
       "      <td>0.0</td>\n",
       "      <td>0.0</td>\n",
       "      <td>0.0</td>\n",
       "      <td>0</td>\n",
       "      <td>118.0</td>\n",
       "      <td>73.0</td>\n",
       "      <td>4.0</td>\n",
       "      <td>1</td>\n",
       "      <td>0</td>\n",
       "      <td>0</td>\n",
       "      <td>...</td>\n",
       "      <td>0</td>\n",
       "      <td>0</td>\n",
       "      <td>0</td>\n",
       "      <td>0</td>\n",
       "      <td>0</td>\n",
       "      <td>0</td>\n",
       "      <td>0</td>\n",
       "      <td>0</td>\n",
       "      <td>0</td>\n",
       "      <td>0</td>\n",
       "    </tr>\n",
       "    <tr>\n",
       "      <th>29</th>\n",
       "      <td>0.0</td>\n",
       "      <td>0.0</td>\n",
       "      <td>0.0</td>\n",
       "      <td>0</td>\n",
       "      <td>43.0</td>\n",
       "      <td>43.0</td>\n",
       "      <td>2.0</td>\n",
       "      <td>1</td>\n",
       "      <td>0</td>\n",
       "      <td>0</td>\n",
       "      <td>...</td>\n",
       "      <td>0</td>\n",
       "      <td>0</td>\n",
       "      <td>0</td>\n",
       "      <td>0</td>\n",
       "      <td>0</td>\n",
       "      <td>0</td>\n",
       "      <td>0</td>\n",
       "      <td>0</td>\n",
       "      <td>0</td>\n",
       "      <td>0</td>\n",
       "    </tr>\n",
       "    <tr>\n",
       "      <th>35</th>\n",
       "      <td>0.0</td>\n",
       "      <td>0.0</td>\n",
       "      <td>0.0</td>\n",
       "      <td>0</td>\n",
       "      <td>80.0</td>\n",
       "      <td>77.0</td>\n",
       "      <td>4.0</td>\n",
       "      <td>1</td>\n",
       "      <td>0</td>\n",
       "      <td>0</td>\n",
       "      <td>...</td>\n",
       "      <td>0</td>\n",
       "      <td>0</td>\n",
       "      <td>0</td>\n",
       "      <td>0</td>\n",
       "      <td>0</td>\n",
       "      <td>0</td>\n",
       "      <td>0</td>\n",
       "      <td>0</td>\n",
       "      <td>0</td>\n",
       "      <td>0</td>\n",
       "    </tr>\n",
       "    <tr>\n",
       "      <th>48</th>\n",
       "      <td>1.0</td>\n",
       "      <td>0.0</td>\n",
       "      <td>0.0</td>\n",
       "      <td>0</td>\n",
       "      <td>141.0</td>\n",
       "      <td>124.0</td>\n",
       "      <td>5.0</td>\n",
       "      <td>1</td>\n",
       "      <td>0</td>\n",
       "      <td>1</td>\n",
       "      <td>...</td>\n",
       "      <td>0</td>\n",
       "      <td>0</td>\n",
       "      <td>0</td>\n",
       "      <td>0</td>\n",
       "      <td>0</td>\n",
       "      <td>0</td>\n",
       "      <td>0</td>\n",
       "      <td>0</td>\n",
       "      <td>0</td>\n",
       "      <td>0</td>\n",
       "    </tr>\n",
       "    <tr>\n",
       "      <th>...</th>\n",
       "      <td>...</td>\n",
       "      <td>...</td>\n",
       "      <td>...</td>\n",
       "      <td>...</td>\n",
       "      <td>...</td>\n",
       "      <td>...</td>\n",
       "      <td>...</td>\n",
       "      <td>...</td>\n",
       "      <td>...</td>\n",
       "      <td>...</td>\n",
       "      <td>...</td>\n",
       "      <td>...</td>\n",
       "      <td>...</td>\n",
       "      <td>...</td>\n",
       "      <td>...</td>\n",
       "      <td>...</td>\n",
       "      <td>...</td>\n",
       "      <td>...</td>\n",
       "      <td>...</td>\n",
       "      <td>...</td>\n",
       "      <td>...</td>\n",
       "    </tr>\n",
       "    <tr>\n",
       "      <th>121077</th>\n",
       "      <td>1.0</td>\n",
       "      <td>0.0</td>\n",
       "      <td>0.0</td>\n",
       "      <td>0</td>\n",
       "      <td>70.0</td>\n",
       "      <td>30.0</td>\n",
       "      <td>2.0</td>\n",
       "      <td>1</td>\n",
       "      <td>0</td>\n",
       "      <td>0</td>\n",
       "      <td>...</td>\n",
       "      <td>0</td>\n",
       "      <td>0</td>\n",
       "      <td>0</td>\n",
       "      <td>0</td>\n",
       "      <td>0</td>\n",
       "      <td>0</td>\n",
       "      <td>0</td>\n",
       "      <td>0</td>\n",
       "      <td>0</td>\n",
       "      <td>0</td>\n",
       "    </tr>\n",
       "    <tr>\n",
       "      <th>121094</th>\n",
       "      <td>1.0</td>\n",
       "      <td>0.0</td>\n",
       "      <td>0.0</td>\n",
       "      <td>0</td>\n",
       "      <td>84.0</td>\n",
       "      <td>81.0</td>\n",
       "      <td>4.0</td>\n",
       "      <td>1</td>\n",
       "      <td>0</td>\n",
       "      <td>0</td>\n",
       "      <td>...</td>\n",
       "      <td>0</td>\n",
       "      <td>0</td>\n",
       "      <td>0</td>\n",
       "      <td>0</td>\n",
       "      <td>0</td>\n",
       "      <td>0</td>\n",
       "      <td>0</td>\n",
       "      <td>0</td>\n",
       "      <td>0</td>\n",
       "      <td>0</td>\n",
       "    </tr>\n",
       "    <tr>\n",
       "      <th>121113</th>\n",
       "      <td>1.0</td>\n",
       "      <td>1.0</td>\n",
       "      <td>1.0</td>\n",
       "      <td>0</td>\n",
       "      <td>100.0</td>\n",
       "      <td>88.0</td>\n",
       "      <td>3.0</td>\n",
       "      <td>1</td>\n",
       "      <td>0</td>\n",
       "      <td>0</td>\n",
       "      <td>...</td>\n",
       "      <td>0</td>\n",
       "      <td>0</td>\n",
       "      <td>0</td>\n",
       "      <td>0</td>\n",
       "      <td>0</td>\n",
       "      <td>0</td>\n",
       "      <td>0</td>\n",
       "      <td>0</td>\n",
       "      <td>0</td>\n",
       "      <td>0</td>\n",
       "    </tr>\n",
       "    <tr>\n",
       "      <th>121131</th>\n",
       "      <td>0.0</td>\n",
       "      <td>0.0</td>\n",
       "      <td>0.0</td>\n",
       "      <td>0</td>\n",
       "      <td>113.0</td>\n",
       "      <td>113.0</td>\n",
       "      <td>4.0</td>\n",
       "      <td>1</td>\n",
       "      <td>0</td>\n",
       "      <td>0</td>\n",
       "      <td>...</td>\n",
       "      <td>0</td>\n",
       "      <td>1</td>\n",
       "      <td>0</td>\n",
       "      <td>0</td>\n",
       "      <td>0</td>\n",
       "      <td>0</td>\n",
       "      <td>0</td>\n",
       "      <td>0</td>\n",
       "      <td>0</td>\n",
       "      <td>0</td>\n",
       "    </tr>\n",
       "    <tr>\n",
       "      <th>121138</th>\n",
       "      <td>0.0</td>\n",
       "      <td>1.0</td>\n",
       "      <td>1.0</td>\n",
       "      <td>0</td>\n",
       "      <td>69.0</td>\n",
       "      <td>60.0</td>\n",
       "      <td>2.0</td>\n",
       "      <td>1</td>\n",
       "      <td>0</td>\n",
       "      <td>0</td>\n",
       "      <td>...</td>\n",
       "      <td>0</td>\n",
       "      <td>0</td>\n",
       "      <td>1</td>\n",
       "      <td>0</td>\n",
       "      <td>0</td>\n",
       "      <td>0</td>\n",
       "      <td>0</td>\n",
       "      <td>0</td>\n",
       "      <td>0</td>\n",
       "      <td>0</td>\n",
       "    </tr>\n",
       "  </tbody>\n",
       "</table>\n",
       "<p>15634 rows × 32 columns</p>\n",
       "</div>"
      ],
      "text/plain": [
       "        tiene_cochera  tiene_pileta  tiene_parrilla  cuota  \\\n",
       "19                0.0           0.0             0.0      0   \n",
       "21                0.0           0.0             0.0      0   \n",
       "29                0.0           0.0             0.0      0   \n",
       "35                0.0           0.0             0.0      0   \n",
       "48                1.0           0.0             0.0      0   \n",
       "...               ...           ...             ...    ...   \n",
       "121077            1.0           0.0             0.0      0   \n",
       "121094            1.0           0.0             0.0      0   \n",
       "121113            1.0           1.0             1.0      0   \n",
       "121131            0.0           0.0             0.0      0   \n",
       "121138            0.0           1.0             1.0      0   \n",
       "\n",
       "        surface_total_in_m2  surface_covered_in_m2  rooms  \\\n",
       "19                    104.0                   96.0    3.0   \n",
       "21                    118.0                   73.0    4.0   \n",
       "29                     43.0                   43.0    2.0   \n",
       "35                     80.0                   77.0    4.0   \n",
       "48                    141.0                  124.0    5.0   \n",
       "...                     ...                    ...    ...   \n",
       "121077                 70.0                   30.0    2.0   \n",
       "121094                 84.0                   81.0    4.0   \n",
       "121113                100.0                   88.0    3.0   \n",
       "121131                113.0                  113.0    4.0   \n",
       "121138                 69.0                   60.0    2.0   \n",
       "\n",
       "        property_type_apartment  property_type_house  place_name_Balvanera  \\\n",
       "19                            1                    0                     0   \n",
       "21                            1                    0                     0   \n",
       "29                            1                    0                     0   \n",
       "35                            1                    0                     0   \n",
       "48                            1                    0                     1   \n",
       "...                         ...                  ...                   ...   \n",
       "121077                        1                    0                     0   \n",
       "121094                        1                    0                     0   \n",
       "121113                        1                    0                     0   \n",
       "121131                        1                    0                     0   \n",
       "121138                        1                    0                     0   \n",
       "\n",
       "        ...  place_name_Puerto Madero  place_name_Recoleta  \\\n",
       "19      ...                         0                    0   \n",
       "21      ...                         0                    0   \n",
       "29      ...                         0                    0   \n",
       "35      ...                         0                    0   \n",
       "48      ...                         0                    0   \n",
       "...     ...                       ...                  ...   \n",
       "121077  ...                         0                    0   \n",
       "121094  ...                         0                    0   \n",
       "121113  ...                         0                    0   \n",
       "121131  ...                         0                    1   \n",
       "121138  ...                         0                    0   \n",
       "\n",
       "        place_name_Saavedra  place_name_San Cristobal  place_name_San Telmo  \\\n",
       "19                        0                         0                     0   \n",
       "21                        0                         0                     0   \n",
       "29                        0                         0                     0   \n",
       "35                        0                         0                     0   \n",
       "48                        0                         0                     0   \n",
       "...                     ...                       ...                   ...   \n",
       "121077                    0                         0                     0   \n",
       "121094                    0                         0                     0   \n",
       "121113                    0                         0                     0   \n",
       "121131                    0                         0                     0   \n",
       "121138                    1                         0                     0   \n",
       "\n",
       "        place_name_Villa Crespo  place_name_Villa Devoto  \\\n",
       "19                            0                        0   \n",
       "21                            0                        0   \n",
       "29                            0                        0   \n",
       "35                            0                        0   \n",
       "48                            0                        0   \n",
       "...                         ...                      ...   \n",
       "121077                        0                        0   \n",
       "121094                        0                        0   \n",
       "121113                        0                        0   \n",
       "121131                        0                        0   \n",
       "121138                        0                        0   \n",
       "\n",
       "        place_name_Villa Luro  place_name_Villa Urquiza  \\\n",
       "19                          0                         0   \n",
       "21                          0                         0   \n",
       "29                          0                         0   \n",
       "35                          0                         0   \n",
       "48                          0                         0   \n",
       "...                       ...                       ...   \n",
       "121077                      0                         0   \n",
       "121094                      0                         0   \n",
       "121113                      0                         0   \n",
       "121131                      0                         0   \n",
       "121138                      0                         0   \n",
       "\n",
       "        place_name_Villa del Parque  \n",
       "19                                0  \n",
       "21                                0  \n",
       "29                                0  \n",
       "35                                0  \n",
       "48                                0  \n",
       "...                             ...  \n",
       "121077                            0  \n",
       "121094                            0  \n",
       "121113                            0  \n",
       "121131                            0  \n",
       "121138                            0  \n",
       "\n",
       "[15634 rows x 32 columns]"
      ]
     },
     "execution_count": 56,
     "metadata": {},
     "output_type": "execute_result"
    }
   ],
   "source": [
    "X_port = df2.loc[:,['property_type','place_name','tiene_cochera','tiene_pileta','tiene_parrilla','cuota',\\\n",
    "               'surface_total_in_m2', 'surface_covered_in_m2','rooms' ]]\n",
    "\n",
    "# Convierto a dummies las categóricas\n",
    "X_port = pd.get_dummies(X_port,drop_first=True)\n",
    "X_port"
   ]
  },
  {
   "cell_type": "code",
   "execution_count": 57,
   "id": "67e0ba06",
   "metadata": {
    "execution": {
     "iopub.execute_input": "2022-06-09T23:37:06.633758Z",
     "iopub.status.busy": "2022-06-09T23:37:06.632756Z",
     "iopub.status.idle": "2022-06-09T23:37:07.180756Z",
     "shell.execute_reply": "2022-06-09T23:37:07.179756Z",
     "shell.execute_reply.started": "2022-06-09T23:37:06.633758Z"
    }
   },
   "outputs": [
    {
     "data": {
      "text/plain": [
       "(1427.9566467401996,\n",
       " array([ 1.38538513e+02,  9.94235465e+02, -2.87725683e+01,  9.01930211e+02,\n",
       "         4.12141298e+00, -6.44232285e+00, -1.54440809e+00,  7.33517152e+02,\n",
       "        -1.52821821e+01, -5.63735310e+02, -4.00723263e+02,  4.34577950e+02,\n",
       "         1.25819640e+02,  5.78456279e+03, -3.68181059e+02, -3.99109458e+02,\n",
       "        -6.34143729e+02, -7.25422167e+02, -1.29349739e+03, -1.84287820e+02,\n",
       "         6.23747889e+01,  4.03454155e+02,  2.11805873e+03,  6.63033431e+02,\n",
       "        -5.94157500e+02,  3.06149269e+03, -7.30230982e+02, -6.16205735e+01,\n",
       "        -3.42671663e+02, -4.17973690e+02, -4.75339449e+02, -4.81629379e+02]),\n",
       " 2.5)"
      ]
     },
     "execution_count": 57,
     "metadata": {},
     "output_type": "execute_result"
    }
   ],
   "source": [
    "rcv.fit(X_port,y)\n",
    "rcv.intercept_, rcv.coef_, rcv.alpha_"
   ]
  },
  {
   "cell_type": "code",
   "execution_count": 58,
   "id": "f28d4b71",
   "metadata": {
    "execution": {
     "iopub.execute_input": "2022-06-09T23:37:07.183758Z",
     "iopub.status.busy": "2022-06-09T23:37:07.182758Z",
     "iopub.status.idle": "2022-06-09T23:37:07.212757Z",
     "shell.execute_reply": "2022-06-09T23:37:07.211755Z",
     "shell.execute_reply.started": "2022-06-09T23:37:07.183758Z"
    }
   },
   "outputs": [
    {
     "data": {
      "text/plain": [
       "array([2044.71338225, 2254.79908718, 1390.02296022, ..., 3181.38145875,\n",
       "       2601.45831453, 2347.24221971])"
      ]
     },
     "execution_count": 58,
     "metadata": {},
     "output_type": "execute_result"
    }
   ],
   "source": [
    "# Se calcula el precio por m2 a partir de la predicción de Lasso post-escalado\n",
    "\n",
    "price_usd_per_m2_predic = lcv.predict(X_port)\n",
    "price_usd_per_m2_predic"
   ]
  },
  {
   "cell_type": "code",
   "execution_count": 59,
   "id": "695c9698",
   "metadata": {
    "execution": {
     "iopub.execute_input": "2022-06-09T23:37:07.215755Z",
     "iopub.status.busy": "2022-06-09T23:37:07.215755Z",
     "iopub.status.idle": "2022-06-09T23:37:08.068758Z",
     "shell.execute_reply": "2022-06-09T23:37:08.066752Z",
     "shell.execute_reply.started": "2022-06-09T23:37:07.215755Z"
    },
    "scrolled": true
   },
   "outputs": [
    {
     "name": "stdout",
     "output_type": "stream",
     "text": [
      "Nuestro capital inicial es:  25514178.46\n",
      "La cantidad de propiedades que se puede comprar es 551, el capital necesario es 25196463.22917028\n"
     ]
    }
   ],
   "source": [
    "# Seleccionar mediante muestreo aleatorio simple una submuestra de 100 (cambiar la columna seleccionada por la columna \n",
    "# del modelo, utilicé el precio aproximado en usd ya que posteriormente vamos a estimar un precio en función del precio/m2 \n",
    "# y la superficie)\n",
    "df_port = df2.copy()\n",
    "portafolio = df_port['price_aprox_usd'].sample(100)\n",
    "portafolio\n",
    "\n",
    "# Determinar capital inicial\n",
    "\n",
    "cap_inicial = portafolio.sum()\n",
    "print('Nuestro capital inicial es: ', cap_inicial)\n",
    "#display(df_port.loc[:,'price_usd_per_m2'])\n",
    "#Se agrega la columna predicha al DF\n",
    "df_port.loc[:,'price_usd_per_m2_predic'] = price_usd_per_m2_predic\n",
    "\n",
    "# Determinar el error del precio de las propiedades \n",
    "\n",
    "# Se crea una columna con el precio de predicción\n",
    "# (Cambiar los nombres de las columnas por los nombres de las columnas del modelo)\n",
    "df_port.loc[:,'price_aprox_usd_predic'] = df_port.apply((lambda row: row['price_usd_per_m2_predic']*row['surface_total_in_m2']), axis=1)\n",
    "\n",
    "# Se crea una columna con la diferencia entre el precio real y el precio estimado por el modelos. \n",
    "# Se normaliza el error dividiendo por el precio real (cambiar los nombres de las variables)\n",
    "\n",
    "df_port.loc[:,'error_normalizado'] = df_port.apply((lambda row: (row['price_aprox_usd_predic']-row['price_aprox_usd'])/row['price_aprox_usd']), axis=1)\n",
    "\n",
    "# Se genera una máscara con los índice de las 100 propiedades que más se alejan del valor predicho, con diferencia negativa\n",
    "menor_error_mask= df_port['error_normalizado'].sort_values(ascending=False).index\n",
    "\n",
    "# Se crea una columna auxiliar con los valores de las propiedades predichas ordenadas de menor a mayor.\n",
    "prop_menor_precio = df_port.loc[menor_error_mask,'price_aprox_usd_predic']\n",
    "\n",
    "# Creo una variable y voy sumando el precio de las propiedades más baratas hasta llegar al valor de capital inicial, se cuenta la cantidad de propiedades que se pueden comprar\n",
    "cap_menor = 0\n",
    "cant_prop = 0\n",
    "\n",
    "for x in prop_menor_precio.index:\n",
    "    if cap_menor < cap_inicial:\n",
    "        cap_menor = cap_menor + x\n",
    "        cant_prop = cant_prop + 1\n",
    "\n",
    "cap_menor = cap_menor - prop_menor_precio.iloc[cant_prop]\n",
    "cant_prop = cant_prop-1\n",
    "    \n",
    "print(f'La cantidad de propiedades que se puede comprar es {cant_prop}, el capital necesario es {cap_menor}')"
   ]
  },
  {
   "cell_type": "code",
   "execution_count": 60,
   "id": "a8af1c9b",
   "metadata": {
    "execution": {
     "iopub.execute_input": "2022-06-09T23:37:08.070755Z",
     "iopub.status.busy": "2022-06-09T23:37:08.069754Z",
     "iopub.status.idle": "2022-06-09T23:37:08.421754Z",
     "shell.execute_reply": "2022-06-09T23:37:08.420755Z",
     "shell.execute_reply.started": "2022-06-09T23:37:08.070755Z"
    },
    "scrolled": true
   },
   "outputs": [
    {
     "data": {
      "text/plain": [
       "<AxesSubplot:xlabel='price_usd_per_m2', ylabel='price_usd_per_m2_predic'>"
      ]
     },
     "execution_count": 60,
     "metadata": {},
     "output_type": "execute_result"
    },
    {
     "data": {
      "image/png": "[encoded data removed]",
      "text/plain": [
       "<Figure size 432x288 with 1 Axes>"
      ]
     },
     "metadata": {
      "needs_background": "light"
     },
     "output_type": "display_data"
    }
   ],
   "source": [
    "#superficie total contra precio de la propiedad.\n",
    "sns.scatterplot(data=df_port, x='price_usd_per_m2', y='price_usd_per_m2_predic')\n"
   ]
  },
  {
   "cell_type": "markdown",
   "id": "e45fb345",
   "metadata": {},
   "source": [
    "## MinMaxScaler"
   ]
  },
  {
   "cell_type": "code",
   "execution_count": 61,
   "id": "be16111a",
   "metadata": {
    "execution": {
     "iopub.execute_input": "2022-06-09T23:37:08.424755Z",
     "iopub.status.busy": "2022-06-09T23:37:08.423757Z",
     "iopub.status.idle": "2022-06-09T23:37:08.485759Z",
     "shell.execute_reply": "2022-06-09T23:37:08.484882Z",
     "shell.execute_reply.started": "2022-06-09T23:37:08.424755Z"
    },
    "scrolled": true
   },
   "outputs": [
    {
     "data": {
      "text/html": [
       "<div>\n",
       "<style scoped>\n",
       "    .dataframe tbody tr th:only-of-type {\n",
       "        vertical-align: middle;\n",
       "    }\n",
       "\n",
       "    .dataframe tbody tr th {\n",
       "        vertical-align: top;\n",
       "    }\n",
       "\n",
       "    .dataframe thead th {\n",
       "        text-align: right;\n",
       "    }\n",
       "</style>\n",
       "<table border=\"1\" class=\"dataframe\">\n",
       "  <thead>\n",
       "    <tr style=\"text-align: right;\">\n",
       "      <th></th>\n",
       "      <th>property_type</th>\n",
       "      <th>place_name</th>\n",
       "      <th>price_aprox_usd</th>\n",
       "      <th>surface_total_in_m2</th>\n",
       "      <th>surface_covered_in_m2</th>\n",
       "      <th>price_usd_per_m2</th>\n",
       "      <th>rooms</th>\n",
       "      <th>tiene_jardin</th>\n",
       "      <th>tiene_cochera</th>\n",
       "      <th>tiene_pileta</th>\n",
       "      <th>tiene_parrilla</th>\n",
       "      <th>cuota</th>\n",
       "      <th>surface_total_in_m2_std</th>\n",
       "      <th>surface_covered_in_m2_std</th>\n",
       "      <th>rooms_std</th>\n",
       "    </tr>\n",
       "  </thead>\n",
       "  <tbody>\n",
       "    <tr>\n",
       "      <th>19</th>\n",
       "      <td>apartment</td>\n",
       "      <td>Palermo</td>\n",
       "      <td>350000.0</td>\n",
       "      <td>104.0</td>\n",
       "      <td>96.0</td>\n",
       "      <td>3365.384615</td>\n",
       "      <td>3.0</td>\n",
       "      <td>1.0</td>\n",
       "      <td>0.0</td>\n",
       "      <td>0.0</td>\n",
       "      <td>0.0</td>\n",
       "      <td>0</td>\n",
       "      <td>0.261421</td>\n",
       "      <td>0.327645</td>\n",
       "      <td>0.250000</td>\n",
       "    </tr>\n",
       "    <tr>\n",
       "      <th>21</th>\n",
       "      <td>apartment</td>\n",
       "      <td>Palermo</td>\n",
       "      <td>270500.0</td>\n",
       "      <td>118.0</td>\n",
       "      <td>73.0</td>\n",
       "      <td>2292.372881</td>\n",
       "      <td>4.0</td>\n",
       "      <td>0.0</td>\n",
       "      <td>0.0</td>\n",
       "      <td>0.0</td>\n",
       "      <td>0.0</td>\n",
       "      <td>0</td>\n",
       "      <td>0.296954</td>\n",
       "      <td>0.249147</td>\n",
       "      <td>0.333333</td>\n",
       "    </tr>\n",
       "    <tr>\n",
       "      <th>29</th>\n",
       "      <td>apartment</td>\n",
       "      <td>Flores</td>\n",
       "      <td>75000.0</td>\n",
       "      <td>43.0</td>\n",
       "      <td>43.0</td>\n",
       "      <td>1744.186047</td>\n",
       "      <td>2.0</td>\n",
       "      <td>0.0</td>\n",
       "      <td>0.0</td>\n",
       "      <td>0.0</td>\n",
       "      <td>0.0</td>\n",
       "      <td>0</td>\n",
       "      <td>0.106599</td>\n",
       "      <td>0.146758</td>\n",
       "      <td>0.166667</td>\n",
       "    </tr>\n",
       "    <tr>\n",
       "      <th>35</th>\n",
       "      <td>apartment</td>\n",
       "      <td>Boedo</td>\n",
       "      <td>145000.0</td>\n",
       "      <td>80.0</td>\n",
       "      <td>77.0</td>\n",
       "      <td>1812.500000</td>\n",
       "      <td>4.0</td>\n",
       "      <td>0.0</td>\n",
       "      <td>0.0</td>\n",
       "      <td>0.0</td>\n",
       "      <td>0.0</td>\n",
       "      <td>0</td>\n",
       "      <td>0.200508</td>\n",
       "      <td>0.262799</td>\n",
       "      <td>0.333333</td>\n",
       "    </tr>\n",
       "    <tr>\n",
       "      <th>48</th>\n",
       "      <td>apartment</td>\n",
       "      <td>Balvanera</td>\n",
       "      <td>240000.0</td>\n",
       "      <td>141.0</td>\n",
       "      <td>124.0</td>\n",
       "      <td>1702.127660</td>\n",
       "      <td>5.0</td>\n",
       "      <td>1.0</td>\n",
       "      <td>1.0</td>\n",
       "      <td>0.0</td>\n",
       "      <td>0.0</td>\n",
       "      <td>0</td>\n",
       "      <td>0.355330</td>\n",
       "      <td>0.423208</td>\n",
       "      <td>0.416667</td>\n",
       "    </tr>\n",
       "    <tr>\n",
       "      <th>...</th>\n",
       "      <td>...</td>\n",
       "      <td>...</td>\n",
       "      <td>...</td>\n",
       "      <td>...</td>\n",
       "      <td>...</td>\n",
       "      <td>...</td>\n",
       "      <td>...</td>\n",
       "      <td>...</td>\n",
       "      <td>...</td>\n",
       "      <td>...</td>\n",
       "      <td>...</td>\n",
       "      <td>...</td>\n",
       "      <td>...</td>\n",
       "      <td>...</td>\n",
       "      <td>...</td>\n",
       "    </tr>\n",
       "    <tr>\n",
       "      <th>121077</th>\n",
       "      <td>apartment</td>\n",
       "      <td>Belgrano</td>\n",
       "      <td>170000.0</td>\n",
       "      <td>70.0</td>\n",
       "      <td>30.0</td>\n",
       "      <td>2428.571429</td>\n",
       "      <td>2.0</td>\n",
       "      <td>0.0</td>\n",
       "      <td>1.0</td>\n",
       "      <td>0.0</td>\n",
       "      <td>0.0</td>\n",
       "      <td>0</td>\n",
       "      <td>0.175127</td>\n",
       "      <td>0.102389</td>\n",
       "      <td>0.166667</td>\n",
       "    </tr>\n",
       "    <tr>\n",
       "      <th>121094</th>\n",
       "      <td>apartment</td>\n",
       "      <td>Belgrano</td>\n",
       "      <td>218000.0</td>\n",
       "      <td>84.0</td>\n",
       "      <td>81.0</td>\n",
       "      <td>2595.238095</td>\n",
       "      <td>4.0</td>\n",
       "      <td>0.0</td>\n",
       "      <td>1.0</td>\n",
       "      <td>0.0</td>\n",
       "      <td>0.0</td>\n",
       "      <td>0</td>\n",
       "      <td>0.210660</td>\n",
       "      <td>0.276451</td>\n",
       "      <td>0.333333</td>\n",
       "    </tr>\n",
       "    <tr>\n",
       "      <th>121113</th>\n",
       "      <td>apartment</td>\n",
       "      <td>Palermo</td>\n",
       "      <td>265000.0</td>\n",
       "      <td>100.0</td>\n",
       "      <td>88.0</td>\n",
       "      <td>2650.000000</td>\n",
       "      <td>3.0</td>\n",
       "      <td>1.0</td>\n",
       "      <td>1.0</td>\n",
       "      <td>1.0</td>\n",
       "      <td>1.0</td>\n",
       "      <td>0</td>\n",
       "      <td>0.251269</td>\n",
       "      <td>0.300341</td>\n",
       "      <td>0.250000</td>\n",
       "    </tr>\n",
       "    <tr>\n",
       "      <th>121131</th>\n",
       "      <td>apartment</td>\n",
       "      <td>Recoleta</td>\n",
       "      <td>325000.0</td>\n",
       "      <td>113.0</td>\n",
       "      <td>113.0</td>\n",
       "      <td>2876.106195</td>\n",
       "      <td>4.0</td>\n",
       "      <td>0.0</td>\n",
       "      <td>0.0</td>\n",
       "      <td>0.0</td>\n",
       "      <td>0.0</td>\n",
       "      <td>0</td>\n",
       "      <td>0.284264</td>\n",
       "      <td>0.385666</td>\n",
       "      <td>0.333333</td>\n",
       "    </tr>\n",
       "    <tr>\n",
       "      <th>121138</th>\n",
       "      <td>apartment</td>\n",
       "      <td>Saavedra</td>\n",
       "      <td>208000.0</td>\n",
       "      <td>69.0</td>\n",
       "      <td>60.0</td>\n",
       "      <td>3014.492754</td>\n",
       "      <td>2.0</td>\n",
       "      <td>1.0</td>\n",
       "      <td>0.0</td>\n",
       "      <td>1.0</td>\n",
       "      <td>1.0</td>\n",
       "      <td>0</td>\n",
       "      <td>0.172589</td>\n",
       "      <td>0.204778</td>\n",
       "      <td>0.166667</td>\n",
       "    </tr>\n",
       "  </tbody>\n",
       "</table>\n",
       "<p>15634 rows × 15 columns</p>\n",
       "</div>"
      ],
      "text/plain": [
       "       property_type place_name  price_aprox_usd  surface_total_in_m2  \\\n",
       "19         apartment    Palermo         350000.0                104.0   \n",
       "21         apartment    Palermo         270500.0                118.0   \n",
       "29         apartment     Flores          75000.0                 43.0   \n",
       "35         apartment      Boedo         145000.0                 80.0   \n",
       "48         apartment  Balvanera         240000.0                141.0   \n",
       "...              ...        ...              ...                  ...   \n",
       "121077     apartment   Belgrano         170000.0                 70.0   \n",
       "121094     apartment   Belgrano         218000.0                 84.0   \n",
       "121113     apartment    Palermo         265000.0                100.0   \n",
       "121131     apartment   Recoleta         325000.0                113.0   \n",
       "121138     apartment   Saavedra         208000.0                 69.0   \n",
       "\n",
       "        surface_covered_in_m2  price_usd_per_m2  rooms  tiene_jardin  \\\n",
       "19                       96.0       3365.384615    3.0           1.0   \n",
       "21                       73.0       2292.372881    4.0           0.0   \n",
       "29                       43.0       1744.186047    2.0           0.0   \n",
       "35                       77.0       1812.500000    4.0           0.0   \n",
       "48                      124.0       1702.127660    5.0           1.0   \n",
       "...                       ...               ...    ...           ...   \n",
       "121077                   30.0       2428.571429    2.0           0.0   \n",
       "121094                   81.0       2595.238095    4.0           0.0   \n",
       "121113                   88.0       2650.000000    3.0           1.0   \n",
       "121131                  113.0       2876.106195    4.0           0.0   \n",
       "121138                   60.0       3014.492754    2.0           1.0   \n",
       "\n",
       "        tiene_cochera  tiene_pileta  tiene_parrilla  cuota  \\\n",
       "19                0.0           0.0             0.0      0   \n",
       "21                0.0           0.0             0.0      0   \n",
       "29                0.0           0.0             0.0      0   \n",
       "35                0.0           0.0             0.0      0   \n",
       "48                1.0           0.0             0.0      0   \n",
       "...               ...           ...             ...    ...   \n",
       "121077            1.0           0.0             0.0      0   \n",
       "121094            1.0           0.0             0.0      0   \n",
       "121113            1.0           1.0             1.0      0   \n",
       "121131            0.0           0.0             0.0      0   \n",
       "121138            0.0           1.0             1.0      0   \n",
       "\n",
       "        surface_total_in_m2_std  surface_covered_in_m2_std  rooms_std  \n",
       "19                     0.261421                   0.327645   0.250000  \n",
       "21                     0.296954                   0.249147   0.333333  \n",
       "29                     0.106599                   0.146758   0.166667  \n",
       "35                     0.200508                   0.262799   0.333333  \n",
       "48                     0.355330                   0.423208   0.416667  \n",
       "...                         ...                        ...        ...  \n",
       "121077                 0.175127                   0.102389   0.166667  \n",
       "121094                 0.210660                   0.276451   0.333333  \n",
       "121113                 0.251269                   0.300341   0.250000  \n",
       "121131                 0.284264                   0.385666   0.333333  \n",
       "121138                 0.172589                   0.204778   0.166667  \n",
       "\n",
       "[15634 rows x 15 columns]"
      ]
     },
     "execution_count": 61,
     "metadata": {},
     "output_type": "execute_result"
    }
   ],
   "source": [
    "from sklearn.preprocessing import MinMaxScaler\n",
    "numericals = ['surface_total_in_m2','surface_covered_in_m2', 'rooms']\n",
    "\n",
    "Z = df2[numericals]\n",
    "\n",
    "scaler = MinMaxScaler()\n",
    "scaler.fit(Z)\n",
    "\n",
    "std_numerical_data = scaler.transform(Z)\n",
    "std_df = pd.DataFrame(std_numerical_data)\n",
    "std_df.columns = [i + '_std' for i in numericals]\n",
    "df_esc = pd.concat([df2, std_df.set_index(df2.index)], axis=1)\n",
    "df_esc\n"
   ]
  },
  {
   "cell_type": "code",
   "execution_count": 62,
   "id": "557b5b67",
   "metadata": {
    "execution": {
     "iopub.execute_input": "2022-06-09T23:37:08.487756Z",
     "iopub.status.busy": "2022-06-09T23:37:08.487756Z",
     "iopub.status.idle": "2022-06-09T23:37:08.518758Z",
     "shell.execute_reply": "2022-06-09T23:37:08.516754Z",
     "shell.execute_reply.started": "2022-06-09T23:37:08.487756Z"
    }
   },
   "outputs": [
    {
     "data": {
      "text/plain": [
       "Palermo              1614\n",
       "Belgrano             1562\n",
       "Caballito            1527\n",
       "Recoleta              983\n",
       "Villa Crespo          915\n",
       "Villa Urquiza         908\n",
       "Flores                876\n",
       "Almagro               805\n",
       "Barrio Norte          750\n",
       "Boedo                 705\n",
       "San Telmo             614\n",
       "Balvanera             499\n",
       "Nuñez                 443\n",
       "San Cristobal         410\n",
       "Puerto Madero         385\n",
       "Villa del Parque      349\n",
       "Floresta              317\n",
       "Saavedra              310\n",
       "Palermo Hollywood     304\n",
       "Monserrat             291\n",
       "Villa Luro            275\n",
       "Barracas              275\n",
       "Villa Devoto          260\n",
       "Colegiales            257\n",
       "Name: place_name, dtype: int64"
      ]
     },
     "execution_count": 62,
     "metadata": {},
     "output_type": "execute_result"
    }
   ],
   "source": [
    "df_esc['place_name'].value_counts()"
   ]
  },
  {
   "cell_type": "code",
   "execution_count": 63,
   "id": "2fba2d1f",
   "metadata": {
    "execution": {
     "iopub.execute_input": "2022-06-09T23:37:08.519753Z",
     "iopub.status.busy": "2022-06-09T23:37:08.519753Z",
     "iopub.status.idle": "2022-06-09T23:37:08.532758Z",
     "shell.execute_reply": "2022-06-09T23:37:08.531755Z",
     "shell.execute_reply.started": "2022-06-09T23:37:08.519753Z"
    }
   },
   "outputs": [
    {
     "data": {
      "text/plain": [
       "Index(['Abasto', 'Agronomía', 'Almagro', 'Balvanera', 'Barracas',\n",
       "       'Barrio Norte', 'Belgrano', 'Boca', 'Boedo', 'Caballito',\n",
       "       'Capital Federal', 'Catalinas', 'Centro / Microcentro', 'Chacarita',\n",
       "       'Coghlan', 'Colegiales', 'Congreso', 'Constitución', 'Flores',\n",
       "       'Floresta', 'Las Cañitas', 'Liniers', 'Mataderos', 'Monserrat',\n",
       "       'Monte Castro', 'Nuñez', 'Once', 'Palermo', 'Palermo Chico',\n",
       "       'Palermo Hollywood', 'Palermo Soho', 'Palermo Viejo',\n",
       "       'Parque Avellaneda', 'Parque Centenario', 'Parque Chacabuco',\n",
       "       'Parque Chas', 'Parque Patricios', 'Paternal', 'Pompeya',\n",
       "       'Puerto Madero', 'Recoleta', 'Retiro', 'Saavedra', 'San Cristobal',\n",
       "       'San Nicolás', 'San Telmo', 'Tribunales', 'Velez Sarsfield',\n",
       "       'Versalles', 'Villa Crespo', 'Villa Devoto', 'Villa General Mitre',\n",
       "       'Villa Lugano', 'Villa Luro', 'Villa Ortuzar', 'Villa Pueyrredón',\n",
       "       'Villa Real', 'Villa Riachuelo', 'Villa Santa Rita', 'Villa Soldati',\n",
       "       'Villa Urquiza', 'Villa del Parque'],\n",
       "      dtype='object', name='place_name')"
      ]
     },
     "execution_count": 63,
     "metadata": {},
     "output_type": "execute_result"
    }
   ],
   "source": [
    "group_place_name.index"
   ]
  },
  {
   "cell_type": "code",
   "execution_count": 64,
   "id": "b09069d8",
   "metadata": {
    "execution": {
     "iopub.execute_input": "2022-06-09T23:37:08.534755Z",
     "iopub.status.busy": "2022-06-09T23:37:08.533755Z",
     "iopub.status.idle": "2022-06-09T23:37:08.548757Z",
     "shell.execute_reply": "2022-06-09T23:37:08.547759Z",
     "shell.execute_reply.started": "2022-06-09T23:37:08.534755Z"
    }
   },
   "outputs": [
    {
     "data": {
      "text/plain": [
       "Index(['property_type', 'place_name', 'price_aprox_usd', 'surface_total_in_m2',\n",
       "       'surface_covered_in_m2', 'price_usd_per_m2', 'rooms', 'tiene_jardin',\n",
       "       'tiene_cochera', 'tiene_pileta', 'tiene_parrilla', 'cuota',\n",
       "       'surface_total_in_m2_std', 'surface_covered_in_m2_std', 'rooms_std'],\n",
       "      dtype='object')"
      ]
     },
     "execution_count": 64,
     "metadata": {},
     "output_type": "execute_result"
    }
   ],
   "source": [
    "df_esc.columns"
   ]
  },
  {
   "cell_type": "markdown",
   "id": "520eddfb",
   "metadata": {},
   "source": [
    "## Modelado Regresión Lineal post-estandarización "
   ]
  },
  {
   "cell_type": "code",
   "execution_count": 65,
   "id": "448bed3e",
   "metadata": {
    "execution": {
     "iopub.execute_input": "2022-06-09T23:37:08.551760Z",
     "iopub.status.busy": "2022-06-09T23:37:08.551760Z",
     "iopub.status.idle": "2022-06-09T23:37:08.595760Z",
     "shell.execute_reply": "2022-06-09T23:37:08.594756Z",
     "shell.execute_reply.started": "2022-06-09T23:37:08.551760Z"
    }
   },
   "outputs": [
    {
     "data": {
      "text/plain": [
       "((15634, 30), (15634,), (11725, 30), (3909, 30), (11725,), (3909,))"
      ]
     },
     "execution_count": 65,
     "metadata": {},
     "output_type": "execute_result"
    }
   ],
   "source": [
    "# Selecciono las columnas que considero features para modelar \n",
    "X = df_esc.loc[:,['property_type','place_name','tiene_cochera','tiene_pileta','tiene_parrilla', 'surface_total_in_m2_std', 'rooms_std' ]]\n",
    "y = df_esc['price_usd_per_m2']\n",
    "\n",
    "# Convierto a dummies las categóricas\n",
    "X = pd.get_dummies(X,drop_first=True)\n",
    "\n",
    "# Separo en train/test\n",
    "X_train, X_test, y_train, y_test = train_test_split(X,y,random_state=33)\n",
    "\n",
    "X.shape, y.shape, X_train.shape,X_test.shape, y_train.shape, y_test.shape"
   ]
  },
  {
   "cell_type": "code",
   "execution_count": 66,
   "id": "245c826c",
   "metadata": {
    "execution": {
     "iopub.execute_input": "2022-06-09T23:37:08.598759Z",
     "iopub.status.busy": "2022-06-09T23:37:08.597758Z",
     "iopub.status.idle": "2022-06-09T23:37:08.626757Z",
     "shell.execute_reply": "2022-06-09T23:37:08.625756Z",
     "shell.execute_reply.started": "2022-06-09T23:37:08.598759Z"
    }
   },
   "outputs": [
    {
     "data": {
      "text/plain": [
       "(1436.3732987010324,\n",
       " array([ 1.49522721e+02,  1.00914064e+03, -1.59604618e+00, -1.19403413e+02,\n",
       "        -6.09652560e+02,  7.45796934e+02, -5.12477104e+01, -5.38010792e+02,\n",
       "        -4.35722787e+02,  4.50112887e+02,  1.30524397e+02,  5.79613471e+03,\n",
       "        -3.62103754e+02, -4.65259476e+02, -5.95689281e+02, -6.34189738e+02,\n",
       "        -1.33779435e+03, -1.49595330e+02,  5.20264091e+01,  3.73672098e+02,\n",
       "         2.02820957e+03,  6.96089172e+02, -6.63069596e+02,  2.96198389e+03,\n",
       "        -7.80494986e+02,  2.37275105e+01, -3.33121111e+02, -4.81367101e+02,\n",
       "        -4.85199548e+02, -4.25844644e+02]))"
      ]
     },
     "execution_count": 66,
     "metadata": {},
     "output_type": "execute_result"
    }
   ],
   "source": [
    "lr = LinearRegression()\n",
    "\n",
    "lr.fit(X_train,y_train)\n",
    "lr.intercept_, lr.coef_"
   ]
  },
  {
   "cell_type": "code",
   "execution_count": 67,
   "id": "d4aeae5b",
   "metadata": {
    "execution": {
     "iopub.execute_input": "2022-06-09T23:37:08.628757Z",
     "iopub.status.busy": "2022-06-09T23:37:08.627757Z",
     "iopub.status.idle": "2022-06-09T23:37:08.657757Z",
     "shell.execute_reply": "2022-06-09T23:37:08.656753Z",
     "shell.execute_reply.started": "2022-06-09T23:37:08.628757Z"
    }
   },
   "outputs": [
    {
     "data": {
      "text/plain": [
       "0.37803530518428763"
      ]
     },
     "execution_count": 67,
     "metadata": {},
     "output_type": "execute_result"
    }
   ],
   "source": [
    "y_pred = lr.predict(X_test)\n",
    "\n",
    "metrics.r2_score(y_test, y_pred)"
   ]
  },
  {
   "cell_type": "markdown",
   "id": "f131877d",
   "metadata": {},
   "source": [
    "## Ridge post-escalado"
   ]
  },
  {
   "cell_type": "code",
   "execution_count": 68,
   "id": "7c9133ca",
   "metadata": {
    "execution": {
     "iopub.execute_input": "2022-06-09T23:37:08.659759Z",
     "iopub.status.busy": "2022-06-09T23:37:08.658755Z",
     "iopub.status.idle": "2022-06-09T23:37:09.614756Z",
     "shell.execute_reply": "2022-06-09T23:37:09.613755Z",
     "shell.execute_reply.started": "2022-06-09T23:37:08.659759Z"
    }
   },
   "outputs": [
    {
     "data": {
      "text/plain": [
       "(1443.680387389306,\n",
       " array([ 1.50054591e+02,  1.01032021e+03, -9.92848485e-01, -1.21279046e+02,\n",
       "        -6.05875215e+02,  7.45065053e+02, -5.23026608e+01, -5.43998193e+02,\n",
       "        -4.41302260e+02,  4.41607750e+02,  1.22357074e+02,  5.77667699e+03,\n",
       "        -3.69814582e+02, -4.70994083e+02, -6.02589188e+02, -6.39108650e+02,\n",
       "        -1.33984644e+03, -1.57106443e+02,  4.39648657e+01,  3.63522863e+02,\n",
       "         2.01240613e+03,  6.87657684e+02, -6.68339041e+02,  2.94450825e+03,\n",
       "        -7.86817228e+02,  1.60214839e+01, -3.39157754e+02, -4.86811036e+02,\n",
       "        -4.92787745e+02, -4.32183937e+02]),\n",
       " 1.0)"
      ]
     },
     "execution_count": 68,
     "metadata": {},
     "output_type": "execute_result"
    }
   ],
   "source": [
    "#prueba con crossvalidation con Ridge\n",
    "rcv = RidgeCV(alphas=(0.0001,0.001,0.01,0.1,1,10,100,1000,10000), cv=5)\n",
    "\n",
    "rcv.fit(X_train,y_train)\n",
    "rcv.intercept_, rcv.coef_, rcv.alpha_"
   ]
  },
  {
   "cell_type": "code",
   "execution_count": 69,
   "id": "d9115004",
   "metadata": {
    "execution": {
     "iopub.execute_input": "2022-06-09T23:37:09.616756Z",
     "iopub.status.busy": "2022-06-09T23:37:09.616756Z",
     "iopub.status.idle": "2022-06-09T23:37:09.646756Z",
     "shell.execute_reply": "2022-06-09T23:37:09.645758Z",
     "shell.execute_reply.started": "2022-06-09T23:37:09.616756Z"
    },
    "scrolled": true
   },
   "outputs": [
    {
     "data": {
      "text/plain": [
       "0.3778663070251679"
      ]
     },
     "execution_count": 69,
     "metadata": {},
     "output_type": "execute_result"
    }
   ],
   "source": [
    "y_pred_rcv = rcv.predict(X_test)\n",
    "\n",
    "metrics.r2_score(y_test, y_pred_rcv)"
   ]
  },
  {
   "cell_type": "markdown",
   "id": "6fb80156",
   "metadata": {},
   "source": [
    "## Lasso post-escalado"
   ]
  },
  {
   "cell_type": "code",
   "execution_count": 70,
   "id": "6f820101",
   "metadata": {
    "execution": {
     "iopub.execute_input": "2022-06-09T23:37:09.649757Z",
     "iopub.status.busy": "2022-06-09T23:37:09.648758Z",
     "iopub.status.idle": "2022-06-09T23:37:09.817764Z",
     "shell.execute_reply": "2022-06-09T23:37:09.816752Z",
     "shell.execute_reply.started": "2022-06-09T23:37:09.649757Z"
    },
    "scrolled": true
   },
   "outputs": [
    {
     "data": {
      "text/plain": [
       "(1422.467555457841,\n",
       " array([ 1.48772755e+02,  1.00883263e+03, -3.45300835e-01, -1.17485053e+02,\n",
       "        -6.01331691e+02,  7.48204314e+02, -4.87877035e+01, -5.25506421e+02,\n",
       "        -4.20605189e+02,  4.57110750e+02,  1.38786194e+02,  5.80417349e+03,\n",
       "        -3.51644913e+02, -4.49809060e+02, -5.84456791e+02, -6.19678762e+02,\n",
       "        -1.32279742e+03, -1.36419429e+02,  6.03600891e+01,  3.78010743e+02,\n",
       "         2.03304541e+03,  7.03426319e+02, -6.48513819e+02,  2.96812459e+03,\n",
       "        -7.67979565e+02,  3.15387469e+01, -3.17739903e+02, -4.65986214e+02,\n",
       "        -4.73911211e+02, -4.11690495e+02]),\n",
       " 0.1)"
      ]
     },
     "execution_count": 70,
     "metadata": {},
     "output_type": "execute_result"
    }
   ],
   "source": [
    "#prueba con crossvalidation con Lasso\n",
    "lcv = LassoCV(alphas=(0.0001,0.001,0.01,0.1,1,10,100,1000,10000), cv=5)\n",
    "\n",
    "lcv.fit(X_train,y_train)\n",
    "lcv.intercept_, lcv.coef_, lcv.alpha_"
   ]
  },
  {
   "cell_type": "code",
   "execution_count": 71,
   "id": "e1e7a757",
   "metadata": {
    "execution": {
     "iopub.execute_input": "2022-06-09T23:37:09.820755Z",
     "iopub.status.busy": "2022-06-09T23:37:09.819756Z",
     "iopub.status.idle": "2022-06-09T23:37:09.848758Z",
     "shell.execute_reply": "2022-06-09T23:37:09.847754Z",
     "shell.execute_reply.started": "2022-06-09T23:37:09.820755Z"
    },
    "scrolled": true
   },
   "outputs": [
    {
     "data": {
      "text/plain": [
       "0.3779800583745282"
      ]
     },
     "execution_count": 71,
     "metadata": {},
     "output_type": "execute_result"
    }
   ],
   "source": [
    "y_pred_lcv = lcv.predict(X_test)\n",
    "\n",
    "metrics.r2_score(y_test, y_pred_lcv, )"
   ]
  },
  {
   "cell_type": "markdown",
   "id": "ef72db6f",
   "metadata": {},
   "source": [
    "## Portfolio de Departamentos"
   ]
  },
  {
   "cell_type": "markdown",
   "id": "a6502b32",
   "metadata": {},
   "source": [
    "Usar la variable 'y_pred' para conseguir la columna 'price_usd_per_m2_predic'"
   ]
  },
  {
   "cell_type": "code",
   "execution_count": 72,
   "id": "377c67ba",
   "metadata": {
    "execution": {
     "iopub.execute_input": "2022-06-09T23:37:09.851760Z",
     "iopub.status.busy": "2022-06-09T23:37:09.850756Z",
     "iopub.status.idle": "2022-06-09T23:37:09.879755Z",
     "shell.execute_reply": "2022-06-09T23:37:09.878756Z",
     "shell.execute_reply.started": "2022-06-09T23:37:09.850756Z"
    },
    "scrolled": true
   },
   "outputs": [],
   "source": [
    "X_port_st = df_esc.loc[:,['property_type','place_name','tiene_cochera','tiene_pileta','tiene_parrilla',\\\n",
    "                          'surface_total_in_m2_std', 'rooms_std' ]]\n",
    "\n",
    "# Convierto a dummies las categóricas\n",
    "X_port_st = pd.get_dummies(X_port_st,drop_first=True)\n"
   ]
  },
  {
   "cell_type": "code",
   "execution_count": 73,
   "id": "edbaa94b",
   "metadata": {
    "execution": {
     "iopub.execute_input": "2022-06-09T23:37:09.882759Z",
     "iopub.status.busy": "2022-06-09T23:37:09.881756Z",
     "iopub.status.idle": "2022-06-09T23:37:10.986757Z",
     "shell.execute_reply": "2022-06-09T23:37:10.985755Z",
     "shell.execute_reply.started": "2022-06-09T23:37:09.882759Z"
    }
   },
   "outputs": [
    {
     "data": {
      "text/plain": [
       "(2226.8971811883976,\n",
       " array([195.50232289, 414.45217162, 232.81689483, -51.07166323,\n",
       "        -64.09493568, 119.94593064, -34.7411617 , -43.29654582,\n",
       "        -19.98406341,  10.85060119, -13.30076873, 403.56530557,\n",
       "        -83.71973856, -17.49471843, -77.75227376, -37.72288961,\n",
       "        -45.26520838, -18.11187631, -29.15960307,   7.65483632,\n",
       "         74.24696106,  29.93636963, -27.70654436, 115.59270753,\n",
       "        -51.4659138 , -28.47022886, -21.75182257, -21.33537014,\n",
       "        -59.86051345, -23.94260985]),\n",
       " 10000.0)"
      ]
     },
     "execution_count": 73,
     "metadata": {},
     "output_type": "execute_result"
    }
   ],
   "source": [
    "rcv.fit(X_port_st,y)\n",
    "rcv.intercept_, rcv.coef_, rcv.alpha_"
   ]
  },
  {
   "cell_type": "code",
   "execution_count": 74,
   "id": "883e9c88",
   "metadata": {
    "execution": {
     "iopub.execute_input": "2022-06-09T23:37:10.989758Z",
     "iopub.status.busy": "2022-06-09T23:37:10.988760Z",
     "iopub.status.idle": "2022-06-09T23:37:11.017758Z",
     "shell.execute_reply": "2022-06-09T23:37:11.016756Z",
     "shell.execute_reply.started": "2022-06-09T23:37:10.989758Z"
    }
   },
   "outputs": [
    {
     "data": {
      "text/plain": [
       "array([2049.98593777, 1995.70036771, 1473.46934202, ..., 3208.43876735,\n",
       "       2640.2575252 , 2410.14682568])"
      ]
     },
     "execution_count": 74,
     "metadata": {},
     "output_type": "execute_result"
    }
   ],
   "source": [
    "# Se calcula el precio por m2 a partir de la predicción de Lasso post-escalado\n",
    "\n",
    "price_usd_per_m2_predic_std = lcv.predict(X_port_st)\n",
    "price_usd_per_m2_predic_std"
   ]
  },
  {
   "cell_type": "code",
   "execution_count": null,
   "id": "6a806652",
   "metadata": {},
   "outputs": [],
   "source": []
  },
  {
   "cell_type": "code",
   "execution_count": null,
   "id": "c2219b93",
   "metadata": {},
   "outputs": [],
   "source": []
  },
  {
   "cell_type": "markdown",
   "id": "8e69a024",
   "metadata": {},
   "source": [
    "---\n",
    "---\n",
    "---\n",
    "---\n",
    "## Pruebas agregando conversiones de features"
   ]
  },
  {
   "cell_type": "code",
   "execution_count": 217,
   "id": "40d15eb5",
   "metadata": {
    "execution": {
     "iopub.execute_input": "2022-06-10T00:06:50.513600Z",
     "iopub.status.busy": "2022-06-10T00:06:50.513600Z",
     "iopub.status.idle": "2022-06-10T00:06:50.522600Z",
     "shell.execute_reply": "2022-06-10T00:06:50.521602Z",
     "shell.execute_reply.started": "2022-06-10T00:06:50.513600Z"
    }
   },
   "outputs": [],
   "source": [
    "df_conv = df2[['property_type','place_name','surface_total_in_m2','rooms','tiene_jardin','tiene_cochera','tiene_pileta','tiene_parrilla','cuota','price_usd_per_m2']]"
   ]
  },
  {
   "cell_type": "code",
   "execution_count": 218,
   "id": "841480cd",
   "metadata": {
    "execution": {
     "iopub.execute_input": "2022-06-10T00:06:50.689600Z",
     "iopub.status.busy": "2022-06-10T00:06:50.688597Z",
     "iopub.status.idle": "2022-06-10T00:06:50.722599Z",
     "shell.execute_reply": "2022-06-10T00:06:50.721599Z",
     "shell.execute_reply.started": "2022-06-10T00:06:50.689600Z"
    }
   },
   "outputs": [
    {
     "name": "stdout",
     "output_type": "stream",
     "text": [
      "<class 'pandas.core.frame.DataFrame'>\n",
      "Int64Index: 15686 entries, 19 to 121138\n",
      "Data columns (total 10 columns):\n",
      " #   Column               Non-Null Count  Dtype  \n",
      "---  ------               --------------  -----  \n",
      " 0   property_type        15686 non-null  object \n",
      " 1   place_name           15686 non-null  object \n",
      " 2   surface_total_in_m2  15686 non-null  float64\n",
      " 3   rooms                15686 non-null  float64\n",
      " 4   tiene_jardin         15686 non-null  boolean\n",
      " 5   tiene_cochera        15686 non-null  boolean\n",
      " 6   tiene_pileta         15686 non-null  boolean\n",
      " 7   tiene_parrilla       15686 non-null  boolean\n",
      " 8   cuota                15686 non-null  boolean\n",
      " 9   price_usd_per_m2     15686 non-null  float64\n",
      "dtypes: boolean(5), float64(3), object(2)\n",
      "memory usage: 888.5+ KB\n"
     ]
    }
   ],
   "source": [
    "df_conv = df_conv.astype({'tiene_jardin':'boolean','tiene_cochera':'boolean','tiene_pileta':'boolean','tiene_parrilla':'boolean','cuota':'boolean'})\n",
    "df_conv.info()"
   ]
  },
  {
   "cell_type": "code",
   "execution_count": 219,
   "id": "bd8992df",
   "metadata": {
    "execution": {
     "iopub.execute_input": "2022-06-10T00:06:50.857598Z",
     "iopub.status.busy": "2022-06-10T00:06:50.857598Z",
     "iopub.status.idle": "2022-06-10T00:06:50.890598Z",
     "shell.execute_reply": "2022-06-10T00:06:50.889598Z",
     "shell.execute_reply.started": "2022-06-10T00:06:50.857598Z"
    }
   },
   "outputs": [
    {
     "data": {
      "text/html": [
       "<div>\n",
       "<style scoped>\n",
       "    .dataframe tbody tr th:only-of-type {\n",
       "        vertical-align: middle;\n",
       "    }\n",
       "\n",
       "    .dataframe tbody tr th {\n",
       "        vertical-align: top;\n",
       "    }\n",
       "\n",
       "    .dataframe thead th {\n",
       "        text-align: right;\n",
       "    }\n",
       "</style>\n",
       "<table border=\"1\" class=\"dataframe\">\n",
       "  <thead>\n",
       "    <tr style=\"text-align: right;\">\n",
       "      <th></th>\n",
       "      <th>property_type</th>\n",
       "      <th>place_name</th>\n",
       "      <th>surface_total_in_m2</th>\n",
       "      <th>rooms</th>\n",
       "      <th>tiene_jardin</th>\n",
       "      <th>tiene_cochera</th>\n",
       "      <th>tiene_pileta</th>\n",
       "      <th>tiene_parrilla</th>\n",
       "      <th>cuota</th>\n",
       "      <th>price_usd_per_m2</th>\n",
       "    </tr>\n",
       "  </thead>\n",
       "  <tbody>\n",
       "    <tr>\n",
       "      <th>19</th>\n",
       "      <td>apartment</td>\n",
       "      <td>Palermo</td>\n",
       "      <td>104.0</td>\n",
       "      <td>3.0</td>\n",
       "      <td>True</td>\n",
       "      <td>False</td>\n",
       "      <td>False</td>\n",
       "      <td>False</td>\n",
       "      <td>False</td>\n",
       "      <td>3365.384615</td>\n",
       "    </tr>\n",
       "    <tr>\n",
       "      <th>21</th>\n",
       "      <td>apartment</td>\n",
       "      <td>Palermo</td>\n",
       "      <td>118.0</td>\n",
       "      <td>4.0</td>\n",
       "      <td>False</td>\n",
       "      <td>False</td>\n",
       "      <td>False</td>\n",
       "      <td>False</td>\n",
       "      <td>False</td>\n",
       "      <td>2292.372881</td>\n",
       "    </tr>\n",
       "    <tr>\n",
       "      <th>29</th>\n",
       "      <td>apartment</td>\n",
       "      <td>Flores</td>\n",
       "      <td>43.0</td>\n",
       "      <td>2.0</td>\n",
       "      <td>False</td>\n",
       "      <td>False</td>\n",
       "      <td>False</td>\n",
       "      <td>False</td>\n",
       "      <td>False</td>\n",
       "      <td>1744.186047</td>\n",
       "    </tr>\n",
       "    <tr>\n",
       "      <th>35</th>\n",
       "      <td>apartment</td>\n",
       "      <td>Boedo</td>\n",
       "      <td>80.0</td>\n",
       "      <td>4.0</td>\n",
       "      <td>False</td>\n",
       "      <td>False</td>\n",
       "      <td>False</td>\n",
       "      <td>False</td>\n",
       "      <td>False</td>\n",
       "      <td>1812.500000</td>\n",
       "    </tr>\n",
       "    <tr>\n",
       "      <th>48</th>\n",
       "      <td>apartment</td>\n",
       "      <td>Balvanera</td>\n",
       "      <td>141.0</td>\n",
       "      <td>5.0</td>\n",
       "      <td>True</td>\n",
       "      <td>True</td>\n",
       "      <td>False</td>\n",
       "      <td>False</td>\n",
       "      <td>False</td>\n",
       "      <td>1702.127660</td>\n",
       "    </tr>\n",
       "  </tbody>\n",
       "</table>\n",
       "</div>"
      ],
      "text/plain": [
       "   property_type place_name  surface_total_in_m2  rooms  tiene_jardin  \\\n",
       "19     apartment    Palermo                104.0    3.0          True   \n",
       "21     apartment    Palermo                118.0    4.0         False   \n",
       "29     apartment     Flores                 43.0    2.0         False   \n",
       "35     apartment      Boedo                 80.0    4.0         False   \n",
       "48     apartment  Balvanera                141.0    5.0          True   \n",
       "\n",
       "    tiene_cochera  tiene_pileta  tiene_parrilla  cuota  price_usd_per_m2  \n",
       "19          False         False           False  False       3365.384615  \n",
       "21          False         False           False  False       2292.372881  \n",
       "29          False         False           False  False       1744.186047  \n",
       "35          False         False           False  False       1812.500000  \n",
       "48           True         False           False  False       1702.127660  "
      ]
     },
     "execution_count": 219,
     "metadata": {},
     "output_type": "execute_result"
    }
   ],
   "source": [
    "df_conv.head()"
   ]
  },
  {
   "cell_type": "code",
   "execution_count": 220,
   "id": "edd7f659",
   "metadata": {
    "execution": {
     "iopub.execute_input": "2022-06-10T00:06:51.162600Z",
     "iopub.status.busy": "2022-06-10T00:06:51.161600Z",
     "iopub.status.idle": "2022-06-10T00:06:51.180600Z",
     "shell.execute_reply": "2022-06-10T00:06:51.179598Z",
     "shell.execute_reply.started": "2022-06-10T00:06:51.162600Z"
    }
   },
   "outputs": [],
   "source": [
    "df_conv['sup_raiz_cuadrada'] = np.sqrt(df_conv['surface_total_in_m2'])\n",
    "df_conv['sup_raiz_cubica'] = np.cbrt(df_conv['surface_total_in_m2'])"
   ]
  },
  {
   "cell_type": "code",
   "execution_count": 221,
   "id": "60c55f6f",
   "metadata": {
    "execution": {
     "iopub.execute_input": "2022-06-10T00:06:51.777711Z",
     "iopub.status.busy": "2022-06-10T00:06:51.777711Z",
     "iopub.status.idle": "2022-06-10T00:06:51.836710Z",
     "shell.execute_reply": "2022-06-10T00:06:51.835708Z",
     "shell.execute_reply.started": "2022-06-10T00:06:51.777711Z"
    }
   },
   "outputs": [
    {
     "data": {
      "text/html": [
       "<div>\n",
       "<style scoped>\n",
       "    .dataframe tbody tr th:only-of-type {\n",
       "        vertical-align: middle;\n",
       "    }\n",
       "\n",
       "    .dataframe tbody tr th {\n",
       "        vertical-align: top;\n",
       "    }\n",
       "\n",
       "    .dataframe thead th {\n",
       "        text-align: right;\n",
       "    }\n",
       "</style>\n",
       "<table border=\"1\" class=\"dataframe\">\n",
       "  <thead>\n",
       "    <tr style=\"text-align: right;\">\n",
       "      <th></th>\n",
       "      <th>property_type</th>\n",
       "      <th>place_name</th>\n",
       "      <th>surface_total_in_m2</th>\n",
       "      <th>rooms</th>\n",
       "      <th>tiene_jardin</th>\n",
       "      <th>tiene_cochera</th>\n",
       "      <th>tiene_pileta</th>\n",
       "      <th>tiene_parrilla</th>\n",
       "      <th>cuota</th>\n",
       "      <th>price_usd_per_m2</th>\n",
       "      <th>sup_raiz_cuadrada</th>\n",
       "      <th>sup_raiz_cubica</th>\n",
       "      <th>surface_total_in_m2_std</th>\n",
       "      <th>sup_raiz_cuadrada_std</th>\n",
       "      <th>sup_raiz_cubica_std</th>\n",
       "    </tr>\n",
       "  </thead>\n",
       "  <tbody>\n",
       "    <tr>\n",
       "      <th>19</th>\n",
       "      <td>apartment</td>\n",
       "      <td>Palermo</td>\n",
       "      <td>104.0</td>\n",
       "      <td>3.0</td>\n",
       "      <td>True</td>\n",
       "      <td>False</td>\n",
       "      <td>False</td>\n",
       "      <td>False</td>\n",
       "      <td>False</td>\n",
       "      <td>3365.384615</td>\n",
       "      <td>10.198039</td>\n",
       "      <td>4.702669</td>\n",
       "      <td>0.260101</td>\n",
       "      <td>0.486029</td>\n",
       "      <td>0.583135</td>\n",
       "    </tr>\n",
       "    <tr>\n",
       "      <th>21</th>\n",
       "      <td>apartment</td>\n",
       "      <td>Palermo</td>\n",
       "      <td>118.0</td>\n",
       "      <td>4.0</td>\n",
       "      <td>False</td>\n",
       "      <td>False</td>\n",
       "      <td>False</td>\n",
       "      <td>False</td>\n",
       "      <td>False</td>\n",
       "      <td>2292.372881</td>\n",
       "      <td>10.862780</td>\n",
       "      <td>4.904868</td>\n",
       "      <td>0.295455</td>\n",
       "      <td>0.521155</td>\n",
       "      <td>0.614979</td>\n",
       "    </tr>\n",
       "    <tr>\n",
       "      <th>29</th>\n",
       "      <td>apartment</td>\n",
       "      <td>Flores</td>\n",
       "      <td>43.0</td>\n",
       "      <td>2.0</td>\n",
       "      <td>False</td>\n",
       "      <td>False</td>\n",
       "      <td>False</td>\n",
       "      <td>False</td>\n",
       "      <td>False</td>\n",
       "      <td>1744.186047</td>\n",
       "      <td>6.557439</td>\n",
       "      <td>3.503398</td>\n",
       "      <td>0.106061</td>\n",
       "      <td>0.293658</td>\n",
       "      <td>0.394261</td>\n",
       "    </tr>\n",
       "    <tr>\n",
       "      <th>35</th>\n",
       "      <td>apartment</td>\n",
       "      <td>Boedo</td>\n",
       "      <td>80.0</td>\n",
       "      <td>4.0</td>\n",
       "      <td>False</td>\n",
       "      <td>False</td>\n",
       "      <td>False</td>\n",
       "      <td>False</td>\n",
       "      <td>False</td>\n",
       "      <td>1812.500000</td>\n",
       "      <td>8.944272</td>\n",
       "      <td>4.308869</td>\n",
       "      <td>0.199495</td>\n",
       "      <td>0.419780</td>\n",
       "      <td>0.521115</td>\n",
       "    </tr>\n",
       "    <tr>\n",
       "      <th>48</th>\n",
       "      <td>apartment</td>\n",
       "      <td>Balvanera</td>\n",
       "      <td>141.0</td>\n",
       "      <td>5.0</td>\n",
       "      <td>True</td>\n",
       "      <td>True</td>\n",
       "      <td>False</td>\n",
       "      <td>False</td>\n",
       "      <td>False</td>\n",
       "      <td>1702.127660</td>\n",
       "      <td>11.874342</td>\n",
       "      <td>5.204828</td>\n",
       "      <td>0.353535</td>\n",
       "      <td>0.574606</td>\n",
       "      <td>0.662220</td>\n",
       "    </tr>\n",
       "    <tr>\n",
       "      <th>...</th>\n",
       "      <td>...</td>\n",
       "      <td>...</td>\n",
       "      <td>...</td>\n",
       "      <td>...</td>\n",
       "      <td>...</td>\n",
       "      <td>...</td>\n",
       "      <td>...</td>\n",
       "      <td>...</td>\n",
       "      <td>...</td>\n",
       "      <td>...</td>\n",
       "      <td>...</td>\n",
       "      <td>...</td>\n",
       "      <td>...</td>\n",
       "      <td>...</td>\n",
       "      <td>...</td>\n",
       "    </tr>\n",
       "    <tr>\n",
       "      <th>121077</th>\n",
       "      <td>apartment</td>\n",
       "      <td>Belgrano</td>\n",
       "      <td>70.0</td>\n",
       "      <td>2.0</td>\n",
       "      <td>False</td>\n",
       "      <td>True</td>\n",
       "      <td>False</td>\n",
       "      <td>False</td>\n",
       "      <td>False</td>\n",
       "      <td>2428.571429</td>\n",
       "      <td>8.366600</td>\n",
       "      <td>4.121285</td>\n",
       "      <td>0.174242</td>\n",
       "      <td>0.389255</td>\n",
       "      <td>0.491572</td>\n",
       "    </tr>\n",
       "    <tr>\n",
       "      <th>121094</th>\n",
       "      <td>apartment</td>\n",
       "      <td>Belgrano</td>\n",
       "      <td>84.0</td>\n",
       "      <td>4.0</td>\n",
       "      <td>False</td>\n",
       "      <td>True</td>\n",
       "      <td>False</td>\n",
       "      <td>False</td>\n",
       "      <td>False</td>\n",
       "      <td>2595.238095</td>\n",
       "      <td>9.165151</td>\n",
       "      <td>4.379519</td>\n",
       "      <td>0.209596</td>\n",
       "      <td>0.431451</td>\n",
       "      <td>0.532242</td>\n",
       "    </tr>\n",
       "    <tr>\n",
       "      <th>121113</th>\n",
       "      <td>apartment</td>\n",
       "      <td>Palermo</td>\n",
       "      <td>100.0</td>\n",
       "      <td>3.0</td>\n",
       "      <td>True</td>\n",
       "      <td>True</td>\n",
       "      <td>True</td>\n",
       "      <td>True</td>\n",
       "      <td>False</td>\n",
       "      <td>2650.000000</td>\n",
       "      <td>10.000000</td>\n",
       "      <td>4.641589</td>\n",
       "      <td>0.250000</td>\n",
       "      <td>0.475565</td>\n",
       "      <td>0.573515</td>\n",
       "    </tr>\n",
       "    <tr>\n",
       "      <th>121131</th>\n",
       "      <td>apartment</td>\n",
       "      <td>Recoleta</td>\n",
       "      <td>113.0</td>\n",
       "      <td>4.0</td>\n",
       "      <td>False</td>\n",
       "      <td>False</td>\n",
       "      <td>False</td>\n",
       "      <td>False</td>\n",
       "      <td>False</td>\n",
       "      <td>2876.106195</td>\n",
       "      <td>10.630146</td>\n",
       "      <td>4.834588</td>\n",
       "      <td>0.282828</td>\n",
       "      <td>0.508862</td>\n",
       "      <td>0.603911</td>\n",
       "    </tr>\n",
       "    <tr>\n",
       "      <th>121138</th>\n",
       "      <td>apartment</td>\n",
       "      <td>Saavedra</td>\n",
       "      <td>69.0</td>\n",
       "      <td>2.0</td>\n",
       "      <td>True</td>\n",
       "      <td>False</td>\n",
       "      <td>True</td>\n",
       "      <td>True</td>\n",
       "      <td>False</td>\n",
       "      <td>3014.492754</td>\n",
       "      <td>8.306624</td>\n",
       "      <td>4.101566</td>\n",
       "      <td>0.171717</td>\n",
       "      <td>0.386086</td>\n",
       "      <td>0.488467</td>\n",
       "    </tr>\n",
       "  </tbody>\n",
       "</table>\n",
       "<p>15686 rows × 15 columns</p>\n",
       "</div>"
      ],
      "text/plain": [
       "       property_type place_name  surface_total_in_m2  rooms  tiene_jardin  \\\n",
       "19         apartment    Palermo                104.0    3.0          True   \n",
       "21         apartment    Palermo                118.0    4.0         False   \n",
       "29         apartment     Flores                 43.0    2.0         False   \n",
       "35         apartment      Boedo                 80.0    4.0         False   \n",
       "48         apartment  Balvanera                141.0    5.0          True   \n",
       "...              ...        ...                  ...    ...           ...   \n",
       "121077     apartment   Belgrano                 70.0    2.0         False   \n",
       "121094     apartment   Belgrano                 84.0    4.0         False   \n",
       "121113     apartment    Palermo                100.0    3.0          True   \n",
       "121131     apartment   Recoleta                113.0    4.0         False   \n",
       "121138     apartment   Saavedra                 69.0    2.0          True   \n",
       "\n",
       "        tiene_cochera  tiene_pileta  tiene_parrilla  cuota  price_usd_per_m2  \\\n",
       "19              False         False           False  False       3365.384615   \n",
       "21              False         False           False  False       2292.372881   \n",
       "29              False         False           False  False       1744.186047   \n",
       "35              False         False           False  False       1812.500000   \n",
       "48               True         False           False  False       1702.127660   \n",
       "...               ...           ...             ...    ...               ...   \n",
       "121077           True         False           False  False       2428.571429   \n",
       "121094           True         False           False  False       2595.238095   \n",
       "121113           True          True            True  False       2650.000000   \n",
       "121131          False         False           False  False       2876.106195   \n",
       "121138          False          True            True  False       3014.492754   \n",
       "\n",
       "        sup_raiz_cuadrada  sup_raiz_cubica  surface_total_in_m2_std  \\\n",
       "19              10.198039         4.702669                 0.260101   \n",
       "21              10.862780         4.904868                 0.295455   \n",
       "29               6.557439         3.503398                 0.106061   \n",
       "35               8.944272         4.308869                 0.199495   \n",
       "48              11.874342         5.204828                 0.353535   \n",
       "...                   ...              ...                      ...   \n",
       "121077           8.366600         4.121285                 0.174242   \n",
       "121094           9.165151         4.379519                 0.209596   \n",
       "121113          10.000000         4.641589                 0.250000   \n",
       "121131          10.630146         4.834588                 0.282828   \n",
       "121138           8.306624         4.101566                 0.171717   \n",
       "\n",
       "        sup_raiz_cuadrada_std  sup_raiz_cubica_std  \n",
       "19                   0.486029             0.583135  \n",
       "21                   0.521155             0.614979  \n",
       "29                   0.293658             0.394261  \n",
       "35                   0.419780             0.521115  \n",
       "48                   0.574606             0.662220  \n",
       "...                       ...                  ...  \n",
       "121077               0.389255             0.491572  \n",
       "121094               0.431451             0.532242  \n",
       "121113               0.475565             0.573515  \n",
       "121131               0.508862             0.603911  \n",
       "121138               0.386086             0.488467  \n",
       "\n",
       "[15686 rows x 15 columns]"
      ]
     },
     "execution_count": 221,
     "metadata": {},
     "output_type": "execute_result"
    }
   ],
   "source": [
    "numericals = ['surface_total_in_m2','sup_raiz_cuadrada', 'sup_raiz_cubica']\n",
    "\n",
    "Z = df_conv[numericals]\n",
    "\n",
    "scaler = MinMaxScaler()\n",
    "scaler.fit(Z)\n",
    "\n",
    "std_numerical_data = scaler.transform(Z)\n",
    "std_df = pd.DataFrame(std_numerical_data)\n",
    "std_df.columns = [i + '_std' for i in numericals]\n",
    "df_conv = pd.concat([df_conv, std_df.set_index(df2.index)], axis=1)\n",
    "df_conv"
   ]
  },
  {
   "cell_type": "code",
   "execution_count": 222,
   "id": "fdd1cc23",
   "metadata": {
    "execution": {
     "iopub.execute_input": "2022-06-10T00:06:52.537333Z",
     "iopub.status.busy": "2022-06-10T00:06:52.537333Z",
     "iopub.status.idle": "2022-06-10T00:06:52.556333Z",
     "shell.execute_reply": "2022-06-10T00:06:52.555332Z",
     "shell.execute_reply.started": "2022-06-10T00:06:52.537333Z"
    }
   },
   "outputs": [],
   "source": [
    "df_conv = df_conv.drop(['surface_total_in_m2','sup_raiz_cuadrada','sup_raiz_cubica'], axis=1)"
   ]
  },
  {
   "cell_type": "code",
   "execution_count": 223,
   "id": "00bec303",
   "metadata": {
    "execution": {
     "iopub.execute_input": "2022-06-10T00:06:53.732469Z",
     "iopub.status.busy": "2022-06-10T00:06:53.731471Z",
     "iopub.status.idle": "2022-06-10T00:06:53.750470Z",
     "shell.execute_reply": "2022-06-10T00:06:53.749469Z",
     "shell.execute_reply.started": "2022-06-10T00:06:53.732469Z"
    }
   },
   "outputs": [
    {
     "data": {
      "text/plain": [
       "Index(['property_type', 'place_name', 'rooms', 'tiene_jardin', 'tiene_cochera',\n",
       "       'tiene_pileta', 'tiene_parrilla', 'cuota', 'price_usd_per_m2',\n",
       "       'surface_total_in_m2_std', 'sup_raiz_cuadrada_std',\n",
       "       'sup_raiz_cubica_std'],\n",
       "      dtype='object')"
      ]
     },
     "execution_count": 223,
     "metadata": {},
     "output_type": "execute_result"
    }
   ],
   "source": [
    "df_conv.columns"
   ]
  },
  {
   "cell_type": "markdown",
   "id": "f32a30cc",
   "metadata": {},
   "source": [
    "## Modelo"
   ]
  },
  {
   "cell_type": "code",
   "execution_count": 224,
   "id": "3fedab8e",
   "metadata": {
    "execution": {
     "iopub.execute_input": "2022-06-10T00:07:19.049277Z",
     "iopub.status.busy": "2022-06-10T00:07:19.049277Z",
     "iopub.status.idle": "2022-06-10T00:07:19.100282Z",
     "shell.execute_reply": "2022-06-10T00:07:19.099278Z",
     "shell.execute_reply.started": "2022-06-10T00:07:19.049277Z"
    }
   },
   "outputs": [
    {
     "data": {
      "text/plain": [
       "((15686, 34), (15686,), (11764, 34), (3922, 34), (11764,), (3922,))"
      ]
     },
     "execution_count": 224,
     "metadata": {},
     "output_type": "execute_result"
    }
   ],
   "source": [
    "# Selecciono las columnas que considero features para modelar \n",
    "X = df_conv.loc[:,['property_type','place_name', 'rooms','tiene_jardin', 'tiene_cochera', 'tiene_pileta', 'tiene_parrilla', 'cuota','surface_total_in_m2_std','sup_raiz_cuadrada_std','sup_raiz_cubica_std']]\n",
    "y = df_conv['price_usd_per_m2']\n",
    "\n",
    "# Convierto a dummies las categóricas\n",
    "X = pd.get_dummies(X,drop_first=True)\n",
    "\n",
    "# Separo en train/test\n",
    "X_train, X_test, y_train, y_test = train_test_split(X,y,random_state=33)\n",
    "\n",
    "X.shape, y.shape, X_train.shape,X_test.shape, y_train.shape, y_test.shape"
   ]
  },
  {
   "cell_type": "code",
   "execution_count": 225,
   "id": "502b0e2a",
   "metadata": {
    "execution": {
     "iopub.execute_input": "2022-06-10T00:07:21.474371Z",
     "iopub.status.busy": "2022-06-10T00:07:21.474371Z",
     "iopub.status.idle": "2022-06-10T00:07:23.763372Z",
     "shell.execute_reply": "2022-06-10T00:07:23.762371Z",
     "shell.execute_reply.started": "2022-06-10T00:07:21.474371Z"
    }
   },
   "outputs": [
    {
     "name": "stdout",
     "output_type": "stream",
     "text": [
      "intercept:  7441.781445180488 coef:  [ 1.05639691e+00  3.14299592e+01  1.21474562e+02  1.02566675e+03\n",
      " -3.74628773e+01  8.43400032e+02 -2.53007645e+04  1.04306723e+05\n",
      " -8.63056931e+04  6.64854625e+02 -2.14027653e+02 -5.40828396e+02\n",
      " -3.69405515e+02  4.61411158e+02  1.55968546e+02  5.67519167e+03\n",
      " -3.07310284e+02 -4.11153159e+02 -5.78896362e+02 -6.22039209e+02\n",
      " -1.35934796e+03 -2.29876410e+02  4.56545999e+01  4.50065980e+02\n",
      "  1.92707539e+03  6.07287009e+02 -5.97203717e+02  2.90115070e+03\n",
      " -7.30375803e+02 -6.54820210e+00 -4.09902897e+02 -3.96913215e+02\n",
      " -4.31584911e+02 -4.84410723e+02] alpha:  0.0001\n"
     ]
    },
    {
     "data": {
      "text/plain": [
       "0.3331388911886348"
      ]
     },
     "execution_count": 225,
     "metadata": {},
     "output_type": "execute_result"
    }
   ],
   "source": [
    "#prueba con crossvalidation con Ridge\n",
    "rcv = RidgeCV(alphas=(0.0001,0.001,0.01,0.1,1,10,100,1000,10000), cv=5)\n",
    "\n",
    "rcv.fit(X_train,y_train)\n",
    "print('intercept: ',rcv.intercept_,'coef: ', rcv.coef_,'alpha: ', rcv.alpha_)\n",
    "\n",
    "y_pred_rcv = rcv.predict(X_test)\n",
    "\n",
    "metrics.r2_score(y_test, y_pred_rcv)"
   ]
  },
  {
   "cell_type": "code",
   "execution_count": null,
   "id": "009e385c",
   "metadata": {},
   "outputs": [],
   "source": []
  },
  {
   "cell_type": "code",
   "execution_count": 226,
   "id": "200cbe65",
   "metadata": {
    "execution": {
     "iopub.execute_input": "2022-06-10T00:07:33.777210Z",
     "iopub.status.busy": "2022-06-10T00:07:33.776210Z",
     "iopub.status.idle": "2022-06-10T00:07:33.785211Z",
     "shell.execute_reply": "2022-06-10T00:07:33.784210Z",
     "shell.execute_reply.started": "2022-06-10T00:07:33.776210Z"
    }
   },
   "outputs": [],
   "source": [
    "df_conv = df2[['property_type','place_name','surface_total_in_m2','rooms','price_usd_per_m2']]"
   ]
  },
  {
   "cell_type": "code",
   "execution_count": 227,
   "id": "5ea9aaa0",
   "metadata": {
    "execution": {
     "iopub.execute_input": "2022-06-10T00:07:35.155212Z",
     "iopub.status.busy": "2022-06-10T00:07:35.154210Z",
     "iopub.status.idle": "2022-06-10T00:07:35.169212Z",
     "shell.execute_reply": "2022-06-10T00:07:35.168213Z",
     "shell.execute_reply.started": "2022-06-10T00:07:35.155212Z"
    }
   },
   "outputs": [
    {
     "name": "stderr",
     "output_type": "stream",
     "text": [
      "C:\\Users\\alanp\\AppData\\Local\\Temp/ipykernel_3728/1569968033.py:1: SettingWithCopyWarning: \n",
      "A value is trying to be set on a copy of a slice from a DataFrame.\n",
      "Try using .loc[row_indexer,col_indexer] = value instead\n",
      "\n",
      "See the caveats in the documentation: https://pandas.pydata.org/pandas-docs/stable/user_guide/indexing.html#returning-a-view-versus-a-copy\n",
      "  df_conv['sup_raiz_cuadrada'] = np.sqrt(df_conv['surface_total_in_m2'])\n",
      "C:\\Users\\alanp\\AppData\\Local\\Temp/ipykernel_3728/1569968033.py:2: SettingWithCopyWarning: \n",
      "A value is trying to be set on a copy of a slice from a DataFrame.\n",
      "Try using .loc[row_indexer,col_indexer] = value instead\n",
      "\n",
      "See the caveats in the documentation: https://pandas.pydata.org/pandas-docs/stable/user_guide/indexing.html#returning-a-view-versus-a-copy\n",
      "  df_conv['sup_raiz_cubica'] = np.cbrt(df_conv['surface_total_in_m2'])\n"
     ]
    }
   ],
   "source": [
    "df_conv['sup_raiz_cuadrada'] = np.sqrt(df_conv['surface_total_in_m2'])\n",
    "df_conv['sup_raiz_cubica'] = np.cbrt(df_conv['surface_total_in_m2'])"
   ]
  },
  {
   "cell_type": "code",
   "execution_count": 228,
   "id": "c6b15386",
   "metadata": {
    "execution": {
     "iopub.execute_input": "2022-06-10T00:07:57.047097Z",
     "iopub.status.busy": "2022-06-10T00:07:57.047097Z",
     "iopub.status.idle": "2022-06-10T00:07:57.097101Z",
     "shell.execute_reply": "2022-06-10T00:07:57.096098Z",
     "shell.execute_reply.started": "2022-06-10T00:07:57.047097Z"
    }
   },
   "outputs": [
    {
     "data": {
      "text/html": [
       "<div>\n",
       "<style scoped>\n",
       "    .dataframe tbody tr th:only-of-type {\n",
       "        vertical-align: middle;\n",
       "    }\n",
       "\n",
       "    .dataframe tbody tr th {\n",
       "        vertical-align: top;\n",
       "    }\n",
       "\n",
       "    .dataframe thead th {\n",
       "        text-align: right;\n",
       "    }\n",
       "</style>\n",
       "<table border=\"1\" class=\"dataframe\">\n",
       "  <thead>\n",
       "    <tr style=\"text-align: right;\">\n",
       "      <th></th>\n",
       "      <th>property_type</th>\n",
       "      <th>place_name</th>\n",
       "      <th>surface_total_in_m2</th>\n",
       "      <th>rooms</th>\n",
       "      <th>price_usd_per_m2</th>\n",
       "      <th>sup_raiz_cuadrada</th>\n",
       "      <th>sup_raiz_cubica</th>\n",
       "      <th>surface_total_in_m2_std</th>\n",
       "      <th>sup_raiz_cuadrada_std</th>\n",
       "      <th>sup_raiz_cubica_std</th>\n",
       "    </tr>\n",
       "  </thead>\n",
       "  <tbody>\n",
       "    <tr>\n",
       "      <th>19</th>\n",
       "      <td>apartment</td>\n",
       "      <td>Palermo</td>\n",
       "      <td>104.0</td>\n",
       "      <td>3.0</td>\n",
       "      <td>3365.384615</td>\n",
       "      <td>10.198039</td>\n",
       "      <td>4.702669</td>\n",
       "      <td>0.260101</td>\n",
       "      <td>0.486029</td>\n",
       "      <td>0.583135</td>\n",
       "    </tr>\n",
       "    <tr>\n",
       "      <th>21</th>\n",
       "      <td>apartment</td>\n",
       "      <td>Palermo</td>\n",
       "      <td>118.0</td>\n",
       "      <td>4.0</td>\n",
       "      <td>2292.372881</td>\n",
       "      <td>10.862780</td>\n",
       "      <td>4.904868</td>\n",
       "      <td>0.295455</td>\n",
       "      <td>0.521155</td>\n",
       "      <td>0.614979</td>\n",
       "    </tr>\n",
       "    <tr>\n",
       "      <th>29</th>\n",
       "      <td>apartment</td>\n",
       "      <td>Flores</td>\n",
       "      <td>43.0</td>\n",
       "      <td>2.0</td>\n",
       "      <td>1744.186047</td>\n",
       "      <td>6.557439</td>\n",
       "      <td>3.503398</td>\n",
       "      <td>0.106061</td>\n",
       "      <td>0.293658</td>\n",
       "      <td>0.394261</td>\n",
       "    </tr>\n",
       "    <tr>\n",
       "      <th>35</th>\n",
       "      <td>apartment</td>\n",
       "      <td>Boedo</td>\n",
       "      <td>80.0</td>\n",
       "      <td>4.0</td>\n",
       "      <td>1812.500000</td>\n",
       "      <td>8.944272</td>\n",
       "      <td>4.308869</td>\n",
       "      <td>0.199495</td>\n",
       "      <td>0.419780</td>\n",
       "      <td>0.521115</td>\n",
       "    </tr>\n",
       "    <tr>\n",
       "      <th>48</th>\n",
       "      <td>apartment</td>\n",
       "      <td>Balvanera</td>\n",
       "      <td>141.0</td>\n",
       "      <td>5.0</td>\n",
       "      <td>1702.127660</td>\n",
       "      <td>11.874342</td>\n",
       "      <td>5.204828</td>\n",
       "      <td>0.353535</td>\n",
       "      <td>0.574606</td>\n",
       "      <td>0.662220</td>\n",
       "    </tr>\n",
       "    <tr>\n",
       "      <th>...</th>\n",
       "      <td>...</td>\n",
       "      <td>...</td>\n",
       "      <td>...</td>\n",
       "      <td>...</td>\n",
       "      <td>...</td>\n",
       "      <td>...</td>\n",
       "      <td>...</td>\n",
       "      <td>...</td>\n",
       "      <td>...</td>\n",
       "      <td>...</td>\n",
       "    </tr>\n",
       "    <tr>\n",
       "      <th>121077</th>\n",
       "      <td>apartment</td>\n",
       "      <td>Belgrano</td>\n",
       "      <td>70.0</td>\n",
       "      <td>2.0</td>\n",
       "      <td>2428.571429</td>\n",
       "      <td>8.366600</td>\n",
       "      <td>4.121285</td>\n",
       "      <td>0.174242</td>\n",
       "      <td>0.389255</td>\n",
       "      <td>0.491572</td>\n",
       "    </tr>\n",
       "    <tr>\n",
       "      <th>121094</th>\n",
       "      <td>apartment</td>\n",
       "      <td>Belgrano</td>\n",
       "      <td>84.0</td>\n",
       "      <td>4.0</td>\n",
       "      <td>2595.238095</td>\n",
       "      <td>9.165151</td>\n",
       "      <td>4.379519</td>\n",
       "      <td>0.209596</td>\n",
       "      <td>0.431451</td>\n",
       "      <td>0.532242</td>\n",
       "    </tr>\n",
       "    <tr>\n",
       "      <th>121113</th>\n",
       "      <td>apartment</td>\n",
       "      <td>Palermo</td>\n",
       "      <td>100.0</td>\n",
       "      <td>3.0</td>\n",
       "      <td>2650.000000</td>\n",
       "      <td>10.000000</td>\n",
       "      <td>4.641589</td>\n",
       "      <td>0.250000</td>\n",
       "      <td>0.475565</td>\n",
       "      <td>0.573515</td>\n",
       "    </tr>\n",
       "    <tr>\n",
       "      <th>121131</th>\n",
       "      <td>apartment</td>\n",
       "      <td>Recoleta</td>\n",
       "      <td>113.0</td>\n",
       "      <td>4.0</td>\n",
       "      <td>2876.106195</td>\n",
       "      <td>10.630146</td>\n",
       "      <td>4.834588</td>\n",
       "      <td>0.282828</td>\n",
       "      <td>0.508862</td>\n",
       "      <td>0.603911</td>\n",
       "    </tr>\n",
       "    <tr>\n",
       "      <th>121138</th>\n",
       "      <td>apartment</td>\n",
       "      <td>Saavedra</td>\n",
       "      <td>69.0</td>\n",
       "      <td>2.0</td>\n",
       "      <td>3014.492754</td>\n",
       "      <td>8.306624</td>\n",
       "      <td>4.101566</td>\n",
       "      <td>0.171717</td>\n",
       "      <td>0.386086</td>\n",
       "      <td>0.488467</td>\n",
       "    </tr>\n",
       "  </tbody>\n",
       "</table>\n",
       "<p>15686 rows × 10 columns</p>\n",
       "</div>"
      ],
      "text/plain": [
       "       property_type place_name  surface_total_in_m2  rooms  price_usd_per_m2  \\\n",
       "19         apartment    Palermo                104.0    3.0       3365.384615   \n",
       "21         apartment    Palermo                118.0    4.0       2292.372881   \n",
       "29         apartment     Flores                 43.0    2.0       1744.186047   \n",
       "35         apartment      Boedo                 80.0    4.0       1812.500000   \n",
       "48         apartment  Balvanera                141.0    5.0       1702.127660   \n",
       "...              ...        ...                  ...    ...               ...   \n",
       "121077     apartment   Belgrano                 70.0    2.0       2428.571429   \n",
       "121094     apartment   Belgrano                 84.0    4.0       2595.238095   \n",
       "121113     apartment    Palermo                100.0    3.0       2650.000000   \n",
       "121131     apartment   Recoleta                113.0    4.0       2876.106195   \n",
       "121138     apartment   Saavedra                 69.0    2.0       3014.492754   \n",
       "\n",
       "        sup_raiz_cuadrada  sup_raiz_cubica  surface_total_in_m2_std  \\\n",
       "19              10.198039         4.702669                 0.260101   \n",
       "21              10.862780         4.904868                 0.295455   \n",
       "29               6.557439         3.503398                 0.106061   \n",
       "35               8.944272         4.308869                 0.199495   \n",
       "48              11.874342         5.204828                 0.353535   \n",
       "...                   ...              ...                      ...   \n",
       "121077           8.366600         4.121285                 0.174242   \n",
       "121094           9.165151         4.379519                 0.209596   \n",
       "121113          10.000000         4.641589                 0.250000   \n",
       "121131          10.630146         4.834588                 0.282828   \n",
       "121138           8.306624         4.101566                 0.171717   \n",
       "\n",
       "        sup_raiz_cuadrada_std  sup_raiz_cubica_std  \n",
       "19                   0.486029             0.583135  \n",
       "21                   0.521155             0.614979  \n",
       "29                   0.293658             0.394261  \n",
       "35                   0.419780             0.521115  \n",
       "48                   0.574606             0.662220  \n",
       "...                       ...                  ...  \n",
       "121077               0.389255             0.491572  \n",
       "121094               0.431451             0.532242  \n",
       "121113               0.475565             0.573515  \n",
       "121131               0.508862             0.603911  \n",
       "121138               0.386086             0.488467  \n",
       "\n",
       "[15686 rows x 10 columns]"
      ]
     },
     "execution_count": 228,
     "metadata": {},
     "output_type": "execute_result"
    }
   ],
   "source": [
    "numericals = ['surface_total_in_m2','sup_raiz_cuadrada', 'sup_raiz_cubica']\n",
    "\n",
    "Z = df_conv[numericals]\n",
    "\n",
    "scaler = MinMaxScaler()\n",
    "scaler.fit(Z)\n",
    "\n",
    "std_numerical_data = scaler.transform(Z)\n",
    "std_df = pd.DataFrame(std_numerical_data)\n",
    "std_df.columns = [i + '_std' for i in numericals]\n",
    "df_conv = pd.concat([df_conv, std_df.set_index(df2.index)], axis=1)\n",
    "df_conv"
   ]
  },
  {
   "cell_type": "code",
   "execution_count": null,
   "id": "5bd20bb4",
   "metadata": {},
   "outputs": [],
   "source": []
  },
  {
   "cell_type": "code",
   "execution_count": 229,
   "id": "b13982ae",
   "metadata": {
    "execution": {
     "iopub.execute_input": "2022-06-10T00:08:09.655413Z",
     "iopub.status.busy": "2022-06-10T00:08:09.654413Z",
     "iopub.status.idle": "2022-06-10T00:08:09.669408Z",
     "shell.execute_reply": "2022-06-10T00:08:09.668407Z",
     "shell.execute_reply.started": "2022-06-10T00:08:09.655413Z"
    }
   },
   "outputs": [],
   "source": [
    "df_conv = df_conv.drop(['surface_total_in_m2','sup_raiz_cuadrada','sup_raiz_cubica'], axis=1)"
   ]
  },
  {
   "cell_type": "markdown",
   "id": "47205ccb",
   "metadata": {},
   "source": [
    "## Modelo"
   ]
  },
  {
   "cell_type": "code",
   "execution_count": 230,
   "id": "0df17cc3",
   "metadata": {
    "execution": {
     "iopub.execute_input": "2022-06-10T00:08:31.452542Z",
     "iopub.status.busy": "2022-06-10T00:08:31.452542Z",
     "iopub.status.idle": "2022-06-10T00:08:31.489542Z",
     "shell.execute_reply": "2022-06-10T00:08:31.488543Z",
     "shell.execute_reply.started": "2022-06-10T00:08:31.452542Z"
    }
   },
   "outputs": [
    {
     "data": {
      "text/plain": [
       "((15686, 28), (15686,), (11764, 28), (3922, 28), (11764,), (3922,))"
      ]
     },
     "execution_count": 230,
     "metadata": {},
     "output_type": "execute_result"
    }
   ],
   "source": [
    "# Selecciono las columnas que considero features para modelar \n",
    "X = df_conv.loc[:,['property_type','place_name', 'surface_total_in_m2_std','sup_raiz_cuadrada_std', 'sup_raiz_cubica_std']]\n",
    "y = df_conv['price_usd_per_m2']\n",
    "\n",
    "# Convierto a dummies las categóricas\n",
    "X = pd.get_dummies(X,drop_first=True)\n",
    "\n",
    "# Separo en train/test\n",
    "X_train, X_test, y_train, y_test = train_test_split(X,y,random_state=33)\n",
    "\n",
    "X.shape, y.shape, X_train.shape,X_test.shape, y_train.shape, y_test.shape"
   ]
  },
  {
   "cell_type": "code",
   "execution_count": 231,
   "id": "0446a614",
   "metadata": {
    "execution": {
     "iopub.execute_input": "2022-06-10T00:08:34.068127Z",
     "iopub.status.busy": "2022-06-10T00:08:34.067127Z",
     "iopub.status.idle": "2022-06-10T00:08:34.924132Z",
     "shell.execute_reply": "2022-06-10T00:08:34.923127Z",
     "shell.execute_reply.started": "2022-06-10T00:08:34.068127Z"
    }
   },
   "outputs": [
    {
     "name": "stdout",
     "output_type": "stream",
     "text": [
      "intercept:  7138.547667279454 coef:  [-2.19997229e+04  9.30224259e+04 -7.79066747e+04  9.77004401e+02\n",
      " -1.02373847e+01 -7.46680541e+02 -3.25782191e+02  4.34746494e+02\n",
      "  3.28344817e+02  6.63656930e+03 -2.04331172e+02 -2.53951415e+02\n",
      " -5.50886997e+02 -7.60730267e+02 -1.25604340e+03 -4.22289946e+01\n",
      "  1.89154612e+02  8.39579963e+02  2.52146693e+03  4.94468540e+02\n",
      " -4.11619368e+02  3.20318954e+03 -4.83766841e+02 -4.60916960e+01\n",
      " -3.91450900e+02 -4.22734342e+02 -1.85929634e+02 -2.78179043e+02] alpha:  0.0001\n"
     ]
    },
    {
     "data": {
      "text/plain": [
       "0.3107733119405407"
      ]
     },
     "execution_count": 231,
     "metadata": {},
     "output_type": "execute_result"
    }
   ],
   "source": [
    "#prueba con crossvalidation con Ridge\n",
    "rcv = RidgeCV(alphas=(0.0001,0.001,0.01,0.1,1,10,100,1000,10000), cv=5)\n",
    "\n",
    "rcv.fit(X_train,y_train)\n",
    "print('intercept: ',rcv.intercept_,'coef: ', rcv.coef_,'alpha: ', rcv.alpha_)\n",
    "\n",
    "y_pred_rcv = rcv.predict(X_test)\n",
    "\n",
    "metrics.r2_score(y_test, y_pred_rcv)"
   ]
  },
  {
   "cell_type": "code",
   "execution_count": 238,
   "id": "5112501e",
   "metadata": {
    "execution": {
     "iopub.execute_input": "2022-06-10T00:12:57.029811Z",
     "iopub.status.busy": "2022-06-10T00:12:57.029811Z",
     "iopub.status.idle": "2022-06-10T00:12:57.049812Z",
     "shell.execute_reply": "2022-06-10T00:12:57.048812Z",
     "shell.execute_reply.started": "2022-06-10T00:12:57.029811Z"
    }
   },
   "outputs": [],
   "source": [
    "comp_pred = pd.DataFrame({'base':y_test,'predicho':y_pred_rcv})"
   ]
  },
  {
   "cell_type": "code",
   "execution_count": 240,
   "id": "9613cb2f",
   "metadata": {
    "execution": {
     "iopub.execute_input": "2022-06-10T00:13:01.819602Z",
     "iopub.status.busy": "2022-06-10T00:13:01.819602Z",
     "iopub.status.idle": "2022-06-10T00:13:02.122328Z",
     "shell.execute_reply": "2022-06-10T00:13:02.121325Z",
     "shell.execute_reply.started": "2022-06-10T00:13:01.819602Z"
    }
   },
   "outputs": [
    {
     "data": {
      "text/plain": [
       "<AxesSubplot:xlabel='base', ylabel='predicho'>"
      ]
     },
     "execution_count": 240,
     "metadata": {},
     "output_type": "execute_result"
    },
    {
     "data": {
      "image/png": "[encoded data removed]",
      "text/plain": [
       "<Figure size 432x288 with 1 Axes>"
      ]
     },
     "metadata": {
      "needs_background": "light"
     },
     "output_type": "display_data"
    }
   ],
   "source": [
    "sns.scatterplot(data= comp_pred, x='base', y='predicho')"
   ]
  },
  {
   "cell_type": "code",
   "execution_count": null,
   "id": "e18c5d60",
   "metadata": {},
   "outputs": [],
   "source": []
  },
  {
   "cell_type": "code",
   "execution_count": null,
   "id": "f0e219aa",
   "metadata": {},
   "outputs": [],
   "source": []
  },
  {
   "cell_type": "markdown",
   "id": "2f113762",
   "metadata": {},
   "source": [
    "## Prueba de eliminar los valores muy grandes de USD_m2"
   ]
  },
  {
   "cell_type": "code",
   "execution_count": 244,
   "id": "300efb08",
   "metadata": {
    "execution": {
     "iopub.execute_input": "2022-06-10T00:15:48.192464Z",
     "iopub.status.busy": "2022-06-10T00:15:48.191464Z",
     "iopub.status.idle": "2022-06-10T00:15:48.212464Z",
     "shell.execute_reply": "2022-06-10T00:15:48.211463Z",
     "shell.execute_reply.started": "2022-06-10T00:15:48.192464Z"
    }
   },
   "outputs": [],
   "source": [
    "df_bajos = df2[df2['price_usd_per_m2']<10000]"
   ]
  },
  {
   "cell_type": "code",
   "execution_count": 269,
   "id": "989fd6de",
   "metadata": {
    "execution": {
     "iopub.execute_input": "2022-06-10T00:23:33.731433Z",
     "iopub.status.busy": "2022-06-10T00:23:33.730436Z",
     "iopub.status.idle": "2022-06-10T00:23:33.742436Z",
     "shell.execute_reply": "2022-06-10T00:23:33.741431Z",
     "shell.execute_reply.started": "2022-06-10T00:23:33.731433Z"
    }
   },
   "outputs": [],
   "source": [
    "df_conv = df_bajos[['property_type','place_name','surface_total_in_m2','rooms','tiene_jardin','tiene_cochera','tiene_pileta','tiene_parrilla','cuota','price_usd_per_m2']]"
   ]
  },
  {
   "cell_type": "code",
   "execution_count": 270,
   "id": "c8cc538d",
   "metadata": {
    "execution": {
     "iopub.execute_input": "2022-06-10T00:23:33.937436Z",
     "iopub.status.busy": "2022-06-10T00:23:33.936434Z",
     "iopub.status.idle": "2022-06-10T00:23:33.964431Z",
     "shell.execute_reply": "2022-06-10T00:23:33.963429Z",
     "shell.execute_reply.started": "2022-06-10T00:23:33.937436Z"
    }
   },
   "outputs": [
    {
     "name": "stdout",
     "output_type": "stream",
     "text": [
      "<class 'pandas.core.frame.DataFrame'>\n",
      "Int64Index: 15242 entries, 19 to 121138\n",
      "Data columns (total 10 columns):\n",
      " #   Column               Non-Null Count  Dtype  \n",
      "---  ------               --------------  -----  \n",
      " 0   property_type        15242 non-null  object \n",
      " 1   place_name           15242 non-null  object \n",
      " 2   surface_total_in_m2  15242 non-null  float64\n",
      " 3   rooms                15242 non-null  float64\n",
      " 4   tiene_jardin         15242 non-null  boolean\n",
      " 5   tiene_cochera        15242 non-null  boolean\n",
      " 6   tiene_pileta         15242 non-null  boolean\n",
      " 7   tiene_parrilla       15242 non-null  boolean\n",
      " 8   cuota                15242 non-null  boolean\n",
      " 9   price_usd_per_m2     15242 non-null  float64\n",
      "dtypes: boolean(5), float64(3), object(2)\n",
      "memory usage: 863.3+ KB\n"
     ]
    }
   ],
   "source": [
    "df_conv = df_conv.astype({'tiene_jardin':'boolean','tiene_cochera':'boolean','tiene_pileta':'boolean','tiene_parrilla':'boolean','cuota':'boolean'})\n",
    "df_conv.info()"
   ]
  },
  {
   "cell_type": "code",
   "execution_count": 271,
   "id": "545a7f0d",
   "metadata": {
    "execution": {
     "iopub.execute_input": "2022-06-10T00:23:34.173434Z",
     "iopub.status.busy": "2022-06-10T00:23:34.172434Z",
     "iopub.status.idle": "2022-06-10T00:23:34.202431Z",
     "shell.execute_reply": "2022-06-10T00:23:34.201431Z",
     "shell.execute_reply.started": "2022-06-10T00:23:34.173434Z"
    }
   },
   "outputs": [
    {
     "data": {
      "text/html": [
       "<div>\n",
       "<style scoped>\n",
       "    .dataframe tbody tr th:only-of-type {\n",
       "        vertical-align: middle;\n",
       "    }\n",
       "\n",
       "    .dataframe tbody tr th {\n",
       "        vertical-align: top;\n",
       "    }\n",
       "\n",
       "    .dataframe thead th {\n",
       "        text-align: right;\n",
       "    }\n",
       "</style>\n",
       "<table border=\"1\" class=\"dataframe\">\n",
       "  <thead>\n",
       "    <tr style=\"text-align: right;\">\n",
       "      <th></th>\n",
       "      <th>property_type</th>\n",
       "      <th>place_name</th>\n",
       "      <th>surface_total_in_m2</th>\n",
       "      <th>rooms</th>\n",
       "      <th>tiene_jardin</th>\n",
       "      <th>tiene_cochera</th>\n",
       "      <th>tiene_pileta</th>\n",
       "      <th>tiene_parrilla</th>\n",
       "      <th>cuota</th>\n",
       "      <th>price_usd_per_m2</th>\n",
       "    </tr>\n",
       "  </thead>\n",
       "  <tbody>\n",
       "    <tr>\n",
       "      <th>19</th>\n",
       "      <td>apartment</td>\n",
       "      <td>Palermo</td>\n",
       "      <td>104.0</td>\n",
       "      <td>3.0</td>\n",
       "      <td>True</td>\n",
       "      <td>False</td>\n",
       "      <td>False</td>\n",
       "      <td>False</td>\n",
       "      <td>False</td>\n",
       "      <td>3365.384615</td>\n",
       "    </tr>\n",
       "    <tr>\n",
       "      <th>21</th>\n",
       "      <td>apartment</td>\n",
       "      <td>Palermo</td>\n",
       "      <td>118.0</td>\n",
       "      <td>4.0</td>\n",
       "      <td>False</td>\n",
       "      <td>False</td>\n",
       "      <td>False</td>\n",
       "      <td>False</td>\n",
       "      <td>False</td>\n",
       "      <td>2292.372881</td>\n",
       "    </tr>\n",
       "    <tr>\n",
       "      <th>29</th>\n",
       "      <td>apartment</td>\n",
       "      <td>Flores</td>\n",
       "      <td>43.0</td>\n",
       "      <td>2.0</td>\n",
       "      <td>False</td>\n",
       "      <td>False</td>\n",
       "      <td>False</td>\n",
       "      <td>False</td>\n",
       "      <td>False</td>\n",
       "      <td>1744.186047</td>\n",
       "    </tr>\n",
       "    <tr>\n",
       "      <th>35</th>\n",
       "      <td>apartment</td>\n",
       "      <td>Boedo</td>\n",
       "      <td>80.0</td>\n",
       "      <td>4.0</td>\n",
       "      <td>False</td>\n",
       "      <td>False</td>\n",
       "      <td>False</td>\n",
       "      <td>False</td>\n",
       "      <td>False</td>\n",
       "      <td>1812.500000</td>\n",
       "    </tr>\n",
       "    <tr>\n",
       "      <th>48</th>\n",
       "      <td>apartment</td>\n",
       "      <td>Balvanera</td>\n",
       "      <td>141.0</td>\n",
       "      <td>5.0</td>\n",
       "      <td>True</td>\n",
       "      <td>True</td>\n",
       "      <td>False</td>\n",
       "      <td>False</td>\n",
       "      <td>False</td>\n",
       "      <td>1702.127660</td>\n",
       "    </tr>\n",
       "  </tbody>\n",
       "</table>\n",
       "</div>"
      ],
      "text/plain": [
       "   property_type place_name  surface_total_in_m2  rooms  tiene_jardin  \\\n",
       "19     apartment    Palermo                104.0    3.0          True   \n",
       "21     apartment    Palermo                118.0    4.0         False   \n",
       "29     apartment     Flores                 43.0    2.0         False   \n",
       "35     apartment      Boedo                 80.0    4.0         False   \n",
       "48     apartment  Balvanera                141.0    5.0          True   \n",
       "\n",
       "    tiene_cochera  tiene_pileta  tiene_parrilla  cuota  price_usd_per_m2  \n",
       "19          False         False           False  False       3365.384615  \n",
       "21          False         False           False  False       2292.372881  \n",
       "29          False         False           False  False       1744.186047  \n",
       "35          False         False           False  False       1812.500000  \n",
       "48           True         False           False  False       1702.127660  "
      ]
     },
     "execution_count": 271,
     "metadata": {},
     "output_type": "execute_result"
    }
   ],
   "source": [
    "df_conv.head()"
   ]
  },
  {
   "cell_type": "code",
   "execution_count": 272,
   "id": "b5c78a2b",
   "metadata": {
    "execution": {
     "iopub.execute_input": "2022-06-10T00:23:34.368431Z",
     "iopub.status.busy": "2022-06-10T00:23:34.368431Z",
     "iopub.status.idle": "2022-06-10T00:23:34.388432Z",
     "shell.execute_reply": "2022-06-10T00:23:34.387429Z",
     "shell.execute_reply.started": "2022-06-10T00:23:34.368431Z"
    }
   },
   "outputs": [],
   "source": [
    "df_conv['sup_raiz_cuadrada'] = np.sqrt(df_conv['surface_total_in_m2'])\n",
    "df_conv['sup_raiz_cubica'] = np.cbrt(df_conv['surface_total_in_m2'])"
   ]
  },
  {
   "cell_type": "code",
   "execution_count": 273,
   "id": "2a8cec6b",
   "metadata": {
    "execution": {
     "iopub.execute_input": "2022-06-10T00:23:34.913436Z",
     "iopub.status.busy": "2022-06-10T00:23:34.913436Z",
     "iopub.status.idle": "2022-06-10T00:23:34.955432Z",
     "shell.execute_reply": "2022-06-10T00:23:34.954430Z",
     "shell.execute_reply.started": "2022-06-10T00:23:34.913436Z"
    }
   },
   "outputs": [
    {
     "data": {
      "text/html": [
       "<div>\n",
       "<style scoped>\n",
       "    .dataframe tbody tr th:only-of-type {\n",
       "        vertical-align: middle;\n",
       "    }\n",
       "\n",
       "    .dataframe tbody tr th {\n",
       "        vertical-align: top;\n",
       "    }\n",
       "\n",
       "    .dataframe thead th {\n",
       "        text-align: right;\n",
       "    }\n",
       "</style>\n",
       "<table border=\"1\" class=\"dataframe\">\n",
       "  <thead>\n",
       "    <tr style=\"text-align: right;\">\n",
       "      <th></th>\n",
       "      <th>property_type</th>\n",
       "      <th>place_name</th>\n",
       "      <th>surface_total_in_m2</th>\n",
       "      <th>rooms</th>\n",
       "      <th>tiene_jardin</th>\n",
       "      <th>tiene_cochera</th>\n",
       "      <th>tiene_pileta</th>\n",
       "      <th>tiene_parrilla</th>\n",
       "      <th>cuota</th>\n",
       "      <th>price_usd_per_m2</th>\n",
       "      <th>sup_raiz_cuadrada</th>\n",
       "      <th>sup_raiz_cubica</th>\n",
       "    </tr>\n",
       "  </thead>\n",
       "  <tbody>\n",
       "    <tr>\n",
       "      <th>19</th>\n",
       "      <td>apartment</td>\n",
       "      <td>Palermo</td>\n",
       "      <td>104.0</td>\n",
       "      <td>3.0</td>\n",
       "      <td>True</td>\n",
       "      <td>False</td>\n",
       "      <td>False</td>\n",
       "      <td>False</td>\n",
       "      <td>False</td>\n",
       "      <td>3365.384615</td>\n",
       "      <td>10.198039</td>\n",
       "      <td>4.702669</td>\n",
       "    </tr>\n",
       "    <tr>\n",
       "      <th>21</th>\n",
       "      <td>apartment</td>\n",
       "      <td>Palermo</td>\n",
       "      <td>118.0</td>\n",
       "      <td>4.0</td>\n",
       "      <td>False</td>\n",
       "      <td>False</td>\n",
       "      <td>False</td>\n",
       "      <td>False</td>\n",
       "      <td>False</td>\n",
       "      <td>2292.372881</td>\n",
       "      <td>10.862780</td>\n",
       "      <td>4.904868</td>\n",
       "    </tr>\n",
       "    <tr>\n",
       "      <th>29</th>\n",
       "      <td>apartment</td>\n",
       "      <td>Flores</td>\n",
       "      <td>43.0</td>\n",
       "      <td>2.0</td>\n",
       "      <td>False</td>\n",
       "      <td>False</td>\n",
       "      <td>False</td>\n",
       "      <td>False</td>\n",
       "      <td>False</td>\n",
       "      <td>1744.186047</td>\n",
       "      <td>6.557439</td>\n",
       "      <td>3.503398</td>\n",
       "    </tr>\n",
       "    <tr>\n",
       "      <th>35</th>\n",
       "      <td>apartment</td>\n",
       "      <td>Boedo</td>\n",
       "      <td>80.0</td>\n",
       "      <td>4.0</td>\n",
       "      <td>False</td>\n",
       "      <td>False</td>\n",
       "      <td>False</td>\n",
       "      <td>False</td>\n",
       "      <td>False</td>\n",
       "      <td>1812.500000</td>\n",
       "      <td>8.944272</td>\n",
       "      <td>4.308869</td>\n",
       "    </tr>\n",
       "    <tr>\n",
       "      <th>48</th>\n",
       "      <td>apartment</td>\n",
       "      <td>Balvanera</td>\n",
       "      <td>141.0</td>\n",
       "      <td>5.0</td>\n",
       "      <td>True</td>\n",
       "      <td>True</td>\n",
       "      <td>False</td>\n",
       "      <td>False</td>\n",
       "      <td>False</td>\n",
       "      <td>1702.127660</td>\n",
       "      <td>11.874342</td>\n",
       "      <td>5.204828</td>\n",
       "    </tr>\n",
       "    <tr>\n",
       "      <th>...</th>\n",
       "      <td>...</td>\n",
       "      <td>...</td>\n",
       "      <td>...</td>\n",
       "      <td>...</td>\n",
       "      <td>...</td>\n",
       "      <td>...</td>\n",
       "      <td>...</td>\n",
       "      <td>...</td>\n",
       "      <td>...</td>\n",
       "      <td>...</td>\n",
       "      <td>...</td>\n",
       "      <td>...</td>\n",
       "    </tr>\n",
       "    <tr>\n",
       "      <th>121077</th>\n",
       "      <td>apartment</td>\n",
       "      <td>Belgrano</td>\n",
       "      <td>70.0</td>\n",
       "      <td>2.0</td>\n",
       "      <td>False</td>\n",
       "      <td>True</td>\n",
       "      <td>False</td>\n",
       "      <td>False</td>\n",
       "      <td>False</td>\n",
       "      <td>2428.571429</td>\n",
       "      <td>8.366600</td>\n",
       "      <td>4.121285</td>\n",
       "    </tr>\n",
       "    <tr>\n",
       "      <th>121094</th>\n",
       "      <td>apartment</td>\n",
       "      <td>Belgrano</td>\n",
       "      <td>84.0</td>\n",
       "      <td>4.0</td>\n",
       "      <td>False</td>\n",
       "      <td>True</td>\n",
       "      <td>False</td>\n",
       "      <td>False</td>\n",
       "      <td>False</td>\n",
       "      <td>2595.238095</td>\n",
       "      <td>9.165151</td>\n",
       "      <td>4.379519</td>\n",
       "    </tr>\n",
       "    <tr>\n",
       "      <th>121113</th>\n",
       "      <td>apartment</td>\n",
       "      <td>Palermo</td>\n",
       "      <td>100.0</td>\n",
       "      <td>3.0</td>\n",
       "      <td>True</td>\n",
       "      <td>True</td>\n",
       "      <td>True</td>\n",
       "      <td>True</td>\n",
       "      <td>False</td>\n",
       "      <td>2650.000000</td>\n",
       "      <td>10.000000</td>\n",
       "      <td>4.641589</td>\n",
       "    </tr>\n",
       "    <tr>\n",
       "      <th>121131</th>\n",
       "      <td>apartment</td>\n",
       "      <td>Recoleta</td>\n",
       "      <td>113.0</td>\n",
       "      <td>4.0</td>\n",
       "      <td>False</td>\n",
       "      <td>False</td>\n",
       "      <td>False</td>\n",
       "      <td>False</td>\n",
       "      <td>False</td>\n",
       "      <td>2876.106195</td>\n",
       "      <td>10.630146</td>\n",
       "      <td>4.834588</td>\n",
       "    </tr>\n",
       "    <tr>\n",
       "      <th>121138</th>\n",
       "      <td>apartment</td>\n",
       "      <td>Saavedra</td>\n",
       "      <td>69.0</td>\n",
       "      <td>2.0</td>\n",
       "      <td>True</td>\n",
       "      <td>False</td>\n",
       "      <td>True</td>\n",
       "      <td>True</td>\n",
       "      <td>False</td>\n",
       "      <td>3014.492754</td>\n",
       "      <td>8.306624</td>\n",
       "      <td>4.101566</td>\n",
       "    </tr>\n",
       "  </tbody>\n",
       "</table>\n",
       "<p>15242 rows × 12 columns</p>\n",
       "</div>"
      ],
      "text/plain": [
       "       property_type place_name  surface_total_in_m2  rooms  tiene_jardin  \\\n",
       "19         apartment    Palermo                104.0    3.0          True   \n",
       "21         apartment    Palermo                118.0    4.0         False   \n",
       "29         apartment     Flores                 43.0    2.0         False   \n",
       "35         apartment      Boedo                 80.0    4.0         False   \n",
       "48         apartment  Balvanera                141.0    5.0          True   \n",
       "...              ...        ...                  ...    ...           ...   \n",
       "121077     apartment   Belgrano                 70.0    2.0         False   \n",
       "121094     apartment   Belgrano                 84.0    4.0         False   \n",
       "121113     apartment    Palermo                100.0    3.0          True   \n",
       "121131     apartment   Recoleta                113.0    4.0         False   \n",
       "121138     apartment   Saavedra                 69.0    2.0          True   \n",
       "\n",
       "        tiene_cochera  tiene_pileta  tiene_parrilla  cuota  price_usd_per_m2  \\\n",
       "19              False         False           False  False       3365.384615   \n",
       "21              False         False           False  False       2292.372881   \n",
       "29              False         False           False  False       1744.186047   \n",
       "35              False         False           False  False       1812.500000   \n",
       "48               True         False           False  False       1702.127660   \n",
       "...               ...           ...             ...    ...               ...   \n",
       "121077           True         False           False  False       2428.571429   \n",
       "121094           True         False           False  False       2595.238095   \n",
       "121113           True          True            True  False       2650.000000   \n",
       "121131          False         False           False  False       2876.106195   \n",
       "121138          False          True            True  False       3014.492754   \n",
       "\n",
       "        sup_raiz_cuadrada  sup_raiz_cubica  \n",
       "19              10.198039         4.702669  \n",
       "21              10.862780         4.904868  \n",
       "29               6.557439         3.503398  \n",
       "35               8.944272         4.308869  \n",
       "48              11.874342         5.204828  \n",
       "...                   ...              ...  \n",
       "121077           8.366600         4.121285  \n",
       "121094           9.165151         4.379519  \n",
       "121113          10.000000         4.641589  \n",
       "121131          10.630146         4.834588  \n",
       "121138           8.306624         4.101566  \n",
       "\n",
       "[15242 rows x 12 columns]"
      ]
     },
     "execution_count": 273,
     "metadata": {},
     "output_type": "execute_result"
    }
   ],
   "source": [
    "df_conv"
   ]
  },
  {
   "cell_type": "code",
   "execution_count": 274,
   "id": "00479bb6",
   "metadata": {
    "execution": {
     "iopub.execute_input": "2022-06-10T00:23:35.599434Z",
     "iopub.status.busy": "2022-06-10T00:23:35.598432Z",
     "iopub.status.idle": "2022-06-10T00:23:35.631434Z",
     "shell.execute_reply": "2022-06-10T00:23:35.630429Z",
     "shell.execute_reply.started": "2022-06-10T00:23:35.599434Z"
    }
   },
   "outputs": [],
   "source": [
    "numericals = ['surface_total_in_m2','sup_raiz_cuadrada', 'sup_raiz_cubica']\n",
    "\n",
    "Z = df_conv[numericals]\n",
    "scaler = MinMaxScaler()\n",
    "scaler.fit(Z)\n",
    "\n",
    "df_conv[numericals] = scaler.transform(Z)\n"
   ]
  },
  {
   "cell_type": "markdown",
   "id": "94fef2ab",
   "metadata": {},
   "source": [
    "## Modelo"
   ]
  },
  {
   "cell_type": "code",
   "execution_count": 276,
   "id": "0ccc8624",
   "metadata": {
    "execution": {
     "iopub.execute_input": "2022-06-10T00:23:57.519412Z",
     "iopub.status.busy": "2022-06-10T00:23:57.518413Z",
     "iopub.status.idle": "2022-06-10T00:23:57.558411Z",
     "shell.execute_reply": "2022-06-10T00:23:57.557408Z",
     "shell.execute_reply.started": "2022-06-10T00:23:57.519412Z"
    }
   },
   "outputs": [
    {
     "data": {
      "text/plain": [
       "((15242, 34), (15242,), (11431, 34), (3811, 34), (11431,), (3811,))"
      ]
     },
     "execution_count": 276,
     "metadata": {},
     "output_type": "execute_result"
    }
   ],
   "source": [
    "# Selecciono las columnas que considero features para modelar \n",
    "X = df_conv.loc[:,['property_type','place_name', 'rooms','tiene_jardin', 'tiene_cochera', 'tiene_pileta', 'tiene_parrilla', 'cuota','surface_total_in_m2','sup_raiz_cuadrada','sup_raiz_cubica']]\n",
    "y = df_conv['price_usd_per_m2']\n",
    "\n",
    "# Convierto a dummies las categóricas\n",
    "X = pd.get_dummies(X,drop_first=True)\n",
    "\n",
    "# Separo en train/test\n",
    "X_train, X_test, y_train, y_test = train_test_split(X,y,random_state=33)\n",
    "\n",
    "X.shape, y.shape, X_train.shape,X_test.shape, y_train.shape, y_test.shape"
   ]
  },
  {
   "cell_type": "code",
   "execution_count": 277,
   "id": "f6c100c9",
   "metadata": {
    "execution": {
     "iopub.execute_input": "2022-06-10T00:23:59.057934Z",
     "iopub.status.busy": "2022-06-10T00:23:59.056935Z",
     "iopub.status.idle": "2022-06-10T00:24:01.080685Z",
     "shell.execute_reply": "2022-06-10T00:24:01.080593Z",
     "shell.execute_reply.started": "2022-06-10T00:23:59.057934Z"
    }
   },
   "outputs": [
    {
     "name": "stdout",
     "output_type": "stream",
     "text": [
      "intercept:  3853.736922307365 coef:  [ 2.89003576e+00 -1.73761654e+02  4.23604623e+01  5.75224516e+02\n",
      " -8.59879740e+01  1.80800189e+02 -1.44551790e+04  5.41333754e+04\n",
      " -4.29377656e+04  5.35266360e+02 -2.53432818e+02 -3.36881678e+02\n",
      " -1.41371710e+02  8.09721956e+02  5.48645754e+02  2.81927994e+02\n",
      "  2.70621834e+01  9.80140240e+01 -2.77282343e+02 -4.98956103e+02\n",
      " -8.25109842e+02  2.98408317e+02  5.02740123e+02  1.08770054e+03\n",
      "  2.44889465e+03  8.56441360e+02 -1.59375501e+02 -2.16408337e+02\n",
      " -1.76668213e+02  3.35900564e+02 -1.90788117e+02 -1.10640095e+02\n",
      "  8.10898922e+00  4.01686505e+01] alpha:  0.0001\n"
     ]
    },
    {
     "data": {
      "text/plain": [
       "0.1935729416744706"
      ]
     },
     "execution_count": 277,
     "metadata": {},
     "output_type": "execute_result"
    }
   ],
   "source": [
    "#prueba con crossvalidation con Ridge\n",
    "rcv = RidgeCV(alphas=(0.0001,0.001,0.01,0.1,1,10,100,1000,10000), cv=5)\n",
    "\n",
    "rcv.fit(X_train,y_train)\n",
    "print('intercept: ',rcv.intercept_,'coef: ', rcv.coef_,'alpha: ', rcv.alpha_)\n",
    "\n",
    "y_pred_rcv = rcv.predict(X_test)\n",
    "\n",
    "metrics.r2_score(y_test, y_pred_rcv)"
   ]
  },
  {
   "cell_type": "code",
   "execution_count": 279,
   "id": "d537d608",
   "metadata": {
    "execution": {
     "iopub.execute_input": "2022-06-10T00:25:08.627910Z",
     "iopub.status.busy": "2022-06-10T00:25:08.626909Z",
     "iopub.status.idle": "2022-06-10T00:25:08.890228Z",
     "shell.execute_reply": "2022-06-10T00:25:08.889226Z",
     "shell.execute_reply.started": "2022-06-10T00:25:08.627910Z"
    }
   },
   "outputs": [
    {
     "data": {
      "text/plain": [
       "<AxesSubplot:xlabel='base', ylabel='predicho'>"
      ]
     },
     "execution_count": 279,
     "metadata": {},
     "output_type": "execute_result"
    },
    {
     "data": {
      "image/png": "[encoded data removed]",
      "text/plain": [
       "<Figure size 432x288 with 1 Axes>"
      ]
     },
     "metadata": {
      "needs_background": "light"
     },
     "output_type": "display_data"
    }
   ],
   "source": [
    "comp_pred = pd.DataFrame({'base':y_test,'predicho':y_pred_rcv})\n",
    "sns.scatterplot(data= comp_pred, x='base', y='predicho')"
   ]
  },
  {
   "cell_type": "code",
   "execution_count": null,
   "id": "eaf9bd81",
   "metadata": {},
   "outputs": [],
   "source": []
  },
  {
   "cell_type": "code",
   "execution_count": null,
   "id": "8c019f68",
   "metadata": {},
   "outputs": [],
   "source": []
  },
  {
   "cell_type": "code",
   "execution_count": null,
   "id": "246ce12f",
   "metadata": {},
   "outputs": [],
   "source": []
  },
  {
   "cell_type": "code",
   "execution_count": null,
   "id": "adc05c0f",
   "metadata": {},
   "outputs": [],
   "source": []
  },
  {
   "cell_type": "code",
   "execution_count": null,
   "id": "a83a92e3",
   "metadata": {},
   "outputs": [],
   "source": []
  },
  {
   "cell_type": "code",
   "execution_count": null,
   "id": "082702b0",
   "metadata": {},
   "outputs": [],
   "source": []
  },
  {
   "cell_type": "code",
   "execution_count": null,
   "id": "2d5d7181",
   "metadata": {},
   "outputs": [],
   "source": []
  },
  {
   "cell_type": "markdown",
   "id": "526192d5",
   "metadata": {},
   "source": [
    "# Gráficos"
   ]
  },
  {
   "cell_type": "code",
   "execution_count": null,
   "id": "a288302d",
   "metadata": {
    "execution": {
     "iopub.status.busy": "2022-06-09T23:37:11.905755Z",
     "iopub.status.idle": "2022-06-09T23:37:11.905755Z",
     "shell.execute_reply": "2022-06-09T23:37:11.905755Z",
     "shell.execute_reply.started": "2022-06-09T23:37:11.905755Z"
    },
    "scrolled": true
   },
   "outputs": [],
   "source": [
    "#superficie total contra precio de la propiedad.\n",
    "sns.scatterplot(data=df_port_std, x='price_usd_per_m2', y='price_usd_per_m2_predic_std')\n"
   ]
  },
  {
   "cell_type": "code",
   "execution_count": null,
   "id": "60177bee",
   "metadata": {
    "execution": {
     "iopub.status.busy": "2022-06-09T23:37:11.907755Z",
     "iopub.status.idle": "2022-06-09T23:37:11.908760Z",
     "shell.execute_reply": "2022-06-09T23:37:11.908760Z",
     "shell.execute_reply.started": "2022-06-09T23:37:11.908760Z"
    },
    "scrolled": true
   },
   "outputs": [],
   "source": [
    "#Precio por m2 vs superficie total\n",
    "\n",
    "sns.scatterplot(data=df_port_std, x='surface_total_in_m2', y='price_usd_per_m2')\n",
    "plt.ylim(0,25000)"
   ]
  },
  {
   "cell_type": "code",
   "execution_count": null,
   "id": "2dc048fa",
   "metadata": {},
   "outputs": [],
   "source": []
  },
  {
   "cell_type": "code",
   "execution_count": null,
   "id": "8c67b8a5",
   "metadata": {},
   "outputs": [],
   "source": []
  },
  {
   "cell_type": "code",
   "execution_count": null,
   "id": "0bafc4f2",
   "metadata": {
    "execution": {
     "iopub.status.busy": "2022-06-09T23:37:11.909757Z",
     "iopub.status.idle": "2022-06-09T23:37:11.910755Z",
     "shell.execute_reply": "2022-06-09T23:37:11.910755Z",
     "shell.execute_reply.started": "2022-06-09T23:37:11.910755Z"
    }
   },
   "outputs": [],
   "source": [
    "#Precio por m2 predicho vs superficie total\n",
    "\n",
    "sns.scatterplot(data=df_port_std, x='surface_total_in_m2', y='price_usd_per_m2_predic_std')\n",
    "plt.ylim(0,25000)"
   ]
  },
  {
   "cell_type": "code",
   "execution_count": null,
   "id": "1041393c",
   "metadata": {
    "execution": {
     "iopub.status.busy": "2022-06-09T23:37:11.912755Z",
     "iopub.status.idle": "2022-06-09T23:37:11.913756Z",
     "shell.execute_reply": "2022-06-09T23:37:11.913756Z",
     "shell.execute_reply.started": "2022-06-09T23:37:11.913756Z"
    }
   },
   "outputs": [],
   "source": [
    "df2.columns"
   ]
  },
  {
   "cell_type": "code",
   "execution_count": null,
   "id": "b8580ba2",
   "metadata": {
    "execution": {
     "iopub.status.busy": "2022-06-09T23:37:11.914756Z",
     "iopub.status.idle": "2022-06-09T23:37:11.915754Z",
     "shell.execute_reply": "2022-06-09T23:37:11.914756Z",
     "shell.execute_reply.started": "2022-06-09T23:37:11.914756Z"
    },
    "scrolled": true
   },
   "outputs": [],
   "source": [
    "# Apartir de \"df2\" con los ultimos destiles e imputaciones realizados sobre \"df\"\n",
    "# y a partir tambien de un jointplot en \"df\" que perdi en el que a ojo selecciones las columnas relevantes; 2, 3, 4 y 5\n",
    "#df2\n",
    "\n",
    "df3 = df2.iloc[:,[2,3,4,6,5]]\n",
    "df3\n",
    "\n",
    "# vemos entre cuales variables existe correlacion relevante.\n",
    "\n",
    "sns.pairplot(df3);\n"
   ]
  },
  {
   "cell_type": "code",
   "execution_count": null,
   "id": "b07114f3",
   "metadata": {
    "execution": {
     "iopub.status.busy": "2022-06-09T23:37:11.917763Z",
     "iopub.status.idle": "2022-06-09T23:37:11.918756Z",
     "shell.execute_reply": "2022-06-09T23:37:11.918756Z",
     "shell.execute_reply.started": "2022-06-09T23:37:11.918756Z"
    }
   },
   "outputs": [],
   "source": [
    "# Tomando aquellas con mayor coeficiente de correlatividad : graficos particulares aislados.\n",
    "\n",
    "# Precio por metro contra total de la Propiedad.\n",
    "df4 = df3.loc[:,['price_usd_per_m2','price_aprox_usd']]\n",
    "df4 = sns.FacetGrid(df3)\n",
    "graf_1 = df4.map(sns.scatterplot, \"price_aprox_usd\", \"price_usd_per_m2\")"
   ]
  },
  {
   "cell_type": "code",
   "execution_count": null,
   "id": "5e469455",
   "metadata": {
    "execution": {
     "iopub.status.busy": "2022-06-09T23:37:11.921756Z",
     "iopub.status.idle": "2022-06-09T23:37:11.921756Z",
     "shell.execute_reply": "2022-06-09T23:37:11.921756Z",
     "shell.execute_reply.started": "2022-06-09T23:37:11.921756Z"
    }
   },
   "outputs": [],
   "source": [
    "# m^2 totales contra precio total de la propiedad.\n",
    "df5 = df3.loc[:,['price_usd_per_m2','surface_total_in_m2']]\n",
    "df5 = sns.FacetGrid(df3)\n",
    "graf_2 = df5.map(sns.scatterplot,\"surface_total_in_m2\",\"price_usd_per_m2\" )"
   ]
  },
  {
   "cell_type": "code",
   "execution_count": null,
   "id": "a75f628e",
   "metadata": {
    "execution": {
     "iopub.status.busy": "2022-06-09T23:37:11.923757Z",
     "iopub.status.idle": "2022-06-09T23:37:11.924755Z",
     "shell.execute_reply": "2022-06-09T23:37:11.924755Z",
     "shell.execute_reply.started": "2022-06-09T23:37:11.924755Z"
    },
    "scrolled": true
   },
   "outputs": [],
   "source": [
    "#superficie total contra precio de la propiedad.\n",
    "df6 = df3.loc[:,['surface_covered_in_m2','price_usd_per_m2']]\n",
    "df6 = sns.FacetGrid(df3)\n",
    "graf_3 = df6.map(sns.scatterplot,\"surface_covered_in_m2\",\"price_usd_per_m2\")"
   ]
  },
  {
   "cell_type": "code",
   "execution_count": null,
   "id": "f627534a",
   "metadata": {
    "execution": {
     "iopub.status.busy": "2022-06-09T23:37:11.925757Z",
     "iopub.status.idle": "2022-06-09T23:37:11.926755Z",
     "shell.execute_reply": "2022-06-09T23:37:11.926755Z",
     "shell.execute_reply.started": "2022-06-09T23:37:11.926755Z"
    }
   },
   "outputs": [],
   "source": [
    "df2.info()"
   ]
  },
  {
   "cell_type": "code",
   "execution_count": null,
   "id": "2549b297",
   "metadata": {
    "execution": {
     "iopub.status.busy": "2022-06-09T23:37:11.927755Z",
     "iopub.status.idle": "2022-06-09T23:37:11.928755Z",
     "shell.execute_reply": "2022-06-09T23:37:11.928755Z",
     "shell.execute_reply.started": "2022-06-09T23:37:11.928755Z"
    }
   },
   "outputs": [],
   "source": [
    "df_cor = df2.copy()\n",
    "plt.figure(figsize=(9,8))\n",
    "corr = df_cor.corr()\n",
    "mask = np.zeros_like(corr)\n",
    "mask[np.triu_indices_from(mask)] = True\n",
    "sns.heatmap(corr, mask=mask, annot=True, fmt=\".2f\", cbar=False)\n",
    "plt.show()"
   ]
  },
  {
   "cell_type": "code",
   "execution_count": null,
   "id": "5ab45d5d",
   "metadata": {},
   "outputs": [],
   "source": []
  },
  {
   "cell_type": "code",
   "execution_count": null,
   "id": "40673bad",
   "metadata": {},
   "outputs": [],
   "source": []
  },
  {
   "cell_type": "code",
   "execution_count": null,
   "id": "74637e99",
   "metadata": {},
   "outputs": [],
   "source": []
  },
  {
   "cell_type": "code",
   "execution_count": null,
   "id": "27e3e8cf",
   "metadata": {},
   "outputs": [],
   "source": []
  },
  {
   "cell_type": "code",
   "execution_count": null,
   "id": "73f03d59",
   "metadata": {},
   "outputs": [],
   "source": []
  },
  {
   "cell_type": "code",
   "execution_count": null,
   "id": "8053f233",
   "metadata": {},
   "outputs": [],
   "source": []
  },
  {
   "cell_type": "code",
   "execution_count": null,
   "id": "10ccec74",
   "metadata": {},
   "outputs": [],
   "source": []
  },
  {
   "cell_type": "code",
   "execution_count": null,
   "id": "2ad4627d",
   "metadata": {},
   "outputs": [],
   "source": []
  },
  {
   "cell_type": "code",
   "execution_count": null,
   "id": "83ba8b5d",
   "metadata": {},
   "outputs": [],
   "source": []
  },
  {
   "cell_type": "code",
   "execution_count": null,
   "id": "4f065962",
   "metadata": {},
   "outputs": [],
   "source": []
  },
  {
   "cell_type": "code",
   "execution_count": null,
   "id": "6bb13a1b",
   "metadata": {},
   "outputs": [],
   "source": []
  },
  {
   "cell_type": "code",
   "execution_count": 75,
   "id": "d0ff0473",
   "metadata": {
    "execution": {
     "iopub.execute_input": "2022-06-09T23:37:11.021757Z",
     "iopub.status.busy": "2022-06-09T23:37:11.020757Z",
     "iopub.status.idle": "2022-06-09T23:37:11.904757Z",
     "shell.execute_reply": "2022-06-09T23:37:11.902755Z",
     "shell.execute_reply.started": "2022-06-09T23:37:11.021757Z"
    },
    "scrolled": true
   },
   "outputs": [
    {
     "name": "stdout",
     "output_type": "stream",
     "text": [
      "Nuestro capital inicial es:  22006162.54\n"
     ]
    },
    {
     "ename": "KeyError",
     "evalue": "'price_usd_per_m2_predic_std'",
     "output_type": "error",
     "traceback": [
      "\u001b[1;31m---------------------------------------------------------------------------\u001b[0m",
      "\u001b[1;31mKeyError\u001b[0m                                  Traceback (most recent call last)",
      "\u001b[1;32m~\\anaconda3\\envs\\dhdsblend2021\\lib\\site-packages\\pandas\\core\\indexes\\base.py\u001b[0m in \u001b[0;36mget_loc\u001b[1;34m(self, key, method, tolerance)\u001b[0m\n\u001b[0;32m   2897\u001b[0m             \u001b[1;32mtry\u001b[0m\u001b[1;33m:\u001b[0m\u001b[1;33m\u001b[0m\u001b[1;33m\u001b[0m\u001b[0m\n\u001b[1;32m-> 2898\u001b[1;33m                 \u001b[1;32mreturn\u001b[0m \u001b[0mself\u001b[0m\u001b[1;33m.\u001b[0m\u001b[0m_engine\u001b[0m\u001b[1;33m.\u001b[0m\u001b[0mget_loc\u001b[0m\u001b[1;33m(\u001b[0m\u001b[0mcasted_key\u001b[0m\u001b[1;33m)\u001b[0m\u001b[1;33m\u001b[0m\u001b[1;33m\u001b[0m\u001b[0m\n\u001b[0m\u001b[0;32m   2899\u001b[0m             \u001b[1;32mexcept\u001b[0m \u001b[0mKeyError\u001b[0m \u001b[1;32mas\u001b[0m \u001b[0merr\u001b[0m\u001b[1;33m:\u001b[0m\u001b[1;33m\u001b[0m\u001b[1;33m\u001b[0m\u001b[0m\n",
      "\u001b[1;32mpandas\\_libs\\index.pyx\u001b[0m in \u001b[0;36mpandas._libs.index.IndexEngine.get_loc\u001b[1;34m()\u001b[0m\n",
      "\u001b[1;32mpandas\\_libs\\index.pyx\u001b[0m in \u001b[0;36mpandas._libs.index.IndexEngine.get_loc\u001b[1;34m()\u001b[0m\n",
      "\u001b[1;32mpandas\\_libs\\hashtable_class_helper.pxi\u001b[0m in \u001b[0;36mpandas._libs.hashtable.PyObjectHashTable.get_item\u001b[1;34m()\u001b[0m\n",
      "\u001b[1;32mpandas\\_libs\\hashtable_class_helper.pxi\u001b[0m in \u001b[0;36mpandas._libs.hashtable.PyObjectHashTable.get_item\u001b[1;34m()\u001b[0m\n",
      "\u001b[1;31mKeyError\u001b[0m: 'price_usd_per_m2_predic_std'",
      "\nThe above exception was the direct cause of the following exception:\n",
      "\u001b[1;31mKeyError\u001b[0m                                  Traceback (most recent call last)",
      "\u001b[1;32m~\\AppData\\Local\\Temp/ipykernel_3728/515769.py\u001b[0m in \u001b[0;36m<module>\u001b[1;34m\u001b[0m\n\u001b[0;32m     18\u001b[0m \u001b[1;31m# Se crea una columna con el precio de predicción\u001b[0m\u001b[1;33m\u001b[0m\u001b[1;33m\u001b[0m\u001b[1;33m\u001b[0m\u001b[0m\n\u001b[0;32m     19\u001b[0m \u001b[1;31m# (Cambiar los nombres de las columnas por los nombres de las columnas del modelo)\u001b[0m\u001b[1;33m\u001b[0m\u001b[1;33m\u001b[0m\u001b[1;33m\u001b[0m\u001b[0m\n\u001b[1;32m---> 20\u001b[1;33m \u001b[0mdf_port_std\u001b[0m\u001b[1;33m.\u001b[0m\u001b[0mloc\u001b[0m\u001b[1;33m[\u001b[0m\u001b[1;33m:\u001b[0m\u001b[1;33m,\u001b[0m\u001b[1;34m'price_aprox_usd_predic_std'\u001b[0m\u001b[1;33m]\u001b[0m \u001b[1;33m=\u001b[0m \u001b[0mdf_port\u001b[0m\u001b[1;33m.\u001b[0m\u001b[0mapply\u001b[0m\u001b[1;33m(\u001b[0m\u001b[1;33m(\u001b[0m\u001b[1;32mlambda\u001b[0m \u001b[0mrow\u001b[0m\u001b[1;33m:\u001b[0m \u001b[0mrow\u001b[0m\u001b[1;33m[\u001b[0m\u001b[1;34m'price_usd_per_m2_predic_std'\u001b[0m\u001b[1;33m]\u001b[0m\u001b[1;33m*\u001b[0m\u001b[0mrow\u001b[0m\u001b[1;33m[\u001b[0m\u001b[1;34m'surface_total_in_m2'\u001b[0m\u001b[1;33m]\u001b[0m\u001b[1;33m)\u001b[0m\u001b[1;33m,\u001b[0m \u001b[0maxis\u001b[0m\u001b[1;33m=\u001b[0m\u001b[1;36m1\u001b[0m\u001b[1;33m)\u001b[0m\u001b[1;33m\u001b[0m\u001b[1;33m\u001b[0m\u001b[0m\n\u001b[0m\u001b[0;32m     21\u001b[0m \u001b[1;33m\u001b[0m\u001b[0m\n\u001b[0;32m     22\u001b[0m \u001b[1;31m# Se crea una columna con la diferencia entre el precio real y el precio estimado por el modelos.\u001b[0m\u001b[1;33m\u001b[0m\u001b[1;33m\u001b[0m\u001b[1;33m\u001b[0m\u001b[0m\n",
      "\u001b[1;32m~\\anaconda3\\envs\\dhdsblend2021\\lib\\site-packages\\pandas\\core\\frame.py\u001b[0m in \u001b[0;36mapply\u001b[1;34m(self, func, axis, raw, result_type, args, **kwds)\u001b[0m\n\u001b[0;32m   7550\u001b[0m             \u001b[0mkwds\u001b[0m\u001b[1;33m=\u001b[0m\u001b[0mkwds\u001b[0m\u001b[1;33m,\u001b[0m\u001b[1;33m\u001b[0m\u001b[1;33m\u001b[0m\u001b[0m\n\u001b[0;32m   7551\u001b[0m         )\n\u001b[1;32m-> 7552\u001b[1;33m         \u001b[1;32mreturn\u001b[0m \u001b[0mop\u001b[0m\u001b[1;33m.\u001b[0m\u001b[0mget_result\u001b[0m\u001b[1;33m(\u001b[0m\u001b[1;33m)\u001b[0m\u001b[1;33m\u001b[0m\u001b[1;33m\u001b[0m\u001b[0m\n\u001b[0m\u001b[0;32m   7553\u001b[0m \u001b[1;33m\u001b[0m\u001b[0m\n\u001b[0;32m   7554\u001b[0m     \u001b[1;32mdef\u001b[0m \u001b[0mapplymap\u001b[0m\u001b[1;33m(\u001b[0m\u001b[0mself\u001b[0m\u001b[1;33m,\u001b[0m \u001b[0mfunc\u001b[0m\u001b[1;33m)\u001b[0m \u001b[1;33m->\u001b[0m \u001b[1;34m\"DataFrame\"\u001b[0m\u001b[1;33m:\u001b[0m\u001b[1;33m\u001b[0m\u001b[1;33m\u001b[0m\u001b[0m\n",
      "\u001b[1;32m~\\anaconda3\\envs\\dhdsblend2021\\lib\\site-packages\\pandas\\core\\apply.py\u001b[0m in \u001b[0;36mget_result\u001b[1;34m(self)\u001b[0m\n\u001b[0;32m    183\u001b[0m             \u001b[1;32mreturn\u001b[0m \u001b[0mself\u001b[0m\u001b[1;33m.\u001b[0m\u001b[0mapply_raw\u001b[0m\u001b[1;33m(\u001b[0m\u001b[1;33m)\u001b[0m\u001b[1;33m\u001b[0m\u001b[1;33m\u001b[0m\u001b[0m\n\u001b[0;32m    184\u001b[0m \u001b[1;33m\u001b[0m\u001b[0m\n\u001b[1;32m--> 185\u001b[1;33m         \u001b[1;32mreturn\u001b[0m \u001b[0mself\u001b[0m\u001b[1;33m.\u001b[0m\u001b[0mapply_standard\u001b[0m\u001b[1;33m(\u001b[0m\u001b[1;33m)\u001b[0m\u001b[1;33m\u001b[0m\u001b[1;33m\u001b[0m\u001b[0m\n\u001b[0m\u001b[0;32m    186\u001b[0m \u001b[1;33m\u001b[0m\u001b[0m\n\u001b[0;32m    187\u001b[0m     \u001b[1;32mdef\u001b[0m \u001b[0mapply_empty_result\u001b[0m\u001b[1;33m(\u001b[0m\u001b[0mself\u001b[0m\u001b[1;33m)\u001b[0m\u001b[1;33m:\u001b[0m\u001b[1;33m\u001b[0m\u001b[1;33m\u001b[0m\u001b[0m\n",
      "\u001b[1;32m~\\anaconda3\\envs\\dhdsblend2021\\lib\\site-packages\\pandas\\core\\apply.py\u001b[0m in \u001b[0;36mapply_standard\u001b[1;34m(self)\u001b[0m\n\u001b[0;32m    274\u001b[0m \u001b[1;33m\u001b[0m\u001b[0m\n\u001b[0;32m    275\u001b[0m     \u001b[1;32mdef\u001b[0m \u001b[0mapply_standard\u001b[0m\u001b[1;33m(\u001b[0m\u001b[0mself\u001b[0m\u001b[1;33m)\u001b[0m\u001b[1;33m:\u001b[0m\u001b[1;33m\u001b[0m\u001b[1;33m\u001b[0m\u001b[0m\n\u001b[1;32m--> 276\u001b[1;33m         \u001b[0mresults\u001b[0m\u001b[1;33m,\u001b[0m \u001b[0mres_index\u001b[0m \u001b[1;33m=\u001b[0m \u001b[0mself\u001b[0m\u001b[1;33m.\u001b[0m\u001b[0mapply_series_generator\u001b[0m\u001b[1;33m(\u001b[0m\u001b[1;33m)\u001b[0m\u001b[1;33m\u001b[0m\u001b[1;33m\u001b[0m\u001b[0m\n\u001b[0m\u001b[0;32m    277\u001b[0m \u001b[1;33m\u001b[0m\u001b[0m\n\u001b[0;32m    278\u001b[0m         \u001b[1;31m# wrap results\u001b[0m\u001b[1;33m\u001b[0m\u001b[1;33m\u001b[0m\u001b[1;33m\u001b[0m\u001b[0m\n",
      "\u001b[1;32m~\\anaconda3\\envs\\dhdsblend2021\\lib\\site-packages\\pandas\\core\\apply.py\u001b[0m in \u001b[0;36mapply_series_generator\u001b[1;34m(self)\u001b[0m\n\u001b[0;32m    303\u001b[0m                 \u001b[1;32mfor\u001b[0m \u001b[0mi\u001b[0m\u001b[1;33m,\u001b[0m \u001b[0mv\u001b[0m \u001b[1;32min\u001b[0m \u001b[0menumerate\u001b[0m\u001b[1;33m(\u001b[0m\u001b[0mseries_gen\u001b[0m\u001b[1;33m)\u001b[0m\u001b[1;33m:\u001b[0m\u001b[1;33m\u001b[0m\u001b[1;33m\u001b[0m\u001b[0m\n\u001b[0;32m    304\u001b[0m                     \u001b[1;31m# ignore SettingWithCopy here in case the user mutates\u001b[0m\u001b[1;33m\u001b[0m\u001b[1;33m\u001b[0m\u001b[1;33m\u001b[0m\u001b[0m\n\u001b[1;32m--> 305\u001b[1;33m                     \u001b[0mresults\u001b[0m\u001b[1;33m[\u001b[0m\u001b[0mi\u001b[0m\u001b[1;33m]\u001b[0m \u001b[1;33m=\u001b[0m \u001b[0mself\u001b[0m\u001b[1;33m.\u001b[0m\u001b[0mf\u001b[0m\u001b[1;33m(\u001b[0m\u001b[0mv\u001b[0m\u001b[1;33m)\u001b[0m\u001b[1;33m\u001b[0m\u001b[1;33m\u001b[0m\u001b[0m\n\u001b[0m\u001b[0;32m    306\u001b[0m                     \u001b[1;32mif\u001b[0m \u001b[0misinstance\u001b[0m\u001b[1;33m(\u001b[0m\u001b[0mresults\u001b[0m\u001b[1;33m[\u001b[0m\u001b[0mi\u001b[0m\u001b[1;33m]\u001b[0m\u001b[1;33m,\u001b[0m \u001b[0mABCSeries\u001b[0m\u001b[1;33m)\u001b[0m\u001b[1;33m:\u001b[0m\u001b[1;33m\u001b[0m\u001b[1;33m\u001b[0m\u001b[0m\n\u001b[0;32m    307\u001b[0m                         \u001b[1;31m# If we have a view on v, we need to make a copy because\u001b[0m\u001b[1;33m\u001b[0m\u001b[1;33m\u001b[0m\u001b[1;33m\u001b[0m\u001b[0m\n",
      "\u001b[1;32m~\\AppData\\Local\\Temp/ipykernel_3728/515769.py\u001b[0m in \u001b[0;36m<lambda>\u001b[1;34m(row)\u001b[0m\n\u001b[0;32m     18\u001b[0m \u001b[1;31m# Se crea una columna con el precio de predicción\u001b[0m\u001b[1;33m\u001b[0m\u001b[1;33m\u001b[0m\u001b[1;33m\u001b[0m\u001b[0m\n\u001b[0;32m     19\u001b[0m \u001b[1;31m# (Cambiar los nombres de las columnas por los nombres de las columnas del modelo)\u001b[0m\u001b[1;33m\u001b[0m\u001b[1;33m\u001b[0m\u001b[1;33m\u001b[0m\u001b[0m\n\u001b[1;32m---> 20\u001b[1;33m \u001b[0mdf_port_std\u001b[0m\u001b[1;33m.\u001b[0m\u001b[0mloc\u001b[0m\u001b[1;33m[\u001b[0m\u001b[1;33m:\u001b[0m\u001b[1;33m,\u001b[0m\u001b[1;34m'price_aprox_usd_predic_std'\u001b[0m\u001b[1;33m]\u001b[0m \u001b[1;33m=\u001b[0m \u001b[0mdf_port\u001b[0m\u001b[1;33m.\u001b[0m\u001b[0mapply\u001b[0m\u001b[1;33m(\u001b[0m\u001b[1;33m(\u001b[0m\u001b[1;32mlambda\u001b[0m \u001b[0mrow\u001b[0m\u001b[1;33m:\u001b[0m \u001b[0mrow\u001b[0m\u001b[1;33m[\u001b[0m\u001b[1;34m'price_usd_per_m2_predic_std'\u001b[0m\u001b[1;33m]\u001b[0m\u001b[1;33m*\u001b[0m\u001b[0mrow\u001b[0m\u001b[1;33m[\u001b[0m\u001b[1;34m'surface_total_in_m2'\u001b[0m\u001b[1;33m]\u001b[0m\u001b[1;33m)\u001b[0m\u001b[1;33m,\u001b[0m \u001b[0maxis\u001b[0m\u001b[1;33m=\u001b[0m\u001b[1;36m1\u001b[0m\u001b[1;33m)\u001b[0m\u001b[1;33m\u001b[0m\u001b[1;33m\u001b[0m\u001b[0m\n\u001b[0m\u001b[0;32m     21\u001b[0m \u001b[1;33m\u001b[0m\u001b[0m\n\u001b[0;32m     22\u001b[0m \u001b[1;31m# Se crea una columna con la diferencia entre el precio real y el precio estimado por el modelos.\u001b[0m\u001b[1;33m\u001b[0m\u001b[1;33m\u001b[0m\u001b[1;33m\u001b[0m\u001b[0m\n",
      "\u001b[1;32m~\\anaconda3\\envs\\dhdsblend2021\\lib\\site-packages\\pandas\\core\\series.py\u001b[0m in \u001b[0;36m__getitem__\u001b[1;34m(self, key)\u001b[0m\n\u001b[0;32m    880\u001b[0m \u001b[1;33m\u001b[0m\u001b[0m\n\u001b[0;32m    881\u001b[0m         \u001b[1;32melif\u001b[0m \u001b[0mkey_is_scalar\u001b[0m\u001b[1;33m:\u001b[0m\u001b[1;33m\u001b[0m\u001b[1;33m\u001b[0m\u001b[0m\n\u001b[1;32m--> 882\u001b[1;33m             \u001b[1;32mreturn\u001b[0m \u001b[0mself\u001b[0m\u001b[1;33m.\u001b[0m\u001b[0m_get_value\u001b[0m\u001b[1;33m(\u001b[0m\u001b[0mkey\u001b[0m\u001b[1;33m)\u001b[0m\u001b[1;33m\u001b[0m\u001b[1;33m\u001b[0m\u001b[0m\n\u001b[0m\u001b[0;32m    883\u001b[0m \u001b[1;33m\u001b[0m\u001b[0m\n\u001b[0;32m    884\u001b[0m         \u001b[1;32mif\u001b[0m \u001b[0mis_hashable\u001b[0m\u001b[1;33m(\u001b[0m\u001b[0mkey\u001b[0m\u001b[1;33m)\u001b[0m\u001b[1;33m:\u001b[0m\u001b[1;33m\u001b[0m\u001b[1;33m\u001b[0m\u001b[0m\n",
      "\u001b[1;32m~\\anaconda3\\envs\\dhdsblend2021\\lib\\site-packages\\pandas\\core\\series.py\u001b[0m in \u001b[0;36m_get_value\u001b[1;34m(self, label, takeable)\u001b[0m\n\u001b[0;32m    988\u001b[0m \u001b[1;33m\u001b[0m\u001b[0m\n\u001b[0;32m    989\u001b[0m         \u001b[1;31m# Similar to Index.get_value, but we do not fall back to positional\u001b[0m\u001b[1;33m\u001b[0m\u001b[1;33m\u001b[0m\u001b[1;33m\u001b[0m\u001b[0m\n\u001b[1;32m--> 990\u001b[1;33m         \u001b[0mloc\u001b[0m \u001b[1;33m=\u001b[0m \u001b[0mself\u001b[0m\u001b[1;33m.\u001b[0m\u001b[0mindex\u001b[0m\u001b[1;33m.\u001b[0m\u001b[0mget_loc\u001b[0m\u001b[1;33m(\u001b[0m\u001b[0mlabel\u001b[0m\u001b[1;33m)\u001b[0m\u001b[1;33m\u001b[0m\u001b[1;33m\u001b[0m\u001b[0m\n\u001b[0m\u001b[0;32m    991\u001b[0m         \u001b[1;32mreturn\u001b[0m \u001b[0mself\u001b[0m\u001b[1;33m.\u001b[0m\u001b[0mindex\u001b[0m\u001b[1;33m.\u001b[0m\u001b[0m_get_values_for_loc\u001b[0m\u001b[1;33m(\u001b[0m\u001b[0mself\u001b[0m\u001b[1;33m,\u001b[0m \u001b[0mloc\u001b[0m\u001b[1;33m,\u001b[0m \u001b[0mlabel\u001b[0m\u001b[1;33m)\u001b[0m\u001b[1;33m\u001b[0m\u001b[1;33m\u001b[0m\u001b[0m\n\u001b[0;32m    992\u001b[0m \u001b[1;33m\u001b[0m\u001b[0m\n",
      "\u001b[1;32m~\\anaconda3\\envs\\dhdsblend2021\\lib\\site-packages\\pandas\\core\\indexes\\base.py\u001b[0m in \u001b[0;36mget_loc\u001b[1;34m(self, key, method, tolerance)\u001b[0m\n\u001b[0;32m   2898\u001b[0m                 \u001b[1;32mreturn\u001b[0m \u001b[0mself\u001b[0m\u001b[1;33m.\u001b[0m\u001b[0m_engine\u001b[0m\u001b[1;33m.\u001b[0m\u001b[0mget_loc\u001b[0m\u001b[1;33m(\u001b[0m\u001b[0mcasted_key\u001b[0m\u001b[1;33m)\u001b[0m\u001b[1;33m\u001b[0m\u001b[1;33m\u001b[0m\u001b[0m\n\u001b[0;32m   2899\u001b[0m             \u001b[1;32mexcept\u001b[0m \u001b[0mKeyError\u001b[0m \u001b[1;32mas\u001b[0m \u001b[0merr\u001b[0m\u001b[1;33m:\u001b[0m\u001b[1;33m\u001b[0m\u001b[1;33m\u001b[0m\u001b[0m\n\u001b[1;32m-> 2900\u001b[1;33m                 \u001b[1;32mraise\u001b[0m \u001b[0mKeyError\u001b[0m\u001b[1;33m(\u001b[0m\u001b[0mkey\u001b[0m\u001b[1;33m)\u001b[0m \u001b[1;32mfrom\u001b[0m \u001b[0merr\u001b[0m\u001b[1;33m\u001b[0m\u001b[1;33m\u001b[0m\u001b[0m\n\u001b[0m\u001b[0;32m   2901\u001b[0m \u001b[1;33m\u001b[0m\u001b[0m\n\u001b[0;32m   2902\u001b[0m         \u001b[1;32mif\u001b[0m \u001b[0mtolerance\u001b[0m \u001b[1;32mis\u001b[0m \u001b[1;32mnot\u001b[0m \u001b[1;32mNone\u001b[0m\u001b[1;33m:\u001b[0m\u001b[1;33m\u001b[0m\u001b[1;33m\u001b[0m\u001b[0m\n",
      "\u001b[1;31mKeyError\u001b[0m: 'price_usd_per_m2_predic_std'"
     ]
    }
   ],
   "source": [
    "# Seleccionar mediante muestreo aleatorio simple una submuestra de 100 (cambiar la columna seleccionada por la columna \n",
    "# del modelo, utilicé el precio aproximado en usd ya que posteriormente vamos a estimar un precio en función del precio/m2 \n",
    "# y la superficie)\n",
    "df_port_std = df2.copy()\n",
    "portafolio = df_port_std['price_aprox_usd'].sample(100)\n",
    "portafolio\n",
    "\n",
    "# Determinar capital inicial\n",
    "\n",
    "cap_inicial = portafolio.sum()\n",
    "print('Nuestro capital inicial es: ', cap_inicial)\n",
    "#display(df_port.loc[:,'price_usd_per_m2'])\n",
    "#Se agrega la columna predicha al DF\n",
    "df_port_std.loc[:,'price_usd_per_m2_predic_std'] = price_usd_per_m2_predic_std\n",
    "\n",
    "# Determinar el error del precio de las propiedades \n",
    "\n",
    "# Se crea una columna con el precio de predicción\n",
    "# (Cambiar los nombres de las columnas por los nombres de las columnas del modelo)\n",
    "df_port_std.loc[:,'price_aprox_usd_predic_std'] = df_port.apply((lambda row: row['price_usd_per_m2_predic_std']*row['surface_total_in_m2']), axis=1)\n",
    "\n",
    "# Se crea una columna con la diferencia entre el precio real y el precio estimado por el modelos. \n",
    "# Se normaliza el error dividiendo por el precio real (cambiar los nombres de las variables)\n",
    "\n",
    "df_port_std.loc[:,'error_normalizado'] = df_port.apply((lambda row: (row['price_aprox_usd_predic_std']-row['price_aprox_usd'])/row['price_aprox_usd']), axis=1)\n",
    "\n",
    "# Se genera una máscara con los índice de las 100 propiedades que más se alejan del valor predicho, con diferencia negativa\n",
    "menor_error_mask_std= df_port['error_normalizado'].sort_values(ascending=False).index\n",
    "\n",
    "# Se crea una columna auxiliar con los valores de las propiedades predichas ordenadas de menor a mayor.\n",
    "prop_menor_precio = df_port.loc[menor_error_mask_std,'price_aprox_usd_predic_std']\n",
    "\n",
    "# Creo una variable y voy sumando el precio de las propiedades más baratas hasta llegar al valor de capital inicial, se cuenta la cantidad de propiedades que se pueden comprar\n",
    "cap_menor = 0\n",
    "cant_prop = 0\n",
    "\n",
    "for x in prop_menor_precio.index:\n",
    "    if cap_menor < cap_inicial:\n",
    "        cap_menor = cap_menor + x\n",
    "        cant_prop = cant_prop + 1\n",
    "\n",
    "cap_menor = cap_menor - prop_menor_precio.iloc[cant_prop]\n",
    "cant_prop = cant_prop-1\n",
    "    \n",
    "print(f'La cantidad de propiedades que se puede comprar es {cant_prop}, el capital necesario es {cap_menor}')"
   ]
  }
 ],
 "metadata": {
  "interpreter": {
   "hash": "e92f0bda4297049adc9b92772b16916edd701ec7184b6bd4967697da34afcdf9"
  },
  "kernelspec": {
   "display_name": "Python 3 (ipykernel)",
   "language": "python",
   "name": "python3"
  },
  "language_info": {
   "codemirror_mode": {
    "name": "ipython",
    "version": 3
   },
   "file_extension": ".py",
   "mimetype": "text/x-python",
   "name": "python",
   "nbconvert_exporter": "python",
   "pygments_lexer": "ipython3",
   "version": "3.8.12"
  }
 },
 "nbformat": 4,
 "nbformat_minor": 5
}
