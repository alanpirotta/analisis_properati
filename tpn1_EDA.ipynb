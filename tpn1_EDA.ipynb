{
 "cells": [
  {
   "cell_type": "markdown",
   "id": "58c2be4a",
   "metadata": {},
   "source": [
    "# Trabajo práctica n°1\n",
    "Se realizará un EDA sobre el csv de properati, para preparar los datos para realizar luego un modelo de predicción de precios.\n",
    "El Dataset se encuentra en: https://drive.google.com/file/d/0BzVrTKc02N8qNUdDSExBQlFTNlU/view?resourcekey=0-4m-28Uq6kWRDBrt2NXFbNQ"
   ]
  },
  {
   "cell_type": "markdown",
   "id": "1dd039b4",
   "metadata": {},
   "source": [
    "## Importación de librerías"
   ]
  },
  {
   "cell_type": "code",
   "execution_count": 1,
   "id": "d3ee3f07",
   "metadata": {
    "execution": {
     "iopub.execute_input": "2022-04-26T01:10:05.076290Z",
     "iopub.status.busy": "2022-04-26T01:10:05.075291Z",
     "iopub.status.idle": "2022-04-26T01:10:07.206802Z",
     "shell.execute_reply": "2022-04-26T01:10:07.205802Z",
     "shell.execute_reply.started": "2022-04-26T01:10:05.075291Z"
    }
   },
   "outputs": [],
   "source": [
    "import numpy as np\n",
    "import pandas as pd\n",
    "import matplotlib.pyplot as plt\n",
    "import seaborn as sns"
   ]
  },
  {
   "cell_type": "markdown",
   "id": "de01716c",
   "metadata": {},
   "source": [
    "## Carga de datos y primera visualización"
   ]
  },
  {
   "cell_type": "code",
   "execution_count": 2,
   "id": "d6b93072",
   "metadata": {
    "execution": {
     "iopub.execute_input": "2022-04-26T01:10:07.209802Z",
     "iopub.status.busy": "2022-04-26T01:10:07.208803Z",
     "iopub.status.idle": "2022-04-26T01:10:09.450818Z",
     "shell.execute_reply": "2022-04-26T01:10:09.449818Z",
     "shell.execute_reply.started": "2022-04-26T01:10:07.209802Z"
    }
   },
   "outputs": [],
   "source": [
    "# Agregar el archivo en la carpeta Data. Ya agregué en el .gitignore que no suba al repositorio nada de la carpeta esa.\n",
    "location = 'Data/properati.csv'\n",
    "data = pd.read_csv(location, index_col=0)"
   ]
  },
  {
   "cell_type": "code",
   "execution_count": 3,
   "id": "a50d13d5",
   "metadata": {
    "execution": {
     "iopub.execute_input": "2022-04-26T01:10:09.451820Z",
     "iopub.status.busy": "2022-04-26T01:10:09.451820Z",
     "iopub.status.idle": "2022-04-26T01:10:09.513820Z",
     "shell.execute_reply": "2022-04-26T01:10:09.512817Z",
     "shell.execute_reply.started": "2022-04-26T01:10:09.451820Z"
    }
   },
   "outputs": [
    {
     "data": {
      "text/html": [
       "<div>\n",
       "<style scoped>\n",
       "    .dataframe tbody tr th:only-of-type {\n",
       "        vertical-align: middle;\n",
       "    }\n",
       "\n",
       "    .dataframe tbody tr th {\n",
       "        vertical-align: top;\n",
       "    }\n",
       "\n",
       "    .dataframe thead th {\n",
       "        text-align: right;\n",
       "    }\n",
       "</style>\n",
       "<table border=\"1\" class=\"dataframe\">\n",
       "  <thead>\n",
       "    <tr style=\"text-align: right;\">\n",
       "      <th></th>\n",
       "      <th>operation</th>\n",
       "      <th>property_type</th>\n",
       "      <th>place_name</th>\n",
       "      <th>place_with_parent_names</th>\n",
       "      <th>country_name</th>\n",
       "      <th>state_name</th>\n",
       "      <th>geonames_id</th>\n",
       "      <th>lat-lon</th>\n",
       "      <th>lat</th>\n",
       "      <th>lon</th>\n",
       "      <th>...</th>\n",
       "      <th>surface_covered_in_m2</th>\n",
       "      <th>price_usd_per_m2</th>\n",
       "      <th>price_per_m2</th>\n",
       "      <th>floor</th>\n",
       "      <th>rooms</th>\n",
       "      <th>expenses</th>\n",
       "      <th>properati_url</th>\n",
       "      <th>description</th>\n",
       "      <th>title</th>\n",
       "      <th>image_thumbnail</th>\n",
       "    </tr>\n",
       "  </thead>\n",
       "  <tbody>\n",
       "    <tr>\n",
       "      <th>0</th>\n",
       "      <td>sell</td>\n",
       "      <td>PH</td>\n",
       "      <td>Mataderos</td>\n",
       "      <td>|Argentina|Capital Federal|Mataderos|</td>\n",
       "      <td>Argentina</td>\n",
       "      <td>Capital Federal</td>\n",
       "      <td>3430787.0</td>\n",
       "      <td>-34.6618237,-58.5088387</td>\n",
       "      <td>-34.661824</td>\n",
       "      <td>-58.508839</td>\n",
       "      <td>...</td>\n",
       "      <td>40.0</td>\n",
       "      <td>1127.272727</td>\n",
       "      <td>1550.000000</td>\n",
       "      <td>NaN</td>\n",
       "      <td>NaN</td>\n",
       "      <td>NaN</td>\n",
       "      <td>http://www.properati.com.ar/15bo8_venta_ph_mat...</td>\n",
       "      <td>2 AMBIENTES TIPO CASA PLANTA BAJA POR PASILLO,...</td>\n",
       "      <td>2 AMB TIPO CASA SIN EXPENSAS EN PB</td>\n",
       "      <td>https://thumbs4.properati.com/8/BluUYiHJLhgIIK...</td>\n",
       "    </tr>\n",
       "    <tr>\n",
       "      <th>1</th>\n",
       "      <td>sell</td>\n",
       "      <td>apartment</td>\n",
       "      <td>La Plata</td>\n",
       "      <td>|Argentina|Bs.As. G.B.A. Zona Sur|La Plata|</td>\n",
       "      <td>Argentina</td>\n",
       "      <td>Bs.As. G.B.A. Zona Sur</td>\n",
       "      <td>3432039.0</td>\n",
       "      <td>-34.9038831,-57.9643295</td>\n",
       "      <td>-34.903883</td>\n",
       "      <td>-57.964330</td>\n",
       "      <td>...</td>\n",
       "      <td>NaN</td>\n",
       "      <td>NaN</td>\n",
       "      <td>NaN</td>\n",
       "      <td>NaN</td>\n",
       "      <td>NaN</td>\n",
       "      <td>NaN</td>\n",
       "      <td>http://www.properati.com.ar/15bob_venta_depart...</td>\n",
       "      <td>Venta de departamento en décimo piso al frente...</td>\n",
       "      <td>VENTA Depto 2 dorm. a estrenar 7 e/ 36 y 37   ...</td>\n",
       "      <td>https://thumbs4.properati.com/7/ikpVBu2ztHA7jv...</td>\n",
       "    </tr>\n",
       "    <tr>\n",
       "      <th>2</th>\n",
       "      <td>sell</td>\n",
       "      <td>apartment</td>\n",
       "      <td>Mataderos</td>\n",
       "      <td>|Argentina|Capital Federal|Mataderos|</td>\n",
       "      <td>Argentina</td>\n",
       "      <td>Capital Federal</td>\n",
       "      <td>3430787.0</td>\n",
       "      <td>-34.6522615,-58.5229825</td>\n",
       "      <td>-34.652262</td>\n",
       "      <td>-58.522982</td>\n",
       "      <td>...</td>\n",
       "      <td>55.0</td>\n",
       "      <td>1309.090909</td>\n",
       "      <td>1309.090909</td>\n",
       "      <td>NaN</td>\n",
       "      <td>NaN</td>\n",
       "      <td>NaN</td>\n",
       "      <td>http://www.properati.com.ar/15bod_venta_depart...</td>\n",
       "      <td>2 AMBIENTES 3ER PISO LATERAL LIVING COMEDOR AM...</td>\n",
       "      <td>2 AMB 3ER PISO CON ASCENSOR APTO CREDITO</td>\n",
       "      <td>https://thumbs4.properati.com/5/SXKr34F_IwG3W_...</td>\n",
       "    </tr>\n",
       "    <tr>\n",
       "      <th>3</th>\n",
       "      <td>sell</td>\n",
       "      <td>PH</td>\n",
       "      <td>Liniers</td>\n",
       "      <td>|Argentina|Capital Federal|Liniers|</td>\n",
       "      <td>Argentina</td>\n",
       "      <td>Capital Federal</td>\n",
       "      <td>3431333.0</td>\n",
       "      <td>-34.6477969,-58.5164244</td>\n",
       "      <td>-34.647797</td>\n",
       "      <td>-58.516424</td>\n",
       "      <td>...</td>\n",
       "      <td>NaN</td>\n",
       "      <td>NaN</td>\n",
       "      <td>NaN</td>\n",
       "      <td>NaN</td>\n",
       "      <td>NaN</td>\n",
       "      <td>NaN</td>\n",
       "      <td>http://www.properati.com.ar/15boh_venta_ph_lin...</td>\n",
       "      <td>PH 3 ambientes con patio. Hay 3 deptos en lote...</td>\n",
       "      <td>PH 3 amb. cfte. reciclado</td>\n",
       "      <td>https://thumbs4.properati.com/3/DgIfX-85Mog5SP...</td>\n",
       "    </tr>\n",
       "    <tr>\n",
       "      <th>4</th>\n",
       "      <td>sell</td>\n",
       "      <td>apartment</td>\n",
       "      <td>Centro</td>\n",
       "      <td>|Argentina|Buenos Aires Costa Atlántica|Mar de...</td>\n",
       "      <td>Argentina</td>\n",
       "      <td>Buenos Aires Costa Atlántica</td>\n",
       "      <td>3435548.0</td>\n",
       "      <td>-38.0026256,-57.5494468</td>\n",
       "      <td>-38.002626</td>\n",
       "      <td>-57.549447</td>\n",
       "      <td>...</td>\n",
       "      <td>35.0</td>\n",
       "      <td>1828.571429</td>\n",
       "      <td>1828.571429</td>\n",
       "      <td>NaN</td>\n",
       "      <td>NaN</td>\n",
       "      <td>NaN</td>\n",
       "      <td>http://www.properati.com.ar/15bok_venta_depart...</td>\n",
       "      <td>DEPARTAMENTO CON FANTÁSTICA ILUMINACIÓN NATURA...</td>\n",
       "      <td>DEPTO 2 AMB AL CONTRAFRENTE ZONA CENTRO/PLAZA ...</td>\n",
       "      <td>https://thumbs4.properati.com/5/xrRqlNcSI_vs-f...</td>\n",
       "    </tr>\n",
       "  </tbody>\n",
       "</table>\n",
       "<p>5 rows × 25 columns</p>\n",
       "</div>"
      ],
      "text/plain": [
       "  operation property_type place_name  \\\n",
       "0      sell            PH  Mataderos   \n",
       "1      sell     apartment   La Plata   \n",
       "2      sell     apartment  Mataderos   \n",
       "3      sell            PH    Liniers   \n",
       "4      sell     apartment     Centro   \n",
       "\n",
       "                             place_with_parent_names country_name  \\\n",
       "0              |Argentina|Capital Federal|Mataderos|    Argentina   \n",
       "1        |Argentina|Bs.As. G.B.A. Zona Sur|La Plata|    Argentina   \n",
       "2              |Argentina|Capital Federal|Mataderos|    Argentina   \n",
       "3                |Argentina|Capital Federal|Liniers|    Argentina   \n",
       "4  |Argentina|Buenos Aires Costa Atlántica|Mar de...    Argentina   \n",
       "\n",
       "                     state_name  geonames_id                  lat-lon  \\\n",
       "0               Capital Federal    3430787.0  -34.6618237,-58.5088387   \n",
       "1        Bs.As. G.B.A. Zona Sur    3432039.0  -34.9038831,-57.9643295   \n",
       "2               Capital Federal    3430787.0  -34.6522615,-58.5229825   \n",
       "3               Capital Federal    3431333.0  -34.6477969,-58.5164244   \n",
       "4  Buenos Aires Costa Atlántica    3435548.0  -38.0026256,-57.5494468   \n",
       "\n",
       "         lat        lon  ...  surface_covered_in_m2 price_usd_per_m2  \\\n",
       "0 -34.661824 -58.508839  ...                   40.0      1127.272727   \n",
       "1 -34.903883 -57.964330  ...                    NaN              NaN   \n",
       "2 -34.652262 -58.522982  ...                   55.0      1309.090909   \n",
       "3 -34.647797 -58.516424  ...                    NaN              NaN   \n",
       "4 -38.002626 -57.549447  ...                   35.0      1828.571429   \n",
       "\n",
       "   price_per_m2  floor  rooms  expenses  \\\n",
       "0   1550.000000    NaN    NaN       NaN   \n",
       "1           NaN    NaN    NaN       NaN   \n",
       "2   1309.090909    NaN    NaN       NaN   \n",
       "3           NaN    NaN    NaN       NaN   \n",
       "4   1828.571429    NaN    NaN       NaN   \n",
       "\n",
       "                                       properati_url  \\\n",
       "0  http://www.properati.com.ar/15bo8_venta_ph_mat...   \n",
       "1  http://www.properati.com.ar/15bob_venta_depart...   \n",
       "2  http://www.properati.com.ar/15bod_venta_depart...   \n",
       "3  http://www.properati.com.ar/15boh_venta_ph_lin...   \n",
       "4  http://www.properati.com.ar/15bok_venta_depart...   \n",
       "\n",
       "                                         description  \\\n",
       "0  2 AMBIENTES TIPO CASA PLANTA BAJA POR PASILLO,...   \n",
       "1  Venta de departamento en décimo piso al frente...   \n",
       "2  2 AMBIENTES 3ER PISO LATERAL LIVING COMEDOR AM...   \n",
       "3  PH 3 ambientes con patio. Hay 3 deptos en lote...   \n",
       "4  DEPARTAMENTO CON FANTÁSTICA ILUMINACIÓN NATURA...   \n",
       "\n",
       "                                               title  \\\n",
       "0                 2 AMB TIPO CASA SIN EXPENSAS EN PB   \n",
       "1  VENTA Depto 2 dorm. a estrenar 7 e/ 36 y 37   ...   \n",
       "2           2 AMB 3ER PISO CON ASCENSOR APTO CREDITO   \n",
       "3                       PH 3 amb. cfte. reciclado      \n",
       "4  DEPTO 2 AMB AL CONTRAFRENTE ZONA CENTRO/PLAZA ...   \n",
       "\n",
       "                                     image_thumbnail  \n",
       "0  https://thumbs4.properati.com/8/BluUYiHJLhgIIK...  \n",
       "1  https://thumbs4.properati.com/7/ikpVBu2ztHA7jv...  \n",
       "2  https://thumbs4.properati.com/5/SXKr34F_IwG3W_...  \n",
       "3  https://thumbs4.properati.com/3/DgIfX-85Mog5SP...  \n",
       "4  https://thumbs4.properati.com/5/xrRqlNcSI_vs-f...  \n",
       "\n",
       "[5 rows x 25 columns]"
      ]
     },
     "execution_count": 3,
     "metadata": {},
     "output_type": "execute_result"
    }
   ],
   "source": [
    "data.head()"
   ]
  },
  {
   "cell_type": "markdown",
   "id": "f1a3f24b",
   "metadata": {},
   "source": [
    "### Hago un info() para ver cantidad de valores faltantes, los tipos de datos y las columnas"
   ]
  },
  {
   "cell_type": "code",
   "execution_count": 4,
   "id": "4c16007b",
   "metadata": {
    "execution": {
     "iopub.execute_input": "2022-04-26T01:10:09.516820Z",
     "iopub.status.busy": "2022-04-26T01:10:09.515822Z",
     "iopub.status.idle": "2022-04-26T01:10:09.641816Z",
     "shell.execute_reply": "2022-04-26T01:10:09.640818Z",
     "shell.execute_reply.started": "2022-04-26T01:10:09.516820Z"
    }
   },
   "outputs": [
    {
     "name": "stdout",
     "output_type": "stream",
     "text": [
      "<class 'pandas.core.frame.DataFrame'>\n",
      "Int64Index: 121220 entries, 0 to 121219\n",
      "Data columns (total 25 columns):\n",
      " #   Column                      Non-Null Count   Dtype  \n",
      "---  ------                      --------------   -----  \n",
      " 0   operation                   121220 non-null  object \n",
      " 1   property_type               121220 non-null  object \n",
      " 2   place_name                  121197 non-null  object \n",
      " 3   place_with_parent_names     121220 non-null  object \n",
      " 4   country_name                121220 non-null  object \n",
      " 5   state_name                  121220 non-null  object \n",
      " 6   geonames_id                 102503 non-null  float64\n",
      " 7   lat-lon                     69670 non-null   object \n",
      " 8   lat                         69670 non-null   float64\n",
      " 9   lon                         69670 non-null   float64\n",
      " 10  price                       100810 non-null  float64\n",
      " 11  currency                    100809 non-null  object \n",
      " 12  price_aprox_local_currency  100810 non-null  float64\n",
      " 13  price_aprox_usd             100810 non-null  float64\n",
      " 14  surface_total_in_m2         81892 non-null   float64\n",
      " 15  surface_covered_in_m2       101313 non-null  float64\n",
      " 16  price_usd_per_m2            68617 non-null   float64\n",
      " 17  price_per_m2                87658 non-null   float64\n",
      " 18  floor                       7899 non-null    float64\n",
      " 19  rooms                       47390 non-null   float64\n",
      " 20  expenses                    14262 non-null   float64\n",
      " 21  properati_url               121220 non-null  object \n",
      " 22  description                 121218 non-null  object \n",
      " 23  title                       121220 non-null  object \n",
      " 24  image_thumbnail             118108 non-null  object \n",
      "dtypes: float64(13), object(12)\n",
      "memory usage: 24.0+ MB\n"
     ]
    }
   ],
   "source": [
    "data.info()"
   ]
  },
  {
   "cell_type": "code",
   "execution_count": 5,
   "id": "63a8573b",
   "metadata": {
    "execution": {
     "iopub.execute_input": "2022-04-26T01:10:09.643825Z",
     "iopub.status.busy": "2022-04-26T01:10:09.642819Z",
     "iopub.status.idle": "2022-04-26T01:10:09.862818Z",
     "shell.execute_reply": "2022-04-26T01:10:09.861817Z",
     "shell.execute_reply.started": "2022-04-26T01:10:09.643825Z"
    }
   },
   "outputs": [
    {
     "data": {
      "text/html": [
       "<div>\n",
       "<style scoped>\n",
       "    .dataframe tbody tr th:only-of-type {\n",
       "        vertical-align: middle;\n",
       "    }\n",
       "\n",
       "    .dataframe tbody tr th {\n",
       "        vertical-align: top;\n",
       "    }\n",
       "\n",
       "    .dataframe thead th {\n",
       "        text-align: right;\n",
       "    }\n",
       "</style>\n",
       "<table border=\"1\" class=\"dataframe\">\n",
       "  <thead>\n",
       "    <tr style=\"text-align: right;\">\n",
       "      <th></th>\n",
       "      <th>geonames_id</th>\n",
       "      <th>lat</th>\n",
       "      <th>lon</th>\n",
       "      <th>price</th>\n",
       "      <th>price_aprox_local_currency</th>\n",
       "      <th>price_aprox_usd</th>\n",
       "      <th>surface_total_in_m2</th>\n",
       "      <th>surface_covered_in_m2</th>\n",
       "      <th>price_usd_per_m2</th>\n",
       "      <th>price_per_m2</th>\n",
       "      <th>floor</th>\n",
       "      <th>rooms</th>\n",
       "      <th>expenses</th>\n",
       "    </tr>\n",
       "  </thead>\n",
       "  <tbody>\n",
       "    <tr>\n",
       "      <th>count</th>\n",
       "      <td>1.025030e+05</td>\n",
       "      <td>69670.000000</td>\n",
       "      <td>69670.000000</td>\n",
       "      <td>1.008100e+05</td>\n",
       "      <td>1.008100e+05</td>\n",
       "      <td>1.008100e+05</td>\n",
       "      <td>81892.000000</td>\n",
       "      <td>101313.000000</td>\n",
       "      <td>68617.000000</td>\n",
       "      <td>8.765800e+04</td>\n",
       "      <td>7899.000000</td>\n",
       "      <td>47390.000000</td>\n",
       "      <td>1.426200e+04</td>\n",
       "    </tr>\n",
       "    <tr>\n",
       "      <th>mean</th>\n",
       "      <td>3.574442e+06</td>\n",
       "      <td>-34.626210</td>\n",
       "      <td>-59.266290</td>\n",
       "      <td>4.685259e+05</td>\n",
       "      <td>4.229397e+06</td>\n",
       "      <td>2.397006e+05</td>\n",
       "      <td>233.795328</td>\n",
       "      <td>133.050181</td>\n",
       "      <td>2160.086916</td>\n",
       "      <td>6.912216e+03</td>\n",
       "      <td>17.452336</td>\n",
       "      <td>3.080840</td>\n",
       "      <td>5.009234e+03</td>\n",
       "    </tr>\n",
       "    <tr>\n",
       "      <th>std</th>\n",
       "      <td>3.541306e+05</td>\n",
       "      <td>1.980936</td>\n",
       "      <td>2.299922</td>\n",
       "      <td>2.260101e+06</td>\n",
       "      <td>6.904714e+06</td>\n",
       "      <td>3.913239e+05</td>\n",
       "      <td>1782.222147</td>\n",
       "      <td>724.351479</td>\n",
       "      <td>2759.288621</td>\n",
       "      <td>2.837864e+04</td>\n",
       "      <td>120.243621</td>\n",
       "      <td>1.860773</td>\n",
       "      <td>1.204403e+05</td>\n",
       "    </tr>\n",
       "    <tr>\n",
       "      <th>min</th>\n",
       "      <td>3.427208e+06</td>\n",
       "      <td>-54.823985</td>\n",
       "      <td>-75.678931</td>\n",
       "      <td>0.000000e+00</td>\n",
       "      <td>0.000000e+00</td>\n",
       "      <td>0.000000e+00</td>\n",
       "      <td>0.000000</td>\n",
       "      <td>0.000000</td>\n",
       "      <td>0.600000</td>\n",
       "      <td>1.510204e+00</td>\n",
       "      <td>1.000000</td>\n",
       "      <td>1.000000</td>\n",
       "      <td>1.000000e+00</td>\n",
       "    </tr>\n",
       "    <tr>\n",
       "      <th>25%</th>\n",
       "      <td>3.430234e+06</td>\n",
       "      <td>-34.669065</td>\n",
       "      <td>-58.727040</td>\n",
       "      <td>1.100000e+05</td>\n",
       "      <td>1.583309e+06</td>\n",
       "      <td>8.973388e+04</td>\n",
       "      <td>50.000000</td>\n",
       "      <td>45.000000</td>\n",
       "      <td>1218.181818</td>\n",
       "      <td>1.550000e+03</td>\n",
       "      <td>1.000000</td>\n",
       "      <td>2.000000</td>\n",
       "      <td>1.000000e+03</td>\n",
       "    </tr>\n",
       "    <tr>\n",
       "      <th>50%</th>\n",
       "      <td>3.433910e+06</td>\n",
       "      <td>-34.597985</td>\n",
       "      <td>-58.480128</td>\n",
       "      <td>1.850000e+05</td>\n",
       "      <td>2.558452e+06</td>\n",
       "      <td>1.450000e+05</td>\n",
       "      <td>84.000000</td>\n",
       "      <td>75.000000</td>\n",
       "      <td>1800.000000</td>\n",
       "      <td>2.213115e+03</td>\n",
       "      <td>3.000000</td>\n",
       "      <td>3.000000</td>\n",
       "      <td>2.000000e+03</td>\n",
       "    </tr>\n",
       "    <tr>\n",
       "      <th>75%</th>\n",
       "      <td>3.836668e+06</td>\n",
       "      <td>-34.441299</td>\n",
       "      <td>-58.395908</td>\n",
       "      <td>4.200000e+05</td>\n",
       "      <td>4.675792e+06</td>\n",
       "      <td>2.650000e+05</td>\n",
       "      <td>200.000000</td>\n",
       "      <td>150.000000</td>\n",
       "      <td>2486.411765</td>\n",
       "      <td>3.355549e+03</td>\n",
       "      <td>6.000000</td>\n",
       "      <td>4.000000</td>\n",
       "      <td>4.000000e+03</td>\n",
       "    </tr>\n",
       "    <tr>\n",
       "      <th>max</th>\n",
       "      <td>6.948895e+06</td>\n",
       "      <td>4.545843</td>\n",
       "      <td>-53.733330</td>\n",
       "      <td>6.500000e+08</td>\n",
       "      <td>8.212711e+08</td>\n",
       "      <td>4.654544e+07</td>\n",
       "      <td>200000.000000</td>\n",
       "      <td>187000.000000</td>\n",
       "      <td>206333.333333</td>\n",
       "      <td>4.000000e+06</td>\n",
       "      <td>3150.000000</td>\n",
       "      <td>32.000000</td>\n",
       "      <td>1.000150e+07</td>\n",
       "    </tr>\n",
       "  </tbody>\n",
       "</table>\n",
       "</div>"
      ],
      "text/plain": [
       "        geonames_id           lat           lon         price  \\\n",
       "count  1.025030e+05  69670.000000  69670.000000  1.008100e+05   \n",
       "mean   3.574442e+06    -34.626210    -59.266290  4.685259e+05   \n",
       "std    3.541306e+05      1.980936      2.299922  2.260101e+06   \n",
       "min    3.427208e+06    -54.823985    -75.678931  0.000000e+00   \n",
       "25%    3.430234e+06    -34.669065    -58.727040  1.100000e+05   \n",
       "50%    3.433910e+06    -34.597985    -58.480128  1.850000e+05   \n",
       "75%    3.836668e+06    -34.441299    -58.395908  4.200000e+05   \n",
       "max    6.948895e+06      4.545843    -53.733330  6.500000e+08   \n",
       "\n",
       "       price_aprox_local_currency  price_aprox_usd  surface_total_in_m2  \\\n",
       "count                1.008100e+05     1.008100e+05         81892.000000   \n",
       "mean                 4.229397e+06     2.397006e+05           233.795328   \n",
       "std                  6.904714e+06     3.913239e+05          1782.222147   \n",
       "min                  0.000000e+00     0.000000e+00             0.000000   \n",
       "25%                  1.583309e+06     8.973388e+04            50.000000   \n",
       "50%                  2.558452e+06     1.450000e+05            84.000000   \n",
       "75%                  4.675792e+06     2.650000e+05           200.000000   \n",
       "max                  8.212711e+08     4.654544e+07        200000.000000   \n",
       "\n",
       "       surface_covered_in_m2  price_usd_per_m2  price_per_m2        floor  \\\n",
       "count          101313.000000      68617.000000  8.765800e+04  7899.000000   \n",
       "mean              133.050181       2160.086916  6.912216e+03    17.452336   \n",
       "std               724.351479       2759.288621  2.837864e+04   120.243621   \n",
       "min                 0.000000          0.600000  1.510204e+00     1.000000   \n",
       "25%                45.000000       1218.181818  1.550000e+03     1.000000   \n",
       "50%                75.000000       1800.000000  2.213115e+03     3.000000   \n",
       "75%               150.000000       2486.411765  3.355549e+03     6.000000   \n",
       "max            187000.000000     206333.333333  4.000000e+06  3150.000000   \n",
       "\n",
       "              rooms      expenses  \n",
       "count  47390.000000  1.426200e+04  \n",
       "mean       3.080840  5.009234e+03  \n",
       "std        1.860773  1.204403e+05  \n",
       "min        1.000000  1.000000e+00  \n",
       "25%        2.000000  1.000000e+03  \n",
       "50%        3.000000  2.000000e+03  \n",
       "75%        4.000000  4.000000e+03  \n",
       "max       32.000000  1.000150e+07  "
      ]
     },
     "execution_count": 5,
     "metadata": {},
     "output_type": "execute_result"
    }
   ],
   "source": [
    "data.describe()"
   ]
  },
  {
   "cell_type": "markdown",
   "id": "5ed0ee69",
   "metadata": {
    "execution": {
     "iopub.execute_input": "2022-04-26T00:44:44.712396Z",
     "iopub.status.busy": "2022-04-26T00:44:44.712396Z",
     "iopub.status.idle": "2022-04-26T00:44:44.731566Z",
     "shell.execute_reply": "2022-04-26T00:44:44.730577Z",
     "shell.execute_reply.started": "2022-04-26T00:44:44.712396Z"
    }
   },
   "source": [
    "## value_counts() de las columnas"
   ]
  },
  {
   "cell_type": "code",
   "execution_count": 6,
   "id": "eb8db064",
   "metadata": {
    "execution": {
     "iopub.execute_input": "2022-04-26T01:10:09.864822Z",
     "iopub.status.busy": "2022-04-26T01:10:09.863819Z",
     "iopub.status.idle": "2022-04-26T01:10:09.878822Z",
     "shell.execute_reply": "2022-04-26T01:10:09.877818Z",
     "shell.execute_reply.started": "2022-04-26T01:10:09.864822Z"
    }
   },
   "outputs": [
    {
     "data": {
      "text/plain": [
       "'2 AMBIENTES TIPO CASA PLANTA BAJA POR PASILLO, REFACCIONADO A NUEVO, PATIO GRANDE, CON LAVADERO, LIVING COMEDOR CON COCINA INTEGRADA, ARTEFACTO DE COCINA, ALACENA, BAÑO COMPLETO, Y DORMITORIO. TODO EN EXCELENTE ESTADO, PARA HABITAR.NO ES APTO CREDITO Aviso publicado por Pixel Inmobiliario (Servicio de Páginas Web para Inmobiliarias).'"
      ]
     },
     "execution_count": 6,
     "metadata": {},
     "output_type": "execute_result"
    }
   ],
   "source": [
    "# Ejemplo de una descripción, para plantear futuros regex \n",
    "data['description'][0]"
   ]
  },
  {
   "cell_type": "code",
   "execution_count": 7,
   "id": "b32834ad",
   "metadata": {
    "execution": {
     "iopub.execute_input": "2022-04-26T01:10:09.881936Z",
     "iopub.status.busy": "2022-04-26T01:10:09.880820Z",
     "iopub.status.idle": "2022-04-26T01:10:09.926818Z",
     "shell.execute_reply": "2022-04-26T01:10:09.925818Z",
     "shell.execute_reply.started": "2022-04-26T01:10:09.880820Z"
    }
   },
   "outputs": [
    {
     "data": {
      "text/plain": [
       "sell    121220\n",
       "Name: operation, dtype: int64"
      ]
     },
     "execution_count": 7,
     "metadata": {},
     "output_type": "execute_result"
    }
   ],
   "source": [
    "data['operation'].value_counts()"
   ]
  },
  {
   "cell_type": "code",
   "execution_count": 8,
   "id": "0b5e4c83",
   "metadata": {
    "execution": {
     "iopub.execute_input": "2022-04-26T01:10:09.930819Z",
     "iopub.status.busy": "2022-04-26T01:10:09.928818Z",
     "iopub.status.idle": "2022-04-26T01:10:09.973820Z",
     "shell.execute_reply": "2022-04-26T01:10:09.972820Z",
     "shell.execute_reply.started": "2022-04-26T01:10:09.930819Z"
    }
   },
   "outputs": [
    {
     "data": {
      "text/plain": [
       "apartment    71065\n",
       "house        40268\n",
       "PH            5751\n",
       "store         4136\n",
       "Name: property_type, dtype: int64"
      ]
     },
     "execution_count": 8,
     "metadata": {},
     "output_type": "execute_result"
    }
   ],
   "source": [
    "# Tipos de propiedades\n",
    "data['property_type'].value_counts()"
   ]
  },
  {
   "cell_type": "code",
   "execution_count": 9,
   "id": "d64fb61e",
   "metadata": {
    "execution": {
     "iopub.execute_input": "2022-04-26T01:10:09.976820Z",
     "iopub.status.busy": "2022-04-26T01:10:09.975819Z",
     "iopub.status.idle": "2022-04-26T01:10:10.020818Z",
     "shell.execute_reply": "2022-04-26T01:10:10.019819Z",
     "shell.execute_reply.started": "2022-04-26T01:10:09.976820Z"
    }
   },
   "outputs": [
    {
     "data": {
      "text/plain": [
       "Capital Federal                 32316\n",
       "Bs.As. G.B.A. Zona Norte        25560\n",
       "Bs.As. G.B.A. Zona Sur          13952\n",
       "Córdoba                         12069\n",
       "Santa Fe                        10172\n",
       "Buenos Aires Costa Atlántica    10006\n",
       "Bs.As. G.B.A. Zona Oeste         9322\n",
       "Buenos Aires Interior            2291\n",
       "Río Negro                         808\n",
       "Neuquén                           733\n",
       "Mendoza                           681\n",
       "Tucumán                           674\n",
       "Corrientes                        583\n",
       "Misiones                          464\n",
       "Entre Ríos                        369\n",
       "Salta                             278\n",
       "Chubut                            259\n",
       "San Luis                          252\n",
       "La Pampa                          157\n",
       "Formosa                            65\n",
       "Chaco                              57\n",
       "San Juan                           40\n",
       "Tierra Del Fuego                   31\n",
       "Catamarca                          27\n",
       "Jujuy                              26\n",
       "Santa Cruz                         20\n",
       "Santiago Del Estero                 4\n",
       "La Rioja                            4\n",
       "Name: state_name, dtype: int64"
      ]
     },
     "execution_count": 9,
     "metadata": {},
     "output_type": "execute_result"
    }
   ],
   "source": [
    "data['state_name'].value_counts()"
   ]
  },
  {
   "cell_type": "code",
   "execution_count": 10,
   "id": "8911c3bc",
   "metadata": {
    "execution": {
     "iopub.execute_input": "2022-04-26T01:10:10.023819Z",
     "iopub.status.busy": "2022-04-26T01:10:10.022822Z",
     "iopub.status.idle": "2022-04-26T01:10:10.052817Z",
     "shell.execute_reply": "2022-04-26T01:10:10.051816Z",
     "shell.execute_reply.started": "2022-04-26T01:10:10.023819Z"
    }
   },
   "outputs": [
    {
     "data": {
      "text/plain": [
       "1061"
      ]
     },
     "execution_count": 10,
     "metadata": {},
     "output_type": "execute_result"
    }
   ],
   "source": [
    "# Cantidad de barrios\n",
    "len(data.place_name.unique())"
   ]
  },
  {
   "cell_type": "code",
   "execution_count": 11,
   "id": "db475f4b",
   "metadata": {
    "execution": {
     "iopub.execute_input": "2022-04-26T01:10:10.054819Z",
     "iopub.status.busy": "2022-04-26T01:10:10.054819Z",
     "iopub.status.idle": "2022-04-26T01:10:10.084820Z",
     "shell.execute_reply": "2022-04-26T01:10:10.083819Z",
     "shell.execute_reply.started": "2022-04-26T01:10:10.054819Z"
    }
   },
   "outputs": [
    {
     "data": {
      "text/plain": [
       "USD    87587\n",
       "ARS    13219\n",
       "PEN        2\n",
       "UYU        1\n",
       "Name: currency, dtype: int64"
      ]
     },
     "execution_count": 11,
     "metadata": {},
     "output_type": "execute_result"
    }
   ],
   "source": [
    "data['currency'].value_counts()"
   ]
  },
  {
   "cell_type": "code",
   "execution_count": 12,
   "id": "9d74dedb",
   "metadata": {
    "execution": {
     "iopub.execute_input": "2022-04-26T01:10:10.086823Z",
     "iopub.status.busy": "2022-04-26T01:10:10.086823Z",
     "iopub.status.idle": "2022-04-26T01:10:10.116820Z",
     "shell.execute_reply": "2022-04-26T01:10:10.114821Z",
     "shell.execute_reply.started": "2022-04-26T01:10:10.086823Z"
    }
   },
   "outputs": [
    {
     "data": {
      "text/plain": [
       "3838574.0    8504\n",
       "3860259.0    6606\n",
       "3430863.0    6534\n",
       "3430234.0    3279\n",
       "3436077.0    2992\n",
       "             ... \n",
       "3839107.0       1\n",
       "3863890.0       1\n",
       "3838859.0       1\n",
       "3864851.0       1\n",
       "3860197.0       1\n",
       "Name: geonames_id, Length: 646, dtype: int64"
      ]
     },
     "execution_count": 12,
     "metadata": {},
     "output_type": "execute_result"
    }
   ],
   "source": [
    "data.geonames_id.value_counts()"
   ]
  },
  {
   "cell_type": "code",
   "execution_count": 13,
   "id": "468364c2",
   "metadata": {
    "execution": {
     "iopub.execute_input": "2022-04-26T01:10:10.120819Z",
     "iopub.status.busy": "2022-04-26T01:10:10.120819Z",
     "iopub.status.idle": "2022-04-26T01:10:10.148817Z",
     "shell.execute_reply": "2022-04-26T01:10:10.146819Z",
     "shell.execute_reply.started": "2022-04-26T01:10:10.120819Z"
    }
   },
   "outputs": [
    {
     "data": {
      "text/plain": [
       "1.0      2080\n",
       "2.0      1542\n",
       "3.0       914\n",
       "4.0       658\n",
       "5.0       484\n",
       "         ... \n",
       "124.0       1\n",
       "691.0       1\n",
       "205.0       1\n",
       "302.0       1\n",
       "30.0        1\n",
       "Name: floor, Length: 182, dtype: int64"
      ]
     },
     "execution_count": 13,
     "metadata": {},
     "output_type": "execute_result"
    }
   ],
   "source": [
    "data.floor.value_counts()"
   ]
  },
  {
   "cell_type": "markdown",
   "id": "7b386ecd",
   "metadata": {},
   "source": [
    "Primeras conclusiones y dudas:\n",
    "- Sólo incluyen ventas.\n",
    "- geonames_id corresponde al place_name (barrio?)?\n",
    "- floor, no sabemos a que corresponde, puede ser cantidad de pisos, o en que piso se ubica\n",
    "- Hay un par de currencies que no tienen sentido, ver\n",
    "- 4 tipos de propiedades, considerar al analizar las demás columnas\n",
    "- "
   ]
  },
  {
   "cell_type": "markdown",
   "id": "441f70c0",
   "metadata": {},
   "source": [
    "**Primeras impresiones de Alan:**  \n",
    "- Algunos datos no pueden ser correctos (por ej el máx en lat y el mínimo en precio). Revisar datos incoherentes con los demás\n",
    "- Ver correlación entre columnas, para ver si puede descartarse alguna rápidamente o unificar dos.\n",
    "- Unificar un poco el tema de la moneda. Ideas:\n",
    "    - Crear una columna de conversión pesos/dólares se pueda observar mejor la relación. Considerar después la correlación con la fecha capaz?\n",
    "    - Definir si el precio que se quiere predecir es en dólares o en pesos (quizás depende de alquiler/compra?)\n",
    "    - Analizar la columna precio. Esta es la crítica, ya que define en qué moneda se vende, pero creo que no sirve al tener dos escalas diferentes dentro (separar en dos?).  \n",
    "    - *Duda:* En el modelo, reconocería los dos rangos al tener los dos valores posibles en la columna moneda? \n",
    "- Muchos datos faltantes, hay que decidir qué hacer. Ideas:\n",
    "    - Ver de eliminarlos (faltan 3 datos de place_name) o los que le faltan precio/m2 y no se pueden calcular directo desde las otras columnas (si estimamos esto, estaríamos prediciendo por encima del modelo posterior)\n",
    "    - Calcular desde otras columnas, como las equivalencias entre precios o quizás lat-lon considerando place_name\n",
    "    - Considerar un valor único (por ej, expensas y piso serían 0 probablemente en los datos faltantes)\n",
    "    - Usar la columna descripción o título para sacar los datos (por ej cantidad de dormitorios). regex?"
   ]
  },
  {
   "cell_type": "markdown",
   "id": "0141ff6d",
   "metadata": {
    "execution": {
     "iopub.execute_input": "2022-04-26T00:55:08.111354Z",
     "iopub.status.busy": "2022-04-26T00:55:08.111354Z",
     "iopub.status.idle": "2022-04-26T00:55:08.124350Z",
     "shell.execute_reply": "2022-04-26T00:55:08.123347Z",
     "shell.execute_reply.started": "2022-04-26T00:55:08.111354Z"
    }
   },
   "source": [
    "**Puntos a considerar, sacados de la reunión:**\n",
    "- Si es Casa o pH sería 0 de expensas. Sino, se puede estimar desde la descripción capaz?  "
   ]
  },
  {
   "cell_type": "markdown",
   "id": "0d7f558c",
   "metadata": {},
   "source": [
    "## Misceláneos"
   ]
  },
  {
   "cell_type": "code",
   "execution_count": 14,
   "id": "70b9adbb",
   "metadata": {
    "execution": {
     "iopub.execute_input": "2022-04-26T01:10:10.154820Z",
     "iopub.status.busy": "2022-04-26T01:10:10.154820Z",
     "iopub.status.idle": "2022-04-26T01:10:10.226818Z",
     "shell.execute_reply": "2022-04-26T01:10:10.225820Z",
     "shell.execute_reply.started": "2022-04-26T01:10:10.154820Z"
    }
   },
   "outputs": [
    {
     "data": {
      "text/html": [
       "<div>\n",
       "<style scoped>\n",
       "    .dataframe tbody tr th:only-of-type {\n",
       "        vertical-align: middle;\n",
       "    }\n",
       "\n",
       "    .dataframe tbody tr th {\n",
       "        vertical-align: top;\n",
       "    }\n",
       "\n",
       "    .dataframe thead th {\n",
       "        text-align: right;\n",
       "    }\n",
       "</style>\n",
       "<table border=\"1\" class=\"dataframe\">\n",
       "  <thead>\n",
       "    <tr style=\"text-align: right;\">\n",
       "      <th></th>\n",
       "      <th>operation</th>\n",
       "      <th>property_type</th>\n",
       "      <th>place_name</th>\n",
       "      <th>place_with_parent_names</th>\n",
       "      <th>country_name</th>\n",
       "      <th>state_name</th>\n",
       "      <th>geonames_id</th>\n",
       "      <th>lat-lon</th>\n",
       "      <th>lat</th>\n",
       "      <th>lon</th>\n",
       "      <th>...</th>\n",
       "      <th>surface_covered_in_m2</th>\n",
       "      <th>price_usd_per_m2</th>\n",
       "      <th>price_per_m2</th>\n",
       "      <th>floor</th>\n",
       "      <th>rooms</th>\n",
       "      <th>expenses</th>\n",
       "      <th>properati_url</th>\n",
       "      <th>description</th>\n",
       "      <th>title</th>\n",
       "      <th>image_thumbnail</th>\n",
       "    </tr>\n",
       "  </thead>\n",
       "  <tbody>\n",
       "    <tr>\n",
       "      <th>83</th>\n",
       "      <td>sell</td>\n",
       "      <td>apartment</td>\n",
       "      <td>Rosario</td>\n",
       "      <td>|Argentina|Santa Fe|Rosario|</td>\n",
       "      <td>Argentina</td>\n",
       "      <td>Santa Fe</td>\n",
       "      <td>3838574.0</td>\n",
       "      <td>-32.954876705,-60.6518377614</td>\n",
       "      <td>-32.954877</td>\n",
       "      <td>-60.651838</td>\n",
       "      <td>...</td>\n",
       "      <td>55.0</td>\n",
       "      <td>NaN</td>\n",
       "      <td>NaN</td>\n",
       "      <td>5.0</td>\n",
       "      <td>2.0</td>\n",
       "      <td>NaN</td>\n",
       "      <td>http://www.properati.com.ar/15byz_venta_depart...</td>\n",
       "      <td>IDEAL INVERSORES o ESTUDIANTES APTA CREDITO An...</td>\n",
       "      <td>2 Dormitorios. Dorrego y Pellegrini</td>\n",
       "      <td>https://thumbs4.properati.com/5/6EjItxfpThdt-D...</td>\n",
       "    </tr>\n",
       "    <tr>\n",
       "      <th>502</th>\n",
       "      <td>sell</td>\n",
       "      <td>apartment</td>\n",
       "      <td>Martínez</td>\n",
       "      <td>|Argentina|Bs.As. G.B.A. Zona Norte|San Isidro...</td>\n",
       "      <td>Argentina</td>\n",
       "      <td>Bs.As. G.B.A. Zona Norte</td>\n",
       "      <td>3430813.0</td>\n",
       "      <td>NaN</td>\n",
       "      <td>NaN</td>\n",
       "      <td>NaN</td>\n",
       "      <td>...</td>\n",
       "      <td>270.0</td>\n",
       "      <td>2781.250000</td>\n",
       "      <td>3296.296296</td>\n",
       "      <td>5.0</td>\n",
       "      <td>NaN</td>\n",
       "      <td>NaN</td>\n",
       "      <td>http://www.properati.com.ar/15f0o_venta_depart...</td>\n",
       "      <td>Departamento 320m² con Cochera en Arenales 180...</td>\n",
       "      <td>Departamento 320m² con Dependencias en Arenale...</td>\n",
       "      <td>https://thumbs4.properati.com/5/IOt00YuutmxTA2...</td>\n",
       "    </tr>\n",
       "    <tr>\n",
       "      <th>766</th>\n",
       "      <td>sell</td>\n",
       "      <td>apartment</td>\n",
       "      <td>Ramos Mejía</td>\n",
       "      <td>|Argentina|Bs.As. G.B.A. Zona Oeste|La Matanza...</td>\n",
       "      <td>Argentina</td>\n",
       "      <td>Bs.As. G.B.A. Zona Oeste</td>\n",
       "      <td>3429617.0</td>\n",
       "      <td>NaN</td>\n",
       "      <td>NaN</td>\n",
       "      <td>NaN</td>\n",
       "      <td>...</td>\n",
       "      <td>105.0</td>\n",
       "      <td>2666.666667</td>\n",
       "      <td>2666.666667</td>\n",
       "      <td>5.0</td>\n",
       "      <td>4.0</td>\n",
       "      <td>NaN</td>\n",
       "      <td>http://www.properati.com.ar/15fxq_venta_depart...</td>\n",
       "      <td>- EDIFICIO INTELIGENTE- Pisos Exclusivos, - Ha...</td>\n",
       "      <td>DEPARTAMENTO EN VENTA</td>\n",
       "      <td>https://thumbs4.properati.com/6/Z8rC9UUg4satiU...</td>\n",
       "    </tr>\n",
       "    <tr>\n",
       "      <th>868</th>\n",
       "      <td>sell</td>\n",
       "      <td>apartment</td>\n",
       "      <td>Saavedra</td>\n",
       "      <td>|Argentina|Capital Federal|Saavedra|</td>\n",
       "      <td>Argentina</td>\n",
       "      <td>Capital Federal</td>\n",
       "      <td>3429422.0</td>\n",
       "      <td>-34.555898,-58.479251</td>\n",
       "      <td>-34.555898</td>\n",
       "      <td>-58.479251</td>\n",
       "      <td>...</td>\n",
       "      <td>41.0</td>\n",
       "      <td>NaN</td>\n",
       "      <td>2390.243902</td>\n",
       "      <td>5.0</td>\n",
       "      <td>2.0</td>\n",
       "      <td>NaN</td>\n",
       "      <td>http://www.properati.com.ar/15g9e_venta_depart...</td>\n",
       "      <td>Corredor Responsable: Raul Hector Merlo - CUCI...</td>\n",
       "      <td>MONOAMBIENTE BALCON APTO PROFESIONAL CON RENTA</td>\n",
       "      <td>https://thumbs4.properati.com/1/BSDYOGE3-BPZpq...</td>\n",
       "    </tr>\n",
       "    <tr>\n",
       "      <th>4752</th>\n",
       "      <td>sell</td>\n",
       "      <td>apartment</td>\n",
       "      <td>Tigre</td>\n",
       "      <td>|Argentina|Bs.As. G.B.A. Zona Norte|Tigre|Tigre|</td>\n",
       "      <td>Argentina</td>\n",
       "      <td>Bs.As. G.B.A. Zona Norte</td>\n",
       "      <td>NaN</td>\n",
       "      <td>-34.431903,-58.585582</td>\n",
       "      <td>-34.431903</td>\n",
       "      <td>-58.585582</td>\n",
       "      <td>...</td>\n",
       "      <td>75.0</td>\n",
       "      <td>NaN</td>\n",
       "      <td>2133.333333</td>\n",
       "      <td>5.0</td>\n",
       "      <td>3.0</td>\n",
       "      <td>NaN</td>\n",
       "      <td>http://www.properati.com.ar/15nq4_venta_depart...</td>\n",
       "      <td>Corredor Responsable: Rene Alejandro Vera - CS...</td>\n",
       "      <td>TORRE JAI 3 AMB 2 baños con cochera</td>\n",
       "      <td>https://thumbs4.properati.com/4/SrHn7IoivQuYAg...</td>\n",
       "    </tr>\n",
       "    <tr>\n",
       "      <th>...</th>\n",
       "      <td>...</td>\n",
       "      <td>...</td>\n",
       "      <td>...</td>\n",
       "      <td>...</td>\n",
       "      <td>...</td>\n",
       "      <td>...</td>\n",
       "      <td>...</td>\n",
       "      <td>...</td>\n",
       "      <td>...</td>\n",
       "      <td>...</td>\n",
       "      <td>...</td>\n",
       "      <td>...</td>\n",
       "      <td>...</td>\n",
       "      <td>...</td>\n",
       "      <td>...</td>\n",
       "      <td>...</td>\n",
       "      <td>...</td>\n",
       "      <td>...</td>\n",
       "      <td>...</td>\n",
       "      <td>...</td>\n",
       "      <td>...</td>\n",
       "    </tr>\n",
       "    <tr>\n",
       "      <th>119625</th>\n",
       "      <td>sell</td>\n",
       "      <td>apartment</td>\n",
       "      <td>Vicente López</td>\n",
       "      <td>|Argentina|Bs.As. G.B.A. Zona Norte|Vicente Ló...</td>\n",
       "      <td>Argentina</td>\n",
       "      <td>Bs.As. G.B.A. Zona Norte</td>\n",
       "      <td>NaN</td>\n",
       "      <td>-34.518567,-58.474571</td>\n",
       "      <td>-34.518567</td>\n",
       "      <td>-58.474571</td>\n",
       "      <td>...</td>\n",
       "      <td>58.0</td>\n",
       "      <td>NaN</td>\n",
       "      <td>2756.896552</td>\n",
       "      <td>5.0</td>\n",
       "      <td>2.0</td>\n",
       "      <td>NaN</td>\n",
       "      <td>http://www.properati.com.ar/1cgx3_venta_depart...</td>\n",
       "      <td>Corredor Responsable: Luis Varela - CSI 5527 /...</td>\n",
       "      <td>OPORTUNIDAD 2 AMBIENTES A ESTRENAR - EDIFICIO ...</td>\n",
       "      <td>https://thumbs4.properati.com/6/8BQJzwL2OP3vy-...</td>\n",
       "    </tr>\n",
       "    <tr>\n",
       "      <th>119654</th>\n",
       "      <td>sell</td>\n",
       "      <td>apartment</td>\n",
       "      <td>Balvanera</td>\n",
       "      <td>|Argentina|Capital Federal|Balvanera|</td>\n",
       "      <td>Argentina</td>\n",
       "      <td>Capital Federal</td>\n",
       "      <td>6693228.0</td>\n",
       "      <td>-34.6031,-58.401046</td>\n",
       "      <td>-34.603100</td>\n",
       "      <td>-58.401046</td>\n",
       "      <td>...</td>\n",
       "      <td>36.0</td>\n",
       "      <td>NaN</td>\n",
       "      <td>1527.777778</td>\n",
       "      <td>5.0</td>\n",
       "      <td>2.0</td>\n",
       "      <td>NaN</td>\n",
       "      <td>http://www.properati.com.ar/1cgyb_venta_depart...</td>\n",
       "      <td>Corredor Responsable: Luis Roman Garcia - C.U....</td>\n",
       "      <td>Venta 2 ambientes amplio buen estado luminoso</td>\n",
       "      <td>https://thumbs4.properati.com/7/QY4RjJpJOS8KB9...</td>\n",
       "    </tr>\n",
       "    <tr>\n",
       "      <th>119785</th>\n",
       "      <td>sell</td>\n",
       "      <td>apartment</td>\n",
       "      <td>Belgrano</td>\n",
       "      <td>|Argentina|Capital Federal|Belgrano|</td>\n",
       "      <td>Argentina</td>\n",
       "      <td>Capital Federal</td>\n",
       "      <td>3436077.0</td>\n",
       "      <td>-34.554184,-58.436424</td>\n",
       "      <td>-34.554184</td>\n",
       "      <td>-58.436424</td>\n",
       "      <td>...</td>\n",
       "      <td>40.0</td>\n",
       "      <td>NaN</td>\n",
       "      <td>4250.000000</td>\n",
       "      <td>5.0</td>\n",
       "      <td>1.0</td>\n",
       "      <td>NaN</td>\n",
       "      <td>http://www.properati.com.ar/1ch34_venta_depart...</td>\n",
       "      <td>Corredor Responsable: OSCAR N. LIBERMAN - CUCI...</td>\n",
       "      <td>Imperdible Monoambiente en La Pampa y Castañeda</td>\n",
       "      <td>https://thumbs4.properati.com/4/siiS87KRd-EOjk...</td>\n",
       "    </tr>\n",
       "    <tr>\n",
       "      <th>119824</th>\n",
       "      <td>sell</td>\n",
       "      <td>apartment</td>\n",
       "      <td>Balvanera</td>\n",
       "      <td>|Argentina|Capital Federal|Balvanera|</td>\n",
       "      <td>Argentina</td>\n",
       "      <td>Capital Federal</td>\n",
       "      <td>6693228.0</td>\n",
       "      <td>-34.6003087,-58.4044663</td>\n",
       "      <td>-34.600309</td>\n",
       "      <td>-58.404466</td>\n",
       "      <td>...</td>\n",
       "      <td>107.0</td>\n",
       "      <td>2336.448598</td>\n",
       "      <td>2336.448598</td>\n",
       "      <td>5.0</td>\n",
       "      <td>NaN</td>\n",
       "      <td>7000.0</td>\n",
       "      <td>http://www.properati.com.ar/1ch5q_venta_depart...</td>\n",
       "      <td>OPERACION: VENTA TIPO DE PROPIEDAD: DEPARTAMEN...</td>\n",
       "      <td>DEPARTAMENTO EN VENTA</td>\n",
       "      <td>https://thumbs4.properati.com/4/c7f13kJ_3FlCsA...</td>\n",
       "    </tr>\n",
       "    <tr>\n",
       "      <th>119940</th>\n",
       "      <td>sell</td>\n",
       "      <td>apartment</td>\n",
       "      <td>La Plata</td>\n",
       "      <td>|Argentina|Bs.As. G.B.A. Zona Sur|La Plata|La ...</td>\n",
       "      <td>Argentina</td>\n",
       "      <td>Bs.As. G.B.A. Zona Sur</td>\n",
       "      <td>3432039.0</td>\n",
       "      <td>-34.918219,-57.942501</td>\n",
       "      <td>-34.918219</td>\n",
       "      <td>-57.942501</td>\n",
       "      <td>...</td>\n",
       "      <td>NaN</td>\n",
       "      <td>NaN</td>\n",
       "      <td>NaN</td>\n",
       "      <td>5.0</td>\n",
       "      <td>2.0</td>\n",
       "      <td>NaN</td>\n",
       "      <td>http://www.properati.com.ar/1chay_venta_depart...</td>\n",
       "      <td>Corredor Responsable: Marcelo Di Girolamo - C....</td>\n",
       "      <td>Departamento 1 dormitorio venta La Plata</td>\n",
       "      <td>https://thumbs4.properati.com/1/UQ2TDxlA3_YJZC...</td>\n",
       "    </tr>\n",
       "  </tbody>\n",
       "</table>\n",
       "<p>484 rows × 25 columns</p>\n",
       "</div>"
      ],
      "text/plain": [
       "       operation property_type     place_name  \\\n",
       "83          sell     apartment        Rosario   \n",
       "502         sell     apartment       Martínez   \n",
       "766         sell     apartment    Ramos Mejía   \n",
       "868         sell     apartment       Saavedra   \n",
       "4752        sell     apartment          Tigre   \n",
       "...          ...           ...            ...   \n",
       "119625      sell     apartment  Vicente López   \n",
       "119654      sell     apartment      Balvanera   \n",
       "119785      sell     apartment       Belgrano   \n",
       "119824      sell     apartment      Balvanera   \n",
       "119940      sell     apartment       La Plata   \n",
       "\n",
       "                                  place_with_parent_names country_name  \\\n",
       "83                           |Argentina|Santa Fe|Rosario|    Argentina   \n",
       "502     |Argentina|Bs.As. G.B.A. Zona Norte|San Isidro...    Argentina   \n",
       "766     |Argentina|Bs.As. G.B.A. Zona Oeste|La Matanza...    Argentina   \n",
       "868                  |Argentina|Capital Federal|Saavedra|    Argentina   \n",
       "4752     |Argentina|Bs.As. G.B.A. Zona Norte|Tigre|Tigre|    Argentina   \n",
       "...                                                   ...          ...   \n",
       "119625  |Argentina|Bs.As. G.B.A. Zona Norte|Vicente Ló...    Argentina   \n",
       "119654              |Argentina|Capital Federal|Balvanera|    Argentina   \n",
       "119785               |Argentina|Capital Federal|Belgrano|    Argentina   \n",
       "119824              |Argentina|Capital Federal|Balvanera|    Argentina   \n",
       "119940  |Argentina|Bs.As. G.B.A. Zona Sur|La Plata|La ...    Argentina   \n",
       "\n",
       "                      state_name  geonames_id                       lat-lon  \\\n",
       "83                      Santa Fe    3838574.0  -32.954876705,-60.6518377614   \n",
       "502     Bs.As. G.B.A. Zona Norte    3430813.0                           NaN   \n",
       "766     Bs.As. G.B.A. Zona Oeste    3429617.0                           NaN   \n",
       "868              Capital Federal    3429422.0         -34.555898,-58.479251   \n",
       "4752    Bs.As. G.B.A. Zona Norte          NaN         -34.431903,-58.585582   \n",
       "...                          ...          ...                           ...   \n",
       "119625  Bs.As. G.B.A. Zona Norte          NaN         -34.518567,-58.474571   \n",
       "119654           Capital Federal    6693228.0           -34.6031,-58.401046   \n",
       "119785           Capital Federal    3436077.0         -34.554184,-58.436424   \n",
       "119824           Capital Federal    6693228.0       -34.6003087,-58.4044663   \n",
       "119940    Bs.As. G.B.A. Zona Sur    3432039.0         -34.918219,-57.942501   \n",
       "\n",
       "              lat        lon  ...  surface_covered_in_m2 price_usd_per_m2  \\\n",
       "83     -32.954877 -60.651838  ...                   55.0              NaN   \n",
       "502           NaN        NaN  ...                  270.0      2781.250000   \n",
       "766           NaN        NaN  ...                  105.0      2666.666667   \n",
       "868    -34.555898 -58.479251  ...                   41.0              NaN   \n",
       "4752   -34.431903 -58.585582  ...                   75.0              NaN   \n",
       "...           ...        ...  ...                    ...              ...   \n",
       "119625 -34.518567 -58.474571  ...                   58.0              NaN   \n",
       "119654 -34.603100 -58.401046  ...                   36.0              NaN   \n",
       "119785 -34.554184 -58.436424  ...                   40.0              NaN   \n",
       "119824 -34.600309 -58.404466  ...                  107.0      2336.448598   \n",
       "119940 -34.918219 -57.942501  ...                    NaN              NaN   \n",
       "\n",
       "        price_per_m2  floor  rooms  expenses  \\\n",
       "83               NaN    5.0    2.0       NaN   \n",
       "502      3296.296296    5.0    NaN       NaN   \n",
       "766      2666.666667    5.0    4.0       NaN   \n",
       "868      2390.243902    5.0    2.0       NaN   \n",
       "4752     2133.333333    5.0    3.0       NaN   \n",
       "...              ...    ...    ...       ...   \n",
       "119625   2756.896552    5.0    2.0       NaN   \n",
       "119654   1527.777778    5.0    2.0       NaN   \n",
       "119785   4250.000000    5.0    1.0       NaN   \n",
       "119824   2336.448598    5.0    NaN    7000.0   \n",
       "119940           NaN    5.0    2.0       NaN   \n",
       "\n",
       "                                            properati_url  \\\n",
       "83      http://www.properati.com.ar/15byz_venta_depart...   \n",
       "502     http://www.properati.com.ar/15f0o_venta_depart...   \n",
       "766     http://www.properati.com.ar/15fxq_venta_depart...   \n",
       "868     http://www.properati.com.ar/15g9e_venta_depart...   \n",
       "4752    http://www.properati.com.ar/15nq4_venta_depart...   \n",
       "...                                                   ...   \n",
       "119625  http://www.properati.com.ar/1cgx3_venta_depart...   \n",
       "119654  http://www.properati.com.ar/1cgyb_venta_depart...   \n",
       "119785  http://www.properati.com.ar/1ch34_venta_depart...   \n",
       "119824  http://www.properati.com.ar/1ch5q_venta_depart...   \n",
       "119940  http://www.properati.com.ar/1chay_venta_depart...   \n",
       "\n",
       "                                              description  \\\n",
       "83      IDEAL INVERSORES o ESTUDIANTES APTA CREDITO An...   \n",
       "502     Departamento 320m² con Cochera en Arenales 180...   \n",
       "766     - EDIFICIO INTELIGENTE- Pisos Exclusivos, - Ha...   \n",
       "868     Corredor Responsable: Raul Hector Merlo - CUCI...   \n",
       "4752    Corredor Responsable: Rene Alejandro Vera - CS...   \n",
       "...                                                   ...   \n",
       "119625  Corredor Responsable: Luis Varela - CSI 5527 /...   \n",
       "119654  Corredor Responsable: Luis Roman Garcia - C.U....   \n",
       "119785  Corredor Responsable: OSCAR N. LIBERMAN - CUCI...   \n",
       "119824  OPERACION: VENTA TIPO DE PROPIEDAD: DEPARTAMEN...   \n",
       "119940  Corredor Responsable: Marcelo Di Girolamo - C....   \n",
       "\n",
       "                                                    title  \\\n",
       "83                    2 Dormitorios. Dorrego y Pellegrini   \n",
       "502     Departamento 320m² con Dependencias en Arenale...   \n",
       "766                                 DEPARTAMENTO EN VENTA   \n",
       "868        MONOAMBIENTE BALCON APTO PROFESIONAL CON RENTA   \n",
       "4752                  TORRE JAI 3 AMB 2 baños con cochera   \n",
       "...                                                   ...   \n",
       "119625  OPORTUNIDAD 2 AMBIENTES A ESTRENAR - EDIFICIO ...   \n",
       "119654      Venta 2 ambientes amplio buen estado luminoso   \n",
       "119785    Imperdible Monoambiente en La Pampa y Castañeda   \n",
       "119824                              DEPARTAMENTO EN VENTA   \n",
       "119940           Departamento 1 dormitorio venta La Plata   \n",
       "\n",
       "                                          image_thumbnail  \n",
       "83      https://thumbs4.properati.com/5/6EjItxfpThdt-D...  \n",
       "502     https://thumbs4.properati.com/5/IOt00YuutmxTA2...  \n",
       "766     https://thumbs4.properati.com/6/Z8rC9UUg4satiU...  \n",
       "868     https://thumbs4.properati.com/1/BSDYOGE3-BPZpq...  \n",
       "4752    https://thumbs4.properati.com/4/SrHn7IoivQuYAg...  \n",
       "...                                                   ...  \n",
       "119625  https://thumbs4.properati.com/6/8BQJzwL2OP3vy-...  \n",
       "119654  https://thumbs4.properati.com/7/QY4RjJpJOS8KB9...  \n",
       "119785  https://thumbs4.properati.com/4/siiS87KRd-EOjk...  \n",
       "119824  https://thumbs4.properati.com/4/c7f13kJ_3FlCsA...  \n",
       "119940  https://thumbs4.properati.com/1/UQ2TDxlA3_YJZC...  \n",
       "\n",
       "[484 rows x 25 columns]"
      ]
     },
     "execution_count": 14,
     "metadata": {},
     "output_type": "execute_result"
    }
   ],
   "source": [
    "# Chequeo de los datos que tienen 5 como floor, para analizar que significa\n",
    "data[data['floor'] == 5]"
   ]
  },
  {
   "cell_type": "code",
   "execution_count": 15,
   "id": "3c1f7b05",
   "metadata": {
    "execution": {
     "iopub.execute_input": "2022-04-26T01:10:10.228820Z",
     "iopub.status.busy": "2022-04-26T01:10:10.228820Z",
     "iopub.status.idle": "2022-04-26T01:10:10.273817Z",
     "shell.execute_reply": "2022-04-26T01:10:10.272818Z",
     "shell.execute_reply.started": "2022-04-26T01:10:10.228820Z"
    }
   },
   "outputs": [
    {
     "data": {
      "text/plain": [
       "floor\n",
       "1.0     154\n",
       "2.0     146\n",
       "3.0      63\n",
       "6.0      42\n",
       "5.0      38\n",
       "4.0      31\n",
       "7.0      31\n",
       "8.0      12\n",
       "9.0      11\n",
       "11.0     10\n",
       "10.0      9\n",
       "12.0      8\n",
       "13.0      7\n",
       "14.0      7\n",
       "16.0      2\n",
       "15.0      1\n",
       "17.0      1\n",
       "Name: floor, dtype: int64"
      ]
     },
     "execution_count": 15,
     "metadata": {},
     "output_type": "execute_result"
    }
   ],
   "source": [
    "#Chequeo de los pH que pisos tienen (se puede cambiar el último loc para ver los otros tres tipos de propiedad). 'apartment', 'house', 'store'\n",
    "data.groupby(['property_type'])['floor'].value_counts().loc['PH']"
   ]
  },
  {
   "cell_type": "markdown",
   "id": "ea3c9081",
   "metadata": {},
   "source": [
    "## Chequeo de filas duplicadas\n",
    "Sólo chequee que sean duplicadas completas, no por ejemplo un análisis más profundo para ver si se repite la misma casa"
   ]
  },
  {
   "cell_type": "code",
   "execution_count": 16,
   "id": "cb898439",
   "metadata": {
    "execution": {
     "iopub.execute_input": "2022-04-26T01:10:10.274820Z",
     "iopub.status.busy": "2022-04-26T01:10:10.274820Z",
     "iopub.status.idle": "2022-04-26T01:10:10.846820Z",
     "shell.execute_reply": "2022-04-26T01:10:10.845821Z",
     "shell.execute_reply.started": "2022-04-26T01:10:10.274820Z"
    }
   },
   "outputs": [
    {
     "data": {
      "text/plain": [
       "0"
      ]
     },
     "execution_count": 16,
     "metadata": {},
     "output_type": "execute_result"
    }
   ],
   "source": [
    "data.duplicated().sum()"
   ]
  },
  {
   "cell_type": "markdown",
   "id": "2500a942",
   "metadata": {},
   "source": [
    "## Gráficos"
   ]
  },
  {
   "cell_type": "code",
   "execution_count": 17,
   "id": "e895a30d",
   "metadata": {
    "execution": {
     "iopub.execute_input": "2022-04-26T01:10:10.847822Z",
     "iopub.status.busy": "2022-04-26T01:10:10.847822Z",
     "iopub.status.idle": "2022-04-26T01:10:11.575816Z",
     "shell.execute_reply": "2022-04-26T01:10:11.574817Z",
     "shell.execute_reply.started": "2022-04-26T01:10:10.847822Z"
    }
   },
   "outputs": [
    {
     "data": {
      "text/plain": [
       "<AxesSubplot:>"
      ]
     },
     "execution_count": 17,
     "metadata": {},
     "output_type": "execute_result"
    },
    {
     "data": {
      "image/png": "[encoded data removed]",
      "text/plain": [
       "<Figure size 1080x1080 with 2 Axes>"
      ]
     },
     "metadata": {
      "needs_background": "light"
     },
     "output_type": "display_data"
    }
   ],
   "source": [
    "plt.figure(figsize=(15,15))\n",
    "corr = data.corr()\n",
    "mask = np.zeros_like(corr)\n",
    "mask[np.triu_indices_from(mask)] = True\n",
    "sns.heatmap(corr , mask=mask)"
   ]
  },
  {
   "cell_type": "code",
   "execution_count": 18,
   "id": "1f48ddf0",
   "metadata": {
    "execution": {
     "iopub.execute_input": "2022-04-26T01:10:11.577818Z",
     "iopub.status.busy": "2022-04-26T01:10:11.576817Z",
     "iopub.status.idle": "2022-04-26T01:10:11.798821Z",
     "shell.execute_reply": "2022-04-26T01:10:11.797817Z",
     "shell.execute_reply.started": "2022-04-26T01:10:11.576817Z"
    }
   },
   "outputs": [
    {
     "data": {
      "text/plain": [
       "<AxesSubplot:ylabel='price'>"
      ]
     },
     "execution_count": 18,
     "metadata": {},
     "output_type": "execute_result"
    },
    {
     "data": {
      "image/png": "[encoded data removed]",
      "text/plain": [
       "<Figure size 1800x720 with 1 Axes>"
      ]
     },
     "metadata": {
      "needs_background": "light"
     },
     "output_type": "display_data"
    }
   ],
   "source": [
    "# Este lo hice así nomás, es horrible\n",
    "plt.figure(figsize=(25,10))\n",
    "sns.boxplot(y='price', data=data)"
   ]
  }
 ],
 "metadata": {
  "kernelspec": {
   "display_name": "Python [conda env:dhdsblend2021] *",
   "language": "python",
   "name": "conda-env-dhdsblend2021-py"
  },
  "language_info": {
   "codemirror_mode": {
    "name": "ipython",
    "version": 3
   },
   "file_extension": ".py",
   "mimetype": "text/x-python",
   "name": "python",
   "nbconvert_exporter": "python",
   "pygments_lexer": "ipython3",
   "version": "3.8.12"
  }
 },
 "nbformat": 4,
 "nbformat_minor": 5
}
